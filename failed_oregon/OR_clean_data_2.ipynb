{
 "cells": [
  {
   "metadata": {},
   "cell_type": "markdown",
   "source": [
    "# AI for Redistricting Final Project\n",
    "\n",
    "## Oregon Data Cleaning\n",
    "\n",
    "@authors: vcle, bpuhani\n",
    "\n",
    "All data retrieved in March 2025: <br>\n",
    "[2020 Population data](https://redistrictingdatahub.org/dataset/oregon-block-pl-94171-2020-by-table/): based on the decennial census at the Census Block level on 2020 Census Redistricting Data\n",
    "\n",
    "[2020 County data](https://redistrictingdatahub.org/dataset/oregon-county-pl-94171-2020/): from 2020 Census Redistricting Data (P.L. 94-171) Shapefiles\n",
    "\n",
    "[2020 election data](https://redistrictingdatahub.org/dataset/vest-2020-oregon-precinct-and-election-results/):  VEST 2020 Oregon precinct and election results\n",
    "\n",
    "[2021 State Senate District plan](https://redistrictingdatahub.org/dataset/2021-oregon-state-senate-adopted-plan/): 2021 Oregon State Senate Approved Plan\n",
    "\n",
    "\n",
    "<!-- Commented out 2018 Election data for now\n",
    "\n",
    "[2018 election data](https://redistrictingdatahub.org/dataset/vest-2018-oregon-precinct-and-election-results/)**:**  VEST 2018 Oregon precinct and election results\n",
    "\n",
    "-->"
   ],
   "id": "3fbcbdfec4ce80d9"
  },
  {
   "metadata": {
    "ExecuteTime": {
     "end_time": "2025-04-10T03:28:18.581399Z",
     "start_time": "2025-04-10T03:28:16.925604Z"
    }
   },
   "cell_type": "code",
   "source": [
    "# imports\n",
    "import geopandas as gpd\n",
    "import maup\n",
    "from maup import smart_repair\n",
    "import time\n",
    "import warnings\n",
    "import matplotlib.pyplot as plt\n",
    "from shapely.ops import unary_union\n",
    "\n",
    "import utilities"
   ],
   "id": "e2a0efc64bc9224d",
   "outputs": [],
   "execution_count": 1
  },
  {
   "metadata": {
    "ExecuteTime": {
     "end_time": "2025-04-10T04:13:54.945430Z",
     "start_time": "2025-04-10T04:13:54.933057Z"
    }
   },
   "cell_type": "code",
   "source": [
    "maup.progress.enabled = True\n",
    "\n",
    "warnings.filterwarnings('ignore')\n",
    "\n",
    "start_time = time.time()"
   ],
   "id": "c6596b9f3ae5cb3d",
   "outputs": [],
   "execution_count": 17
  },
  {
   "metadata": {
    "ExecuteTime": {
     "end_time": "2025-04-10T03:28:22.758429Z",
     "start_time": "2025-04-10T03:28:22.744669Z"
    }
   },
   "cell_type": "code",
   "source": [
    "vest20_df_repaired_0 = None\n",
    "vest20_df_repaired_1 = None\n",
    "vest20_df_repaired_2 = None\n",
    "vest20_df_repaired_3 = None"
   ],
   "id": "4df7d2e3b54f2d26",
   "outputs": [],
   "execution_count": 3
  },
  {
   "metadata": {},
   "cell_type": "markdown",
   "source": [
    "## Import and Explore the Data\n",
    "\n",
    "#### Description of the data or_pl2020_b:\n",
    "* P1. Race\n",
    "* P2. Hispanic or Latino, and Not Hispanic or Latino by Race\n",
    "* P3. Race for the Population 18 Years and Over\n",
    "* P4. Hispanic or Latino, and Not Hispanic or Latino by Race for the Population 18 Years and Over\n",
    "* P5. Group Quarters Population by Major Group Quarters Type\n",
    "* H1. Occupancy Status\n",
    "\n",
    "Taken from the [Documentation](https://www2.census.gov/programs-surveys/decennial/2020/technical-documentation/complete-tech-docs/summary-file/2020Census_PL94_171Redistricting_StatesTechDoc_English.pdf)\n",
    "\n",
    "We are using the following data:\n",
    "* P2\n",
    "* P4"
   ],
   "id": "bc7d08054367ed7c"
  },
  {
   "metadata": {
    "ExecuteTime": {
     "end_time": "2025-04-10T03:28:25.083302Z",
     "start_time": "2025-04-10T03:28:25.079989Z"
    }
   },
   "cell_type": "code",
   "source": [
    "# Paths to the data\n",
    "population_path = \"or_data/or_pl2020_b/or_pl2020_p2_b.shp\"\n",
    "vap_path = \"or_data/or_pl2020_b/or_pl2020_p4_b.shp\"\n",
    "vest20_path = \"or_data/or_vest_20/or_vest_20.shp\"\n",
    "# vest18_path = \"./or_data/or_vest_18/or_vest_18.shp\" # currently not used\n",
    "county_path = \"or_data/or_pl2020_cnty/or_pl2020_cnty.shp\"\n",
    "sen_path = \"or_data/or_sldu_2021/Senate_LC_Draft_2_-_Revised_.shp\""
   ],
   "id": "fde3e633d257ef60",
   "outputs": [],
   "execution_count": 4
  },
  {
   "metadata": {},
   "cell_type": "markdown",
   "source": [
    "### Loading data\n",
    "Loading the total population data"
   ],
   "id": "3c3e6f58b96f543c"
  },
  {
   "metadata": {
    "ExecuteTime": {
     "end_time": "2025-04-10T03:28:29.484544Z",
     "start_time": "2025-04-10T03:28:28.303239Z"
    }
   },
   "cell_type": "code",
   "source": "population_df = utilities.load_shapefile(population_path)",
   "id": "a33981530ee39027",
   "outputs": [
    {
     "name": "stdout",
     "output_type": "stream",
     "text": [
      "Loading shapefile from ./or_data/or_pl2020_b/or_pl2020_p2_b.shp...\n",
      "Shapefile data loaded from cache.\n"
     ]
    }
   ],
   "execution_count": 5
  },
  {
   "metadata": {},
   "cell_type": "markdown",
   "source": "Loading the voting age population data",
   "id": "8fb17fd2d1856402"
  },
  {
   "metadata": {
    "ExecuteTime": {
     "end_time": "2025-04-10T03:28:31.048061Z",
     "start_time": "2025-04-10T03:28:29.898565Z"
    }
   },
   "cell_type": "code",
   "source": "vap_df = utilities.load_shapefile(vap_path)",
   "id": "32c96f7961f45718",
   "outputs": [
    {
     "name": "stdout",
     "output_type": "stream",
     "text": [
      "Loading shapefile from ./or_data/or_pl2020_b/or_pl2020_p4_b.shp...\n",
      "Shapefile data loaded from cache.\n"
     ]
    }
   ],
   "execution_count": 6
  },
  {
   "metadata": {},
   "cell_type": "markdown",
   "source": "Loading the VEST 2020 election data",
   "id": "8fc305ffd07ad6bc"
  },
  {
   "metadata": {
    "ExecuteTime": {
     "end_time": "2025-04-10T03:28:31.542784Z",
     "start_time": "2025-04-10T03:28:31.490206Z"
    }
   },
   "cell_type": "code",
   "source": "vest20_df = utilities.load_shapefile(vest20_path)",
   "id": "5fdb0214076bf1d6",
   "outputs": [
    {
     "name": "stdout",
     "output_type": "stream",
     "text": [
      "Loading shapefile from ./or_data/or_vest_20/or_vest_20.shp...\n",
      "Shapefile data loaded from cache.\n"
     ]
    }
   ],
   "execution_count": 7
  },
  {
   "metadata": {},
   "cell_type": "markdown",
   "source": "Loading the County data",
   "id": "63b8958558fcbb9f"
  },
  {
   "metadata": {
    "ExecuteTime": {
     "end_time": "2025-04-10T03:28:33.057233Z",
     "start_time": "2025-04-10T03:28:33.044296Z"
    }
   },
   "cell_type": "code",
   "source": "county_df = utilities.load_shapefile(county_path)",
   "id": "40329f9b3bca78da",
   "outputs": [
    {
     "name": "stdout",
     "output_type": "stream",
     "text": [
      "Loading shapefile from ./or_data/or_pl2020_cnty/or_pl2020_cnty.shp...\n",
      "Shapefile data loaded from cache.\n"
     ]
    }
   ],
   "execution_count": 8
  },
  {
   "metadata": {},
   "cell_type": "markdown",
   "source": "Loading the approved 2021 State Senate District plan",
   "id": "e0836bead4e62a9e"
  },
  {
   "metadata": {
    "ExecuteTime": {
     "end_time": "2025-04-10T03:28:34.845270Z",
     "start_time": "2025-04-10T03:28:34.827094Z"
    }
   },
   "cell_type": "code",
   "source": "sen_df = utilities.load_shapefile(sen_path)",
   "id": "70a825c8c93633d",
   "outputs": [
    {
     "name": "stdout",
     "output_type": "stream",
     "text": [
      "Loading shapefile from ./or_data/or_sldu_2021/Senate_LC_Draft_2_-_Revised_.shp...\n",
      "Shapefile data loaded from cache.\n"
     ]
    }
   ],
   "execution_count": 9
  },
  {
   "metadata": {},
   "cell_type": "markdown",
   "source": [
    "## Exploring the data\n",
    "Column names of the data"
   ],
   "id": "5a53333d9c4df53c"
  },
  {
   "metadata": {
    "ExecuteTime": {
     "end_time": "2025-04-09T22:37:38.375521Z",
     "start_time": "2025-04-09T22:37:38.367408Z"
    }
   },
   "cell_type": "code",
   "source": [
    "print(population_df.columns)\n",
    "print(vap_df.columns)\n",
    "print(vest20_df.columns)\n",
    "print(county_df.columns)\n",
    "print(sen_df.columns)"
   ],
   "id": "ae4847a1b2589519",
   "outputs": [
    {
     "name": "stdout",
     "output_type": "stream",
     "text": [
      "Index(['GEOID20', 'SUMLEV', 'LOGRECNO', 'GEOID', 'COUNTY', 'P0020001',\n",
      "       'P0020002', 'P0020003', 'P0020004', 'P0020005', 'P0020006', 'P0020007',\n",
      "       'P0020008', 'P0020009', 'P0020010', 'P0020011', 'P0020012', 'P0020013',\n",
      "       'P0020014', 'P0020015', 'P0020016', 'P0020017', 'P0020018', 'P0020019',\n",
      "       'P0020020', 'P0020021', 'P0020022', 'P0020023', 'P0020024', 'P0020025',\n",
      "       'P0020026', 'P0020027', 'P0020028', 'P0020029', 'P0020030', 'P0020031',\n",
      "       'P0020032', 'P0020033', 'P0020034', 'P0020035', 'P0020036', 'P0020037',\n",
      "       'P0020038', 'P0020039', 'P0020040', 'P0020041', 'P0020042', 'P0020043',\n",
      "       'P0020044', 'P0020045', 'P0020046', 'P0020047', 'P0020048', 'P0020049',\n",
      "       'P0020050', 'P0020051', 'P0020052', 'P0020053', 'P0020054', 'P0020055',\n",
      "       'P0020056', 'P0020057', 'P0020058', 'P0020059', 'P0020060', 'P0020061',\n",
      "       'P0020062', 'P0020063', 'P0020064', 'P0020065', 'P0020066', 'P0020067',\n",
      "       'P0020068', 'P0020069', 'P0020070', 'P0020071', 'P0020072', 'P0020073',\n",
      "       'geometry'],\n",
      "      dtype='object')\n",
      "Index(['GEOID20', 'SUMLEV', 'LOGRECNO', 'GEOID', 'COUNTY', 'P0040001',\n",
      "       'P0040002', 'P0040003', 'P0040004', 'P0040005', 'P0040006', 'P0040007',\n",
      "       'P0040008', 'P0040009', 'P0040010', 'P0040011', 'P0040012', 'P0040013',\n",
      "       'P0040014', 'P0040015', 'P0040016', 'P0040017', 'P0040018', 'P0040019',\n",
      "       'P0040020', 'P0040021', 'P0040022', 'P0040023', 'P0040024', 'P0040025',\n",
      "       'P0040026', 'P0040027', 'P0040028', 'P0040029', 'P0040030', 'P0040031',\n",
      "       'P0040032', 'P0040033', 'P0040034', 'P0040035', 'P0040036', 'P0040037',\n",
      "       'P0040038', 'P0040039', 'P0040040', 'P0040041', 'P0040042', 'P0040043',\n",
      "       'P0040044', 'P0040045', 'P0040046', 'P0040047', 'P0040048', 'P0040049',\n",
      "       'P0040050', 'P0040051', 'P0040052', 'P0040053', 'P0040054', 'P0040055',\n",
      "       'P0040056', 'P0040057', 'P0040058', 'P0040059', 'P0040060', 'P0040061',\n",
      "       'P0040062', 'P0040063', 'P0040064', 'P0040065', 'P0040066', 'P0040067',\n",
      "       'P0040068', 'P0040069', 'P0040070', 'P0040071', 'P0040072', 'P0040073',\n",
      "       'geometry'],\n",
      "      dtype='object')\n",
      "Index(['STATE', 'COUNTY', 'PRECINCT', 'NAME', 'G20PREDBID', 'G20PRERTRU',\n",
      "       'G20PRELJOR', 'G20PREGHAW', 'G20PREPHUN', 'G20PREOWRI', 'G20USSDMER',\n",
      "       'G20USSRPER', 'G20USSLDYE', 'G20USSGTAH', 'G20USSOWRI', 'G20ATGDROS',\n",
      "       'G20ATGRCRO', 'G20ATGLHED', 'G20ATGOWRI', 'G20SOSDFAG', 'G20SOSRTHA',\n",
      "       'G20SOSLMAR', 'G20SOSGPAR', 'G20SOSOWRI', 'G20TREDREA', 'G20TRERGUD',\n",
      "       'G20TREIHEN', 'G20TRECMAR', 'G20TREOWRI', 'geometry'],\n",
      "      dtype='object')\n",
      "Index(['STATEFP20', 'COUNTYFP20', 'COUNTYNS20', 'GEOID20', 'NAME20',\n",
      "       'NAMELSAD20', 'LSAD20', 'CLASSFP20', 'MTFCC20', 'CSAFP20',\n",
      "       ...\n",
      "       'P0050002', 'P0050003', 'P0050004', 'P0050005', 'P0050006', 'P0050007',\n",
      "       'P0050008', 'P0050009', 'P0050010', 'geometry'],\n",
      "      dtype='object', length=348)\n",
      "Index(['LONGNAME', 'SHORTNAME', 'DISTRICT', 'COLOR', 'TOTAL', 'TARGET_DEV',\n",
      "       'TOTALHISP', 'WHITENH', 'BLACKNH', 'AIANNH', 'ASIANNH', 'HPINH',\n",
      "       'OTHERNH', 'MLTMNNH', 'geometry'],\n",
      "      dtype='object')\n"
     ]
    }
   ],
   "execution_count": 12
  },
  {
   "metadata": {
    "ExecuteTime": {
     "end_time": "2025-04-09T22:37:45.423067Z",
     "start_time": "2025-04-09T22:37:45.417965Z"
    }
   },
   "cell_type": "code",
   "source": [
    "nr_of_districts = sen_df.shape[0]\n",
    "print(f\"Number of State Senate Seats in Oregon: {nr_of_districts}\")"
   ],
   "id": "31c8333049fdb6f9",
   "outputs": [
    {
     "name": "stdout",
     "output_type": "stream",
     "text": [
      "Number of State Senate Seats in Oregon: 30\n"
     ]
    }
   ],
   "execution_count": 13
  },
  {
   "metadata": {},
   "cell_type": "markdown",
   "source": "The list of columns in the population data we are interested in:\n",
   "id": "2d504994fdc108aa"
  },
  {
   "metadata": {
    "ExecuteTime": {
     "end_time": "2025-04-10T04:12:55.982726Z",
     "start_time": "2025-04-10T04:12:55.973671Z"
    }
   },
   "cell_type": "code",
   "source": [
    "pop_column_names = ['P0020001', 'P0020002', 'P0020005', 'P0020006', 'P0020007',\n",
    "                    'P0020008', 'P0020009', 'P0020010', 'P0020011']"
   ],
   "id": "b66574c2ae7ccdc2",
   "outputs": [],
   "execution_count": 14
  },
  {
   "metadata": {
    "ExecuteTime": {
     "end_time": "2025-04-10T04:12:57.034219Z",
     "start_time": "2025-04-10T04:12:57.026609Z"
    }
   },
   "cell_type": "code",
   "source": [
    "vap_column_names = ['P0040001', 'P0040002', 'P0040005', 'P0040006', 'P0040007',\n",
    "                    'P0040008', 'P0040009', 'P0040010', 'P0040011']"
   ],
   "id": "b0160e079ab47f97",
   "outputs": [],
   "execution_count": 15
  },
  {
   "metadata": {},
   "cell_type": "markdown",
   "source": [
    "## Cleaning the data\n",
    "1. Change all the coordinate reference systems to the same one"
   ],
   "id": "49320589a0043e7b"
  },
  {
   "metadata": {
    "ExecuteTime": {
     "end_time": "2025-04-10T03:28:47.572817Z",
     "start_time": "2025-04-10T03:28:38.824347Z"
    }
   },
   "cell_type": "code",
   "source": [
    "population_df = population_df.to_crs(population_df.estimate_utm_crs())\n",
    "vap_df = vap_df.to_crs(vap_df.estimate_utm_crs())\n",
    "county_df = county_df.to_crs(county_df.estimate_utm_crs())\n",
    "sen_df = sen_df.to_crs(sen_df.estimate_utm_crs())\n",
    "vest20_df = vest20_df.to_crs(vest20_df.estimate_utm_crs())\n",
    "# vest18_df = vest18_df.to_crs(vest18_df.estimate_utm_crs()) # currently not used"
   ],
   "id": "55d004700b63cb2d",
   "outputs": [],
   "execution_count": 10
  },
  {
   "metadata": {},
   "cell_type": "markdown",
   "source": "### Running MAUP Doctor",
   "id": "6c119c82423c61f9"
  },
  {
   "metadata": {
    "ExecuteTime": {
     "end_time": "2025-04-09T22:47:06.384797Z",
     "start_time": "2025-04-09T22:38:07.779948Z"
    }
   },
   "cell_type": "code",
   "source": [
    "try:\n",
    "    maup.doctor(population_df)\n",
    "except Exception as e:\n",
    "    print(f\"Error in MAUP Doctor for population_df: {e}\")"
   ],
   "id": "c8401239b02dcd1e",
   "outputs": [
    {
     "name": "stderr",
     "output_type": "stream",
     "text": [
      "100%|██████████| 130807/130807 [04:14<00:00, 513.16it/s] \n"
     ]
    }
   ],
   "execution_count": 17
  },
  {
   "metadata": {
    "ExecuteTime": {
     "end_time": "2025-04-09T22:55:52.644487Z",
     "start_time": "2025-04-09T22:47:06.702686Z"
    }
   },
   "cell_type": "code",
   "source": [
    "try:\n",
    "    maup.doctor(vap_df)\n",
    "except Exception as e:\n",
    "    print(f\"Error in MAUP Doctor for vap_df: {e}\")"
   ],
   "id": "94e82199ef96d6be",
   "outputs": [
    {
     "name": "stderr",
     "output_type": "stream",
     "text": [
      "100%|██████████| 130807/130807 [04:18<00:00, 505.53it/s] \n"
     ]
    }
   ],
   "execution_count": 18
  },
  {
   "metadata": {
    "ExecuteTime": {
     "end_time": "2025-04-09T22:55:55.049652Z",
     "start_time": "2025-04-09T22:55:52.882623Z"
    }
   },
   "cell_type": "code",
   "source": [
    "try:\n",
    "    maup.doctor(county_df)\n",
    "except Exception as e:\n",
    "    print(f\"Error in MAUP Doctor for county_df: {e}\")"
   ],
   "id": "9fc92046239e81fa",
   "outputs": [
    {
     "name": "stderr",
     "output_type": "stream",
     "text": [
      "100%|██████████| 36/36 [00:00<00:00, 48.62it/s]\n"
     ]
    }
   ],
   "execution_count": 19
  },
  {
   "metadata": {
    "ExecuteTime": {
     "end_time": "2025-04-09T22:55:57.418835Z",
     "start_time": "2025-04-09T22:55:55.058279Z"
    }
   },
   "cell_type": "code",
   "source": [
    "try:\n",
    "    maup.doctor(sen_df)\n",
    "except Exception as e:\n",
    "    print(f\"Error in MAUP Doctor for sen_df: {e}\")"
   ],
   "id": "6ab64d784ad28a38",
   "outputs": [
    {
     "name": "stderr",
     "output_type": "stream",
     "text": [
      "100%|██████████| 30/30 [00:00<00:00, 35.98it/s]\n"
     ]
    }
   ],
   "execution_count": 20
  },
  {
   "metadata": {
    "ExecuteTime": {
     "end_time": "2025-04-09T22:56:03.773548Z",
     "start_time": "2025-04-09T22:55:57.611035Z"
    }
   },
   "cell_type": "code",
   "source": [
    "try:\n",
    "    maup.doctor(vest20_df)\n",
    "except Exception as e:\n",
    "    print(f\"\\033[91mError in MAUP Doctor for vest20_df: {e}\\033[0m\")"
   ],
   "id": "baa867c812505a5e",
   "outputs": [
    {
     "name": "stdout",
     "output_type": "stream",
     "text": [
      "\u001B[91mError in MAUP Doctor for vest20_df: TopologyException: side location conflict at 490660.17303404625 4943064.1817789217. This can occur if the input geometry is invalid.\u001B[0m\n"
     ]
    }
   ],
   "execution_count": 21
  },
  {
   "metadata": {},
   "cell_type": "markdown",
   "source": [
    "The maup doctor failed for the 2020 election data with a TopologyException.\n",
    "It got recommended to use the `smart_repair` function with `snap_precision=8` to fix the TopologyException.\n",
    "\n",
    "### Running MAUP Smart Repair for 2020 election data\n",
    "\n",
    "We want to compare the results when fitting into `county_df` vs `sen_df`,\n",
    "The idea is, that espacially in highly dense regions multiple districts exists but it is all one county.\n",
    "So the proposed districts should be more useful to fit the data in.\n",
    "\n",
    "first we run `smart_repair` with:\n",
    "* `snap_precision=8`, to get rid of the TopologyException.\n",
    "* `nest_within_regions=county_df`, fit the data inside the counties"
   ],
   "id": "e787f09935db165f"
  },
  {
   "metadata": {
    "ExecuteTime": {
     "end_time": "2025-04-10T00:20:36.822397Z",
     "start_time": "2025-04-09T22:56:04.021586Z"
    }
   },
   "cell_type": "code",
   "source": [
    "vest20_df_repaired_with_county_0 = smart_repair(\n",
    "    vest20_df,\n",
    "    snap_precision=8,\n",
    "    nest_within_regions=county_df\n",
    ")"
   ],
   "id": "5ddf5854c0125507",
   "outputs": [
    {
     "name": "stderr",
     "output_type": "stream",
     "text": [
      "100%|██████████| 36/36 [00:00<00:00, 49.01it/s]\n"
     ]
    },
    {
     "name": "stdout",
     "output_type": "stream",
     "text": [
      "Snapping all geometries to a grid with precision 10^( -3 ) to avoid GEOS errors.\n"
     ]
    },
    {
     "name": "stderr",
     "output_type": "stream",
     "text": [
      "100%|██████████| 36/36 [00:00<00:00, 152.05it/s]\n",
      "100%|██████████| 36/36 [00:01<00:00, 21.30it/s]\n"
     ]
    },
    {
     "name": "stdout",
     "output_type": "stream",
     "text": [
      "Identifying overlaps...\n"
     ]
    },
    {
     "name": "stderr",
     "output_type": "stream",
     "text": [
      "100%|██████████| 28185/28185 [02:24<00:00, 195.45it/s]\n"
     ]
    },
    {
     "name": "stdout",
     "output_type": "stream",
     "text": [
      "Resolving overlaps and filling gaps...\n"
     ]
    },
    {
     "name": "stderr",
     "output_type": "stream",
     "text": [
      "100%|██████████| 36/36 [00:00<00:00, 224.12it/s]\n",
      "100%|██████████| 36/36 [00:01<00:00, 19.11it/s]\n",
      "Gaps to simplify in region 0: 99it [00:59,  1.66it/s]                        \n",
      "Gaps to fill in region 0: 100%|██████████| 46/46 [00:06<00:00,  6.64it/s]\n"
     ]
    },
    {
     "name": "stdout",
     "output_type": "stream",
     "text": [
      "1 gaps in region 1 will remain unfilled, because they either are not simply connected or exceed the area threshold.\n"
     ]
    },
    {
     "name": "stderr",
     "output_type": "stream",
     "text": [
      "Gaps to simplify in region 1: 100%|██████████| 179/179 [00:41<00:00,  4.32it/s]\n",
      "Gaps to fill in region 1: 100%|██████████| 29/29 [00:02<00:00, 11.19it/s]\n",
      "Gaps to simplify in region 2: 100%|██████████| 45/45 [00:21<00:00,  2.07it/s]\n",
      "Gaps to fill: 0it [00:00, ?it/s]\n"
     ]
    },
    {
     "name": "stdout",
     "output_type": "stream",
     "text": [
      "1 gaps in region 3 will remain unfilled, because they either are not simply connected or exceed the area threshold.\n"
     ]
    },
    {
     "name": "stderr",
     "output_type": "stream",
     "text": [
      "Gaps to simplify in region 3: 100%|██████████| 83/83 [00:21<00:00,  3.92it/s]\n",
      "Gaps to fill in region 3: 100%|██████████| 41/41 [00:01<00:00, 26.39it/s]\n",
      "Gaps to simplify in region 4: 100%|██████████| 131/131 [02:52<00:00,  1.32s/it]\n",
      "Gaps to fill in region 4: 100%|██████████| 69/69 [00:11<00:00,  6.11it/s]\n"
     ]
    },
    {
     "name": "stdout",
     "output_type": "stream",
     "text": [
      "1 gaps in region 5 will remain unfilled, because they either are not simply connected or exceed the area threshold.\n"
     ]
    },
    {
     "name": "stderr",
     "output_type": "stream",
     "text": [
      "Gaps to simplify in region 5: 100%|██████████| 172/172 [00:37<00:00,  4.64it/s]\n",
      "Gaps to fill in region 5: 100%|██████████| 8/8 [00:01<00:00,  4.55it/s]\n",
      "Gaps to simplify in region 6: 165it [00:37,  4.35it/s]                         \n",
      "Gaps to fill in region 6: 100%|██████████| 42/42 [00:03<00:00, 12.72it/s]\n",
      "Gaps to simplify in region 7: 94it [02:00,  1.28s/it]                        \n",
      "Gaps to fill in region 7: 100%|██████████| 73/73 [00:06<00:00, 10.61it/s]\n",
      "Gaps to simplify in region 8: 100%|██████████| 193/193 [00:56<00:00,  3.43it/s]\n",
      "Gaps to fill in region 8: 100%|██████████| 29/29 [00:04<00:00,  6.55it/s]\n",
      "Gaps to simplify in region 9: 100%|██████████| 242/242 [00:53<00:00,  4.53it/s]\n",
      "Gaps to fill in region 9: 100%|██████████| 85/85 [00:07<00:00, 10.85it/s]\n",
      "Gaps to simplify in region 10: 100%|██████████| 79/79 [02:22<00:00,  1.81s/it] \n",
      "Gaps to fill in region 10: 100%|██████████| 62/62 [00:03<00:00, 15.73it/s]\n"
     ]
    },
    {
     "name": "stdout",
     "output_type": "stream",
     "text": [
      "1 gaps in region 11 will remain unfilled, because they either are not simply connected or exceed the area threshold.\n"
     ]
    },
    {
     "name": "stderr",
     "output_type": "stream",
     "text": [
      "Gaps to simplify in region 11: 100%|██████████| 160/160 [00:57<00:00,  2.80it/s]\n",
      "Gaps to fill in region 11: 100%|██████████| 56/56 [00:05<00:00,  9.81it/s]\n"
     ]
    },
    {
     "name": "stdout",
     "output_type": "stream",
     "text": [
      "1 gaps in region 12 will remain unfilled, because they either are not simply connected or exceed the area threshold.\n"
     ]
    },
    {
     "name": "stderr",
     "output_type": "stream",
     "text": [
      "Gaps to simplify in region 12: 100%|██████████| 96/96 [00:11<00:00,  8.12it/s]\n",
      "Gaps to fill in region 12: 100%|██████████| 34/34 [00:01<00:00, 19.14it/s]\n",
      "Gaps to simplify in region 13: 100%|██████████| 171/171 [00:50<00:00,  3.42it/s]\n",
      "Gaps to fill in region 13: 100%|██████████| 26/26 [00:05<00:00,  4.47it/s]\n",
      "Gaps to simplify in region 14: 234it [00:59,  3.92it/s]                         \n",
      "Gaps to fill in region 14: 100%|██████████| 62/62 [00:12<00:00,  5.03it/s]   \n",
      "Gaps to simplify in region 15: 100%|██████████| 74/74 [10:35<00:00,  8.59s/it]  \n",
      "Gaps to fill in region 15: 100%|██████████| 241/241 [00:11<00:00, 20.50it/s]\n",
      "Gaps to simplify in region 16: 100%|██████████| 66/66 [00:07<00:00,  8.59it/s]\n",
      "Gaps to fill in region 16: 100%|██████████| 12/12 [00:00<00:00, 13.59it/s]\n",
      "Gaps to simplify in region 17: 100%|██████████| 456/456 [01:09<00:00,  6.56it/s]\n",
      "Gaps to fill in region 17: 100%|██████████| 64/64 [00:12<00:00,  4.94it/s]\n"
     ]
    },
    {
     "name": "stdout",
     "output_type": "stream",
     "text": [
      "2 gaps in region 18 will remain unfilled, because they either are not simply connected or exceed the area threshold.\n"
     ]
    },
    {
     "name": "stderr",
     "output_type": "stream",
     "text": [
      "Gaps to simplify in region 18: 100%|██████████| 67/67 [00:04<00:00, 13.81it/s]\n",
      "Gaps to fill in region 18: 100%|██████████| 21/21 [00:00<00:00, 33.25it/s]\n",
      "Gaps to simplify in region 19: 403it [07:09,  1.07s/it]                          \n",
      "Gaps to fill in region 19: 100%|██████████| 89/89 [00:13<00:00,  6.65it/s]\n",
      "Gaps to simplify in region 20: 100%|██████████| 17/17 [00:09<00:00,  1.86it/s]\n",
      "Gaps to fill in region 20: 100%|██████████| 19/19 [00:00<00:00, 34.83it/s]\n",
      "Gaps to simplify in region 21: 100%|██████████| 1155/1155 [10:27<00:00,  1.84it/s]  \n",
      "Gaps to fill in region 21: 100%|██████████| 48/48 [00:04<00:00, 11.38it/s]\n",
      "Gaps to simplify in region 22: 158it [00:20,  7.75it/s]                         \n",
      "Gaps to fill in region 22: 100%|██████████| 42/42 [00:05<00:00,  8.36it/s]\n",
      "Gaps to simplify in region 23: 100%|██████████| 314/314 [04:40<00:00,  1.12it/s]\n",
      "Gaps to fill in region 23: 100%|██████████| 171/171 [00:05<00:00, 30.23it/s]\n",
      "Gaps to simplify in region 24: 100%|██████████| 334/334 [00:49<00:00,  6.79it/s]\n",
      "Gaps to fill in region 24: 100%|██████████| 61/61 [00:04<00:00, 14.77it/s]\n",
      "Gaps to simplify in region 25: 551it [02:58,  3.08it/s]                         \n",
      "Gaps to fill in region 25: 100%|██████████| 176/176 [00:14<00:00, 11.92it/s]\n",
      "Gaps to simplify in region 26: 100%|██████████| 165/165 [00:59<00:00,  2.76it/s]\n",
      "Gaps to fill in region 26: 100%|██████████| 6/6 [00:00<00:00,  9.51it/s]\n"
     ]
    },
    {
     "name": "stdout",
     "output_type": "stream",
     "text": [
      "1 gaps in region 27 will remain unfilled, because they either are not simply connected or exceed the area threshold.\n"
     ]
    },
    {
     "name": "stderr",
     "output_type": "stream",
     "text": [
      "Gaps to simplify in region 27: 100%|██████████| 144/144 [00:14<00:00,  9.72it/s]\n",
      "Gaps to fill in region 27: 100%|██████████| 21/21 [00:01<00:00, 14.52it/s]\n",
      "Gaps to simplify in region 28: 100%|██████████| 208/208 [01:15<00:00,  2.74it/s]\n",
      "Gaps to fill in region 28: 100%|██████████| 100/100 [00:05<00:00, 17.30it/s]\n",
      "Gaps to simplify in region 29: 100%|██████████| 29/29 [04:30<00:00,  9.34s/it]  \n",
      "Gaps to fill in region 29: 100%|██████████| 146/146 [00:04<00:00, 34.81it/s]\n",
      "Gaps to simplify in region 30: 100%|██████████| 49/49 [00:16<00:00,  3.03it/s]\n",
      "Gaps to fill in region 30: 100%|██████████| 21/21 [00:01<00:00, 20.38it/s]\n"
     ]
    },
    {
     "name": "stdout",
     "output_type": "stream",
     "text": [
      "1 gaps in region 31 will remain unfilled, because they either are not simply connected or exceed the area threshold.\n"
     ]
    },
    {
     "name": "stderr",
     "output_type": "stream",
     "text": [
      "Gaps to simplify in region 31: 196it [07:38,  2.34s/it]                         \n",
      "Gaps to fill in region 31: 100%|██████████| 198/198 [00:15<00:00, 12.91it/s]\n"
     ]
    },
    {
     "name": "stdout",
     "output_type": "stream",
     "text": [
      "1 gaps in region 32 will remain unfilled, because they either are not simply connected or exceed the area threshold.\n"
     ]
    },
    {
     "name": "stderr",
     "output_type": "stream",
     "text": [
      "Gaps to simplify in region 32: 100%|██████████| 40/40 [00:19<00:00,  2.10it/s]\n",
      "Gaps to fill in region 32: 100%|██████████| 50/50 [00:02<00:00, 20.58it/s]\n"
     ]
    },
    {
     "name": "stdout",
     "output_type": "stream",
     "text": [
      "1 gaps in region 33 will remain unfilled, because they either are not simply connected or exceed the area threshold.\n"
     ]
    },
    {
     "name": "stderr",
     "output_type": "stream",
     "text": [
      "Gaps to simplify in region 33: 606it [04:05,  2.47it/s]                         \n",
      "Gaps to fill in region 33: 100%|██████████| 148/148 [00:15<00:00,  9.80it/s]\n",
      "Gaps to simplify in region 34: 100%|██████████| 224/224 [00:48<00:00,  4.63it/s]\n",
      "Gaps to fill in region 34: 100%|██████████| 73/73 [00:03<00:00, 22.55it/s]\n"
     ]
    },
    {
     "name": "stdout",
     "output_type": "stream",
     "text": [
      "1 gaps in region 35 will remain unfilled, because they either are not simply connected or exceed the area threshold.\n"
     ]
    },
    {
     "name": "stderr",
     "output_type": "stream",
     "text": [
      "Gaps to simplify in region 35: 100%|██████████| 423/423 [02:34<00:00,  2.74it/s]\n",
      "Gaps to fill in region 35: 100%|██████████| 43/43 [00:09<00:00,  4.71it/s]\n"
     ]
    },
    {
     "name": "stdout",
     "output_type": "stream",
     "text": [
      "WARNING: A component of the geometry at index 202 may have been disconnected!\n",
      "WARNING: A component of the geometry at index 620 may have been disconnected!\n",
      "WARNING: A component of the geometry at index 649 may have been disconnected!\n"
     ]
    }
   ],
   "execution_count": 22
  },
  {
   "metadata": {
    "ExecuteTime": {
     "end_time": "2025-04-10T01:43:29.912635Z",
     "start_time": "2025-04-10T00:20:37.134272Z"
    }
   },
   "cell_type": "code",
   "source": [
    "vest20_df_repaired_with_sen_0 = smart_repair(\n",
    "    vest20_df,\n",
    "    snap_precision=8,\n",
    "    nest_within_regions=sen_df\n",
    ")"
   ],
   "id": "1400f26c40b783b6",
   "outputs": [
    {
     "name": "stderr",
     "output_type": "stream",
     "text": [
      "100%|██████████| 30/30 [00:00<00:00, 53.79it/s]\n"
     ]
    },
    {
     "name": "stdout",
     "output_type": "stream",
     "text": [
      "Snapping all geometries to a grid with precision 10^( -3 ) to avoid GEOS errors.\n"
     ]
    },
    {
     "name": "stderr",
     "output_type": "stream",
     "text": [
      "100%|██████████| 30/30 [00:00<00:00, 110.48it/s]\n",
      "100%|██████████| 30/30 [00:02<00:00, 10.98it/s]\n"
     ]
    },
    {
     "name": "stdout",
     "output_type": "stream",
     "text": [
      "Identifying overlaps...\n"
     ]
    },
    {
     "name": "stderr",
     "output_type": "stream",
     "text": [
      "100%|██████████| 30431/30431 [02:56<00:00, 172.53it/s]\n"
     ]
    },
    {
     "name": "stdout",
     "output_type": "stream",
     "text": [
      "Resolving overlaps and filling gaps...\n"
     ]
    },
    {
     "name": "stderr",
     "output_type": "stream",
     "text": [
      "100%|██████████| 30/30 [00:00<00:00, 145.11it/s]\n",
      "100%|██████████| 30/30 [00:02<00:00, 12.43it/s]\n"
     ]
    },
    {
     "name": "stdout",
     "output_type": "stream",
     "text": [
      "2 gaps in region 0 will remain unfilled, because they either are not simply connected or exceed the area threshold.\n"
     ]
    },
    {
     "name": "stderr",
     "output_type": "stream",
     "text": [
      "Gaps to simplify in region 0: 100%|██████████| 894/894 [02:42<00:00,  5.49it/s]\n",
      "Gaps to fill in region 0: 100%|██████████| 64/64 [00:13<00:00,  4.90it/s]\n"
     ]
    },
    {
     "name": "stdout",
     "output_type": "stream",
     "text": [
      "2 gaps in region 1 will remain unfilled, because they either are not simply connected or exceed the area threshold.\n"
     ]
    },
    {
     "name": "stderr",
     "output_type": "stream",
     "text": [
      "Gaps to simplify in region 1: 100%|██████████| 630/630 [10:55<00:00,  1.04s/it]  \n",
      "Gaps to fill in region 1: 100%|██████████| 195/195 [00:27<00:00,  7.15it/s]\n"
     ]
    },
    {
     "name": "stdout",
     "output_type": "stream",
     "text": [
      "1 gaps in region 2 will remain unfilled, because they either are not simply connected or exceed the area threshold.\n"
     ]
    },
    {
     "name": "stderr",
     "output_type": "stream",
     "text": [
      "Gaps to simplify in region 2: 100%|██████████| 512/512 [01:09<00:00,  7.41it/s]\n",
      "Gaps to fill in region 2: 100%|██████████| 27/27 [00:01<00:00, 14.54it/s]\n"
     ]
    },
    {
     "name": "stdout",
     "output_type": "stream",
     "text": [
      "6 gaps in region 3 will remain unfilled, because they either are not simply connected or exceed the area threshold.\n"
     ]
    },
    {
     "name": "stderr",
     "output_type": "stream",
     "text": [
      "Gaps to simplify in region 3: 66it [00:52,  1.25it/s]                        \n",
      "Gaps to fill in region 3: 100%|██████████| 17/17 [00:04<00:00,  4.22it/s]\n"
     ]
    },
    {
     "name": "stdout",
     "output_type": "stream",
     "text": [
      "2 gaps in region 4 will remain unfilled, because they either are not simply connected or exceed the area threshold.\n"
     ]
    },
    {
     "name": "stderr",
     "output_type": "stream",
     "text": [
      "Gaps to simplify in region 4: 100%|██████████| 553/553 [01:29<00:00,  6.18it/s]\n",
      "Gaps to fill in region 4: 100%|██████████| 89/89 [00:10<00:00,  8.55it/s]\n"
     ]
    },
    {
     "name": "stdout",
     "output_type": "stream",
     "text": [
      "5 gaps in region 5 will remain unfilled, because they either are not simply connected or exceed the area threshold.\n"
     ]
    },
    {
     "name": "stderr",
     "output_type": "stream",
     "text": [
      "Gaps to simplify in region 5: 521it [02:17,  3.78it/s]                         \n",
      "Gaps to fill in region 5: 100%|██████████| 199/199 [00:16<00:00, 11.83it/s]\n"
     ]
    },
    {
     "name": "stdout",
     "output_type": "stream",
     "text": [
      "2 gaps in region 6 will remain unfilled, because they either are not simply connected or exceed the area threshold.\n"
     ]
    },
    {
     "name": "stderr",
     "output_type": "stream",
     "text": [
      "Gaps to simplify in region 6: 324it [01:08,  4.73it/s]                         \n",
      "Gaps to fill in region 6: 100%|██████████| 19/19 [00:05<00:00,  3.36it/s]\n"
     ]
    },
    {
     "name": "stdout",
     "output_type": "stream",
     "text": [
      "2 gaps in region 7 will remain unfilled, because they either are not simply connected or exceed the area threshold.\n"
     ]
    },
    {
     "name": "stderr",
     "output_type": "stream",
     "text": [
      "Gaps to simplify in region 7: 100%|██████████| 326/326 [00:26<00:00, 12.46it/s]\n",
      "Gaps to fill in region 7: 100%|██████████| 47/47 [00:03<00:00, 14.03it/s]\n"
     ]
    },
    {
     "name": "stdout",
     "output_type": "stream",
     "text": [
      "2 gaps in region 8 will remain unfilled, because they either are not simply connected or exceed the area threshold.\n"
     ]
    },
    {
     "name": "stderr",
     "output_type": "stream",
     "text": [
      "Gaps to simplify in region 8: 1089it [03:24,  5.32it/s]                          \n",
      "Gaps to fill in region 8: 100%|██████████| 69/69 [01:49<00:00,  1.58s/it]\n"
     ]
    },
    {
     "name": "stdout",
     "output_type": "stream",
     "text": [
      "2 gaps in region 9 will remain unfilled, because they either are not simply connected or exceed the area threshold.\n"
     ]
    },
    {
     "name": "stderr",
     "output_type": "stream",
     "text": [
      "Gaps to simplify in region 9: 116it [00:28,  4.05it/s]                         \n",
      "Gaps to fill in region 9: 100%|██████████| 45/45 [00:08<00:00,  5.51it/s]\n"
     ]
    },
    {
     "name": "stdout",
     "output_type": "stream",
     "text": [
      "4 gaps in region 10 will remain unfilled, because they either are not simply connected or exceed the area threshold.\n"
     ]
    },
    {
     "name": "stderr",
     "output_type": "stream",
     "text": [
      "Gaps to simplify in region 10: 66it [00:09,  7.03it/s]                        \n",
      "Gaps to fill in region 10: 100%|██████████| 39/39 [00:01<00:00, 19.82it/s]\n"
     ]
    },
    {
     "name": "stdout",
     "output_type": "stream",
     "text": [
      "1 gaps in region 11 will remain unfilled, because they either are not simply connected or exceed the area threshold.\n"
     ]
    },
    {
     "name": "stderr",
     "output_type": "stream",
     "text": [
      "Gaps to simplify in region 11: 100%|██████████| 189/189 [07:32<00:00,  2.39s/it]  \n",
      "Gaps to fill in region 11: 100%|██████████| 258/258 [00:09<00:00, 28.00it/s]\n"
     ]
    },
    {
     "name": "stdout",
     "output_type": "stream",
     "text": [
      "4 gaps in region 12 will remain unfilled, because they either are not simply connected or exceed the area threshold.\n"
     ]
    },
    {
     "name": "stderr",
     "output_type": "stream",
     "text": [
      "Gaps to simplify in region 12: 100%|██████████| 108/108 [00:10<00:00, 10.31it/s]\n",
      "Gaps to fill in region 12: 100%|██████████| 30/30 [00:01<00:00, 24.33it/s]\n"
     ]
    },
    {
     "name": "stdout",
     "output_type": "stream",
     "text": [
      "7 gaps in region 13 will remain unfilled, because they either are not simply connected or exceed the area threshold.\n"
     ]
    },
    {
     "name": "stderr",
     "output_type": "stream",
     "text": [
      "Gaps to simplify in region 13: 100%|██████████| 74/74 [00:05<00:00, 14.70it/s]\n",
      "Gaps to fill in region 13: 100%|██████████| 28/28 [00:03<00:00,  7.59it/s]\n"
     ]
    },
    {
     "name": "stdout",
     "output_type": "stream",
     "text": [
      "3 gaps in region 14 will remain unfilled, because they either are not simply connected or exceed the area threshold.\n"
     ]
    },
    {
     "name": "stderr",
     "output_type": "stream",
     "text": [
      "Gaps to simplify in region 14: 100%|██████████| 76/76 [00:05<00:00, 14.57it/s]\n",
      "Gaps to fill in region 14: 100%|██████████| 5/5 [00:01<00:00,  2.80it/s]\n"
     ]
    },
    {
     "name": "stdout",
     "output_type": "stream",
     "text": [
      "3 gaps in region 15 will remain unfilled, because they either are not simply connected or exceed the area threshold.\n"
     ]
    },
    {
     "name": "stderr",
     "output_type": "stream",
     "text": [
      "Gaps to simplify in region 15: 100%|██████████| 400/400 [00:26<00:00, 14.84it/s]\n",
      "Gaps to fill in region 15: 100%|██████████| 75/75 [00:04<00:00, 18.21it/s]\n"
     ]
    },
    {
     "name": "stdout",
     "output_type": "stream",
     "text": [
      "4 gaps in region 16 will remain unfilled, because they either are not simply connected or exceed the area threshold.\n"
     ]
    },
    {
     "name": "stderr",
     "output_type": "stream",
     "text": [
      "Gaps to simplify in region 16: 100%|██████████| 54/54 [00:04<00:00, 11.60it/s]\n",
      "Gaps to fill in region 16: 100%|██████████| 14/14 [00:04<00:00,  3.30it/s]\n"
     ]
    },
    {
     "name": "stdout",
     "output_type": "stream",
     "text": [
      "3 gaps in region 17 will remain unfilled, because they either are not simply connected or exceed the area threshold.\n"
     ]
    },
    {
     "name": "stderr",
     "output_type": "stream",
     "text": [
      "Gaps to simplify in region 17: 58it [00:34,  1.68it/s]                        \n",
      "Gaps to fill in region 17: 100%|██████████| 63/63 [00:02<00:00, 21.70it/s]\n"
     ]
    },
    {
     "name": "stdout",
     "output_type": "stream",
     "text": [
      "2 gaps in region 18 will remain unfilled, because they either are not simply connected or exceed the area threshold.\n"
     ]
    },
    {
     "name": "stderr",
     "output_type": "stream",
     "text": [
      "Gaps to simplify in region 18: 126it [00:20,  6.28it/s]                         \n",
      "Gaps to fill in region 18: 100%|██████████| 56/56 [00:05<00:00, 10.91it/s]\n"
     ]
    },
    {
     "name": "stdout",
     "output_type": "stream",
     "text": [
      "3 gaps in region 19 will remain unfilled, because they either are not simply connected or exceed the area threshold.\n"
     ]
    },
    {
     "name": "stderr",
     "output_type": "stream",
     "text": [
      "Gaps to simplify in region 19: 100%|██████████| 98/98 [00:05<00:00, 16.46it/s]\n",
      "Gaps to fill in region 19: 100%|██████████| 20/20 [00:04<00:00,  4.18it/s]\n"
     ]
    },
    {
     "name": "stdout",
     "output_type": "stream",
     "text": [
      "3 gaps in region 20 will remain unfilled, because they either are not simply connected or exceed the area threshold.\n"
     ]
    },
    {
     "name": "stderr",
     "output_type": "stream",
     "text": [
      "Gaps to simplify in region 20: 100%|██████████| 57/57 [00:03<00:00, 16.93it/s]\n",
      "Gaps to fill in region 20: 100%|██████████| 11/11 [00:02<00:00,  4.91it/s]\n"
     ]
    },
    {
     "name": "stdout",
     "output_type": "stream",
     "text": [
      "2 gaps in region 21 will remain unfilled, because they either are not simply connected or exceed the area threshold.\n"
     ]
    },
    {
     "name": "stderr",
     "output_type": "stream",
     "text": [
      "Gaps to simplify in region 21: 100%|██████████| 8/8 [00:03<00:00,  2.42it/s]\n",
      "Gaps to fill in region 21: 100%|██████████| 13/13 [00:00<00:00, 39.21it/s]\n"
     ]
    },
    {
     "name": "stdout",
     "output_type": "stream",
     "text": [
      "4 gaps in region 22 will remain unfilled, because they either are not simply connected or exceed the area threshold.\n"
     ]
    },
    {
     "name": "stderr",
     "output_type": "stream",
     "text": [
      "Gaps to simplify in region 22: 37it [00:02, 13.41it/s]                        \n",
      "Gaps to fill in region 22: 100%|██████████| 12/12 [00:00<00:00, 21.84it/s]\n"
     ]
    },
    {
     "name": "stdout",
     "output_type": "stream",
     "text": [
      "3 gaps in region 23 will remain unfilled, because they either are not simply connected or exceed the area threshold.\n"
     ]
    },
    {
     "name": "stderr",
     "output_type": "stream",
     "text": [
      "Gaps to simplify in region 23: 100%|██████████| 41/41 [00:06<00:00,  6.04it/s]\n",
      "Gaps to fill in region 23: 100%|██████████| 16/16 [00:01<00:00, 14.62it/s]\n"
     ]
    },
    {
     "name": "stdout",
     "output_type": "stream",
     "text": [
      "2 gaps in region 24 will remain unfilled, because they either are not simply connected or exceed the area threshold.\n"
     ]
    },
    {
     "name": "stderr",
     "output_type": "stream",
     "text": [
      "Gaps to simplify in region 24: 53it [00:10,  5.05it/s]                        \n",
      "Gaps to fill in region 24: 100%|██████████| 16/16 [00:03<00:00,  4.75it/s]\n"
     ]
    },
    {
     "name": "stdout",
     "output_type": "stream",
     "text": [
      "4 gaps in region 25 will remain unfilled, because they either are not simply connected or exceed the area threshold.\n"
     ]
    },
    {
     "name": "stderr",
     "output_type": "stream",
     "text": [
      "Gaps to simplify in region 25: 100%|██████████| 711/711 [02:11<00:00,  5.41it/s] \n",
      "Gaps to fill in region 25: 100%|██████████| 60/60 [00:19<00:00,  3.12it/s]\n"
     ]
    },
    {
     "name": "stdout",
     "output_type": "stream",
     "text": [
      "3 gaps in region 26 will remain unfilled, because they either are not simply connected or exceed the area threshold.\n"
     ]
    },
    {
     "name": "stderr",
     "output_type": "stream",
     "text": [
      "Gaps to simplify in region 26: 85it [00:07, 10.92it/s]                        \n",
      "Gaps to fill in region 26: 100%|██████████| 34/34 [00:02<00:00, 13.71it/s]\n"
     ]
    },
    {
     "name": "stdout",
     "output_type": "stream",
     "text": [
      "2 gaps in region 27 will remain unfilled, because they either are not simply connected or exceed the area threshold.\n"
     ]
    },
    {
     "name": "stderr",
     "output_type": "stream",
     "text": [
      "Gaps to simplify in region 27: 851it [11:00,  1.29it/s]                           \n",
      "Gaps to fill in region 27: 100%|██████████| 147/147 [00:16<00:00,  8.82it/s]\n",
      "Gaps to simplify in region 28: 100%|██████████| 1654/1654 [08:30<00:00,  3.24it/s]  \n",
      "Gaps to fill in region 28: 100%|██████████| 456/456 [00:56<00:00,  8.07it/s]\n"
     ]
    },
    {
     "name": "stdout",
     "output_type": "stream",
     "text": [
      "3 gaps in region 29 will remain unfilled, because they either are not simply connected or exceed the area threshold.\n"
     ]
    },
    {
     "name": "stderr",
     "output_type": "stream",
     "text": [
      "Gaps to simplify in region 29: 100%|██████████| 2478/2478 [15:03<00:00,  2.74it/s]  \n",
      "Gaps to fill in region 29: 100%|██████████| 644/644 [00:34<00:00, 18.81it/s]\n"
     ]
    },
    {
     "name": "stdout",
     "output_type": "stream",
     "text": [
      "WARNING: A component of the geometry at index 79 may have been disconnected!\n",
      "WARNING: A component of the geometry at index 134 may have been disconnected!\n",
      "WARNING: A component of the geometry at index 345 may have been disconnected!\n",
      "WARNING: A component of the geometry at index 742 may have been disconnected!\n",
      "WARNING: A component of the geometry at index 754 may have been disconnected!\n",
      "WARNING: A component of the geometry at index 843 may have been disconnected!\n",
      "WARNING: A component of the geometry at index 845 may have been disconnected!\n",
      "WARNING: A component of the geometry at index 866 may have been disconnected!\n",
      "WARNING: A component of the geometry at index 867 may have been disconnected!\n",
      "WARNING: A component of the geometry at index 879 may have been disconnected!\n",
      "WARNING: A component of the geometry at index 941 may have been disconnected!\n",
      "WARNING: A component of the geometry at index 1086 may have been disconnected!\n",
      "WARNING: A component of the geometry at index 1118 may have been disconnected!\n",
      "WARNING: A component of the geometry at index 1136 may have been disconnected!\n",
      "WARNING: A component of the geometry at index 1141 may have been disconnected!\n",
      "WARNING: A component of the geometry at index 1213 may have been disconnected!\n",
      "WARNING: A component of the geometry at index 1231 may have been disconnected!\n",
      "WARNING: A component of the geometry at index 1242 may have been disconnected!\n",
      "WARNING: A component of the geometry at index 1246 may have been disconnected!\n",
      "WARNING: A component of the geometry at index 1260 may have been disconnected!\n",
      "WARNING: A component of the geometry at index 1264 may have been disconnected!\n",
      "WARNING: A component of the geometry at index 1299 may have been disconnected!\n",
      "WARNING: A component of the geometry at index 1301 may have been disconnected!\n",
      "WARNING: A component of the geometry at index 1305 may have been disconnected!\n",
      "WARNING: A component of the geometry at index 1311 may have been disconnected!\n",
      "WARNING: A component of the geometry at index 1313 may have been disconnected!\n"
     ]
    }
   ],
   "execution_count": 23
  },
  {
   "metadata": {},
   "cell_type": "markdown",
   "source": "Check the county fixed vest20 data",
   "id": "e0020e0c509ec94"
  },
  {
   "metadata": {
    "ExecuteTime": {
     "end_time": "2025-04-10T01:43:46.694907Z",
     "start_time": "2025-04-10T01:43:30.179754Z"
    }
   },
   "cell_type": "code",
   "source": [
    "# check if the repaired data is valid\n",
    "try:\n",
    "    maup.doctor(vest20_df_repaired_with_county_0)\n",
    "except Exception as e:\n",
    "    print(f\"\\033[91mError in MAUP Doctor for repaired vest20_df_repaired_with_county_0: {e}\\033[0m\")"
   ],
   "id": "2c9e442e50d85846",
   "outputs": [
    {
     "name": "stderr",
     "output_type": "stream",
     "text": [
      "100%|██████████| 1331/1331 [00:05<00:00, 236.59it/s]\n"
     ]
    },
    {
     "name": "stdout",
     "output_type": "stream",
     "text": [
      "There are 5 holes.\n"
     ]
    }
   ],
   "execution_count": 24
  },
  {
   "metadata": {},
   "cell_type": "markdown",
   "source": "Check the sen_df fixed vest20 data",
   "id": "602ed059841a16ab"
  },
  {
   "metadata": {
    "ExecuteTime": {
     "end_time": "2025-04-10T01:44:03.639187Z",
     "start_time": "2025-04-10T01:43:46.715519Z"
    }
   },
   "cell_type": "code",
   "source": [
    "# check if the repaired data is valid\n",
    "try:\n",
    "    maup.doctor(vest20_df_repaired_with_sen_0)\n",
    "except Exception as e:\n",
    "    print(f\"\\033[91mError in MAUP Doctor for repaired vest20_df_repaired_with_sen_0: {e}\\033[0m\")"
   ],
   "id": "fb188581ca0df4ba",
   "outputs": [
    {
     "name": "stderr",
     "output_type": "stream",
     "text": [
      "100%|██████████| 1331/1331 [00:05<00:00, 223.87it/s]\n"
     ]
    },
    {
     "name": "stdout",
     "output_type": "stream",
     "text": [
      "There are 76 holes.\n"
     ]
    }
   ],
   "execution_count": 25
  },
  {
   "metadata": {},
   "cell_type": "code",
   "outputs": [],
   "execution_count": null,
   "source": [
    "print(\"Assigning pop to vest20_df_repaired_with_county_0\")\n",
    "utilities.assign_population_data_to(\n",
    "    vest20_df_repaired_with_county_0,\n",
    "    population_df,\n",
    "    vap_df,\n",
    "    pop_column_names,\n",
    "    vap_column_names\n",
    ")\n",
    "\n",
    "print(\"Assigning pop to vest20_df_repaired_with_sen_0\")\n",
    "utilities.assign_population_data_to(\n",
    "    vest20_df_repaired_with_sen_0,\n",
    "    population_df,\n",
    "    vap_df,\n",
    "    pop_column_names,\n",
    "    vap_column_names\n",
    ")"
   ],
   "id": "299c19942ad7ef5b"
  },
  {
   "metadata": {},
   "cell_type": "code",
   "outputs": [],
   "execution_count": null,
   "source": [
    "print(\"Checking population for vest20_df_repaired_with_county_0\")\n",
    "\n",
    "print(\"Total pop:\\t\", population_df['P0020001'].sum())\n",
    "print(\"Actual pop:\\t\", vest20_df_repaired_with_county_0['P0020001'].sum())\n",
    "print(\"Total vap:\\t\", vap_df['P0040001'].sum())\n",
    "print(\"Actual vap:\\t\", vest20_df_repaired_with_county_0['P0040001'].sum())\n",
    "\n",
    "print(\"Checking population for sen to vest20_df_repaired_with_sen_0\")\n",
    "\n",
    "print(\"Total pop:\\t\", population_df['P0020001'].sum())\n",
    "print(\"Actual pop:\\t\", vest20_df_repaired_with_sen_0['P0020001'].sum())\n",
    "print(\"Total vap:\\t\", vap_df['P0040001'].sum())\n",
    "print(\"Actual vap:\\t\", vest20_df_repaired_with_sen_0['P0040001'].sum())"
   ],
   "id": "7e0c00e95372b411"
  },
  {
   "metadata": {},
   "cell_type": "markdown",
   "source": [
    "New Idea, \"The best of two worlds\": <br>\n",
    "* Use both maps!\n",
    "* By using an \"Overlay Union\""
   ],
   "id": "3c49402a0e234baa"
  },
  {
   "metadata": {
    "ExecuteTime": {
     "end_time": "2025-04-10T03:29:06.213884Z",
     "start_time": "2025-04-10T03:29:04.527680Z"
    }
   },
   "cell_type": "code",
   "source": [
    "# Merge all geometries into a single MultiPolygon – combining all boundaries\n",
    "combined = gpd.GeoSeries(unary_union(county_df.geometry.union(sen_df.geometry)))\n",
    "\n",
    "# Split the MultiPolygon into individual polygons\n",
    "county_sen_overlay_df = gpd.GeoDataFrame(geometry=combined.explode(index_parts=True), crs=county_df.crs)\n",
    "\n",
    "# Intersect with the original datasets to retrieve attribute data\n",
    "county_sen_overlay_df = gpd.overlay(county_sen_overlay_df, county_df, how='intersection')\n",
    "county_sen_overlay_df = gpd.overlay(county_sen_overlay_df, sen_df, how='intersection')"
   ],
   "id": "202af5a52d9a7d03",
   "outputs": [],
   "execution_count": 11
  },
  {
   "metadata": {
    "ExecuteTime": {
     "end_time": "2025-04-10T01:55:49.214577Z",
     "start_time": "2025-04-10T01:55:43.362719Z"
    }
   },
   "cell_type": "code",
   "source": [
    "# run maup.doctor to make sure nothing broke\n",
    "try:\n",
    "    print(maup.doctor(county_sen_overlay_df))\n",
    "except Exception as e:\n",
    "    print(f\"\\033[91mError in MAUP Doctor for repaired county_sen_overlay_df: {e}\\033[0m\")"
   ],
   "id": "7b37d8a68ae7c0c9",
   "outputs": [
    {
     "name": "stderr",
     "output_type": "stream",
     "text": [
      "100%|██████████| 132/132 [00:02<00:00, 65.11it/s]\n"
     ]
    },
    {
     "name": "stdout",
     "output_type": "stream",
     "text": [
      "True\n"
     ]
    }
   ],
   "execution_count": 41
  },
  {
   "metadata": {
    "ExecuteTime": {
     "end_time": "2025-04-10T01:56:13.939392Z",
     "start_time": "2025-04-10T01:56:12.935765Z"
    }
   },
   "cell_type": "code",
   "source": [
    "import matplotlib.pyplot as plt\n",
    "\n",
    "# Create a figure with 3 subplots (1 row, 3 columns)\n",
    "fig, axes = plt.subplots(1, 3, figsize=(15, 5))\n",
    "\n",
    "# Plot each GeoDataFrame in a separate subplot\n",
    "county_df.plot(ax=axes[0], legend=True)\n",
    "axes[0].set_title(\"County Data\")\n",
    "axes[0].axis('off')\n",
    "\n",
    "sen_df.plot(ax=axes[1], legend=True)\n",
    "axes[1].set_title(\"Senate Data\")\n",
    "axes[1].axis('off')\n",
    "\n",
    "county_sen_overlay_df.plot(ax=axes[2], legend=True)\n",
    "axes[2].set_title(\"County-Senate Overlay\")\n",
    "axes[2].axis('off')\n",
    "\n",
    "# Adjust layout and display the plot\n",
    "plt.tight_layout()\n",
    "plt.show()"
   ],
   "id": "ce014e84f0502fd3",
   "outputs": [
    {
     "data": {
      "text/plain": [
       "<Figure size 1500x500 with 3 Axes>"
      ],
      "image/png": "[encoded data removed]"
     },
     "metadata": {},
     "output_type": "display_data"
    }
   ],
   "execution_count": 42
  },
  {
   "metadata": {},
   "cell_type": "markdown",
   "source": "Now we can try to fix the vest20_df the same we did before with sen_df and county_df",
   "id": "955e96002ec24578"
  },
  {
   "metadata": {
    "ExecuteTime": {
     "end_time": "2025-04-10T04:10:21.410789Z",
     "start_time": "2025-04-10T03:29:13.524095Z"
    }
   },
   "cell_type": "code",
   "source": [
    "vest20_df_repaired_with_county_sen_0 = smart_repair(\n",
    "    vest20_df,\n",
    "    snap_precision=8,\n",
    "    nest_within_regions=county_sen_overlay_df\n",
    ")"
   ],
   "id": "e276a0bdde880c70",
   "outputs": [
    {
     "name": "stdout",
     "output_type": "stream",
     "text": [
      "Snapping all geometries to a grid with precision 10^( -3 ) to avoid GEOS errors.\n",
      "Identifying overlaps...\n",
      "Resolving overlaps and filling gaps...\n"
     ]
    },
    {
     "name": "stderr",
     "output_type": "stream",
     "text": [
      "Gaps to simplify in region 0: 100%|██████████| 88/88 [00:13<00:00,  6.44it/s]\n",
      "Gaps to fill in region 0: 100%|██████████| 30/30 [00:01<00:00, 22.63it/s]\n"
     ]
    },
    {
     "name": "stdout",
     "output_type": "stream",
     "text": [
      "1 gaps in region 1 will remain unfilled, because they either are not simply connected or exceed the area threshold.\n"
     ]
    },
    {
     "name": "stderr",
     "output_type": "stream",
     "text": [
      "Gaps to simplify in region 1: 100%|██████████| 181/181 [00:06<00:00, 27.06it/s]\n",
      "Gaps to fill in region 1: 100%|██████████| 10/10 [00:00<00:00, 20.67it/s]\n",
      "Gaps to simplify in region 2: 100%|██████████| 1/1 [00:00<00:00, 32.63it/s]\n"
     ]
    },
    {
     "name": "stdout",
     "output_type": "stream",
     "text": [
      "Found a component of the region at index 2 that does not intersect any geometry assigned to that region.\n"
     ]
    },
    {
     "name": "stderr",
     "output_type": "stream",
     "text": [
      "Gaps to fill: 0it [00:00, ?it/s]\n",
      "Gaps to simplify in region 3: 100%|██████████| 168/168 [00:12<00:00, 13.19it/s]\n",
      "Gaps to fill: 0it [00:00, ?it/s]\n"
     ]
    },
    {
     "name": "stdout",
     "output_type": "stream",
     "text": [
      "1 gaps in region 4 will remain unfilled, because they either are not simply connected or exceed the area threshold.\n"
     ]
    },
    {
     "name": "stderr",
     "output_type": "stream",
     "text": [
      "Gaps to simplify in region 4: 100%|██████████| 143/143 [00:05<00:00, 26.41it/s]\n",
      "Gaps to fill in region 4: 100%|██████████| 26/26 [00:00<00:00, 39.95it/s]\n",
      "Gaps to simplify in region 5: 100%|██████████| 3/3 [00:00<00:00, 77.66it/s]\n"
     ]
    },
    {
     "name": "stdout",
     "output_type": "stream",
     "text": [
      "Found a component of the region at index 5 that does not intersect any geometry assigned to that region.\n",
      "Found a component of the region at index 5 that does not intersect any geometry assigned to that region.\n",
      "Found a component of the region at index 5 that does not intersect any geometry assigned to that region.\n"
     ]
    },
    {
     "name": "stderr",
     "output_type": "stream",
     "text": [
      "Gaps to fill: 0it [00:00, ?it/s]\n",
      "Gaps to simplify in region 6:  13%|█▎        | 14/104 [00:00<00:00, 137.63it/s]"
     ]
    },
    {
     "name": "stdout",
     "output_type": "stream",
     "text": [
      "Found a component of the region at index 6 that does not intersect any geometry assigned to that region.\n",
      "Found a component of the region at index 6 that does not intersect any geometry assigned to that region.\n",
      "Found a component of the region at index 6 that does not intersect any geometry assigned to that region.\n",
      "Found a component of the region at index 6 that does not intersect any geometry assigned to that region.\n",
      "Found a component of the region at index 6 that does not intersect any geometry assigned to that region.\n",
      "Found a component of the region at index 6 that does not intersect any geometry assigned to that region.\n",
      "Found a component of the region at index 6 that does not intersect any geometry assigned to that region.\n",
      "Found a component of the region at index 6 that does not intersect any geometry assigned to that region.\n",
      "Found a component of the region at index 6 that does not intersect any geometry assigned to that region.\n",
      "Found a component of the region at index 6 that does not intersect any geometry assigned to that region.\n",
      "Found a component of the region at index 6 that does not intersect any geometry assigned to that region.\n",
      "Found a component of the region at index 6 that does not intersect any geometry assigned to that region.\n",
      "Found a component of the region at index 6 that does not intersect any geometry assigned to that region.\n",
      "Found a component of the region at index 6 that does not intersect any geometry assigned to that region.\n",
      "Found a component of the region at index 6 that does not intersect any geometry assigned to that region.\n",
      "Found a component of the region at index 6 that does not intersect any geometry assigned to that region.\n",
      "Found a component of the region at index 6 that does not intersect any geometry assigned to that region.\n",
      "Found a component of the region at index 6 that does not intersect any geometry assigned to that region.\n",
      "Found a component of the region at index 6 that does not intersect any geometry assigned to that region.\n",
      "Found a component of the region at index 6 that does not intersect any geometry assigned to that region.\n",
      "Found a component of the region at index 6 that does not intersect any geometry assigned to that region.\n",
      "Found a component of the region at index 6 that does not intersect any geometry assigned to that region.\n",
      "Found a component of the region at index 6 that does not intersect any geometry assigned to that region.\n",
      "Found a component of the region at index 6 that does not intersect any geometry assigned to that region.\n",
      "Found a component of the region at index 6 that does not intersect any geometry assigned to that region.\n",
      "Found a component of the region at index 6 that does not intersect any geometry assigned to that region.\n",
      "Found a component of the region at index 6 that does not intersect any geometry assigned to that region.\n",
      "Found a component of the region at index 6 that does not intersect any geometry assigned to that region.\n"
     ]
    },
    {
     "name": "stderr",
     "output_type": "stream",
     "text": [
      "Gaps to simplify in region 6:  40%|████      | 42/104 [00:00<00:00, 133.12it/s]"
     ]
    },
    {
     "name": "stdout",
     "output_type": "stream",
     "text": [
      "Found a component of the region at index 6 that does not intersect any geometry assigned to that region.\n",
      "Found a component of the region at index 6 that does not intersect any geometry assigned to that region.\n",
      "Found a component of the region at index 6 that does not intersect any geometry assigned to that region.\n",
      "Found a component of the region at index 6 that does not intersect any geometry assigned to that region.\n",
      "Found a component of the region at index 6 that does not intersect any geometry assigned to that region.\n",
      "Found a component of the region at index 6 that does not intersect any geometry assigned to that region.\n",
      "Found a component of the region at index 6 that does not intersect any geometry assigned to that region.\n",
      "Found a component of the region at index 6 that does not intersect any geometry assigned to that region.\n",
      "Found a component of the region at index 6 that does not intersect any geometry assigned to that region.\n",
      "Found a component of the region at index 6 that does not intersect any geometry assigned to that region.\n",
      "Found a component of the region at index 6 that does not intersect any geometry assigned to that region.\n",
      "Found a component of the region at index 6 that does not intersect any geometry assigned to that region.\n",
      "Found a component of the region at index 6 that does not intersect any geometry assigned to that region.\n",
      "Found a component of the region at index 6 that does not intersect any geometry assigned to that region.\n",
      "Found a component of the region at index 6 that does not intersect any geometry assigned to that region.\n",
      "Found a component of the region at index 6 that does not intersect any geometry assigned to that region.\n",
      "Found a component of the region at index 6 that does not intersect any geometry assigned to that region.\n",
      "Found a component of the region at index 6 that does not intersect any geometry assigned to that region.\n",
      "Found a component of the region at index 6 that does not intersect any geometry assigned to that region.\n",
      "Found a component of the region at index 6 that does not intersect any geometry assigned to that region.\n",
      "Found a component of the region at index 6 that does not intersect any geometry assigned to that region.\n",
      "Found a component of the region at index 6 that does not intersect any geometry assigned to that region.\n",
      "Found a component of the region at index 6 that does not intersect any geometry assigned to that region.\n",
      "Found a component of the region at index 6 that does not intersect any geometry assigned to that region.\n"
     ]
    },
    {
     "name": "stderr",
     "output_type": "stream",
     "text": [
      "Gaps to simplify in region 6:  56%|█████▌    | 58/104 [00:00<00:00, 140.81it/s]"
     ]
    },
    {
     "name": "stdout",
     "output_type": "stream",
     "text": [
      "Found a component of the region at index 6 that does not intersect any geometry assigned to that region.\n",
      "Found a component of the region at index 6 that does not intersect any geometry assigned to that region.\n",
      "Found a component of the region at index 6 that does not intersect any geometry assigned to that region.\n",
      "Found a component of the region at index 6 that does not intersect any geometry assigned to that region.\n",
      "Found a component of the region at index 6 that does not intersect any geometry assigned to that region.\n",
      "Found a component of the region at index 6 that does not intersect any geometry assigned to that region.\n"
     ]
    },
    {
     "name": "stderr",
     "output_type": "stream",
     "text": [
      "Gaps to simplify in region 6:  70%|███████   | 73/104 [00:00<00:00, 140.05it/s]"
     ]
    },
    {
     "name": "stdout",
     "output_type": "stream",
     "text": [
      "Found a component of the region at index 6 that does not intersect any geometry assigned to that region.\n",
      "Found a component of the region at index 6 that does not intersect any geometry assigned to that region.\n",
      "Found a component of the region at index 6 that does not intersect any geometry assigned to that region.\n",
      "Found a component of the region at index 6 that does not intersect any geometry assigned to that region.\n",
      "Found a component of the region at index 6 that does not intersect any geometry assigned to that region.\n",
      "Found a component of the region at index 6 that does not intersect any geometry assigned to that region.\n",
      "Found a component of the region at index 6 that does not intersect any geometry assigned to that region.\n",
      "Found a component of the region at index 6 that does not intersect any geometry assigned to that region.\n",
      "Found a component of the region at index 6 that does not intersect any geometry assigned to that region.\n",
      "Found a component of the region at index 6 that does not intersect any geometry assigned to that region.\n",
      "Found a component of the region at index 6 that does not intersect any geometry assigned to that region.\n",
      "Found a component of the region at index 6 that does not intersect any geometry assigned to that region.\n",
      "Found a component of the region at index 6 that does not intersect any geometry assigned to that region.\n",
      "Found a component of the region at index 6 that does not intersect any geometry assigned to that region.\n",
      "Found a component of the region at index 6 that does not intersect any geometry assigned to that region.\n",
      "Found a component of the region at index 6 that does not intersect any geometry assigned to that region.\n",
      "Found a component of the region at index 6 that does not intersect any geometry assigned to that region.\n",
      "Found a component of the region at index 6 that does not intersect any geometry assigned to that region.\n",
      "Found a component of the region at index 6 that does not intersect any geometry assigned to that region.\n",
      "Found a component of the region at index 6 that does not intersect any geometry assigned to that region.\n",
      "Found a component of the region at index 6 that does not intersect any geometry assigned to that region.\n",
      "Found a component of the region at index 6 that does not intersect any geometry assigned to that region.\n",
      "Found a component of the region at index 6 that does not intersect any geometry assigned to that region.\n",
      "Found a component of the region at index 6 that does not intersect any geometry assigned to that region.\n",
      "Found a component of the region at index 6 that does not intersect any geometry assigned to that region.\n",
      "Found a component of the region at index 6 that does not intersect any geometry assigned to that region.\n",
      "Found a component of the region at index 6 that does not intersect any geometry assigned to that region.\n",
      "Found a component of the region at index 6 that does not intersect any geometry assigned to that region.\n",
      "Found a component of the region at index 6 that does not intersect any geometry assigned to that region.\n"
     ]
    },
    {
     "name": "stderr",
     "output_type": "stream",
     "text": [
      "Gaps to simplify in region 6: 100%|██████████| 104/104 [00:00<00:00, 139.04it/s]\n"
     ]
    },
    {
     "name": "stdout",
     "output_type": "stream",
     "text": [
      "Found a component of the region at index 6 that does not intersect any geometry assigned to that region.\n",
      "Found a component of the region at index 6 that does not intersect any geometry assigned to that region.\n",
      "Found a component of the region at index 6 that does not intersect any geometry assigned to that region.\n",
      "Found a component of the region at index 6 that does not intersect any geometry assigned to that region.\n",
      "Found a component of the region at index 6 that does not intersect any geometry assigned to that region.\n",
      "Found a component of the region at index 6 that does not intersect any geometry assigned to that region.\n",
      "Found a component of the region at index 6 that does not intersect any geometry assigned to that region.\n",
      "Found a component of the region at index 6 that does not intersect any geometry assigned to that region.\n",
      "Found a component of the region at index 6 that does not intersect any geometry assigned to that region.\n",
      "Found a component of the region at index 6 that does not intersect any geometry assigned to that region.\n",
      "Found a component of the region at index 6 that does not intersect any geometry assigned to that region.\n",
      "Found a component of the region at index 6 that does not intersect any geometry assigned to that region.\n",
      "Found a component of the region at index 6 that does not intersect any geometry assigned to that region.\n",
      "Found a component of the region at index 6 that does not intersect any geometry assigned to that region.\n",
      "Found a component of the region at index 6 that does not intersect any geometry assigned to that region.\n",
      "Found a component of the region at index 6 that does not intersect any geometry assigned to that region.\n",
      "Found a component of the region at index 6 that does not intersect any geometry assigned to that region.\n"
     ]
    },
    {
     "name": "stderr",
     "output_type": "stream",
     "text": [
      "Gaps to fill: 0it [00:00, ?it/s]\n",
      "Gaps to simplify in region 7: 100%|██████████| 105/105 [00:49<00:00,  2.14it/s]\n",
      "Gaps to fill in region 7: 100%|██████████| 132/132 [00:05<00:00, 24.38it/s]\n",
      "Gaps to simplify in region 8: 100%|██████████| 1/1 [00:00<00:00, 65.81it/s]\n"
     ]
    },
    {
     "name": "stdout",
     "output_type": "stream",
     "text": [
      "Found a component of the region at index 8 that does not intersect any geometry assigned to that region.\n"
     ]
    },
    {
     "name": "stderr",
     "output_type": "stream",
     "text": [
      "Gaps to fill: 0it [00:00, ?it/s]\n"
     ]
    },
    {
     "name": "stdout",
     "output_type": "stream",
     "text": [
      "1 gaps in region 9 will remain unfilled, because they either are not simply connected or exceed the area threshold.\n"
     ]
    },
    {
     "name": "stderr",
     "output_type": "stream",
     "text": [
      "Gaps to simplify in region 9: 100%|██████████| 173/173 [00:16<00:00, 10.55it/s]\n",
      "Gaps to fill in region 9: 100%|██████████| 8/8 [00:00<00:00,  9.57it/s]\n",
      "Gaps to simplify in region 10:  40%|████      | 20/50 [00:00<00:00, 196.99it/s]"
     ]
    },
    {
     "name": "stdout",
     "output_type": "stream",
     "text": [
      "Found a component of the region at index 10 that does not intersect any geometry assigned to that region.\n",
      "Found a component of the region at index 10 that does not intersect any geometry assigned to that region.\n",
      "Found a component of the region at index 10 that does not intersect any geometry assigned to that region.\n",
      "Found a component of the region at index 10 that does not intersect any geometry assigned to that region.\n",
      "Found a component of the region at index 10 that does not intersect any geometry assigned to that region.\n",
      "Found a component of the region at index 10 that does not intersect any geometry assigned to that region.\n",
      "Found a component of the region at index 10 that does not intersect any geometry assigned to that region.\n",
      "Found a component of the region at index 10 that does not intersect any geometry assigned to that region.\n",
      "Found a component of the region at index 10 that does not intersect any geometry assigned to that region.\n",
      "Found a component of the region at index 10 that does not intersect any geometry assigned to that region.\n",
      "Found a component of the region at index 10 that does not intersect any geometry assigned to that region.\n",
      "Found a component of the region at index 10 that does not intersect any geometry assigned to that region.\n",
      "Found a component of the region at index 10 that does not intersect any geometry assigned to that region.\n",
      "Found a component of the region at index 10 that does not intersect any geometry assigned to that region.\n",
      "Found a component of the region at index 10 that does not intersect any geometry assigned to that region.\n",
      "Found a component of the region at index 10 that does not intersect any geometry assigned to that region.\n",
      "Found a component of the region at index 10 that does not intersect any geometry assigned to that region.\n",
      "Found a component of the region at index 10 that does not intersect any geometry assigned to that region.\n",
      "Found a component of the region at index 10 that does not intersect any geometry assigned to that region.\n",
      "Found a component of the region at index 10 that does not intersect any geometry assigned to that region.\n",
      "Found a component of the region at index 10 that does not intersect any geometry assigned to that region.\n",
      "Found a component of the region at index 10 that does not intersect any geometry assigned to that region.\n",
      "Found a component of the region at index 10 that does not intersect any geometry assigned to that region.\n",
      "Found a component of the region at index 10 that does not intersect any geometry assigned to that region.\n",
      "Found a component of the region at index 10 that does not intersect any geometry assigned to that region.\n",
      "Found a component of the region at index 10 that does not intersect any geometry assigned to that region.\n",
      "Found a component of the region at index 10 that does not intersect any geometry assigned to that region.\n",
      "Found a component of the region at index 10 that does not intersect any geometry assigned to that region.\n",
      "Found a component of the region at index 10 that does not intersect any geometry assigned to that region.\n",
      "Found a component of the region at index 10 that does not intersect any geometry assigned to that region.\n",
      "Found a component of the region at index 10 that does not intersect any geometry assigned to that region.\n",
      "Found a component of the region at index 10 that does not intersect any geometry assigned to that region.\n",
      "Found a component of the region at index 10 that does not intersect any geometry assigned to that region.\n",
      "Found a component of the region at index 10 that does not intersect any geometry assigned to that region.\n",
      "Found a component of the region at index 10 that does not intersect any geometry assigned to that region.\n",
      "Found a component of the region at index 10 that does not intersect any geometry assigned to that region.\n",
      "Found a component of the region at index 10 that does not intersect any geometry assigned to that region.\n"
     ]
    },
    {
     "name": "stderr",
     "output_type": "stream",
     "text": [
      "Gaps to simplify in region 10: 100%|██████████| 50/50 [00:00<00:00, 166.08it/s]\n"
     ]
    },
    {
     "name": "stdout",
     "output_type": "stream",
     "text": [
      "Found a component of the region at index 10 that does not intersect any geometry assigned to that region.\n",
      "Found a component of the region at index 10 that does not intersect any geometry assigned to that region.\n",
      "Found a component of the region at index 10 that does not intersect any geometry assigned to that region.\n",
      "Found a component of the region at index 10 that does not intersect any geometry assigned to that region.\n",
      "Found a component of the region at index 10 that does not intersect any geometry assigned to that region.\n",
      "Found a component of the region at index 10 that does not intersect any geometry assigned to that region.\n",
      "Found a component of the region at index 10 that does not intersect any geometry assigned to that region.\n",
      "Found a component of the region at index 10 that does not intersect any geometry assigned to that region.\n",
      "Found a component of the region at index 10 that does not intersect any geometry assigned to that region.\n",
      "Found a component of the region at index 10 that does not intersect any geometry assigned to that region.\n",
      "Found a component of the region at index 10 that does not intersect any geometry assigned to that region.\n",
      "Found a component of the region at index 10 that does not intersect any geometry assigned to that region.\n",
      "Found a component of the region at index 10 that does not intersect any geometry assigned to that region.\n"
     ]
    },
    {
     "name": "stderr",
     "output_type": "stream",
     "text": [
      "Gaps to fill: 0it [00:00, ?it/s]\n"
     ]
    },
    {
     "name": "stdout",
     "output_type": "stream",
     "text": [
      "3 gaps in region 11 will remain unfilled, because they either are not simply connected or exceed the area threshold.\n"
     ]
    },
    {
     "name": "stderr",
     "output_type": "stream",
     "text": [
      "Gaps to simplify in region 11: 70it [00:02, 31.41it/s]                        \n",
      "Gaps to fill in region 11: 100%|██████████| 18/18 [00:01<00:00, 14.51it/s]\n"
     ]
    },
    {
     "name": "stdout",
     "output_type": "stream",
     "text": [
      "1 gaps in region 12 will remain unfilled, because they either are not simply connected or exceed the area threshold.\n"
     ]
    },
    {
     "name": "stderr",
     "output_type": "stream",
     "text": [
      "Gaps to simplify in region 12: 100%|██████████| 43/43 [00:01<00:00, 37.78it/s]\n",
      "Gaps to fill in region 12: 100%|██████████| 1/1 [00:00<00:00, 14.22it/s]\n"
     ]
    },
    {
     "name": "stdout",
     "output_type": "stream",
     "text": [
      "2 gaps in region 13 will remain unfilled, because they either are not simply connected or exceed the area threshold.\n"
     ]
    },
    {
     "name": "stderr",
     "output_type": "stream",
     "text": [
      "Gaps to simplify in region 13:   3%|▎         | 2/62 [00:00<00:03, 18.26it/s]"
     ]
    },
    {
     "name": "stdout",
     "output_type": "stream",
     "text": [
      "Found a component of the region at index"
     ]
    },
    {
     "name": "stderr",
     "output_type": "stream",
     "text": [
      "Gaps to simplify in region 13:  15%|█▍        | 9/62 [00:00<00:01, 37.89it/s]"
     ]
    },
    {
     "name": "stdout",
     "output_type": "stream",
     "text": [
      " 13 that does not intersect any geometry assigned to that region.\n"
     ]
    },
    {
     "name": "stderr",
     "output_type": "stream",
     "text": [
      "Gaps to simplify in region 13: 100%|██████████| 62/62 [00:03<00:00, 16.62it/s]\n",
      "Gaps to fill in region 13: 100%|██████████| 6/6 [00:00<00:00,  6.08it/s]\n",
      "Gaps to simplify in region 14: 100%|██████████| 3/3 [00:00<00:00, 108.85it/s]\n"
     ]
    },
    {
     "name": "stdout",
     "output_type": "stream",
     "text": [
      "Found a component of the region at index 14 that does not intersect any geometry assigned to that region.\n",
      "Found a component of the region at index 14 that does not intersect any geometry assigned to that region.\n",
      "Found a component of the region at index 14 that does not intersect any geometry assigned to that region.\n"
     ]
    },
    {
     "name": "stderr",
     "output_type": "stream",
     "text": [
      "Gaps to fill: 0it [00:00, ?it/s]\n",
      "Gaps to simplify in region 15: 100%|██████████| 7/7 [00:00<00:00, 86.99it/s]\n"
     ]
    },
    {
     "name": "stdout",
     "output_type": "stream",
     "text": [
      "Found a component of the region at index 15 that does not intersect any geometry assigned to that region.\n",
      "Found a component of the region at index 15 that does not intersect any geometry assigned to that region.\n",
      "Found a component of the region at index 15 that does not intersect any geometry assigned to that region.\n",
      "Found a component of the region at index 15 that does not intersect any geometry assigned to that region.\n",
      "Found a component of the region at index 15 that does not intersect any geometry assigned to that region.\n",
      "Found a component of the region at index 15 that does not intersect any geometry assigned to that region.\n",
      "Found a component of the region at index 15 that does not intersect any geometry assigned to that region.\n"
     ]
    },
    {
     "name": "stderr",
     "output_type": "stream",
     "text": [
      "Gaps to fill: 0it [00:00, ?it/s]\n",
      "Gaps to simplify in region 16:  43%|████▎     | 18/42 [00:09<00:09,  2.46it/s]"
     ]
    },
    {
     "name": "stdout",
     "output_type": "stream",
     "text": [
      "Found a component of the region at index 16 that does not intersect any geometry assigned to that region.\n"
     ]
    },
    {
     "name": "stderr",
     "output_type": "stream",
     "text": [
      "Gaps to simplify in region 16: 46it [00:29,  1.56it/s]                        \n",
      "Gaps to fill in region 16: 100%|██████████| 42/42 [00:03<00:00, 12.51it/s]   \n",
      "Gaps to simplify in region 17: 100%|██████████| 2/2 [00:00<00:00, 67.42it/s]\n"
     ]
    },
    {
     "name": "stdout",
     "output_type": "stream",
     "text": [
      "Found a component of the region at index 17 that does not intersect any geometry assigned to that region.\n",
      "Found a component of the region at index 17 that does not intersect any geometry assigned to that region.\n"
     ]
    },
    {
     "name": "stderr",
     "output_type": "stream",
     "text": [
      "Gaps to fill: 0it [00:00, ?it/s]\n",
      "Gaps to simplify in region 18: 100%|██████████| 97/97 [00:48<00:00,  2.01it/s]\n",
      "Gaps to fill in region 18: 100%|██████████| 86/86 [00:03<00:00, 24.71it/s]\n",
      "Gaps to simplify in region 19: 100%|██████████| 9/9 [00:00<00:00, 172.97it/s]\n"
     ]
    },
    {
     "name": "stdout",
     "output_type": "stream",
     "text": [
      "Found a component of the region at index 19 that does not intersect any geometry assigned to that region.\n",
      "Found a component of the region at index 19 that does not intersect any geometry assigned to that region.\n",
      "Found a component of the region at index 19 that does not intersect any geometry assigned to that region.\n",
      "Found a component of the region at index 19 that does not intersect any geometry assigned to that region.\n",
      "Found a component of the region at index 19 that does not intersect any geometry assigned to that region.\n",
      "Found a component of the region at index 19 that does not intersect any geometry assigned to that region.\n",
      "Found a component of the region at index 19 that does not intersect any geometry assigned to that region.\n",
      "Found a component of the region at index 19 that does not intersect any geometry assigned to that region.\n",
      "Found a component of the region at index 19 that does not intersect any geometry assigned to that region.\n"
     ]
    },
    {
     "name": "stderr",
     "output_type": "stream",
     "text": [
      "Gaps to fill: 0it [00:00, ?it/s]\n"
     ]
    },
    {
     "name": "stdout",
     "output_type": "stream",
     "text": [
      "2 gaps in region 20 will remain unfilled, because they either are not simply connected or exceed the area threshold.\n"
     ]
    },
    {
     "name": "stderr",
     "output_type": "stream",
     "text": [
      "Gaps to simplify in region 20:   0%|          | 0/30 [00:00<?, ?it/s]"
     ]
    },
    {
     "name": "stdout",
     "output_type": "stream",
     "text": [
      "Found a component of the region at index 20 that does not intersect any geometry assigned to that region.\n",
      "Found a component of the region at index 20 that does not intersect any geometry assigned to that region.\n",
      "Found a component of the region at index 20 that does not intersect any geometry assigned to that region.\n",
      "Found a component of the region at index 20 that does not intersect any geometry assigned to that region.\n",
      "Found a component of the region at index 20 that does not intersect any geometry assigned to that region.\n",
      "Found a component of the region at index 20 that does not intersect any geometry assigned to that region.\n"
     ]
    },
    {
     "name": "stderr",
     "output_type": "stream",
     "text": [
      "Gaps to simplify in region 20: 100%|██████████| 30/30 [00:01<00:00, 15.23it/s]\n",
      "Gaps to fill in region 20: 100%|██████████| 2/2 [00:00<00:00,  9.16it/s]\n",
      "Gaps to simplify in region 21: 100%|██████████| 206/206 [00:44<00:00,  4.67it/s]\n",
      "Gaps to fill in region 21: 100%|██████████| 39/39 [00:01<00:00, 20.73it/s]\n",
      "Gaps to simplify in region 22: 100%|██████████| 1/1 [00:00<00:00, 53.77it/s]\n"
     ]
    },
    {
     "name": "stdout",
     "output_type": "stream",
     "text": [
      "Found a component of the region at index 22 that does not intersect any geometry assigned to that region.\n"
     ]
    },
    {
     "name": "stderr",
     "output_type": "stream",
     "text": [
      "Gaps to fill: 0it [00:00, ?it/s]\n",
      "Gaps to simplify in region 23: 100%|██████████| 242/242 [00:29<00:00,  8.29it/s]\n",
      "Gaps to fill in region 23: 100%|██████████| 85/85 [00:04<00:00, 17.73it/s]\n",
      "Gaps to simplify in region 24: 100%|██████████| 7/7 [00:00<00:00, 112.06it/s]\n"
     ]
    },
    {
     "name": "stdout",
     "output_type": "stream",
     "text": [
      "Found a component of the region at index 24 that does not intersect any geometry assigned to that region.\n",
      "Found a component of the region at index 24 that does not intersect any geometry assigned to that region.\n",
      "Found a component of the region at index 24 that does not intersect any geometry assigned to that region.\n",
      "Found a component of the region at index 24 that does not intersect any geometry assigned to that region.\n",
      "Found a component of the region at index 24 that does not intersect any geometry assigned to that region.\n",
      "Found a component of the region at index 24 that does not intersect any geometry assigned to that region.\n",
      "Found a component of the region at index 24 that does not intersect any geometry assigned to that region.\n"
     ]
    },
    {
     "name": "stderr",
     "output_type": "stream",
     "text": [
      "Gaps to fill: 0it [00:00, ?it/s]\n",
      "Gaps to simplify in region 25: 100%|██████████| 4/4 [00:00<00:00, 76.12it/s]\n"
     ]
    },
    {
     "name": "stdout",
     "output_type": "stream",
     "text": [
      "Found a component of the region at index 25 that does not intersect any geometry assigned to that region.\n",
      "Found a component of the region at index 25 that does not intersect any geometry assigned to that region.\n",
      "Found a component of the region at index 25 that does not intersect any geometry assigned to that region.\n",
      "Found a component of the region at index 25 that does not intersect any geometry assigned to that region.\n"
     ]
    },
    {
     "name": "stderr",
     "output_type": "stream",
     "text": [
      "Gaps to fill: 0it [00:00, ?it/s]\n"
     ]
    },
    {
     "name": "stdout",
     "output_type": "stream",
     "text": [
      "1 gaps in region 26 will remain unfilled, because they either are not simply connected or exceed the area threshold.\n"
     ]
    },
    {
     "name": "stderr",
     "output_type": "stream",
     "text": [
      "Gaps to simplify in region 26: 100%|██████████| 92/92 [01:43<00:00,  1.12s/it]\n",
      "Gaps to fill in region 26: 100%|██████████| 37/37 [00:01<00:00, 30.48it/s]\n",
      "Gaps to simplify in region 27: 100%|██████████| 12/12 [00:00<00:00, 43.71it/s]\n",
      "Gaps to fill: 0it [00:00, ?it/s]\n"
     ]
    },
    {
     "name": "stdout",
     "output_type": "stream",
     "text": [
      "1 gaps in region 28 will remain unfilled, because they either are not simply connected or exceed the area threshold.\n"
     ]
    },
    {
     "name": "stderr",
     "output_type": "stream",
     "text": [
      "Gaps to simplify in region 28: 100%|██████████| 4/4 [00:00<00:00, 125.26it/s]\n"
     ]
    },
    {
     "name": "stdout",
     "output_type": "stream",
     "text": [
      "Found a component of the region at index 28 that does not intersect any geometry assigned to that region.\n",
      "Found a component of the region at index 28 that does not intersect any geometry assigned to that region.\n",
      "Found a component of the region at index 28 that does not intersect any geometry assigned to that region.\n",
      "Found a component of the region at index 28 that does not intersect any geometry assigned to that region.\n"
     ]
    },
    {
     "name": "stderr",
     "output_type": "stream",
     "text": [
      "Gaps to fill: 0it [00:00, ?it/s]\n",
      "Gaps to simplify in region 29: 100%|██████████| 4/4 [00:00<00:00, 99.84it/s]\n"
     ]
    },
    {
     "name": "stdout",
     "output_type": "stream",
     "text": [
      "Found a component of the region at index 29 that does not intersect any geometry assigned to that region.\n",
      "Found a component of the region at index 29 that does not intersect any geometry assigned to that region.\n",
      "Found a component of the region at index 29 that does not intersect any geometry assigned to that region.\n",
      "Found a component of the region at index 29 that does not intersect any geometry assigned to that region.\n"
     ]
    },
    {
     "name": "stderr",
     "output_type": "stream",
     "text": [
      "Gaps to fill: 0it [00:00, ?it/s]\n"
     ]
    },
    {
     "name": "stdout",
     "output_type": "stream",
     "text": [
      "1 gaps in region 30 will remain unfilled, because they either are not simply connected or exceed the area threshold.\n"
     ]
    },
    {
     "name": "stderr",
     "output_type": "stream",
     "text": [
      "Gaps to simplify in region 30: 100%|██████████| 427/427 [00:18<00:00, 22.68it/s]\n",
      "Gaps to fill in region 30: 100%|██████████| 23/23 [00:01<00:00, 13.36it/s]\n",
      "Gaps to simplify in region 31:  25%|██▌       | 29/115 [00:00<00:00, 143.72it/s]"
     ]
    },
    {
     "name": "stdout",
     "output_type": "stream",
     "text": [
      "Found a component of the region at index 31 that does not intersect any geometry assigned to that region.\n",
      "Found a component of the region at index 31 that does not intersect any geometry assigned to that region.\n",
      "Found a component of the region at index 31 that does not intersect any geometry assigned to that region.\n",
      "Found a component of the region at index 31 that does not intersect any geometry assigned to that region.\n",
      "Found a component of the region at index 31 that does not intersect any geometry assigned to that region.\n",
      "Found a component of the region at index 31 that does not intersect any geometry assigned to that region.\n",
      "Found a component of the region at index 31 that does not intersect any geometry assigned to that region.\n",
      "Found a component of the region at index 31 that does not intersect any geometry assigned to that region.\n",
      "Found a component of the region at index 31 that does not intersect any geometry assigned to that region.\n",
      "Found a component of the region at index 31 that does not intersect any geometry assigned to that region.\n",
      "Found a component of the region at index 31 that does not intersect any geometry assigned to that region.\n",
      "Found a component of the region at index 31 that does not intersect any geometry assigned to that region.\n",
      "Found a component of the region at index 31 that does not intersect any geometry assigned to that region.\n",
      "Found a component of the region at index 31 that does not intersect any geometry assigned to that region.\n",
      "Found a component of the region at index 31 that does not intersect any geometry assigned to that region.\n",
      "Found a component of the region at index 31 that does not intersect any geometry assigned to that region.\n",
      "Found a component of the region at index 31 that does not intersect any geometry assigned to that region.\n",
      "Found a component of the region at index 31 that does not intersect any geometry assigned to that region.\n",
      "Found a component of the region at index 31 that does not intersect any geometry assigned to that region.\n",
      "Found a component of the region at index 31 that does not intersect any geometry assigned to that region.\n",
      "Found a component of the region at index 31 that does not intersect any geometry assigned to that region.\n",
      "Found a component of the region at index 31 that does not intersect any geometry assigned to that region.\n",
      "Found a component of the region at index 31 that does not intersect any geometry assigned to that region.\n",
      "Found a component of the region at index 31 that does not intersect any geometry assigned to that region.\n",
      "Found a component of the region at index 31 that does not intersect any geometry assigned to that region.\n",
      "Found a component of the region at index 31 that does not intersect any geometry assigned to that region.\n",
      "Found a component of the region at index 31 that does not intersect any geometry assigned to that region.\n",
      "Found a component of the region at index 31 that does not intersect any geometry assigned to that region.\n",
      "Found a component of the region at index 31 that does not intersect any geometry assigned to that region.\n"
     ]
    },
    {
     "name": "stderr",
     "output_type": "stream",
     "text": [
      "Gaps to simplify in region 31:  38%|███▊      | 44/115 [00:00<00:00, 139.32it/s]"
     ]
    },
    {
     "name": "stdout",
     "output_type": "stream",
     "text": [
      "Found a component of the region at index 31 that does not intersect any geometry assigned to that region.\n",
      "Found a component of the region at index 31 that does not intersect any geometry assigned to that region.\n",
      "Found a component of the region at index 31 that does not intersect any geometry assigned to that region.\n",
      "Found a component of the region at index 31 that does not intersect any geometry assigned to that region.\n",
      "Found a component of the region at index 31 that does not intersect any geometry assigned to that region.\n",
      "Found a component of the region at index 31 that does not intersect any geometry assigned to that region.\n",
      "Found a component of the region at index 31 that does not intersect any geometry assigned to that region.\n",
      "Found a component of the region at index 31 that does not intersect any geometry assigned to that region.\n",
      "Found a component of the region at index 31 that does not intersect any geometry assigned to that region.\n",
      "Found a component of the region at index 31 that does not intersect any geometry assigned to that region.\n",
      "Found a component of the region at index 31 that does not intersect any geometry assigned to that region.\n",
      "Found a component of the region at index 31 that does not intersect any geometry assigned to that region.\n",
      "Found a component of the region at index 31 that does not intersect any geometry assigned to that region.\n",
      "Found a component of the region at index 31 that does not intersect any geometry assigned to that region.\n",
      "Found a component of the region at index 31 that does not intersect any geometry assigned to that region.\n",
      "Found a component of the region at index 31 that does not intersect any geometry assigned to that region.\n",
      "Found a component of the region at index 31 that does not intersect any geometry assigned to that region.\n",
      "Found a component of the region at index 31 that does not intersect any geometry assigned to that region.\n",
      "Found a component of the region at index 31 that does not intersect any geometry assigned to that region.\n",
      "Found a component of the region at index 31 that does not intersect any geometry assigned to that region.\n",
      "Found a component of the region at index 31 that does not intersect any geometry assigned to that region.\n",
      "Found a component of the region at index 31 that does not intersect any geometry assigned to that region.\n",
      "Found a component of the region at index 31 that does not intersect any geometry assigned to that region.\n",
      "Found a component of the region at index 31 that does not intersect any geometry assigned to that region.\n",
      "Found a component of the region at index 31 that does not intersect any geometry assigned to that region.\n",
      "Found a component of the region at index 31 that does not intersect any geometry assigned to that region.\n"
     ]
    },
    {
     "name": "stderr",
     "output_type": "stream",
     "text": [
      "Gaps to simplify in region 31:  62%|██████▏   | 71/115 [00:00<00:00, 112.59it/s]"
     ]
    },
    {
     "name": "stdout",
     "output_type": "stream",
     "text": [
      "Found a component of the region at index 31 that does not intersect any geometry assigned to that region.\n",
      "Found a component of the region at index 31 that does not intersect any geometry assigned to that region.\n",
      "Found a component of the region at index 31 that does not intersect any geometry assigned to that region.\n",
      "Found a component of the region at index 31 that does not intersect any geometry assigned to that region.\n",
      "Found a component of the region at index 31 that does not intersect any geometry assigned to that region.\n",
      "Found a component of the region at index 31 that does not intersect any geometry assigned to that region.\n",
      "Found a component of the region at index 31 that does not intersect any geometry assigned to that region.\n",
      "Found a component of the region at index 31 that does not intersect any geometry assigned to that region.\n",
      "Found a component of the region at index 31 that does not intersect any geometry assigned to that region.\n",
      "Found a component of the region at index 31 that does not intersect any geometry assigned to that region.\n",
      "Found a component of the region at index 31 that does not intersect any geometry assigned to that region.\n",
      "Found a component of the region at index 31 that does not intersect any geometry assigned to that region.\n",
      "Found a component of the region at index 31 that does not intersect any geometry assigned to that region.\n",
      "Found a component of the region at index 31 that does not intersect any geometry assigned to that region.\n",
      "Found a component of the region at index 31 that does not intersect any geometry assigned to that region.\n",
      "Found a component of the region at index 31 that does not intersect any geometry assigned to that region.\n",
      "Found a component of the region at index 31 that does not intersect any geometry assigned to that region.\n",
      "Found a component of the region at index 31 that does not intersect any geometry assigned to that region.\n",
      "Found a component of the region at index 31 that does not intersect any geometry assigned to that region.\n",
      "Found a component of the region at index 31 that does not intersect any geometry assigned to that region.\n",
      "Found a component of the region at index 31 that does not intersect any geometry assigned to that region.\n",
      "Found a component of the region at index 31 that does not intersect any geometry assigned to that region.\n",
      "Found a component of the region at index 31 that does not intersect any geometry assigned to that region.\n"
     ]
    },
    {
     "name": "stderr",
     "output_type": "stream",
     "text": [
      "Gaps to simplify in region 31:  72%|███████▏  | 83/115 [00:00<00:00, 102.09it/s]"
     ]
    },
    {
     "name": "stdout",
     "output_type": "stream",
     "text": [
      "Found a component of the region at index 31 that does not intersect any geometry assigned to that region.\n",
      "Found a component of the region at index 31 that does not intersect any geometry assigned to that region.\n",
      "Found a component of the region at index 31 that does not intersect any geometry assigned to that region.\n",
      "Found a component of the region at index 31 that does not intersect any geometry assigned to that region.\n",
      "Found a component of the region at index 31 that does not intersect any geometry assigned to that region.\n",
      "Found a component of the region at index 31 that does not intersect any geometry assigned to that region.\n",
      "Found a component of the region at index 31 that does not intersect any geometry assigned to that region.\n",
      "Found a component of the region at index 31 that does not intersect any geometry assigned to that region.\n",
      "Found a component of the region at index 31 that does not intersect any geometry assigned to that region.\n",
      "Found a component of the region at index 31 that does not intersect any geometry assigned to that region.\n",
      "Found a component of the region at index 31 that does not intersect any geometry assigned to that region.\n",
      "Found a component of the region at index 31 that does not intersect any geometry assigned to that region.\n",
      "Found a component of the region at index 31 that does not intersect any geometry assigned to that region.\n",
      "Found a component of the region at index 31 that does not intersect any geometry assigned to that region.\n",
      "Found a component of the region at index 31 that does not intersect any geometry assigned to that region.\n",
      "Found a component of the region at index 31 that does not intersect any geometry assigned to that region.\n",
      "Found a component of the region at index 31 that does not intersect any geometry assigned to that region.\n",
      "Found a component of the region at index 31 that does not intersect any geometry assigned to that region.\n",
      "Found a component of the region at index 31 that does not intersect any geometry assigned to that region.\n"
     ]
    },
    {
     "name": "stderr",
     "output_type": "stream",
     "text": [
      "Gaps to simplify in region 31: 100%|██████████| 115/115 [00:01<00:00, 114.40it/s]\n"
     ]
    },
    {
     "name": "stdout",
     "output_type": "stream",
     "text": [
      "Found a component of the region at index 31 that does not intersect any geometry assigned to that region.\n",
      "Found a component of the region at index 31 that does not intersect any geometry assigned to that region.\n",
      "Found a component of the region at index 31 that does not intersect any geometry assigned to that region.\n",
      "Found a component of the region at index 31 that does not intersect any geometry assigned to that region.\n",
      "Found a component of the region at index 31 that does not intersect any geometry assigned to that region.\n",
      "Found a component of the region at index 31 that does not intersect any geometry assigned to that region.\n",
      "Found a component of the region at index 31 that does not intersect any geometry assigned to that region.\n",
      "Found a component of the region at index 31 that does not intersect any geometry assigned to that region.\n",
      "Found a component of the region at index 31 that does not intersect any geometry assigned to that region.\n",
      "Found a component of the region at index 31 that does not intersect any geometry assigned to that region.\n",
      "Found a component of the region at index 31 that does not intersect any geometry assigned to that region.\n",
      "Found a component of the region at index 31 that does not intersect any geometry assigned to that region.\n",
      "Found a component of the region at index 31 that does not intersect any geometry assigned to that region.\n",
      "Found a component of the region at index 31 that does not intersect any geometry assigned to that region.\n",
      "Found a component of the region at index 31 that does not intersect any geometry assigned to that region.\n",
      "Found a component of the region at index 31 that does not intersect any geometry assigned to that region.\n",
      "Found a component of the region at index 31 that does not intersect any geometry assigned to that region.\n",
      "Found a component of the region at index 31 that does not intersect any geometry assigned to that region.\n"
     ]
    },
    {
     "name": "stderr",
     "output_type": "stream",
     "text": [
      "Gaps to fill: 0it [00:00, ?it/s]\n"
     ]
    },
    {
     "name": "stdout",
     "output_type": "stream",
     "text": [
      "1 gaps in region 32 will remain unfilled, because they either are not simply connected or exceed the area threshold.\n"
     ]
    },
    {
     "name": "stderr",
     "output_type": "stream",
     "text": [
      "Gaps to simplify in region 32: 100%|██████████| 96/96 [00:06<00:00, 14.70it/s]\n",
      "Gaps to fill in region 32: 100%|██████████| 34/34 [00:01<00:00, 32.24it/s]\n",
      "Gaps to simplify in region 33: 100%|██████████| 1/1 [00:00<00:00, 56.71it/s]\n"
     ]
    },
    {
     "name": "stdout",
     "output_type": "stream",
     "text": [
      "Found a component of the region at index 33 that does not intersect any geometry assigned to that region.\n"
     ]
    },
    {
     "name": "stderr",
     "output_type": "stream",
     "text": [
      "Gaps to fill: 0it [00:00, ?it/s]\n",
      "Gaps to simplify in region 34: 100%|██████████| 7/7 [00:00<00:00, 123.94it/s]\n"
     ]
    },
    {
     "name": "stdout",
     "output_type": "stream",
     "text": [
      "Found a component of the region at index 34 that does not intersect any geometry assigned to that region.\n",
      "Found a component of the region at index 34 that does not intersect any geometry assigned to that region.\n",
      "Found a component of the region at index 34 that does not intersect any geometry assigned to that region.\n",
      "Found a component of the region at index 34 that does not intersect any geometry assigned to that region.\n",
      "Found a component of the region at index 34 that does not intersect any geometry assigned to that region.\n",
      "Found a component of the region at index 34 that does not intersect any geometry assigned to that region.\n",
      "Found a component of the region at index 34 that does not intersect any geometry assigned to that region.\n"
     ]
    },
    {
     "name": "stderr",
     "output_type": "stream",
     "text": [
      "Gaps to fill: 0it [00:00, ?it/s]\n",
      "Gaps to simplify in region 35: 100%|██████████| 9/9 [00:00<00:00, 114.29it/s]\n"
     ]
    },
    {
     "name": "stdout",
     "output_type": "stream",
     "text": [
      "Found a component of the region at index 35 that does not intersect any geometry assigned to that region.\n",
      "Found a component of the region at index 35 that does not intersect any geometry assigned to that region.\n",
      "Found a component of the region at index 35 that does not intersect any geometry assigned to that region.\n",
      "Found a component of the region at index 35 that does not intersect any geometry assigned to that region.\n",
      "Found a component of the region at index 35 that does not intersect any geometry assigned to that region.\n",
      "Found a component of the region at index 35 that does not intersect any geometry assigned to that region.\n",
      "Found a component of the region at index 35 that does not intersect any geometry assigned to that region.\n",
      "Found a component of the region at index 35 that does not intersect any geometry assigned to that region.\n",
      "Found a component of the region at index 35 that does not intersect any geometry assigned to that region.\n"
     ]
    },
    {
     "name": "stderr",
     "output_type": "stream",
     "text": [
      "Gaps to fill: 0it [00:00, ?it/s]\n",
      "Gaps to simplify in region 36:   0%|          | 0/2 [00:00<?, ?it/s]"
     ]
    },
    {
     "name": "stdout",
     "output_type": "stream",
     "text": [
      "Found a component of the region at index"
     ]
    },
    {
     "name": "stderr",
     "output_type": "stream",
     "text": [
      "Gaps to simplify in region 36: 100%|██████████| 2/2 [00:00<00:00, 68.40it/s]\n"
     ]
    },
    {
     "name": "stdout",
     "output_type": "stream",
     "text": [
      " 36 that does not intersect any geometry assigned to that region.\n",
      "Found a component of the region at index 36 that does not intersect any geometry assigned to that region.\n"
     ]
    },
    {
     "name": "stderr",
     "output_type": "stream",
     "text": [
      "Gaps to fill: 0it [00:00, ?it/s]\n"
     ]
    },
    {
     "name": "stdout",
     "output_type": "stream",
     "text": [
      "1 gaps in region 37 will remain unfilled, because they either are not simply connected or exceed the area threshold.\n"
     ]
    },
    {
     "name": "stderr",
     "output_type": "stream",
     "text": [
      "Gaps to simplify in region 37: 100%|██████████| 189/189 [00:19<00:00,  9.83it/s]\n"
     ]
    },
    {
     "name": "stdout",
     "output_type": "stream",
     "text": [
      "Found a component of the region at index 37 that does not intersect any geometry assigned to that region.\n",
      "Found a component of the region at index 37 that does not intersect any geometry assigned to that region.\n",
      "Found a component of the region at index 37 that does not intersect any geometry assigned to that region.\n",
      "Found a component of the region at index 37 that does not intersect any geometry assigned to that region.\n",
      "Found a component of the region at index 37 that does not intersect any geometry assigned to that region.\n",
      "Found a component of the region at index 37 that does not intersect any geometry assigned to that region.\n",
      "Found a component of the region at index 37 that does not intersect any geometry assigned to that region.\n",
      "Found a component of the region at index 37 that does not intersect any geometry assigned to that region.\n",
      "Found a component of the region at index 37 that does not intersect any geometry assigned to that region.\n",
      "Found a component of the region at index 37 that does not intersect any geometry assigned to that region.\n",
      "Found a component of the region at index 37 that does not intersect any geometry assigned to that region.\n",
      "Found a component of the region at index 37 that does not intersect any geometry assigned to that region.\n"
     ]
    },
    {
     "name": "stderr",
     "output_type": "stream",
     "text": [
      "Gaps to fill in region 37: 100%|██████████| 1/1 [00:00<00:00,  4.33it/s]\n",
      "Gaps to simplify in region 38: 100%|██████████| 281/281 [01:43<00:00,  2.71it/s]\n",
      "Gaps to fill in region 38: 100%|██████████| 28/28 [00:08<00:00,  3.17it/s]\n",
      "Gaps to simplify in region 39: 100%|██████████| 8/8 [00:00<00:00, 132.34it/s]\n"
     ]
    },
    {
     "name": "stdout",
     "output_type": "stream",
     "text": [
      "Found a component of the region at index 39 that does not intersect any geometry assigned to that region.\n",
      "Found a component of the region at index 39 that does not intersect any geometry assigned to that region.\n",
      "Found a component of the region at index 39 that does not intersect any geometry assigned to that region.\n",
      "Found a component of the region at index 39 that does not intersect any geometry assigned to that region.\n",
      "Found a component of the region at index 39 that does not intersect any geometry assigned to that region.\n",
      "Found a component of the region at index 39 that does not intersect any geometry assigned to that region.\n",
      "Found a component of the region at index 39 that does not intersect any geometry assigned to that region.\n",
      "Found a component of the region at index 39 that does not intersect any geometry assigned to that region.\n"
     ]
    },
    {
     "name": "stderr",
     "output_type": "stream",
     "text": [
      "Gaps to fill: 0it [00:00, ?it/s]\n"
     ]
    },
    {
     "name": "stdout",
     "output_type": "stream",
     "text": [
      "3 gaps in region 40 will remain unfilled, because they either are not simply connected or exceed the area threshold.\n"
     ]
    },
    {
     "name": "stderr",
     "output_type": "stream",
     "text": [
      "Gaps to simplify in region 40: 100%|██████████| 94/94 [00:02<00:00, 33.72it/s]\n",
      "Gaps to fill in region 40: 100%|██████████| 9/9 [00:00<00:00, 19.08it/s]\n"
     ]
    },
    {
     "name": "stdout",
     "output_type": "stream",
     "text": [
      "6 gaps in region 41 will remain unfilled, because they either are not simply connected or exceed the area threshold.\n"
     ]
    },
    {
     "name": "stderr",
     "output_type": "stream",
     "text": [
      "Gaps to simplify in region 41: 100%|██████████| 52/52 [00:02<00:00, 21.18it/s]\n",
      "Gaps to fill in region 41: 100%|██████████| 18/18 [00:01<00:00, 16.20it/s]\n"
     ]
    },
    {
     "name": "stdout",
     "output_type": "stream",
     "text": [
      "3 gaps in region 42 will remain unfilled, because they either are not simply connected or exceed the area threshold.\n"
     ]
    },
    {
     "name": "stderr",
     "output_type": "stream",
     "text": [
      "Gaps to simplify in region 42: 100%|██████████| 72/72 [00:03<00:00, 19.98it/s]\n",
      "Gaps to fill in region 42: 100%|██████████| 5/5 [00:00<00:00,  5.01it/s]\n"
     ]
    },
    {
     "name": "stdout",
     "output_type": "stream",
     "text": [
      "1 gaps in region 43 will remain unfilled, because they either are not simply connected or exceed the area threshold.\n"
     ]
    },
    {
     "name": "stderr",
     "output_type": "stream",
     "text": [
      "Gaps to simplify in region 43:  91%|█████████ | 39/43 [00:03<00:00, 19.97it/s]"
     ]
    },
    {
     "name": "stdout",
     "output_type": "stream",
     "text": [
      "Found a component of the region at index 43 that does not intersect any geometry assigned to that region.\n",
      "Found a component of the region at index 43 that does not intersect any geometry assigned to that region.\n"
     ]
    },
    {
     "name": "stderr",
     "output_type": "stream",
     "text": [
      "Gaps to simplify in region 43: 100%|██████████| 43/43 [00:03<00:00, 11.66it/s]\n",
      "Gaps to fill in region 43: 100%|██████████| 26/26 [00:01<00:00, 20.52it/s]\n"
     ]
    },
    {
     "name": "stdout",
     "output_type": "stream",
     "text": [
      "3 gaps in region 44 will remain unfilled, because they either are not simply connected or exceed the area threshold.\n"
     ]
    },
    {
     "name": "stderr",
     "output_type": "stream",
     "text": [
      "Gaps to simplify in region 44:  22%|██▏       | 8/36 [00:00<00:00, 78.86it/s]"
     ]
    },
    {
     "name": "stdout",
     "output_type": "stream",
     "text": [
      "Found a component of the region at index 44 that does not intersect any geometry assigned to that region.\n"
     ]
    },
    {
     "name": "stderr",
     "output_type": "stream",
     "text": [
      "Gaps to simplify in region 44: 100%|██████████| 36/36 [00:00<00:00, 49.35it/s]\n",
      "Gaps to fill in region 44: 100%|██████████| 9/9 [00:00<00:00, 26.82it/s]\n"
     ]
    },
    {
     "name": "stdout",
     "output_type": "stream",
     "text": [
      "3 gaps in region 45 will remain unfilled, because they either are not simply connected or exceed the area threshold.\n"
     ]
    },
    {
     "name": "stderr",
     "output_type": "stream",
     "text": [
      "Gaps to simplify in region 45: 63it [00:08,  7.44it/s]                        \n",
      "Gaps to fill in region 45: 100%|██████████| 33/33 [00:01<00:00, 22.03it/s]\n"
     ]
    },
    {
     "name": "stdout",
     "output_type": "stream",
     "text": [
      "1 gaps in region 46 will remain unfilled, because they either are not simply connected or exceed the area threshold.\n"
     ]
    },
    {
     "name": "stderr",
     "output_type": "stream",
     "text": [
      "Gaps to simplify in region 46: 41it [00:07,  5.45it/s]                        \n",
      "Gaps to fill in region 46: 100%|██████████| 32/32 [00:01<00:00, 21.76it/s]\n",
      "Gaps to simplify in region 47: 100%|██████████| 131/131 [00:06<00:00, 21.66it/s]\n",
      "Gaps to fill in region 47: 100%|██████████| 32/32 [00:00<00:00, 36.63it/s]\n",
      "Gaps to simplify in region 48: 100%|██████████| 2/2 [00:00<00:00, 107.71it/s]\n"
     ]
    },
    {
     "name": "stdout",
     "output_type": "stream",
     "text": [
      "Found a component of the region at index 48 that does not intersect any geometry assigned to that region.\n",
      "Found a component of the region at index 48 that does not intersect any geometry assigned to that region.\n"
     ]
    },
    {
     "name": "stderr",
     "output_type": "stream",
     "text": [
      "Gaps to fill: 0it [00:00, ?it/s]\n",
      "Gaps to simplify in region 49: 100%|██████████| 2/2 [00:00<00:00, 89.54it/s]\n"
     ]
    },
    {
     "name": "stdout",
     "output_type": "stream",
     "text": [
      "Found a component of the region at index 49 that does not intersect any geometry assigned to that region.\n",
      "Found a component of the region at index 49 that does not intersect any geometry assigned to that region.\n"
     ]
    },
    {
     "name": "stderr",
     "output_type": "stream",
     "text": [
      "Gaps to fill: 0it [00:00, ?it/s]\n",
      "Gaps to simplify in region 50: 100%|██████████| 4/4 [00:00<00:00, 128.79it/s]\n"
     ]
    },
    {
     "name": "stdout",
     "output_type": "stream",
     "text": [
      "Found a component of the region at index 50 that does not intersect any geometry assigned to that region.\n",
      "Found a component of the region at index 50 that does not intersect any geometry assigned to that region.\n",
      "Found a component of the region at index 50 that does not intersect any geometry assigned to that region.\n",
      "Found a component of the region at index 50 that does not intersect any geometry assigned to that region.\n"
     ]
    },
    {
     "name": "stderr",
     "output_type": "stream",
     "text": [
      "Gaps to fill: 0it [00:00, ?it/s]\n",
      "Gaps to simplify in region 51: 100%|██████████| 85/85 [00:05<00:00, 15.79it/s]\n",
      "Gaps to fill in region 51: 100%|██████████| 12/12 [00:00<00:00, 18.74it/s]\n",
      "Gaps to simplify in region 52:  13%|█▎        | 38/289 [00:02<00:11, 21.80it/s]"
     ]
    },
    {
     "name": "stdout",
     "output_type": "stream",
     "text": [
      "Found a component of the region at index 52 that does not intersect any geometry assigned to that region.\n"
     ]
    },
    {
     "name": "stderr",
     "output_type": "stream",
     "text": [
      "Gaps to simplify in region 52: 100%|██████████| 289/289 [00:55<00:00,  5.24it/s]\n",
      "Gaps to fill in region 52: 100%|██████████| 24/24 [01:04<00:00,  2.70s/it]\n"
     ]
    },
    {
     "name": "stdout",
     "output_type": "stream",
     "text": [
      "1 gaps in region 53 will remain unfilled, because they either are not simply connected or exceed the area threshold.\n"
     ]
    },
    {
     "name": "stderr",
     "output_type": "stream",
     "text": [
      "Gaps to simplify in region 53: 100%|██████████| 27/27 [00:00<00:00, 44.27it/s]\n",
      "Gaps to fill in region 53: 100%|██████████| 1/1 [00:00<00:00, 21.62it/s]\n",
      "Gaps to simplify in region 54: 100%|██████████| 73/73 [00:04<00:00, 16.67it/s]\n"
     ]
    },
    {
     "name": "stdout",
     "output_type": "stream",
     "text": [
      "Found a component of the region at index 54 that does not intersect any geometry assigned to that region.\n",
      "Found a component of the region at index 54 that does not intersect any geometry assigned to that region.\n"
     ]
    },
    {
     "name": "stderr",
     "output_type": "stream",
     "text": [
      "Gaps to fill in region 54: 100%|██████████| 13/13 [00:01<00:00,  6.60it/s]\n"
     ]
    },
    {
     "name": "stdout",
     "output_type": "stream",
     "text": [
      "3 gaps in region 55 will remain unfilled, because they either are not simply connected or exceed the area threshold.\n"
     ]
    },
    {
     "name": "stderr",
     "output_type": "stream",
     "text": [
      "Gaps to simplify in region 55: 100%|██████████| 88/88 [00:03<00:00, 27.22it/s]\n",
      "Gaps to fill in region 55: 100%|██████████| 19/19 [00:02<00:00,  7.33it/s]\n"
     ]
    },
    {
     "name": "stdout",
     "output_type": "stream",
     "text": [
      "1 gaps in region 56 will remain unfilled, because they either are not simply connected or exceed the area threshold.\n"
     ]
    },
    {
     "name": "stderr",
     "output_type": "stream",
     "text": [
      "Gaps to simplify in region 56: 100%|██████████| 38/38 [00:01<00:00, 25.66it/s]\n",
      "Gaps to fill in region 56: 100%|██████████| 6/6 [00:00<00:00, 13.55it/s]\n",
      "Gaps to simplify in region 57: 100%|██████████| 1/1 [00:00<00:00, 142.79it/s]\n"
     ]
    },
    {
     "name": "stdout",
     "output_type": "stream",
     "text": [
      "Found a component of the region at index 57 that does not intersect any geometry assigned to that region.\n"
     ]
    },
    {
     "name": "stderr",
     "output_type": "stream",
     "text": [
      "Gaps to fill: 0it [00:00, ?it/s]\n"
     ]
    },
    {
     "name": "stdout",
     "output_type": "stream",
     "text": [
      "2 gaps in region 58 will remain unfilled, because they either are not simply connected or exceed the area threshold.\n"
     ]
    },
    {
     "name": "stderr",
     "output_type": "stream",
     "text": [
      "Gaps to simplify in region 58: 100%|██████████| 37/37 [00:01<00:00, 31.66it/s]\n",
      "Gaps to fill in region 58: 100%|██████████| 4/4 [00:00<00:00, 24.10it/s]\n"
     ]
    },
    {
     "name": "stdout",
     "output_type": "stream",
     "text": [
      "1 gaps in region 59 will remain unfilled, because they either are not simply connected or exceed the area threshold.\n"
     ]
    },
    {
     "name": "stderr",
     "output_type": "stream",
     "text": [
      "Gaps to simplify in region 59: 100%|██████████| 198/198 [00:48<00:00,  4.11it/s]\n",
      "Gaps to fill in region 59: 100%|██████████| 24/24 [00:07<00:00,  3.07it/s]   \n",
      "Gaps to simplify in region 60:  46%|████▌     | 12/26 [00:00<00:00, 39.45it/s]"
     ]
    },
    {
     "name": "stdout",
     "output_type": "stream",
     "text": [
      "Found a component of the region at index 60 that does not intersect any geometry assigned to that region.\n",
      "Found a component of the region at index 60 that does not intersect any geometry assigned to that region.\n",
      "Found a component of the region at index 60 that does not intersect any geometry assigned to that region.\n",
      "Found a component of the region at index 60 that does not intersect any geometry assigned to that region.\n",
      "Found a component of the region at index 60 that does not intersect any geometry assigned to that region.\n",
      "Found a component of the region at index 60 that does not intersect any geometry assigned to that region.\n"
     ]
    },
    {
     "name": "stderr",
     "output_type": "stream",
     "text": [
      "Gaps to simplify in region 60:  62%|██████▏   | 16/26 [00:00<00:00, 20.31it/s]"
     ]
    },
    {
     "name": "stdout",
     "output_type": "stream",
     "text": [
      "Found a component of the region at index 60 that does not intersect any geometry assigned to that region.\n",
      "Found a component of the region at index 60 that does not intersect any geometry assigned to that region.\n",
      "Found a component of the region at index 60 that does not intersect any geometry assigned to that region.\n"
     ]
    },
    {
     "name": "stderr",
     "output_type": "stream",
     "text": [
      "Gaps to simplify in region 60: 100%|██████████| 26/26 [00:01<00:00, 15.41it/s]\n"
     ]
    },
    {
     "name": "stdout",
     "output_type": "stream",
     "text": [
      "Found a component of the region at index 60 that does not intersect any geometry assigned to that region.\n",
      "Found a component of the region at index 60 that does not intersect any geometry assigned to that region.\n",
      "Found a component of the region at index 60 that does not intersect any geometry assigned to that region.\n",
      "Found a component of the region at index 60 that does not intersect any geometry assigned to that region.\n",
      "Found a component of the region at index 60 that does not intersect any geometry assigned to that region.\n"
     ]
    },
    {
     "name": "stderr",
     "output_type": "stream",
     "text": [
      "Gaps to fill: 0it [00:00, ?it/s]\n"
     ]
    },
    {
     "name": "stdout",
     "output_type": "stream",
     "text": [
      "2 gaps in region 61 will remain unfilled, because they either are not simply connected or exceed the area threshold.\n"
     ]
    },
    {
     "name": "stderr",
     "output_type": "stream",
     "text": [
      "Gaps to simplify in region 61: 100%|██████████| 64/64 [00:02<00:00, 22.82it/s]\n",
      "Gaps to fill in region 61: 100%|██████████| 21/21 [00:00<00:00, 61.53it/s]\n",
      "Gaps to simplify in region 62:  53%|█████▎    | 19/36 [00:00<00:00, 189.06it/s]"
     ]
    },
    {
     "name": "stdout",
     "output_type": "stream",
     "text": [
      "Found a component of the region at index 62 that does not intersect any geometry assigned to that region.\n",
      "Found a component of the region at index 62 that does not intersect any geometry assigned to that region.\n",
      "Found a component of the region at index 62 that does not intersect any geometry assigned to that region.\n",
      "Found a component of the region at index 62 that does not intersect any geometry assigned to that region.\n",
      "Found a component of the region at index 62 that does not intersect any geometry assigned to that region.\n",
      "Found a component of the region at index 62 that does not intersect any geometry assigned to that region.\n",
      "Found a component of the region at index 62 that does not intersect any geometry assigned to that region.\n",
      "Found a component of the region at index 62 that does not intersect any geometry assigned to that region.\n",
      "Found a component of the region at index 62 that does not intersect any geometry assigned to that region.\n",
      "Found a component of the region at index 62 that does not intersect any geometry assigned to that region.\n",
      "Found a component of the region at index 62 that does not intersect any geometry assigned to that region.\n",
      "Found a component of the region at index 62 that does not intersect any geometry assigned to that region.\n",
      "Found a component of the region at index 62 that does not intersect any geometry assigned to that region.\n",
      "Found a component of the region at index 62 that does not intersect any geometry assigned to that region.\n",
      "Found a component of the region at index 62 that does not intersect any geometry assigned to that region.\n",
      "Found a component of the region at index 62 that does not intersect any geometry assigned to that region.\n",
      "Found a component of the region at index 62 that does not intersect any geometry assigned to that region.\n",
      "Found a component of the region at index 62 that does not intersect any geometry assigned to that region.\n",
      "Found a component of the region at index 62 that does not intersect any geometry assigned to that region.\n",
      "Found a component of the region at index 62 that does not intersect any geometry assigned to that region.\n",
      "Found a component of the region at index 62 that does not intersect any geometry assigned to that region.\n",
      "Found a component of the region at index 62 that does not intersect any geometry assigned to that region.\n",
      "Found a component of the region at index 62 that does not intersect any geometry assigned to that region.\n",
      "Found a component of the region at index 62 that does not intersect any geometry assigned to that region.\n",
      "Found a component of the region at index 62 that does not intersect any geometry assigned to that region.\n",
      "Found a component of the region at index 62 that does not intersect any geometry assigned to that region.\n",
      "Found a component of the region at index 62 that does not intersect any geometry assigned to that region.\n",
      "Found a component of the region at index 62 that does not intersect any geometry assigned to that region.\n",
      "Found a component of the region at index 62 that does not intersect any geometry assigned to that region.\n",
      "Found a component of the region at index 62 that does not intersect any geometry assigned to that region.\n",
      "Found a component of the region at index 62 that does not intersect any geometry assigned to that region.\n",
      "Found a component of the region at index 62 that does not intersect any geometry assigned to that region.\n",
      "Found a component of the region at index 62 that does not intersect any geometry assigned to that region.\n",
      "Found a component of the region at index 62 that does not intersect any geometry assigned to that region.\n",
      "Found a component of the region at index 62 that does not intersect any geometry assigned to that region.\n",
      "Found a component of the region at index 62 that does not intersect any geometry assigned to that region.\n"
     ]
    },
    {
     "name": "stderr",
     "output_type": "stream",
     "text": [
      "Gaps to simplify in region 62: 100%|██████████| 36/36 [00:00<00:00, 187.27it/s]\n",
      "Gaps to fill: 0it [00:00, ?it/s]\n",
      "Gaps to simplify in region 63: 100%|██████████| 20/20 [00:00<00:00, 149.94it/s]\n"
     ]
    },
    {
     "name": "stdout",
     "output_type": "stream",
     "text": [
      "Found a component of the region at index 63 that does not intersect any geometry assigned to that region.\n",
      "Found a component of the region at index 63 that does not intersect any geometry assigned to that region.\n",
      "Found a component of the region at index 63 that does not intersect any geometry assigned to that region.\n",
      "Found a component of the region at index 63 that does not intersect any geometry assigned to that region.\n",
      "Found a component of the region at index 63 that does not intersect any geometry assigned to that region.\n",
      "Found a component of the region at index 63 that does not intersect any geometry assigned to that region.\n",
      "Found a component of the region at index 63 that does not intersect any geometry assigned to that region.\n",
      "Found a component of the region at index 63 that does not intersect any geometry assigned to that region.\n",
      "Found a component of the region at index 63 that does not intersect any geometry assigned to that region.\n",
      "Found a component of the region at index 63 that does not intersect any geometry assigned to that region.\n",
      "Found a component of the region at index 63 that does not intersect any geometry assigned to that region.\n",
      "Found a component of the region at index 63 that does not intersect any geometry assigned to that region.\n",
      "Found a component of the region at index 63 that does not intersect any geometry assigned to that region.\n",
      "Found a component of the region at index 63 that does not intersect any geometry assigned to that region.\n",
      "Found a component of the region at index 63 that does not intersect any geometry assigned to that region.\n",
      "Found a component of the region at index 63 that does not intersect any geometry assigned to that region.\n",
      "Found a component of the region at index 63 that does not intersect any geometry assigned to that region.\n",
      "Found a component of the region at index 63 that does not intersect any geometry assigned to that region.\n",
      "Found a component of the region at index 63 that does not intersect any geometry assigned to that region.\n",
      "Found a component of the region at index 63 that does not intersect any geometry assigned to that region.\n"
     ]
    },
    {
     "name": "stderr",
     "output_type": "stream",
     "text": [
      "Gaps to fill: 0it [00:00, ?it/s]\n",
      "Gaps to simplify in region 64: 398it [04:27,  1.49it/s]                           \n",
      "Gaps to fill in region 64: 100%|██████████| 59/59 [00:08<00:00,  7.29it/s]\n",
      "Gaps to simplify in region 65: 100%|██████████| 6/6 [00:00<00:00, 100.04it/s]\n"
     ]
    },
    {
     "name": "stdout",
     "output_type": "stream",
     "text": [
      "Found a component of the region at index 65 that does not intersect any geometry assigned to that region.\n",
      "Found a component of the region at index 65 that does not intersect any geometry assigned to that region.\n",
      "Found a component of the region at index 65 that does not intersect any geometry assigned to that region.\n",
      "Found a component of the region at index 65 that does not intersect any geometry assigned to that region.\n",
      "Found a component of the region at index 65 that does not intersect any geometry assigned to that region.\n",
      "Found a component of the region at index 65 that does not intersect any geometry assigned to that region.\n"
     ]
    },
    {
     "name": "stderr",
     "output_type": "stream",
     "text": [
      "Gaps to fill: 0it [00:00, ?it/s]\n",
      "Gaps to simplify in region 66: 100%|██████████| 17/17 [00:06<00:00,  2.75it/s]\n",
      "Gaps to fill in region 66: 100%|██████████| 19/19 [00:00<00:00, 56.84it/s]\n",
      "Gaps to simplify in region 67: 100%|██████████| 2/2 [00:00<00:00, 73.02it/s]\n"
     ]
    },
    {
     "name": "stdout",
     "output_type": "stream",
     "text": [
      "Found a component of the region at index 67 that does not intersect any geometry assigned to that region.\n",
      "Found a component of the region at index 67 that does not intersect any geometry assigned to that region.\n"
     ]
    },
    {
     "name": "stderr",
     "output_type": "stream",
     "text": [
      "Gaps to fill: 0it [00:00, ?it/s]\n",
      "Gaps to simplify in region 68: 100%|██████████| 2/2 [00:00<00:00, 125.23it/s]\n"
     ]
    },
    {
     "name": "stdout",
     "output_type": "stream",
     "text": [
      "Found a component of the region at index 68 that does not intersect any geometry assigned to that region.\n",
      "Found a component of the region at index 68 that does not intersect any geometry assigned to that region.\n"
     ]
    },
    {
     "name": "stderr",
     "output_type": "stream",
     "text": [
      "Gaps to fill: 0it [00:00, ?it/s]\n"
     ]
    },
    {
     "name": "stdout",
     "output_type": "stream",
     "text": [
      "1 gaps in region 69 will remain unfilled, because they either are not simply connected or exceed the area threshold.\n"
     ]
    },
    {
     "name": "stderr",
     "output_type": "stream",
     "text": [
      "Gaps to simplify in region 69: 100%|██████████| 238/238 [03:47<00:00,  1.05it/s]\n",
      "Gaps to fill in region 69: 100%|██████████| 7/7 [00:02<00:00,  3.28it/s]\n"
     ]
    },
    {
     "name": "stdout",
     "output_type": "stream",
     "text": [
      "1 gaps in region 70 will remain unfilled, because they either are not simply connected or exceed the area threshold.\n"
     ]
    },
    {
     "name": "stderr",
     "output_type": "stream",
     "text": [
      "Gaps to simplify in region 70: 100%|██████████| 518/518 [00:36<00:00, 14.02it/s]\n",
      "Gaps to fill in region 70: 100%|██████████| 21/21 [00:01<00:00, 19.44it/s]\n"
     ]
    },
    {
     "name": "stdout",
     "output_type": "stream",
     "text": [
      "1 gaps in region 71 will remain unfilled, because they either are not simply connected or exceed the area threshold.\n"
     ]
    },
    {
     "name": "stderr",
     "output_type": "stream",
     "text": [
      "Gaps to simplify in region 71: 100%|██████████| 229/229 [01:11<00:00,  3.19it/s]\n",
      "Gaps to fill in region 71: 100%|██████████| 35/35 [00:02<00:00, 14.82it/s]\n"
     ]
    },
    {
     "name": "stdout",
     "output_type": "stream",
     "text": [
      "1 gaps in region 72 will remain unfilled, because they either are not simply connected or exceed the area threshold.\n"
     ]
    },
    {
     "name": "stderr",
     "output_type": "stream",
     "text": [
      "Gaps to simplify in region 72:  44%|████▍     | 4/9 [00:00<00:00, 37.48it/s]"
     ]
    },
    {
     "name": "stdout",
     "output_type": "stream",
     "text": [
      "Found a component of the region at index 72 that does not intersect any geometry assigned to that region.\n"
     ]
    },
    {
     "name": "stderr",
     "output_type": "stream",
     "text": [
      "Gaps to simplify in region 72: 11it [00:02,  3.71it/s]                      \n",
      "Gaps to fill in region 72: 100%|██████████| 9/9 [00:01<00:00,  6.19it/s]\n",
      "Gaps to simplify in region 73: 100%|██████████| 4/4 [00:00<00:00, 169.16it/s]\n"
     ]
    },
    {
     "name": "stdout",
     "output_type": "stream",
     "text": [
      "Found a component of the region at index 73 that does not intersect any geometry assigned to that region.\n",
      "Found a component of the region at index 73 that does not intersect any geometry assigned to that region.\n",
      "Found a component of the region at index 73 that does not intersect any geometry assigned to that region.\n",
      "Found a component of the region at index 73 that does not intersect any geometry assigned to that region.\n"
     ]
    },
    {
     "name": "stderr",
     "output_type": "stream",
     "text": [
      "Gaps to fill: 0it [00:00, ?it/s]\n",
      "Gaps to simplify in region 74: 100%|██████████| 31/31 [00:00<00:00, 66.37it/s]\n",
      "Gaps to fill in region 74: 100%|██████████| 1/1 [00:00<00:00, 42.76it/s]\n"
     ]
    },
    {
     "name": "stdout",
     "output_type": "stream",
     "text": [
      "2 gaps in region 75 will remain unfilled, because they either are not simply connected or exceed the area threshold.\n"
     ]
    },
    {
     "name": "stderr",
     "output_type": "stream",
     "text": [
      "Gaps to simplify in region 75: 100%|██████████| 24/24 [00:01<00:00, 15.65it/s]\n",
      "Gaps to fill in region 75: 100%|██████████| 1/1 [00:00<00:00,  5.31it/s]\n"
     ]
    },
    {
     "name": "stdout",
     "output_type": "stream",
     "text": [
      "1 gaps in region 76 will remain unfilled, because they either are not simply connected or exceed the area threshold.\n"
     ]
    },
    {
     "name": "stderr",
     "output_type": "stream",
     "text": [
      "Gaps to simplify in region 76: 100%|██████████| 33/33 [00:01<00:00, 21.01it/s]\n",
      "Gaps to fill in region 76: 100%|██████████| 14/14 [00:00<00:00, 29.99it/s]\n",
      "Gaps to simplify in region 77: 100%|██████████| 2/2 [00:00<00:00, 80.05it/s]\n"
     ]
    },
    {
     "name": "stdout",
     "output_type": "stream",
     "text": [
      "Found a component of the region at index 77 that does not intersect any geometry assigned to that region.\n",
      "Found a component of the region at index 77 that does not intersect any geometry assigned to that region.\n"
     ]
    },
    {
     "name": "stderr",
     "output_type": "stream",
     "text": [
      "Gaps to fill: 0it [00:00, ?it/s]\n"
     ]
    },
    {
     "name": "stdout",
     "output_type": "stream",
     "text": [
      "2 gaps in region 78 will remain unfilled, because they either are not simply connected or exceed the area threshold.\n"
     ]
    },
    {
     "name": "stderr",
     "output_type": "stream",
     "text": [
      "Gaps to simplify in region 78:   0%|          | 0/15 [00:00<?, ?it/s]"
     ]
    },
    {
     "name": "stdout",
     "output_type": "stream",
     "text": [
      "Found a component of the region at index 78 that does not intersect any geometry assigned to that region.\n",
      "Found a component of the region at index 78 that does not intersect any geometry assigned to that region.\n"
     ]
    },
    {
     "name": "stderr",
     "output_type": "stream",
     "text": [
      "Gaps to simplify in region 78:  40%|████      | 6/15 [00:00<00:00, 29.21it/s]"
     ]
    },
    {
     "name": "stdout",
     "output_type": "stream",
     "text": [
      "Found a component of the region at index 78 that does not intersect any geometry assigned to that region.\n"
     ]
    },
    {
     "name": "stderr",
     "output_type": "stream",
     "text": [
      "Gaps to simplify in region 78: 100%|██████████| 15/15 [00:00<00:00, 24.29it/s]\n",
      "Gaps to fill in region 78: 100%|██████████| 10/10 [00:00<00:00, 57.40it/s]\n"
     ]
    },
    {
     "name": "stdout",
     "output_type": "stream",
     "text": [
      "2 gaps in region 79 will remain unfilled, because they either are not simply connected or exceed the area threshold.\n"
     ]
    },
    {
     "name": "stderr",
     "output_type": "stream",
     "text": [
      "Gaps to simplify in region 79: 100%|██████████| 8/8 [00:00<00:00,  8.35it/s]\n",
      "Gaps to fill in region 79: 100%|██████████| 14/14 [00:00<00:00, 56.84it/s]\n"
     ]
    },
    {
     "name": "stdout",
     "output_type": "stream",
     "text": [
      "4 gaps in region 80 will remain unfilled, because they either are not simply connected or exceed the area threshold.\n"
     ]
    },
    {
     "name": "stderr",
     "output_type": "stream",
     "text": [
      "Gaps to simplify in region 80: 37it [00:01, 25.54it/s]                        \n",
      "Gaps to fill in region 80: 100%|██████████| 12/12 [00:00<00:00, 36.34it/s]\n"
     ]
    },
    {
     "name": "stdout",
     "output_type": "stream",
     "text": [
      "2 gaps in region 81 will remain unfilled, because they either are not simply connected or exceed the area threshold.\n"
     ]
    },
    {
     "name": "stderr",
     "output_type": "stream",
     "text": [
      "Gaps to simplify in region 81: 100%|██████████| 10/10 [00:01<00:00,  7.49it/s]\n",
      "Gaps to fill in region 81: 100%|██████████| 12/12 [00:00<00:00, 34.43it/s]\n"
     ]
    },
    {
     "name": "stdout",
     "output_type": "stream",
     "text": [
      "2 gaps in region 82 will remain unfilled, because they either are not simply connected or exceed the area threshold.\n"
     ]
    },
    {
     "name": "stderr",
     "output_type": "stream",
     "text": [
      "Gaps to simplify in region 82: 51it [00:03, 13.35it/s]                        \n",
      "Gaps to fill in region 82: 100%|██████████| 16/16 [00:01<00:00, 10.22it/s]\n",
      "Gaps to simplify in region 83: 100%|██████████| 85/85 [00:05<00:00, 15.99it/s]\n",
      "Gaps to fill in region 83: 100%|██████████| 4/4 [00:00<00:00, 15.11it/s]\n",
      "Gaps to simplify in region 84:  12%|█▏        | 17/140 [00:00<00:00, 166.18it/s]"
     ]
    },
    {
     "name": "stdout",
     "output_type": "stream",
     "text": [
      "Found a component of the region at index 84 that does not intersect any geometry assigned to that region.\n",
      "Found a component of the region at index 84 that does not intersect any geometry assigned to that region.\n",
      "Found a component of the region at index 84 that does not intersect any geometry assigned to that region.\n",
      "Found a component of the region at index 84 that does not intersect any geometry assigned to that region.\n",
      "Found a component of the region at index 84 that does not intersect any geometry assigned to that region.\n",
      "Found a component of the region at index 84 that does not intersect any geometry assigned to that region.\n",
      "Found a component of the region at index 84 that does not intersect any geometry assigned to that region.\n",
      "Found a component of the region at index 84 that does not intersect any geometry assigned to that region.\n",
      "Found a component of the region at index 84 that does not intersect any geometry assigned to that region.\n",
      "Found a component of the region at index 84 that does not intersect any geometry assigned to that region.\n",
      "Found a component of the region at index 84 that does not intersect any geometry assigned to that region.\n",
      "Found a component of the region at index 84 that does not intersect any geometry assigned to that region.\n",
      "Found a component of the region at index 84 that does not intersect any geometry assigned to that region.\n",
      "Found a component of the region at index 84 that does not intersect any geometry assigned to that region.\n",
      "Found a component of the region at index 84 that does not intersect any geometry assigned to that region.\n",
      "Found a component of the region at index 84 that does not intersect any geometry assigned to that region.\n",
      "Found a component of the region at index 84 that does not intersect any geometry assigned to that region.\n",
      "Found a component of the region at index 84 that does not intersect any geometry assigned to that region.\n",
      "Found a component of the region at index 84 that does not intersect any geometry assigned to that region.\n",
      "Found a component of the region at index 84 that does not intersect any geometry assigned to that region.\n",
      "Found a component of the region at index 84 that does not intersect any geometry assigned to that region.\n",
      "Found a component of the region at index 84 that does not intersect any geometry assigned to that region.\n",
      "Found a component of the region at index 84 that does not intersect any geometry assigned to that region.\n",
      "Found a component of the region at index 84 that does not intersect any geometry assigned to that region.\n",
      "Found a component of the region at index 84 that does not intersect any geometry assigned to that region.\n",
      "Found a component of the region at index 84 that does not intersect any geometry assigned to that region.\n",
      "Found a component of the region at index 84 that does not intersect any geometry assigned to that region.\n",
      "Found a component of the region at index 84 that does not intersect any geometry assigned to that region.\n",
      "Found a component of the region at index 84 that does not intersect any geometry assigned to that region.\n",
      "Found a component of the region at index 84 that does not intersect any geometry assigned to that region.\n",
      "Found a component of the region at index 84 that does not intersect any geometry assigned to that region.\n",
      "Found a component of the region at index 84 that does not intersect any geometry assigned to that region.\n",
      "Found a component of the region at index 84 that does not intersect any geometry assigned to that region.\n",
      "Found a component of the region at index 84 that does not intersect any geometry assigned to that region.\n",
      "Found a component of the region at index 84 that does not intersect any geometry assigned to that region.\n",
      "Found a component of the region at index 84 that does not intersect any geometry assigned to that region.\n"
     ]
    },
    {
     "name": "stderr",
     "output_type": "stream",
     "text": [
      "Gaps to simplify in region 84:  39%|███▊      | 54/140 [00:00<00:00, 161.72it/s]"
     ]
    },
    {
     "name": "stdout",
     "output_type": "stream",
     "text": [
      "Found a component of the region at index 84 that does not intersect any geometry assigned to that region.\n",
      "Found a component of the region at index 84 that does not intersect any geometry assigned to that region.\n",
      "Found a component of the region at index 84 that does not intersect any geometry assigned to that region.\n",
      "Found a component of the region at index 84 that does not intersect any geometry assigned to that region.\n",
      "Found a component of the region at index 84 that does not intersect any geometry assigned to that region.\n",
      "Found a component of the region at index 84 that does not intersect any geometry assigned to that region.\n",
      "Found a component of the region at index 84 that does not intersect any geometry assigned to that region.\n",
      "Found a component of the region at index 84 that does not intersect any geometry assigned to that region.\n",
      "Found a component of the region at index 84 that does not intersect any geometry assigned to that region.\n",
      "Found a component of the region at index 84 that does not intersect any geometry assigned to that region.\n",
      "Found a component of the region at index 84 that does not intersect any geometry assigned to that region.\n",
      "Found a component of the region at index 84 that does not intersect any geometry assigned to that region.\n",
      "Found a component of the region at index 84 that does not intersect any geometry assigned to that region.\n",
      "Found a component of the region at index 84 that does not intersect any geometry assigned to that region.\n",
      "Found a component of the region at index 84 that does not intersect any geometry assigned to that region.\n",
      "Found a component of the region at index 84 that does not intersect any geometry assigned to that region.\n",
      "Found a component of the region at index 84 that does not intersect any geometry assigned to that region.\n",
      "Found a component of the region at index 84 that does not intersect any geometry assigned to that region.\n",
      "Found a component of the region at index 84 that does not intersect any geometry assigned to that region.\n",
      "Found a component of the region at index 84 that does not intersect any geometry assigned to that region.\n",
      "Found a component of the region at index 84 that does not intersect any geometry assigned to that region.\n",
      "Found a component of the region at index 84 that does not intersect any geometry assigned to that region.\n",
      "Found a component of the region at index 84 that does not intersect any geometry assigned to that region.\n",
      "Found a component of the region at index 84 that does not intersect any geometry assigned to that region.\n",
      "Found a component of the region at index 84 that does not intersect any geometry assigned to that region.\n",
      "Found a component of the region at index 84 that does not intersect any geometry assigned to that region.\n",
      "Found a component of the region at index 84 that does not intersect any geometry assigned to that region.\n",
      "Found a component of the region at index 84 that does not intersect any geometry assigned to that region.\n",
      "Found a component of the region at index 84 that does not intersect any geometry assigned to that region.\n",
      "Found a component of the region at index 84 that does not intersect any geometry assigned to that region.\n",
      "Found a component of the region at index 84 that does not intersect any geometry assigned to that region.\n",
      "Found a component of the region at index 84 that does not intersect any geometry assigned to that region.\n",
      "Found a component of the region at index 84 that does not intersect any geometry assigned to that region.\n",
      "Found a component of the region at index 84 that does not intersect any geometry assigned to that region.\n",
      "Found a component of the region at index 84 that does not intersect any geometry assigned to that region.\n"
     ]
    },
    {
     "name": "stderr",
     "output_type": "stream",
     "text": [
      "Gaps to simplify in region 84:  64%|██████▎   | 89/140 [00:00<00:00, 160.98it/s]"
     ]
    },
    {
     "name": "stdout",
     "output_type": "stream",
     "text": [
      "Found a component of the region at index 84 that does not intersect any geometry assigned to that region.\n",
      "Found a component of the region at index 84 that does not intersect any geometry assigned to that region.\n",
      "Found a component of the region at index 84 that does not intersect any geometry assigned to that region.\n",
      "Found a component of the region at index 84 that does not intersect any geometry assigned to that region.\n",
      "Found a component of the region at index 84 that does not intersect any geometry assigned to that region.\n",
      "Found a component of the region at index 84 that does not intersect any geometry assigned to that region.\n",
      "Found a component of the region at index 84 that does not intersect any geometry assigned to that region.\n",
      "Found a component of the region at index 84 that does not intersect any geometry assigned to that region.\n",
      "Found a component of the region at index 84 that does not intersect any geometry assigned to that region.\n",
      "Found a component of the region at index 84 that does not intersect any geometry assigned to that region.\n",
      "Found a component of the region at index 84 that does not intersect any geometry assigned to that region.\n",
      "Found a component of the region at index 84 that does not intersect any geometry assigned to that region.\n",
      "Found a component of the region at index 84 that does not intersect any geometry assigned to that region.\n",
      "Found a component of the region at index 84 that does not intersect any geometry assigned to that region.\n",
      "Found a component of the region at index 84 that does not intersect any geometry assigned to that region.\n",
      "Found a component of the region at index 84 that does not intersect any geometry assigned to that region.\n",
      "Found a component of the region at index 84 that does not intersect any geometry assigned to that region.\n",
      "Found a component of the region at index 84 that does not intersect any geometry assigned to that region.\n",
      "Found a component of the region at index 84 that does not intersect any geometry assigned to that region.\n",
      "Found a component of the region at index 84 that does not intersect any geometry assigned to that region.\n",
      "Found a component of the region at index 84 that does not intersect any geometry assigned to that region.\n",
      "Found a component of the region at index 84 that does not intersect any geometry assigned to that region.\n",
      "Found a component of the region at index 84 that does not intersect any geometry assigned to that region.\n",
      "Found a component of the region at index 84 that does not intersect any geometry assigned to that region.\n",
      "Found a component of the region at index 84 that does not intersect any geometry assigned to that region.\n",
      "Found a component of the region at index 84 that does not intersect any geometry assigned to that region.\n",
      "Found a component of the region at index 84 that does not intersect any geometry assigned to that region.\n",
      "Found a component of the region at index 84 that does not intersect any geometry assigned to that region.\n",
      "Found a component of the region at index 84 that does not intersect any geometry assigned to that region.\n",
      "Found a component of the region at index 84 that does not intersect any geometry assigned to that region.\n",
      "Found a component of the region at index 84 that does not intersect any geometry assigned to that region.\n",
      "Found a component of the region at index 84 that does not intersect any geometry assigned to that region.\n",
      "Found a component of the region at index 84 that does not intersect any geometry assigned to that region.\n",
      "Found a component of the region at index 84 that does not intersect any geometry assigned to that region.\n",
      "Found a component of the region at index 84 that does not intersect any geometry assigned to that region.\n",
      "Found a component of the region at index 84 that does not intersect any geometry assigned to that region.\n"
     ]
    },
    {
     "name": "stderr",
     "output_type": "stream",
     "text": [
      "Gaps to simplify in region 84:  89%|████████▉ | 125/140 [00:00<00:00, 163.38it/s]"
     ]
    },
    {
     "name": "stdout",
     "output_type": "stream",
     "text": [
      "Found a component of the region at index 84 that does not intersect any geometry assigned to that region.\n",
      "Found a component of the region at index 84 that does not intersect any geometry assigned to that region.\n",
      "Found a component of the region at index 84 that does not intersect any geometry assigned to that region.\n",
      "Found a component of the region at index 84 that does not intersect any geometry assigned to that region.\n",
      "Found a component of the region at index 84 that does not intersect any geometry assigned to that region.\n",
      "Found a component of the region at index 84 that does not intersect any geometry assigned to that region.\n",
      "Found a component of the region at index 84 that does not intersect any geometry assigned to that region.\n",
      "Found a component of the region at index 84 that does not intersect any geometry assigned to that region.\n",
      "Found a component of the region at index 84 that does not intersect any geometry assigned to that region.\n",
      "Found a component of the region at index 84 that does not intersect any geometry assigned to that region.\n",
      "Found a component of the region at index 84 that does not intersect any geometry assigned to that region.\n",
      "Found a component of the region at index 84 that does not intersect any geometry assigned to that region.\n",
      "Found a component of the region at index 84 that does not intersect any geometry assigned to that region.\n",
      "Found a component of the region at index 84 that does not intersect any geometry assigned to that region.\n",
      "Found a component of the region at index 84 that does not intersect any geometry assigned to that region.\n",
      "Found a component of the region at index 84 that does not intersect any geometry assigned to that region.\n",
      "Found a component of the region at index 84 that does not intersect any geometry assigned to that region.\n",
      "Found a component of the region at index 84 that does not intersect any geometry assigned to that region.\n",
      "Found a component of the region at index 84 that does not intersect any geometry assigned to that region.\n",
      "Found a component of the region at index 84 that does not intersect any geometry assigned to that region.\n",
      "Found a component of the region at index 84 that does not intersect any geometry assigned to that region.\n",
      "Found a component of the region at index 84 that does not intersect any geometry assigned to that region.\n",
      "Found a component of the region at index 84 that does not intersect any geometry assigned to that region.\n",
      "Found a component of the region at index 84 that does not intersect any geometry assigned to that region.\n",
      "Found a component of the region at index 84 that does not intersect any geometry assigned to that region.\n",
      "Found a component of the region at index 84 that does not intersect any geometry assigned to that region.\n",
      "Found a component of the region at index 84 that does not intersect any geometry assigned to that region.\n",
      "Found a component of the region at index 84 that does not intersect any geometry assigned to that region.\n",
      "Found a component of the region at index 84 that does not intersect any geometry assigned to that region.\n",
      "Found a component of the region at index 84 that does not intersect any geometry assigned to that region.\n",
      "Found a component of the region at index 84 that does not intersect any geometry assigned to that region.\n",
      "Found a component of the region at index 84 that does not intersect any geometry assigned to that region.\n",
      "Found a component of the region at index 84 that does not intersect any geometry assigned to that region.\n"
     ]
    },
    {
     "name": "stderr",
     "output_type": "stream",
     "text": [
      "Gaps to simplify in region 84: 100%|██████████| 140/140 [00:00<00:00, 164.17it/s]\n",
      "Gaps to fill: 0it [00:00, ?it/s]\n",
      "Gaps to simplify in region 85: 100%|██████████| 264/264 [00:22<00:00, 11.51it/s]\n",
      "Gaps to fill in region 85: 100%|██████████| 37/37 [00:00<00:00, 38.10it/s]\n"
     ]
    },
    {
     "name": "stdout",
     "output_type": "stream",
     "text": [
      "1 gaps in region 86 will remain unfilled, because they either are not simply connected or exceed the area threshold.\n"
     ]
    },
    {
     "name": "stderr",
     "output_type": "stream",
     "text": [
      "Gaps to simplify in region 86: 100%|██████████| 82/82 [00:04<00:00, 20.33it/s]\n",
      "Gaps to fill in region 86: 100%|██████████| 15/15 [00:00<00:00, 38.71it/s]\n",
      "Gaps to simplify in region 87: 100%|██████████| 8/8 [00:00<00:00, 117.74it/s]\n"
     ]
    },
    {
     "name": "stdout",
     "output_type": "stream",
     "text": [
      "Found a component of the region at index 87 that does not intersect any geometry assigned to that region.\n",
      "Found a component of the region at index 87 that does not intersect any geometry assigned to that region.\n",
      "Found a component of the region at index 87 that does not intersect any geometry assigned to that region.\n",
      "Found a component of the region at index 87 that does not intersect any geometry assigned to that region.\n",
      "Found a component of the region at index 87 that does not intersect any geometry assigned to that region.\n",
      "Found a component of the region at index 87 that does not intersect any geometry assigned to that region.\n",
      "Found a component of the region at index 87 that does not intersect any geometry assigned to that region.\n",
      "Found a component of the region at index 87 that does not intersect any geometry assigned to that region.\n"
     ]
    },
    {
     "name": "stderr",
     "output_type": "stream",
     "text": [
      "Gaps to fill: 0it [00:00, ?it/s]\n"
     ]
    },
    {
     "name": "stdout",
     "output_type": "stream",
     "text": [
      "1 gaps in region 88 will remain unfilled, because they either are not simply connected or exceed the area threshold.\n"
     ]
    },
    {
     "name": "stderr",
     "output_type": "stream",
     "text": [
      "Gaps to simplify in region 88:  48%|████▊     | 95/198 [00:05<00:03, 26.08it/s]"
     ]
    },
    {
     "name": "stdout",
     "output_type": "stream",
     "text": [
      "Found a component of the region at index 88 that does not intersect any geometry assigned to that region.\n"
     ]
    },
    {
     "name": "stderr",
     "output_type": "stream",
     "text": [
      "Gaps to simplify in region 88: 100%|██████████| 198/198 [00:11<00:00, 16.73it/s]\n",
      "Gaps to fill in region 88: 100%|██████████| 34/34 [00:01<00:00, 27.95it/s]\n"
     ]
    },
    {
     "name": "stdout",
     "output_type": "stream",
     "text": [
      "1 gaps in region 89 will remain unfilled, because they either are not simply connected or exceed the area threshold.\n"
     ]
    },
    {
     "name": "stderr",
     "output_type": "stream",
     "text": [
      "Gaps to simplify in region 89: 100%|██████████| 7/7 [00:00<00:00, 60.31it/s]\n"
     ]
    },
    {
     "name": "stdout",
     "output_type": "stream",
     "text": [
      "Found a component of the region at index 89 that does not intersect any geometry assigned to that region.\n"
     ]
    },
    {
     "name": "stderr",
     "output_type": "stream",
     "text": [
      "Gaps to fill: 0it [00:00, ?it/s]\n",
      "Gaps to simplify in region 90: 100%|██████████| 38/38 [00:02<00:00, 16.06it/s]\n",
      "Gaps to fill in region 90: 100%|██████████| 9/9 [00:00<00:00, 14.43it/s]\n",
      "Gaps to simplify in region 91: 589it [01:11,  8.29it/s]                         \n",
      "Gaps to fill in region 91: 100%|██████████| 103/103 [00:04<00:00, 20.81it/s]\n"
     ]
    },
    {
     "name": "stdout",
     "output_type": "stream",
     "text": [
      "2 gaps in region 92 will remain unfilled, because they either are not simply connected or exceed the area threshold.\n"
     ]
    },
    {
     "name": "stderr",
     "output_type": "stream",
     "text": [
      "Gaps to simplify in region 92:  79%|███████▊  | 37/47 [00:00<00:00, 32.22it/s]"
     ]
    },
    {
     "name": "stdout",
     "output_type": "stream",
     "text": [
      "Found a component of the region at index 92 that does not intersect any geometry assigned to that region.\n"
     ]
    },
    {
     "name": "stderr",
     "output_type": "stream",
     "text": [
      "Gaps to simplify in region 92: 100%|██████████| 47/47 [00:01<00:00, 34.26it/s]\n",
      "Gaps to fill in region 92: 100%|██████████| 17/17 [00:01<00:00, 10.13it/s]\n"
     ]
    },
    {
     "name": "stdout",
     "output_type": "stream",
     "text": [
      "4 gaps in region 93 will remain unfilled, because they either are not simply connected or exceed the area threshold.\n"
     ]
    },
    {
     "name": "stderr",
     "output_type": "stream",
     "text": [
      "Gaps to simplify in region 93: 66it [00:02, 30.51it/s]                        \n",
      "Gaps to fill in region 93: 100%|██████████| 20/20 [00:01<00:00, 17.33it/s]\n",
      "Gaps to simplify in region 94: 100%|██████████| 11/11 [00:00<00:00, 163.48it/s]\n"
     ]
    },
    {
     "name": "stdout",
     "output_type": "stream",
     "text": [
      "Found a component of the region at index 94 that does not intersect any geometry assigned to that region.\n",
      "Found a component of the region at index 94 that does not intersect any geometry assigned to that region.\n",
      "Found a component of the region at index 94 that does not intersect any geometry assigned to that region.\n",
      "Found a component of the region at index 94 that does not intersect any geometry assigned to that region.\n",
      "Found a component of the region at index 94 that does not intersect any geometry assigned to that region.\n",
      "Found a component of the region at index 94 that does not intersect any geometry assigned to that region.\n",
      "Found a component of the region at index 94 that does not intersect any geometry assigned to that region.\n",
      "Found a component of the region at index 94 that does not intersect any geometry assigned to that region.\n",
      "Found a component of the region at index 94 that does not intersect any geometry assigned to that region.\n",
      "Found a component of the region at index 94 that does not intersect any geometry assigned to that region.\n",
      "Found a component of the region at index 94 that does not intersect any geometry assigned to that region.\n"
     ]
    },
    {
     "name": "stderr",
     "output_type": "stream",
     "text": [
      "Gaps to fill: 0it [00:00, ?it/s]\n",
      "Gaps to simplify in region 95: 100%|██████████| 5/5 [00:00<00:00, 123.86it/s]\n"
     ]
    },
    {
     "name": "stdout",
     "output_type": "stream",
     "text": [
      "Found a component of the region at index 95 that does not intersect any geometry assigned to that region.\n",
      "Found a component of the region at index 95 that does not intersect any geometry assigned to that region.\n",
      "Found a component of the region at index 95 that does not intersect any geometry assigned to that region.\n",
      "Found a component of the region at index 95 that does not intersect any geometry assigned to that region.\n",
      "Found a component of the region at index 95 that does not intersect any geometry assigned to that region.\n"
     ]
    },
    {
     "name": "stderr",
     "output_type": "stream",
     "text": [
      "Gaps to fill: 0it [00:00, ?it/s]\n"
     ]
    },
    {
     "name": "stdout",
     "output_type": "stream",
     "text": [
      "1 gaps in region 96 will remain unfilled, because they either are not simply connected or exceed the area threshold.\n"
     ]
    },
    {
     "name": "stderr",
     "output_type": "stream",
     "text": [
      "Gaps to simplify in region 96:   0%|          | 0/34 [00:00<?, ?it/s]"
     ]
    },
    {
     "name": "stdout",
     "output_type": "stream",
     "text": [
      "Found a component of the region at index 96 that does not intersect any geometry assigned to that region.\n"
     ]
    },
    {
     "name": "stderr",
     "output_type": "stream",
     "text": [
      "Gaps to simplify in region 96:  82%|████████▏ | 28/34 [00:00<00:00, 52.72it/s]"
     ]
    },
    {
     "name": "stdout",
     "output_type": "stream",
     "text": [
      "Found a component of the region at index 96 that does not intersect any geometry assigned to that region.\n",
      "Found a component of the region at index 96 that does not intersect any geometry assigned to that region.\n"
     ]
    },
    {
     "name": "stderr",
     "output_type": "stream",
     "text": [
      "Gaps to simplify in region 96: 100%|██████████| 34/34 [00:01<00:00, 22.05it/s]\n",
      "Gaps to fill: 0it [00:00, ?it/s]\n",
      "Gaps to simplify in region 97:  28%|██▊       | 11/40 [00:00<00:00, 101.79it/s]"
     ]
    },
    {
     "name": "stdout",
     "output_type": "stream",
     "text": [
      "Found a component of the region at index 97 that does not intersect any geometry assigned to that region.\n",
      "Found a component of the region at index 97 that does not intersect any geometry assigned to that region.\n",
      "Found a component of the region at index 97 that does not intersect any geometry assigned to that region.\n",
      "Found a component of the region at index 97 that does not intersect any geometry assigned to that region.\n",
      "Found a component of the region at index 97 that does not intersect any geometry assigned to that region.\n",
      "Found a component of the region at index 97 that does not intersect any geometry assigned to that region.\n",
      "Found a component of the region at index 97 that does not intersect any geometry assigned to that region.\n",
      "Found a component of the region at index 97 that does not intersect any geometry assigned to that region.\n",
      "Found a component of the region at index 97 that does not intersect any geometry assigned to that region.\n",
      "Found a component of the region at index 97 that does not intersect any geometry assigned to that region.\n",
      "Found a component of the region at index 97 that does not intersect any geometry assigned to that region.\n",
      "Found a component of the region at index 97 that does not intersect any geometry assigned to that region.\n",
      "Found a component of the region at index 97 that does not intersect any geometry assigned to that region.\n",
      "Found a component of the region at index 97 that does not intersect any geometry assigned to that region.\n",
      "Found a component of the region at index 97 that does not intersect any geometry assigned to that region.\n",
      "Found a component of the region at index 97 that does not intersect any geometry assigned to that region.\n",
      "Found a component of the region at index 97 that does not intersect any geometry assigned to that region.\n",
      "Found a component of the region at index 97 that does not intersect any geometry assigned to that region.\n",
      "Found a component of the region at index 97 that does not intersect any geometry assigned to that region.\n",
      "Found a component of the region at index 97 that does not intersect any geometry assigned to that region.\n",
      "Found a component of the region at index 97 that does not intersect any geometry assigned to that region.\n",
      "Found a component of the region at index 97 that does not intersect any geometry assigned to that region.\n",
      "Found a component of the region at index 97 that does not intersect any geometry assigned to that region.\n",
      "Found a component of the region at index 97 that does not intersect any geometry assigned to that region.\n",
      "Found a component of the region at index 97 that does not intersect any geometry assigned to that region.\n",
      "Found a component of the region at index 97 that does not intersect any geometry assigned to that region.\n",
      "Found a component of the region at index 97 that does not intersect any geometry assigned to that region.\n"
     ]
    },
    {
     "name": "stderr",
     "output_type": "stream",
     "text": [
      "Gaps to simplify in region 97: 100%|██████████| 40/40 [00:00<00:00, 123.54it/s]\n"
     ]
    },
    {
     "name": "stdout",
     "output_type": "stream",
     "text": [
      "Found a component of the region at index 97 that does not intersect any geometry assigned to that region.\n",
      "Found a component of the region at index 97 that does not intersect any geometry assigned to that region.\n",
      "Found a component of the region at index 97 that does not intersect any geometry assigned to that region.\n",
      "Found a component of the region at index 97 that does not intersect any geometry assigned to that region.\n",
      "Found a component of the region at index 97 that does not intersect any geometry assigned to that region.\n",
      "Found a component of the region at index 97 that does not intersect any geometry assigned to that region.\n",
      "Found a component of the region at index 97 that does not intersect any geometry assigned to that region.\n",
      "Found a component of the region at index 97 that does not intersect any geometry assigned to that region.\n",
      "Found a component of the region at index 97 that does not intersect any geometry assigned to that region.\n",
      "Found a component of the region at index 97 that does not intersect any geometry assigned to that region.\n",
      "Found a component of the region at index 97 that does not intersect any geometry assigned to that region.\n",
      "Found a component of the region at index 97 that does not intersect any geometry assigned to that region.\n",
      "Found a component of the region at index 97 that does not intersect any geometry assigned to that region.\n"
     ]
    },
    {
     "name": "stderr",
     "output_type": "stream",
     "text": [
      "Gaps to fill: 0it [00:00, ?it/s]\n",
      "Gaps to simplify in region 98: 100%|██████████| 129/129 [00:29<00:00,  4.43it/s]\n",
      "Gaps to fill in region 98: 100%|██████████| 6/6 [00:00<00:00, 15.94it/s]\n"
     ]
    },
    {
     "name": "stdout",
     "output_type": "stream",
     "text": [
      "1 gaps in region 99 will remain unfilled, because they either are not simply connected or exceed the area threshold.\n"
     ]
    },
    {
     "name": "stderr",
     "output_type": "stream",
     "text": [
      "Gaps to simplify in region 99: 100%|██████████| 94/94 [00:04<00:00, 22.66it/s]\n",
      "Gaps to fill in region 99: 100%|██████████| 11/11 [00:00<00:00, 17.15it/s]\n",
      "Gaps to simplify in region 100: 100%|██████████| 1/1 [00:00<00:00, 86.03it/s]\n"
     ]
    },
    {
     "name": "stdout",
     "output_type": "stream",
     "text": [
      "Found a component of the region at index 100 that does not intersect any geometry assigned to that region.\n"
     ]
    },
    {
     "name": "stderr",
     "output_type": "stream",
     "text": [
      "Gaps to fill: 0it [00:00, ?it/s]\n"
     ]
    },
    {
     "name": "stdout",
     "output_type": "stream",
     "text": [
      "1 gaps in region 101 will remain unfilled, because they either are not simply connected or exceed the area threshold.\n"
     ]
    },
    {
     "name": "stderr",
     "output_type": "stream",
     "text": [
      "Gaps to simplify in region 101: 100%|██████████| 94/94 [00:08<00:00, 11.67it/s]\n",
      "Gaps to fill in region 101: 100%|██████████| 10/10 [00:00<00:00, 15.86it/s]\n",
      "Gaps to simplify in region 102: 100%|██████████| 8/8 [00:00<00:00, 153.57it/s]\n"
     ]
    },
    {
     "name": "stdout",
     "output_type": "stream",
     "text": [
      "Found a component of the region at index 102 that does not intersect any geometry assigned to that region.\n",
      "Found a component of the region at index 102 that does not intersect any geometry assigned to that region.\n",
      "Found a component of the region at index 102 that does not intersect any geometry assigned to that region.\n",
      "Found a component of the region at index 102 that does not intersect any geometry assigned to that region.\n",
      "Found a component of the region at index 102 that does not intersect any geometry assigned to that region.\n",
      "Found a component of the region at index 102 that does not intersect any geometry assigned to that region.\n",
      "Found a component of the region at index 102 that does not intersect any geometry assigned to that region.\n",
      "Found a component of the region at index 102 that does not intersect any geometry assigned to that region.\n"
     ]
    },
    {
     "name": "stderr",
     "output_type": "stream",
     "text": [
      "Gaps to fill: 0it [00:00, ?it/s]\n"
     ]
    },
    {
     "name": "stdout",
     "output_type": "stream",
     "text": [
      "3 gaps in region 103 will remain unfilled, because they either are not simply connected or exceed the area threshold.\n"
     ]
    },
    {
     "name": "stderr",
     "output_type": "stream",
     "text": [
      "Gaps to simplify in region 103: 100%|██████████| 139/139 [00:09<00:00, 14.14it/s]\n",
      "Gaps to fill in region 103: 100%|██████████| 48/48 [00:00<00:00, 59.27it/s]\n"
     ]
    },
    {
     "name": "stdout",
     "output_type": "stream",
     "text": [
      "1 gaps in region 104 will remain unfilled, because they either are not simply connected or exceed the area threshold.\n"
     ]
    },
    {
     "name": "stderr",
     "output_type": "stream",
     "text": [
      "Gaps to simplify in region 104: 100%|██████████| 35/35 [00:00<00:00, 47.26it/s]\n",
      "Gaps to fill in region 104: 100%|██████████| 4/4 [00:00<00:00, 28.65it/s]\n"
     ]
    },
    {
     "name": "stdout",
     "output_type": "stream",
     "text": [
      "2 gaps in region 105 will remain unfilled, because they either are not simply connected or exceed the area threshold.\n"
     ]
    },
    {
     "name": "stderr",
     "output_type": "stream",
     "text": [
      "Gaps to simplify in region 105:   6%|▌         | 7/118 [00:00<00:01, 61.93it/s]"
     ]
    },
    {
     "name": "stdout",
     "output_type": "stream",
     "text": [
      "Found a component of the region at index 105 that does not intersect any geometry assigned to that region.\n"
     ]
    },
    {
     "name": "stderr",
     "output_type": "stream",
     "text": [
      "Gaps to simplify in region 105: 100%|██████████| 118/118 [00:03<00:00, 36.23it/s]\n",
      "Gaps to fill in region 105: 100%|██████████| 5/5 [00:00<00:00, 25.98it/s]\n",
      "Gaps to simplify in region 106: 100%|██████████| 2/2 [00:00<00:00, 141.65it/s]\n"
     ]
    },
    {
     "name": "stdout",
     "output_type": "stream",
     "text": [
      "Found a component of the region at index 106 that does not intersect any geometry assigned to that region.\n",
      "Found a component of the region at index 106 that does not intersect any geometry assigned to that region.\n"
     ]
    },
    {
     "name": "stderr",
     "output_type": "stream",
     "text": [
      "Gaps to fill: 0it [00:00, ?it/s]\n",
      "Gaps to simplify in region 107: 100%|██████████| 9/9 [00:00<00:00, 90.84it/s]\n"
     ]
    },
    {
     "name": "stdout",
     "output_type": "stream",
     "text": [
      "Found a component of the region at index 107 that does not intersect any geometry assigned to that region.\n",
      "Found a component of the region at index 107 that does not intersect any geometry assigned to that region.\n",
      "Found a component of the region at index 107 that does not intersect any geometry assigned to that region.\n",
      "Found a component of the region at index 107 that does not intersect any geometry assigned to that region.\n",
      "Found a component of the region at index 107 that does not intersect any geometry assigned to that region.\n",
      "Found a component of the region at index 107 that does not intersect any geometry assigned to that region.\n",
      "Found a component of the region at index 107 that does not intersect any geometry assigned to that region.\n",
      "Found a component of the region at index 107 that does not intersect any geometry assigned to that region.\n",
      "Found a component of the region at index 107 that does not intersect any geometry assigned to that region.\n"
     ]
    },
    {
     "name": "stderr",
     "output_type": "stream",
     "text": [
      "Gaps to fill: 0it [00:00, ?it/s]\n",
      "Gaps to simplify in region 108: 100%|██████████| 1/1 [00:00<00:00, 47.76it/s]\n"
     ]
    },
    {
     "name": "stdout",
     "output_type": "stream",
     "text": [
      "Found a component of the region at index 108 that does not intersect any geometry assigned to that region.\n"
     ]
    },
    {
     "name": "stderr",
     "output_type": "stream",
     "text": [
      "Gaps to fill: 0it [00:00, ?it/s]\n",
      "Gaps to simplify in region 109:   0%|          | 0/13 [00:00<?, ?it/s]"
     ]
    },
    {
     "name": "stdout",
     "output_type": "stream",
     "text": [
      "Found a component of the region at index 109 that does not intersect any geometry assigned to that region.\n",
      "Found a component of the region at index 109 that does not intersect any geometry assigned to that region.\n",
      "Found a component of the region at index 109 that does not intersect any geometry assigned to that region.\n",
      "Found a component of the region at index 109 that does not intersect any geometry assigned to that region.\n",
      "Found a component of the region at index 109 that does not intersect any geometry assigned to that region.\n"
     ]
    },
    {
     "name": "stderr",
     "output_type": "stream",
     "text": [
      "Gaps to simplify in region 109: 100%|██████████| 13/13 [00:00<00:00, 78.90it/s]"
     ]
    },
    {
     "name": "stdout",
     "output_type": "stream",
     "text": [
      "Found a component of the region at index 109 that does not intersect any geometry assigned to that region.\n",
      "Found a component of the region at index 109 that does not intersect any geometry assigned to that region.\n",
      "Found a component of the region at index 109 that does not intersect any geometry assigned to that region.\n",
      "Found a component of the region at index 109 that does not intersect any geometry assigned to that region.\n",
      "Found a component of the region at index 109 that does not intersect any geometry assigned to that region.\n",
      "Found a component of the region at index 109 that does not intersect any geometry assigned to that region.\n",
      "Found a component of the region at index 109 that does not intersect any geometry assigned to that region.\n",
      "Found a component of the region at index 109 that does not intersect any geometry assigned to that region.\n"
     ]
    },
    {
     "name": "stderr",
     "output_type": "stream",
     "text": [
      "\n",
      "Gaps to fill: 0it [00:00, ?it/s]\n",
      "Gaps to simplify in region 110: 100%|██████████| 6/6 [00:00<00:00, 107.70it/s]"
     ]
    },
    {
     "name": "stdout",
     "output_type": "stream",
     "text": [
      "Found a component of the region at index 110 that does not intersect any geometry assigned to that region.\n",
      "Found a component of the region at index 110 that does not intersect any geometry assigned to that region.\n",
      "Found a component of the region at index 110 that does not intersect any geometry assigned to that region.\n",
      "Found a component of the region at index 110 that does not intersect any geometry assigned to that region.\n",
      "Found a component of the region at index 110 that does not intersect any geometry assigned to that region.\n",
      "Found a component of the region at index 110 that does not intersect any geometry assigned to that region.\n"
     ]
    },
    {
     "name": "stderr",
     "output_type": "stream",
     "text": [
      "\n",
      "Gaps to fill: 0it [00:00, ?it/s]\n",
      "Gaps to simplify in region 111: 100%|██████████| 32/32 [02:58<00:00,  5.59s/it]\n",
      "Gaps to fill in region 111: 100%|██████████| 320/320 [00:05<00:00, 61.47it/s]\n",
      "Gaps to simplify in region 112: 100%|██████████| 51/51 [00:09<00:00,  5.44it/s]\n",
      "Gaps to fill in region 112: 100%|██████████| 21/21 [00:00<00:00, 41.95it/s]\n",
      "Gaps to simplify in region 113: 100%|██████████| 17/17 [00:00<00:00, 135.55it/s]\n"
     ]
    },
    {
     "name": "stdout",
     "output_type": "stream",
     "text": [
      "Found a component of the region at index 113 that does not intersect any geometry assigned to that region.\n",
      "Found a component of the region at index 113 that does not intersect any geometry assigned to that region.\n",
      "Found a component of the region at index 113 that does not intersect any geometry assigned to that region.\n",
      "Found a component of the region at index 113 that does not intersect any geometry assigned to that region.\n",
      "Found a component of the region at index 113 that does not intersect any geometry assigned to that region.\n",
      "Found a component of the region at index 113 that does not intersect any geometry assigned to that region.\n",
      "Found a component of the region at index 113 that does not intersect any geometry assigned to that region.\n",
      "Found a component of the region at index 113 that does not intersect any geometry assigned to that region.\n",
      "Found a component of the region at index 113 that does not intersect any geometry assigned to that region.\n",
      "Found a component of the region at index 113 that does not intersect any geometry assigned to that region.\n",
      "Found a component of the region at index 113 that does not intersect any geometry assigned to that region.\n",
      "Found a component of the region at index 113 that does not intersect any geometry assigned to that region.\n",
      "Found a component of the region at index 113 that does not intersect any geometry assigned to that region.\n",
      "Found a component of the region at index 113 that does not intersect any geometry assigned to that region.\n",
      "Found a component of the region at index 113 that does not intersect any geometry assigned to that region.\n",
      "Found a component of the region at index 113 that does not intersect any geometry assigned to that region.\n",
      "Found a component of the region at index 113 that does not intersect any geometry assigned to that region.\n"
     ]
    },
    {
     "name": "stderr",
     "output_type": "stream",
     "text": [
      "Gaps to fill: 0it [00:00, ?it/s]\n"
     ]
    },
    {
     "name": "stdout",
     "output_type": "stream",
     "text": [
      "1 gaps in region 114 will remain unfilled, because they either are not simply connected or exceed the area threshold.\n"
     ]
    },
    {
     "name": "stderr",
     "output_type": "stream",
     "text": [
      "Gaps to simplify in region 114: 100%|██████████| 183/183 [01:17<00:00,  2.36it/s]\n",
      "Gaps to fill in region 114: 100%|██████████| 23/23 [00:01<00:00, 13.86it/s]\n",
      "Gaps to simplify in region 115: 100%|██████████| 1/1 [00:00<00:00, 42.38it/s]\n"
     ]
    },
    {
     "name": "stdout",
     "output_type": "stream",
     "text": [
      "Found a component of the region at index 115 that does not intersect any geometry assigned to that region.\n"
     ]
    },
    {
     "name": "stderr",
     "output_type": "stream",
     "text": [
      "Gaps to fill: 0it [00:00, ?it/s]\n",
      "Gaps to simplify in region 116: 100%|██████████| 4/4 [00:00<00:00, 67.13it/s]\n"
     ]
    },
    {
     "name": "stdout",
     "output_type": "stream",
     "text": [
      "Found a component of the region at index 116 that does not intersect any geometry assigned to that region.\n",
      "Found a component of the region at index 116 that does not intersect any geometry assigned to that region.\n",
      "Found a component of the region at index 116 that does not intersect any geometry assigned to that region.\n",
      "Found a component of the region at index 116 that does not intersect any geometry assigned to that region.\n"
     ]
    },
    {
     "name": "stderr",
     "output_type": "stream",
     "text": [
      "Gaps to fill: 0it [00:00, ?it/s]\n"
     ]
    },
    {
     "name": "stdout",
     "output_type": "stream",
     "text": [
      "1 gaps in region 117 will remain unfilled, because they either are not simply connected or exceed the area threshold.\n"
     ]
    },
    {
     "name": "stderr",
     "output_type": "stream",
     "text": [
      "Gaps to simplify in region 117: 100%|██████████| 41/41 [00:05<00:00,  7.12it/s]\n",
      "Gaps to fill in region 117: 100%|██████████| 29/29 [00:00<00:00, 35.26it/s]\n",
      "Gaps to simplify in region 118: 100%|██████████| 9/9 [00:00<00:00, 114.88it/s]\n"
     ]
    },
    {
     "name": "stdout",
     "output_type": "stream",
     "text": [
      "Found a component of the region at index 118 that does not intersect any geometry assigned to that region.\n",
      "Found a component of the region at index 118 that does not intersect any geometry assigned to that region.\n",
      "Found a component of the region at index 118 that does not intersect any geometry assigned to that region.\n",
      "Found a component of the region at index 118 that does not intersect any geometry assigned to that region.\n",
      "Found a component of the region at index 118 that does not intersect any geometry assigned to that region.\n",
      "Found a component of the region at index 118 that does not intersect any geometry assigned to that region.\n",
      "Found a component of the region at index 118 that does not intersect any geometry assigned to that region.\n",
      "Found a component of the region at index 118 that does not intersect any geometry assigned to that region.\n",
      "Found a component of the region at index 118 that does not intersect any geometry assigned to that region.\n"
     ]
    },
    {
     "name": "stderr",
     "output_type": "stream",
     "text": [
      "Gaps to fill: 0it [00:00, ?it/s]\n"
     ]
    },
    {
     "name": "stdout",
     "output_type": "stream",
     "text": [
      "6 gaps in region 119 will remain unfilled, because they either are not simply connected or exceed the area threshold.\n"
     ]
    },
    {
     "name": "stderr",
     "output_type": "stream",
     "text": [
      "Gaps to simplify in region 119: 66it [00:32,  2.02it/s]                        \n",
      "Gaps to fill in region 119: 100%|██████████| 17/17 [00:02<00:00,  7.02it/s]\n"
     ]
    },
    {
     "name": "stdout",
     "output_type": "stream",
     "text": [
      "1 gaps in region 120 will remain unfilled, because they either are not simply connected or exceed the area threshold.\n"
     ]
    },
    {
     "name": "stderr",
     "output_type": "stream",
     "text": [
      "Gaps to simplify in region 120: 100%|██████████| 52/52 [00:14<00:00,  3.55it/s]\n",
      "Gaps to fill in region 120: 100%|██████████| 29/29 [00:03<00:00,  7.95it/s]\n"
     ]
    },
    {
     "name": "stdout",
     "output_type": "stream",
     "text": [
      "2 gaps in region 121 will remain unfilled, because they either are not simply connected or exceed the area threshold.\n"
     ]
    },
    {
     "name": "stderr",
     "output_type": "stream",
     "text": [
      "Gaps to simplify in region 121: 414it [00:58,  7.12it/s]                         \n",
      "Gaps to fill in region 121: 100%|██████████| 88/88 [00:06<00:00, 14.09it/s]\n"
     ]
    },
    {
     "name": "stdout",
     "output_type": "stream",
     "text": [
      "2 gaps in region 122 will remain unfilled, because they either are not simply connected or exceed the area threshold.\n"
     ]
    },
    {
     "name": "stderr",
     "output_type": "stream",
     "text": [
      "Gaps to simplify in region 122: 324it [00:44,  7.26it/s]                         \n",
      "Gaps to fill in region 122: 100%|██████████| 19/19 [00:02<00:00,  7.28it/s]\n",
      "Gaps to simplify in region 123: 100%|██████████| 16/16 [00:00<00:00, 117.11it/s]\n"
     ]
    },
    {
     "name": "stdout",
     "output_type": "stream",
     "text": [
      "Found a component of the region at index 123 that does not intersect any geometry assigned to that region.\n",
      "Found a component of the region at index 123 that does not intersect any geometry assigned to that region.\n",
      "Found a component of the region at index 123 that does not intersect any geometry assigned to that region.\n",
      "Found a component of the region at index 123 that does not intersect any geometry assigned to that region.\n",
      "Found a component of the region at index 123 that does not intersect any geometry assigned to that region.\n",
      "Found a component of the region at index 123 that does not intersect any geometry assigned to that region.\n",
      "Found a component of the region at index 123 that does not intersect any geometry assigned to that region.\n",
      "Found a component of the region at index 123 that does not intersect any geometry assigned to that region.\n",
      "Found a component of the region at index 123 that does not intersect any geometry assigned to that region.\n",
      "Found a component of the region at index 123 that does not intersect any geometry assigned to that region.\n",
      "Found a component of the region at index 123 that does not intersect any geometry assigned to that region.\n",
      "Found a component of the region at index 123 that does not intersect any geometry assigned to that region.\n",
      "Found a component of the region at index 123 that does not intersect any geometry assigned to that region.\n",
      "Found a component of the region at index 123 that does not intersect any geometry assigned to that region.\n",
      "Found a component of the region at index 123 that does not intersect any geometry assigned to that region.\n",
      "Found a component of the region at index 123 that does not intersect any geometry assigned to that region.\n"
     ]
    },
    {
     "name": "stderr",
     "output_type": "stream",
     "text": [
      "Gaps to fill: 0it [00:00, ?it/s]\n",
      "Gaps to simplify in region 124:   0%|          | 0/48 [00:00<?, ?it/s]"
     ]
    },
    {
     "name": "stdout",
     "output_type": "stream",
     "text": [
      "Found a component of the region at index 124 that does not intersect any geometry assigned to that region.\n",
      "Found a component of the region at index 124 that does not intersect any geometry assigned to that region.\n",
      "Found a component of the region at index 124 that does not intersect any geometry assigned to that region.\n",
      "Found a component of the region at index 124 that does not intersect any geometry assigned to that region.\n"
     ]
    },
    {
     "name": "stderr",
     "output_type": "stream",
     "text": [
      "Gaps to simplify in region 124:  21%|██        | 10/48 [00:00<00:00, 92.04it/s]"
     ]
    },
    {
     "name": "stdout",
     "output_type": "stream",
     "text": [
      "Found a component of the region at index 124 that does not intersect any geometry assigned to that region.\n",
      "Found a component of the region at index 124 that does not intersect any geometry assigned to that region.\n",
      "Found a component of the region at index 124 that does not intersect any geometry assigned to that region.\n",
      "Found a component of the region at index 124 that does not intersect any geometry assigned to that region.\n",
      "Found a component of the region at index 124 that does not intersect any geometry assigned to that region.\n",
      "Found a component of the region at index 124 that does not intersect any geometry assigned to that region.\n",
      "Found a component of the region at index 124 that does not intersect any geometry assigned to that region.\n",
      "Found a component of the region at index 124 that does not intersect any geometry assigned to that region.\n",
      "Found a component of the region at index 124 that does not intersect any geometry assigned to that region.\n",
      "Found a component of the region at index 124 that does not intersect any geometry assigned to that region.\n",
      "Found a component of the region at index 124 that does not intersect any geometry assigned to that region.\n",
      "Found a component of the region at index 124 that does not intersect any geometry assigned to that region.\n",
      "Found a component of the region at index 124 that does not intersect any geometry assigned to that region.\n"
     ]
    },
    {
     "name": "stderr",
     "output_type": "stream",
     "text": [
      "Gaps to simplify in region 124:  42%|████▏     | 20/48 [00:00<00:00, 84.93it/s]"
     ]
    },
    {
     "name": "stdout",
     "output_type": "stream",
     "text": [
      "Found a component of the region at index 124 that does not intersect any geometry assigned to that region.\n",
      "Found a component of the region at index 124 that does not intersect any geometry assigned to that region.\n",
      "Found a component of the region at index 124 that does not intersect any geometry assigned to that region.\n"
     ]
    },
    {
     "name": "stderr",
     "output_type": "stream",
     "text": [
      "Gaps to simplify in region 124:  60%|██████    | 29/48 [00:00<00:00, 74.40it/s]"
     ]
    },
    {
     "name": "stdout",
     "output_type": "stream",
     "text": [
      "Found a component of the region at index 124 that does not intersect any geometry assigned to that region.\n",
      "Found a component of the region at index 124 that does not intersect any geometry assigned to that region.\n",
      "Found a component of the region at index 124 that does not intersect any geometry assigned to that region.\n",
      "Found a component of the region at index 124 that does not intersect any geometry assigned to that region.\n",
      "Found a component of the region at index 124 that does not intersect any geometry assigned to that region.\n",
      "Found a component of the region at index 124 that does not intersect any geometry assigned to that region.\n",
      "Found a component of the region at index 124 that does not intersect any geometry assigned to that region.\n",
      "Found a component of the region at index 124 that does not intersect any geometry assigned to that region.\n",
      "Found a component of the region at index 124 that does not intersect any geometry assigned to that region.\n",
      "Found a component of the region at index 124 that does not intersect any geometry assigned to that region.\n",
      "Found a component of the region at index 124 that does not intersect any geometry assigned to that region.\n",
      "Found a component of the region at index 124 that does not intersect any geometry assigned to that region.\n",
      "Found a component of the region at index 124 that does not intersect any geometry assigned to that region.\n",
      "Found a component of the region at index 124 that does not intersect any geometry assigned to that region.\n",
      "Found a component of the region at index 124 that does not intersect any geometry assigned to that region.\n"
     ]
    },
    {
     "name": "stderr",
     "output_type": "stream",
     "text": [
      "Gaps to simplify in region 124: 100%|██████████| 48/48 [00:00<00:00, 81.14it/s]\n"
     ]
    },
    {
     "name": "stdout",
     "output_type": "stream",
     "text": [
      "Found a component of the region at index 124 that does not intersect any geometry assigned to that region.\n",
      "Found a component of the region at index 124 that does not intersect any geometry assigned to that region.\n",
      "Found a component of the region at index 124 that does not intersect any geometry assigned to that region.\n",
      "Found a component of the region at index 124 that does not intersect any geometry assigned to that region.\n",
      "Found a component of the region at index 124 that does not intersect any geometry assigned to that region.\n",
      "Found a component of the region at index 124 that does not intersect any geometry assigned to that region.\n",
      "Found a component of the region at index 124 that does not intersect any geometry assigned to that region.\n",
      "Found a component of the region at index 124 that does not intersect any geometry assigned to that region.\n",
      "Found a component of the region at index 124 that does not intersect any geometry assigned to that region.\n",
      "Found a component of the region at index 124 that does not intersect any geometry assigned to that region.\n",
      "Found a component of the region at index 124 that does not intersect any geometry assigned to that region.\n",
      "Found a component of the region at index 124 that does not intersect any geometry assigned to that region.\n",
      "Found a component of the region at index 124 that does not intersect any geometry assigned to that region.\n"
     ]
    },
    {
     "name": "stderr",
     "output_type": "stream",
     "text": [
      "Gaps to fill: 0it [00:00, ?it/s]\n"
     ]
    },
    {
     "name": "stdout",
     "output_type": "stream",
     "text": [
      "1 gaps in region 125 will remain unfilled, because they either are not simply connected or exceed the area threshold.\n"
     ]
    },
    {
     "name": "stderr",
     "output_type": "stream",
     "text": [
      "Gaps to simplify in region 125: 100%|██████████| 479/479 [00:24<00:00, 19.17it/s]\n",
      "Gaps to fill in region 125: 100%|██████████| 40/40 [00:00<00:00, 40.73it/s]\n",
      "Gaps to simplify in region 126:  17%|█▋        | 30/178 [00:00<00:00, 149.61it/s]"
     ]
    },
    {
     "name": "stdout",
     "output_type": "stream",
     "text": [
      "Found a component of the region at index 126 that does not intersect any geometry assigned to that region.\n",
      "Found a component of the region at index 126 that does not intersect any geometry assigned to that region.\n",
      "Found a component of the region at index 126 that does not intersect any geometry assigned to that region.\n",
      "Found a component of the region at index 126 that does not intersect any geometry assigned to that region.\n",
      "Found a component of the region at index 126 that does not intersect any geometry assigned to that region.\n",
      "Found a component of the region at index 126 that does not intersect any geometry assigned to that region.\n",
      "Found a component of the region at index 126 that does not intersect any geometry assigned to that region.\n",
      "Found a component of the region at index 126 that does not intersect any geometry assigned to that region.\n",
      "Found a component of the region at index 126 that does not intersect any geometry assigned to that region.\n",
      "Found a component of the region at index 126 that does not intersect any geometry assigned to that region.\n",
      "Found a component of the region at index 126 that does not intersect any geometry assigned to that region.\n",
      "Found a component of the region at index 126 that does not intersect any geometry assigned to that region.\n",
      "Found a component of the region at index 126 that does not intersect any geometry assigned to that region.\n",
      "Found a component of the region at index 126 that does not intersect any geometry assigned to that region.\n",
      "Found a component of the region at index 126 that does not intersect any geometry assigned to that region.\n",
      "Found a component of the region at index 126 that does not intersect any geometry assigned to that region.\n",
      "Found a component of the region at index 126 that does not intersect any geometry assigned to that region.\n",
      "Found a component of the region at index 126 that does not intersect any geometry assigned to that region.\n",
      "Found a component of the region at index 126 that does not intersect any geometry assigned to that region.\n",
      "Found a component of the region at index 126 that does not intersect any geometry assigned to that region.\n",
      "Found a component of the region at index 126 that does not intersect any geometry assigned to that region.\n",
      "Found a component of the region at index 126 that does not intersect any geometry assigned to that region.\n",
      "Found a component of the region at index 126 that does not intersect any geometry assigned to that region.\n",
      "Found a component of the region at index 126 that does not intersect any geometry assigned to that region.\n",
      "Found a component of the region at index 126 that does not intersect any geometry assigned to that region.\n",
      "Found a component of the region at index 126 that does not intersect any geometry assigned to that region.\n",
      "Found a component of the region at index 126 that does not intersect any geometry assigned to that region.\n",
      "Found a component of the region at index 126 that does not intersect any geometry assigned to that region.\n",
      "Found a component of the region at index 126 that does not intersect any geometry assigned to that region.\n",
      "Found a component of the region at index 126 that does not intersect any geometry assigned to that region.\n",
      "Found a component of the region at index 126 that does not intersect any geometry assigned to that region.\n",
      "Found a component of the region at index 126 that does not intersect any geometry assigned to that region.\n",
      "Found a component of the region at index 126 that does not intersect any geometry assigned to that region.\n",
      "Found a component of the region at index 126 that does not intersect any geometry assigned to that region.\n",
      "Found a component of the region at index 126 that does not intersect any geometry assigned to that region.\n",
      "Found a component of the region at index 126 that does not intersect any geometry assigned to that region.\n"
     ]
    },
    {
     "name": "stderr",
     "output_type": "stream",
     "text": [
      "Gaps to simplify in region 126:  25%|██▌       | 45/178 [00:00<00:00, 134.64it/s]"
     ]
    },
    {
     "name": "stdout",
     "output_type": "stream",
     "text": [
      "Found a component of the region at index 126 that does not intersect any geometry assigned to that region.\n",
      "Found a component of the region at index 126 that does not intersect any geometry assigned to that region.\n",
      "Found a component of the region at index 126 that does not intersect any geometry assigned to that region.\n",
      "Found a component of the region at index 126 that does not intersect any geometry assigned to that region.\n",
      "Found a component of the region at index 126 that does not intersect any geometry assigned to that region.\n",
      "Found a component of the region at index 126 that does not intersect any geometry assigned to that region.\n",
      "Found a component of the region at index 126 that does not intersect any geometry assigned to that region.\n",
      "Found a component of the region at index 126 that does not intersect any geometry assigned to that region.\n",
      "Found a component of the region at index 126 that does not intersect any geometry assigned to that region.\n",
      "Found a component of the region at index 126 that does not intersect any geometry assigned to that region.\n",
      "Found a component of the region at index 126 that does not intersect any geometry assigned to that region.\n",
      "Found a component of the region at index 126 that does not intersect any geometry assigned to that region.\n",
      "Found a component of the region at index 126 that does not intersect any geometry assigned to that region.\n",
      "Found a component of the region at index 126 that does not intersect any geometry assigned to that region.\n",
      "Found a component of the region at index 126 that does not intersect any geometry assigned to that region.\n",
      "Found a component of the region at index 126 that does not intersect any geometry assigned to that region.\n",
      "Found a component of the region at index 126 that does not intersect any geometry assigned to that region.\n",
      "Found a component of the region at index 126 that does not intersect any geometry assigned to that region.\n",
      "Found a component of the region at index 126 that does not intersect any geometry assigned to that region.\n",
      "Found a component of the region at index 126 that does not intersect any geometry assigned to that region.\n",
      "Found a component of the region at index 126 that does not intersect any geometry assigned to that region.\n",
      "Found a component of the region at index 126 that does not intersect any geometry assigned to that region.\n",
      "Found a component of the region at index 126 that does not intersect any geometry assigned to that region.\n",
      "Found a component of the region at index 126 that does not intersect any geometry assigned to that region.\n"
     ]
    },
    {
     "name": "stderr",
     "output_type": "stream",
     "text": [
      "Gaps to simplify in region 126:  51%|█████     | 90/178 [00:00<00:00, 141.05it/s]"
     ]
    },
    {
     "name": "stdout",
     "output_type": "stream",
     "text": [
      "Found a component of the region at index 126 that does not intersect any geometry assigned to that region.\n",
      "Found a component of the region at index 126 that does not intersect any geometry assigned to that region.\n",
      "Found a component of the region at index 126 that does not intersect any geometry assigned to that region.\n",
      "Found a component of the region at index 126 that does not intersect any geometry assigned to that region.\n",
      "Found a component of the region at index 126 that does not intersect any geometry assigned to that region.\n",
      "Found a component of the region at index 126 that does not intersect any geometry assigned to that region.\n",
      "Found a component of the region at index 126 that does not intersect any geometry assigned to that region.\n",
      "Found a component of the region at index 126 that does not intersect any geometry assigned to that region.\n",
      "Found a component of the region at index 126 that does not intersect any geometry assigned to that region.\n",
      "Found a component of the region at index 126 that does not intersect any geometry assigned to that region.\n",
      "Found a component of the region at index 126 that does not intersect any geometry assigned to that region.\n",
      "Found a component of the region at index 126 that does not intersect any geometry assigned to that region.\n",
      "Found a component of the region at index 126 that does not intersect any geometry assigned to that region.\n",
      "Found a component of the region at index 126 that does not intersect any geometry assigned to that region.\n",
      "Found a component of the region at index 126 that does not intersect any geometry assigned to that region.\n",
      "Found a component of the region at index 126 that does not intersect any geometry assigned to that region.\n",
      "Found a component of the region at index 126 that does not intersect any geometry assigned to that region.\n",
      "Found a component of the region at index 126 that does not intersect any geometry assigned to that region.\n",
      "Found a component of the region at index 126 that does not intersect any geometry assigned to that region.\n",
      "Found a component of the region at index 126 that does not intersect any geometry assigned to that region.\n",
      "Found a component of the region at index 126 that does not intersect any geometry assigned to that region.\n",
      "Found a component of the region at index 126 that does not intersect any geometry assigned to that region.\n",
      "Found a component of the region at index 126 that does not intersect any geometry assigned to that region.\n",
      "Found a component of the region at index 126 that does not intersect any geometry assigned to that region.\n",
      "Found a component of the region at index 126 that does not intersect any geometry assigned to that region.\n",
      "Found a component of the region at index 126 that does not intersect any geometry assigned to that region.\n",
      "Found a component of the region at index 126 that does not intersect any geometry assigned to that region.\n",
      "Found a component of the region at index 126 that does not intersect any geometry assigned to that region.\n",
      "Found a component of the region at index 126 that does not intersect any geometry assigned to that region.\n",
      "Found a component of the region at index 126 that does not intersect any geometry assigned to that region.\n"
     ]
    },
    {
     "name": "stderr",
     "output_type": "stream",
     "text": [
      "Gaps to simplify in region 126:  70%|██████▉   | 124/178 [00:00<00:00, 154.01it/s]"
     ]
    },
    {
     "name": "stdout",
     "output_type": "stream",
     "text": [
      "Found a component of the region at index 126 that does not intersect any geometry assigned to that region.\n",
      "Found a component of the region at index 126 that does not intersect any geometry assigned to that region.\n",
      "Found a component of the region at index 126 that does not intersect any geometry assigned to that region.\n",
      "Found a component of the region at index 126 that does not intersect any geometry assigned to that region.\n",
      "Found a component of the region at index 126 that does not intersect any geometry assigned to that region.\n",
      "Found a component of the region at index 126 that does not intersect any geometry assigned to that region.\n",
      "Found a component of the region at index 126 that does not intersect any geometry assigned to that region.\n",
      "Found a component of the region at index 126 that does not intersect any geometry assigned to that region.\n",
      "Found a component of the region at index 126 that does not intersect any geometry assigned to that region.\n",
      "Found a component of the region at index 126 that does not intersect any geometry assigned to that region.\n",
      "Found a component of the region at index 126 that does not intersect any geometry assigned to that region.\n",
      "Found a component of the region at index 126 that does not intersect any geometry assigned to that region.\n",
      "Found a component of the region at index 126 that does not intersect any geometry assigned to that region.\n",
      "Found a component of the region at index 126 that does not intersect any geometry assigned to that region.\n",
      "Found a component of the region at index 126 that does not intersect any geometry assigned to that region.\n",
      "Found a component of the region at index 126 that does not intersect any geometry assigned to that region.\n",
      "Found a component of the region at index 126 that does not intersect any geometry assigned to that region.\n",
      "Found a component of the region at index 126 that does not intersect any geometry assigned to that region.\n",
      "Found a component of the region at index 126 that does not intersect any geometry assigned to that region.\n",
      "Found a component of the region at index 126 that does not intersect any geometry assigned to that region.\n",
      "Found a component of the region at index 126 that does not intersect any geometry assigned to that region.\n",
      "Found a component of the region at index 126 that does not intersect any geometry assigned to that region.\n",
      "Found a component of the region at index 126 that does not intersect any geometry assigned to that region.\n",
      "Found a component of the region at index 126 that does not intersect any geometry assigned to that region.\n",
      "Found a component of the region at index 126 that does not intersect any geometry assigned to that region.\n",
      "Found a component of the region at index 126 that does not intersect any geometry assigned to that region.\n",
      "Found a component of the region at index 126 that does not intersect any geometry assigned to that region.\n",
      "Found a component of the region at index 126 that does not intersect any geometry assigned to that region.\n",
      "Found a component of the region at index 126 that does not intersect any geometry assigned to that region.\n",
      "Found a component of the region at index 126 that does not intersect any geometry assigned to that region.\n",
      "Found a component of the region at index 126 that does not intersect any geometry assigned to that region.\n",
      "Found a component of the region at index 126 that does not intersect any geometry assigned to that region.\n",
      "Found a component of the region at index 126 that does not intersect any geometry assigned to that region.\n",
      "Found a component of the region at index 126 that does not intersect any geometry assigned to that region.\n"
     ]
    },
    {
     "name": "stderr",
     "output_type": "stream",
     "text": [
      "Gaps to simplify in region 126:  79%|███████▊  | 140/178 [00:00<00:00, 138.43it/s]"
     ]
    },
    {
     "name": "stdout",
     "output_type": "stream",
     "text": [
      "Found a component of the region at index 126 that does not intersect any geometry assigned to that region.\n",
      "Found a component of the region at index 126 that does not intersect any geometry assigned to that region.\n",
      "Found a component of the region at index 126 that does not intersect any geometry assigned to that region.\n",
      "Found a component of the region at index 126 that does not intersect any geometry assigned to that region.\n",
      "Found a component of the region at index 126 that does not intersect any geometry assigned to that region.\n",
      "Found a component of the region at index 126 that does not intersect any geometry assigned to that region.\n",
      "Found a component of the region at index 126 that does not intersect any geometry assigned to that region.\n",
      "Found a component of the region at index 126 that does not intersect any geometry assigned to that region.\n",
      "Found a component of the region at index 126 that does not intersect any geometry assigned to that region.\n",
      "Found a component of the region at index 126 that does not intersect any geometry assigned to that region.\n",
      "Found a component of the region at index 126 that does not intersect any geometry assigned to that region.\n",
      "Found a component of the region at index 126 that does not intersect any geometry assigned to that region.\n",
      "Found a component of the region at index 126 that does not intersect any geometry assigned to that region.\n",
      "Found a component of the region at index 126 that does not intersect any geometry assigned to that region.\n",
      "Found a component of the region at index 126 that does not intersect any geometry assigned to that region.\n",
      "Found a component of the region at index 126 that does not intersect any geometry assigned to that region.\n",
      "Found a component of the region at index 126 that does not intersect any geometry assigned to that region.\n",
      "Found a component of the region at index 126 that does not intersect any geometry assigned to that region.\n",
      "Found a component of the region at index 126 that does not intersect any geometry assigned to that region.\n",
      "Found a component of the region at index 126 that does not intersect any geometry assigned to that region.\n",
      "Found a component of the region at index 126 that does not intersect any geometry assigned to that region.\n",
      "Found a component of the region at index 126 that does not intersect any geometry assigned to that region.\n",
      "Found a component of the region at index 126 that does not intersect any geometry assigned to that region.\n",
      "Found a component of the region at index 126 that does not intersect any geometry assigned to that region.\n",
      "Found a component of the region at index 126 that does not intersect any geometry assigned to that region.\n"
     ]
    },
    {
     "name": "stderr",
     "output_type": "stream",
     "text": [
      "Gaps to simplify in region 126: 100%|██████████| 178/178 [00:01<00:00, 140.91it/s]"
     ]
    },
    {
     "name": "stdout",
     "output_type": "stream",
     "text": [
      "Found a component of the region at index 126 that does not intersect any geometry assigned to that region.\n",
      "Found a component of the region at index 126 that does not intersect any geometry assigned to that region.\n",
      "Found a component of the region at index 126 that does not intersect any geometry assigned to that region.\n",
      "Found a component of the region at index 126 that does not intersect any geometry assigned to that region.\n",
      "Found a component of the region at index 126 that does not intersect any geometry assigned to that region.\n",
      "Found a component of the region at index 126 that does not intersect any geometry assigned to that region.\n",
      "Found a component of the region at index 126 that does not intersect any geometry assigned to that region.\n",
      "Found a component of the region at index 126 that does not intersect any geometry assigned to that region.\n",
      "Found a component of the region at index 126 that does not intersect any geometry assigned to that region.\n",
      "Found a component of the region at index 126 that does not intersect any geometry assigned to that region.\n",
      "Found a component of the region at index 126 that does not intersect any geometry assigned to that region.\n",
      "Found a component of the region at index 126 that does not intersect any geometry assigned to that region.\n",
      "Found a component of the region at index 126 that does not intersect any geometry assigned to that region.\n",
      "Found a component of the region at index 126 that does not intersect any geometry assigned to that region.\n",
      "Found a component of the region at index 126 that does not intersect any geometry assigned to that region.\n",
      "Found a component of the region at index 126 that does not intersect any geometry assigned to that region.\n",
      "Found a component of the region at index 126 that does not intersect any geometry assigned to that region.\n",
      "Found a component of the region at index 126 that does not intersect any geometry assigned to that region.\n",
      "Found a component of the region at index 126 that does not intersect any geometry assigned to that region.\n",
      "Found a component of the region at index 126 that does not intersect any geometry assigned to that region.\n",
      "Found a component of the region at index 126 that does not intersect any geometry assigned to that region.\n",
      "Found a component of the region at index 126 that does not intersect any geometry assigned to that region.\n",
      "Found a component of the region at index 126 that does not intersect any geometry assigned to that region.\n",
      "Found a component of the region at index 126 that does not intersect any geometry assigned to that region.\n",
      "Found a component of the region at index 126 that does not intersect any geometry assigned to that region.\n",
      "Found a component of the region at index 126 that does not intersect any geometry assigned to that region.\n",
      "Found a component of the region at index 126 that does not intersect any geometry assigned to that region.\n",
      "Found a component of the region at index 126 that does not intersect any geometry assigned to that region.\n",
      "Found a component of the region at index 126 that does not intersect any geometry assigned to that region.\n"
     ]
    },
    {
     "name": "stderr",
     "output_type": "stream",
     "text": [
      "\n",
      "Gaps to fill: 0it [00:00, ?it/s]\n"
     ]
    },
    {
     "name": "stdout",
     "output_type": "stream",
     "text": [
      "1 gaps in region 127 will remain unfilled, because they either are not simply connected or exceed the area threshold.\n"
     ]
    },
    {
     "name": "stderr",
     "output_type": "stream",
     "text": [
      "Gaps to simplify in region 127:   4%|▎         | 13/362 [00:00<00:03, 114.36it/s]"
     ]
    },
    {
     "name": "stdout",
     "output_type": "stream",
     "text": [
      "Found a component of the region at index 127 that does not intersect any geometry assigned to that region.\n",
      "Found a component of the region at index 127 that does not intersect any geometry assigned to that region.\n",
      "Found a component of the region at index 127 that does not intersect any geometry assigned to that region.\n",
      "Found a component of the region at index 127 that does not intersect any geometry assigned to that region.\n",
      "Found a component of the region at index 127 that does not intersect any geometry assigned to that region.\n",
      "Found a component of the region at index 127 that does not intersect any geometry assigned to that region.\n",
      "Found a component of the region at index 127 that does not intersect any geometry assigned to that region.\n",
      "Found a component of the region at index 127 that does not intersect any geometry assigned to that region.\n",
      "Found a component of the region at index 127 that does not intersect any geometry assigned to that region.\n",
      "Found a component of the region at index 127 that does not intersect any geometry assigned to that region.\n",
      "Found a component of the region at index 127 that does not intersect any geometry assigned to that region.\n",
      "Found a component of the region at index 127 that does not intersect any geometry assigned to that region.\n"
     ]
    },
    {
     "name": "stderr",
     "output_type": "stream",
     "text": [
      "Gaps to simplify in region 127: 100%|██████████| 362/362 [01:04<00:00,  5.62it/s]\n",
      "Gaps to fill in region 127: 100%|██████████| 37/37 [00:06<00:00,  6.04it/s]\n"
     ]
    },
    {
     "name": "stdout",
     "output_type": "stream",
     "text": [
      "1 gaps in region 128 will remain unfilled, because they either are not simply connected or exceed the area threshold.\n"
     ]
    },
    {
     "name": "stderr",
     "output_type": "stream",
     "text": [
      "Gaps to simplify in region 128: 100%|██████████| 55/55 [01:16<00:00,  1.40s/it]\n",
      "Gaps to fill in region 128: 100%|██████████| 8/8 [00:04<00:00,  1.99it/s]\n"
     ]
    },
    {
     "name": "stdout",
     "output_type": "stream",
     "text": [
      "1 gaps in region 129 will remain unfilled, because they either are not simply connected or exceed the area threshold.\n"
     ]
    },
    {
     "name": "stderr",
     "output_type": "stream",
     "text": [
      "Gaps to simplify in region 129: 100%|██████████| 24/24 [00:00<00:00, 25.98it/s]\n"
     ]
    },
    {
     "name": "stdout",
     "output_type": "stream",
     "text": [
      "Found a component of the region at index 129 that does not intersect any geometry assigned to that region.\n",
      "Found a component of the region at index 129 that does not intersect any geometry assigned to that region.\n",
      "Found a component of the region at index 129 that does not intersect any geometry assigned to that region.\n"
     ]
    },
    {
     "name": "stderr",
     "output_type": "stream",
     "text": [
      "Gaps to fill: 0it [00:00, ?it/s]\n",
      "Gaps to simplify in region 130: 100%|██████████| 5/5 [00:00<00:00, 98.88it/s]\n"
     ]
    },
    {
     "name": "stdout",
     "output_type": "stream",
     "text": [
      "Found a component of the region at index 130 that does not intersect any geometry assigned to that region.\n",
      "Found a component of the region at index 130 that does not intersect any geometry assigned to that region.\n",
      "Found a component of the region at index 130 that does not intersect any geometry assigned to that region.\n",
      "Found a component of the region at index 130 that does not intersect any geometry assigned to that region.\n",
      "Found a component of the region at index 130 that does not intersect any geometry assigned to that region.\n"
     ]
    },
    {
     "name": "stderr",
     "output_type": "stream",
     "text": [
      "Gaps to fill: 0it [00:00, ?it/s]\n",
      "Gaps to simplify in region 131:   0%|          | 0/39 [00:00<?, ?it/s]"
     ]
    },
    {
     "name": "stdout",
     "output_type": "stream",
     "text": [
      "Found a component of the region at index 131 that does not intersect any geometry assigned to that region.\n",
      "Found a component of the region at index 131 that does not intersect any geometry assigned to that region.\n"
     ]
    },
    {
     "name": "stderr",
     "output_type": "stream",
     "text": [
      "Gaps to simplify in region 131:  10%|█         | 4/39 [00:00<00:00, 39.00it/s]"
     ]
    },
    {
     "name": "stdout",
     "output_type": "stream",
     "text": [
      "Found a component of the region at index 131 that does not intersect any geometry assigned to that region.\n",
      "Found a component of the region at index 131 that does not intersect any geometry assigned to that region.\n",
      "Found a component of the region at index 131 that does not intersect any geometry assigned to that region.\n",
      "Found a component of the region at index 131 that does not intersect any geometry assigned to that region.\n",
      "Found a component of the region at index 131 that does not intersect any geometry assigned to that region.\n",
      "Found a component of the region at index 131 that does not intersect any geometry assigned to that region.\n",
      "Found a component of the region at index 131 that does not intersect any geometry assigned to that region.\n",
      "Found a component of the region at index 131 that does not intersect any geometry assigned to that region.\n",
      "Found a component of the region at index 131 that does not intersect any geometry assigned to that region.\n",
      "Found a component of the region at index 131 that does not intersect any geometry assigned to that region.\n",
      "Found a component of the region at index 131 that does not intersect any geometry assigned to that region.\n",
      "Found a component of the region at index 131 that does not intersect any geometry assigned to that region.\n",
      "Found a component of the region at index 131 that does not intersect any geometry assigned to that region.\n",
      "Found a component of the region at index 131 that does not intersect any geometry assigned to that region.\n",
      "Found a component of the region at index 131 that does not intersect any geometry assigned to that region.\n"
     ]
    },
    {
     "name": "stderr",
     "output_type": "stream",
     "text": [
      "Gaps to simplify in region 131:  46%|████▌     | 18/39 [00:00<00:00, 83.22it/s]"
     ]
    },
    {
     "name": "stdout",
     "output_type": "stream",
     "text": [
      "Found a component of the region at index 131 that does not intersect any geometry assigned to that region.\n",
      "Found a component of the region at index 131 that does not intersect any geometry assigned to that region.\n",
      "Found a component of the region at index 131 that does not intersect any geometry assigned to that region.\n",
      "Found a component of the region at index 131 that does not intersect any geometry assigned to that region.\n",
      "Found a component of the region at index 131 that does not intersect any geometry assigned to that region.\n",
      "Found a component of the region at index 131 that does not intersect any geometry assigned to that region.\n",
      "Found a component of the region at index 131 that does not intersect any geometry assigned to that region.\n"
     ]
    },
    {
     "name": "stderr",
     "output_type": "stream",
     "text": [
      "Gaps to simplify in region 131:  72%|███████▏  | 28/39 [00:00<00:00, 85.71it/s]"
     ]
    },
    {
     "name": "stdout",
     "output_type": "stream",
     "text": [
      "Found a component of the region at index 131 that does not intersect any geometry assigned to that region.\n",
      "Found a component of the region at index 131 that does not intersect any geometry assigned to that region.\n",
      "Found a component of the region at index 131 that does not intersect any geometry assigned to that region.\n",
      "Found a component of the region at index 131 that does not intersect any geometry assigned to that region.\n",
      "Found a component of the region at index 131 that does not intersect any geometry assigned to that region.\n",
      "Found a component of the region at index 131 that does not intersect any geometry assigned to that region.\n",
      "Found a component of the region at index 131 that does not intersect any geometry assigned to that region.\n",
      "Found a component of the region at index 131 that does not intersect any geometry assigned to that region.\n",
      "Found a component of the region at index 131 that does not intersect any geometry assigned to that region.\n",
      "Found a component of the region at index 131 that does not intersect any geometry assigned to that region.\n",
      "Found a component of the region at index 131 that does not intersect any geometry assigned to that region.\n",
      "Found a component of the region at index 131 that does not intersect any geometry assigned to that region.\n",
      "Found a component of the region at index 131 that does not intersect any geometry assigned to that region.\n",
      "Found a component of the region at index 131 that does not intersect any geometry assigned to that region.\n"
     ]
    },
    {
     "name": "stderr",
     "output_type": "stream",
     "text": [
      "Gaps to simplify in region 131: 100%|██████████| 39/39 [00:00<00:00, 85.83it/s]\n"
     ]
    },
    {
     "name": "stdout",
     "output_type": "stream",
     "text": [
      "Found a component of the region at index 131 that does not intersect any geometry assigned to that region.\n"
     ]
    },
    {
     "name": "stderr",
     "output_type": "stream",
     "text": [
      "Gaps to fill: 0it [00:00, ?it/s]\n"
     ]
    },
    {
     "name": "stdout",
     "output_type": "stream",
     "text": [
      "WARNING: A component of the geometry at index 79 may have been disconnected!\n",
      "WARNING: A component of the geometry at index 134 may have been disconnected!\n",
      "WARNING: A component of the geometry at index 202 may have been disconnected!\n",
      "WARNING: A component of the geometry at index 345 may have been disconnected!\n",
      "WARNING: A component of the geometry at index 620 may have been disconnected!\n",
      "WARNING: A component of the geometry at index 649 may have been disconnected!\n",
      "WARNING: A component of the geometry at index 742 may have been disconnected!\n",
      "WARNING: A component of the geometry at index 754 may have been disconnected!\n",
      "WARNING: A component of the geometry at index 843 may have been disconnected!\n",
      "WARNING: A component of the geometry at index 845 may have been disconnected!\n",
      "WARNING: A component of the geometry at index 866 may have been disconnected!\n",
      "WARNING: A component of the geometry at index 867 may have been disconnected!\n",
      "WARNING: A component of the geometry at index 879 may have been disconnected!\n",
      "WARNING: A component of the geometry at index 941 may have been disconnected!\n",
      "WARNING: A component of the geometry at index 1086 may have been disconnected!\n",
      "WARNING: A component of the geometry at index 1118 may have been disconnected!\n",
      "WARNING: A component of the geometry at index 1136 may have been disconnected!\n",
      "WARNING: A component of the geometry at index 1141 may have been disconnected!\n",
      "WARNING: A component of the geometry at index 1168 may have been disconnected!\n",
      "WARNING: A component of the geometry at index 1213 may have been disconnected!\n",
      "WARNING: A component of the geometry at index 1231 may have been disconnected!\n",
      "WARNING: A component of the geometry at index 1242 may have been disconnected!\n",
      "WARNING: A component of the geometry at index 1246 may have been disconnected!\n",
      "WARNING: A component of the geometry at index 1260 may have been disconnected!\n",
      "WARNING: A component of the geometry at index 1264 may have been disconnected!\n",
      "WARNING: A component of the geometry at index 1299 may have been disconnected!\n",
      "WARNING: A component of the geometry at index 1301 may have been disconnected!\n",
      "WARNING: A component of the geometry at index 1305 may have been disconnected!\n",
      "WARNING: A component of the geometry at index 1311 may have been disconnected!\n",
      "WARNING: A component of the geometry at index 1313 may have been disconnected!\n"
     ]
    }
   ],
   "execution_count": 12
  },
  {
   "metadata": {},
   "cell_type": "markdown",
   "source": [
    "Assign the population data to the precincts using MAUP and geometry intersection.<br>\n",
    "For all the new repaired dataframes."
   ],
   "id": "4813b1cc6b3f5d4a"
  },
  {
   "metadata": {
    "ExecuteTime": {
     "end_time": "2025-04-10T04:13:52.253828Z",
     "start_time": "2025-04-10T04:13:09.201005Z"
    }
   },
   "cell_type": "code",
   "source": [
    "print(\"Assigning pop to vest20_df_repaired_with_county_sen_0\")\n",
    "utilities.assign_population_data_to(\n",
    "    vest20_df_repaired_with_county_sen_0,\n",
    "    population_df,\n",
    "    vap_df,\n",
    "    pop_column_names,\n",
    "    vap_column_names\n",
    ")"
   ],
   "id": "705802d9e46b6dd2",
   "outputs": [
    {
     "name": "stdout",
     "output_type": "stream",
     "text": [
      "Assigning pop to vest20_df_repaired_with_county_sen_0\n"
     ]
    }
   ],
   "execution_count": 16
  },
  {
   "metadata": {},
   "cell_type": "markdown",
   "source": "Check if any people got missed by the assignment.",
   "id": "1f5512ac12f845c9"
  },
  {
   "metadata": {
    "ExecuteTime": {
     "end_time": "2025-04-10T04:14:06.745545Z",
     "start_time": "2025-04-10T04:14:06.733036Z"
    }
   },
   "cell_type": "code",
   "source": [
    "print(\"Checking population for sen to vest20_df_repaired_with_county_sen_0\")\n",
    "\n",
    "print(\"Total pop:\\t\", population_df['P0020001'].sum())\n",
    "print(\"Actual pop:\\t\", vest20_df_repaired_with_county_sen_0['P0020001'].sum())\n",
    "print(\"Total vap:\\t\", vap_df['P0040001'].sum())\n",
    "print(\"Actual vap:\\t\", vest20_df_repaired_with_county_sen_0['P0040001'].sum())"
   ],
   "id": "1900c63441c74a93",
   "outputs": [
    {
     "name": "stdout",
     "output_type": "stream",
     "text": [
      "Checking population for sen to vest20_df_repaired_with_county_sen_0\n",
      "Total pop:\t 4237256\n",
      "Actual pop:\t 4175964.0\n",
      "Total vap:\t 3370652\n",
      "Actual vap:\t 3320750.0\n"
     ]
    }
   ],
   "execution_count": 18
  },
  {
   "metadata": {},
   "cell_type": "markdown",
   "source": [
    "| Missing People in:                   | POP   | VAP   |\n",
    "|--------------------------------------|-------|-------|\n",
    "| vest20_df_repaired_with_county_0     | 32    | 27    |\n",
    "| vest20_df_repaired_with_sen_0        | 61725 | 50290 |\n",
    "| vest20_df_repaired_with_county_sen_0 | 61292 | 49902 |\n"
   ],
   "id": "2edbcfcc87e19252"
  },
  {
   "metadata": {},
   "cell_type": "markdown",
   "source": "Ok at this point I am going to stop.",
   "id": "53260478de9b390f"
  }
 ],
 "metadata": {
  "kernelspec": {
   "name": "python3",
   "language": "python",
   "display_name": "Python 3 (ipykernel)"
  }
 },
 "nbformat": 5,
 "nbformat_minor": 9
}
