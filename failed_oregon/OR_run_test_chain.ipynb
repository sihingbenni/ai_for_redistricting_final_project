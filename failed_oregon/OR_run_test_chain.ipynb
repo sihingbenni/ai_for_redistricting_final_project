{
  "cells": [
    {
      "metadata": {
        "ExecuteTime": {
          "end_time": "2025-04-09T20:45:08.219274Z",
          "start_time": "2025-04-09T20:45:07.455635Z"
        }
      },
      "cell_type": "code",
      "source": [
        "import matplotlib.pyplot as plt\n",
        "import geopandas as gpd\n",
        "import numpy as np\n",
        "from gerrychain import Graph, Partition, proposals, updaters, constraints, accept, MarkovChain, Election\n",
        "from gerrychain.tree import bipartition_tree\n",
        "from gerrychain.updaters import cut_edges, Tally\n",
        "from gerrychain.proposals import recom\n",
        "from gerrychain.accept import always_accept\n",
        "from functools import partial\n",
        "import utilities"
      ],
      "id": "39ea553d8a486ce2",
      "outputs": [],
      "execution_count": 1
    },
    {
      "metadata": {
        "ExecuteTime": {
          "end_time": "2025-04-09T20:45:20.719624Z",
          "start_time": "2025-04-09T20:45:08.219274Z"
        }
      },
      "cell_type": "code",
      "source": [
        "or_graph = Graph.from_file('or_data/OR.shp')\n",
        "or_df = gpd.read_file(\"or_data/OR.shp\")"
      ],
      "id": "54ae5007459c18a5",
      "outputs": [],
      "execution_count": 2
    },
    {
      "metadata": {
        "ExecuteTime": {
          "end_time": "2025-04-09T20:45:20.901755Z",
          "start_time": "2025-04-09T20:45:20.896838Z"
        }
      },
      "cell_type": "code",
      "source": [
        "# Set up Election updater\n",
        "election = Election(\"PRE20\", {\"Dem\": \"G20PRED\", \"Rep\": \"G20PRER\"})"
      ],
      "id": "6caa25ffe5d5723f",
      "outputs": [],
      "execution_count": 3
    },
    {
      "metadata": {
        "ExecuteTime": {
          "end_time": "2025-04-09T20:45:20.920948Z",
          "start_time": "2025-04-09T20:45:20.913975Z"
        }
      },
      "cell_type": "code",
      "source": [
        "# Set up the initial partition object\n",
        "initial_partition = Partition(\n",
        "    or_graph,\n",
        "    assignment=\"SEND\",  # as per assignment\n",
        "    updaters={\n",
        "        # setup updaters, that get updated per run of the chain\n",
        "        \"total_population\": Tally(\"TOTPOP\", alias=\"total_population\"),\n",
        "        \"hisp_population\": Tally(\"HISP\", alias=\"hisp_population\"),\n",
        "        \"cut_edges\": cut_edges,\n",
        "        \"PRE20\": election\n",
        "    }\n",
        ")"
      ],
      "id": "d713e00ec0d17bf5",
      "outputs": [],
      "execution_count": 4
    },
    {
      "metadata": {
        "ExecuteTime": {
          "end_time": "2025-04-09T20:45:20.940266Z",
          "start_time": "2025-04-09T20:45:20.932110Z"
        }
      },
      "cell_type": "code",
      "source": [
        "# Define the ideal population\n",
        "ideal_population = sum(initial_partition[\"total_population\"].values()) / len(initial_partition)\n",
        "print(len(initial_partition))\n",
        "print(ideal_population)"
      ],
      "id": "5be505ad7e66c5ec",
      "outputs": [
        {
          "name": "stdout",
          "output_type": "stream",
          "text": [
            "30\n",
            "141241.86666666667\n"
          ]
        }
      ],
      "execution_count": 5
    },
    {
      "metadata": {
        "ExecuteTime": {
          "end_time": "2025-04-09T20:45:20.976614Z",
          "start_time": "2025-04-09T20:45:20.971242Z"
        }
      },
      "cell_type": "code",
      "source": [
        "# Define the recom proposal\n",
        "proposal = partial(\n",
        "    recom,\n",
        "    pop_col=\"TOTPOP\",\n",
        "    pop_target=ideal_population,\n",
        "    epsilon=0.02, # changed from 0.02 to 0.1 because the initial partition was not within 2% of the ideal population\n",
        "    method = partial(\n",
        "        bipartition_tree,\n",
        "        max_attempts=100,\n",
        "        allow_pair_reselection=True  # <-- This is the only change\n",
        "    )\n",
        ")"
      ],
      "id": "bccbc82af99dadb7",
      "outputs": [],
      "execution_count": 6
    },
    {
      "metadata": {
        "ExecuteTime": {
          "end_time": "2025-04-09T20:45:20.995473Z",
          "start_time": "2025-04-09T20:45:20.990205Z"
        }
      },
      "cell_type": "code",
      "source": [
        "def calculate_nr_of_majority_hisp_pop(partition: Partition) -> int:\n",
        "    \"\"\"Calculates the number of districts with majority hispanic population\"\"\"\n",
        "    hisp_population = partition[\"hisp_population\"]\n",
        "    total_population = partition[\"total_population\"]\n",
        "    majority_hisp_pop = 0\n",
        "    for i in hisp_population.keys():\n",
        "        if hisp_population[i] > (0.5 * total_population[i]):\n",
        "            majority_hisp_pop += 1\n",
        "    return majority_hisp_pop"
      ],
      "id": "1fa511ce12b3ece1",
      "outputs": [],
      "execution_count": 7
    },
    {
      "metadata": {
        "ExecuteTime": {
          "end_time": "2025-04-09T20:45:21.014687Z",
          "start_time": "2025-04-09T20:45:21.009016Z"
        }
      },
      "cell_type": "code",
      "source": [
        "def draw_histogram_of_nr_of_cut_edges(_list_of_nr_of_cut_edges: [], nr_of_total_steps: int) -> None:\n",
        "    \"\"\"Draws the histogram for the number of cut edges\"\"\"\n",
        "    plt.hist(_list_of_nr_of_cut_edges)\n",
        "    plt.title(f\"{nr_of_total_steps} steps - cut edges\")\n",
        "    plt.xlabel(\"Number of cut edges\")\n",
        "    plt.ylabel(\"Frequency\")\n",
        "    plt.savefig(f\"images/OR_{nr_of_total_steps}_histogram_of_nr_of_cut_edges.png\")\n",
        "    plt.show()\n",
        "    pass"
      ],
      "id": "af10a1752dd18c59",
      "outputs": [],
      "execution_count": 8
    },
    {
      "metadata": {
        "ExecuteTime": {
          "end_time": "2025-04-09T20:45:21.030725Z",
          "start_time": "2025-04-09T20:45:21.025676Z"
        }
      },
      "cell_type": "code",
      "source": [
        "def draw_histogram_of_nr_of_majority_hisp_pop(_list_of_majority_hisp_pop: [], nr_of_total_steps: int) -> None:\n",
        "    \"\"\"Draws the histogram for the number of districts with majority hispanic population\"\"\"\n",
        "    plt.hist(_list_of_majority_hisp_pop)\n",
        "    plt.title(f\"{nr_of_total_steps} steps - districts with majority hispanic population\")\n",
        "    plt.xlabel(\"Number of districts with majority hispanic population\")\n",
        "    plt.ylabel(\"Frequency\")\n",
        "    plt.savefig(f\"images/OR_{nr_of_total_steps}_histogram_of_nr_of_majority_hisp_pop.png\")\n",
        "    plt.show()\n",
        "    pass"
      ],
      "id": "433ad914062e70e",
      "outputs": [],
      "execution_count": 9
    },
    {
      "metadata": {
        "ExecuteTime": {
          "end_time": "2025-04-09T20:45:21.049003Z",
          "start_time": "2025-04-09T20:45:21.043718Z"
        }
      },
      "cell_type": "code",
      "source": [
        "def draw_histogram_of_nr_of_dem_won_districts(_list_of_dem_won_districts: [], nr_of_total_steps: int) -> None:\n",
        "    \"\"\"Draws the histogram for the number of districts won by the Democratic party\"\"\"\n",
        "    plt.hist(_list_of_dem_won_districts)\n",
        "    plt.title(f\"{nr_of_total_steps} steps - districts won by the Democratic party\")\n",
        "    plt.xlabel(\"Number of districts won by the Democratic party\")\n",
        "    plt.ylabel(\"Frequency\")\n",
        "    plt.savefig(f\"images/OR_{nr_of_total_steps}_histogram_of_nr_of_dem_won_districts.png\")\n",
        "    plt.show()\n",
        "    pass"
      ],
      "id": "8f0453f90c53885e",
      "outputs": [],
      "execution_count": 10
    },
    {
      "metadata": {
        "ExecuteTime": {
          "end_time": "2025-04-09T20:45:21.066327Z",
          "start_time": "2025-04-09T20:45:21.061327Z"
        }
      },
      "cell_type": "code",
      "source": [
        "# define the three lists that are needed to track the changes\n",
        "list_of_nr_of_cut_edges = []\n",
        "list_of_majority_hisp_pop = []\n",
        "list_of_dem_won_districts = []"
      ],
      "id": "dd01d3721b6d9554",
      "outputs": [],
      "execution_count": 11
    },
    {
      "metadata": {
        "ExecuteTime": {
          "end_time": "2025-04-09T20:45:21.084752Z",
          "start_time": "2025-04-09T20:45:21.078361Z"
        }
      },
      "cell_type": "code",
      "source": [
        "def run_the_chain(nr_of_total_steps: int, start_partition: Partition, offset: int = 0) -> Partition:\n",
        "    \"\"\"Runs the chain for the specified number of steps. Returns the last partition\"\"\"\n",
        "\n",
        "    # Set up the chain\n",
        "    chain = MarkovChain(\n",
        "        proposal=proposal,\n",
        "        constraints=[\n",
        "            # Compactness constraint\n",
        "            constraints.UpperBound(lambda p: len(p[\"cut_edges\"]), 2 * len(initial_partition[\"cut_edges\"])),\n",
        "            # Population constraint\n",
        "            # had to change the percentage to 0.1, because the initial partition was not within 2% of the ideal population\n",
        "            constraints.within_percent_of_ideal_population(initial_partition, 0.1, \"total_population\")\n",
        "        ],\n",
        "        accept=always_accept,\n",
        "        initial_state=start_partition,\n",
        "        total_steps=nr_of_total_steps\n",
        "    )\n",
        "    last_partition: Partition = start_partition\n",
        "\n",
        "    for (i, partition) in enumerate(chain.with_progress_bar()):\n",
        "        # append the number of cut edges for this proposal to the list\n",
        "        list_of_nr_of_cut_edges.append(len(partition.cut_edges))\n",
        "        # append the number of majority hispanic population for this proposal to the list\n",
        "        list_of_majority_hisp_pop.append(calculate_nr_of_majority_hisp_pop(partition))\n",
        "        # append the number of districts won by the Democratic party for this proposal to the list\n",
        "        list_of_dem_won_districts.append(partition[\"PRE20\"].wins(\"Dem\"))\n",
        "\n",
        "        # draw every 1000 steps the diagram\n",
        "        if i % 1000 == 0:\n",
        "            print(f\"Drawing diagram for step {i + offset}\")\n",
        "            utilities.render_oregon_partition(or_df, partition, f\"OR_Gerrychain_step_{i + offset}\", show=False)\n",
        "\n",
        "        # store the last partition\n",
        "        last_partition = partition\n",
        "\n",
        "    draw_histogram_of_nr_of_cut_edges(list_of_nr_of_cut_edges, nr_of_total_steps + offset)\n",
        "    draw_histogram_of_nr_of_majority_hisp_pop(list_of_majority_hisp_pop, nr_of_total_steps + offset)\n",
        "    draw_histogram_of_nr_of_dem_won_districts(list_of_dem_won_districts, nr_of_total_steps + offset)\n",
        "\n",
        "    utilities.render_oregon_partition(or_df, last_partition, f\"OR_Gerrychain_step_{nr_of_total_steps + offset}\", show=False)\n",
        "    return last_partition"
      ],
      "id": "f8de4fe7e54ab36e",
      "outputs": [],
      "execution_count": 12
    },
    {
      "metadata": {
        "ExecuteTime": {
          "start_time": "2025-04-09T20:45:21.107163Z"
        }
      },
      "cell_type": "code",
      "source": "partition_at_20_000 = run_the_chain(20_000, initial_partition)",
      "id": "6e7c325def49f063",
      "outputs": [
        {
          "data": {
            "text/plain": [
              "  0%|          | 0/20000 [00:00<?, ?it/s]"
            ],
            "application/vnd.jupyter.widget-view+json": {
              "version_major": 2,
              "version_minor": 0,
              "model_id": "d8db422e93384187adc045774c32ab5f"
            }
          },
          "metadata": {},
          "output_type": "display_data"
        },
        {
          "name": "stdout",
          "output_type": "stream",
          "text": [
            "Drawing diagram for step 0\n",
            "Drawing diagram for step 1000\n",
            "Drawing diagram for step 2000\n",
            "Drawing diagram for step 3000\n"
          ]
        }
      ],
      "execution_count": null
    },
    {
      "metadata": {},
      "cell_type": "markdown",
      "source": "## Checkpoint for 20_000 steps",
      "id": "16c482e7c3848763"
    },
    {
      "metadata": {
        "ExecuteTime": {
          "end_time": "2025-04-09T20:44:29.339019Z",
          "start_time": "2025-04-09T20:44:29.317832Z"
        }
      },
      "cell_type": "code",
      "source": [
        "assignment_at_20_000 = utilities.checkpoint(\"OR_Gerrychain_step_20_000\", partition_at_20_000.assignment)\n",
        "partition_at_20_000 = Partition(\n",
        "    graph=or_graph,\n",
        "    assignment=assignment_at_20_000,\n",
        "    updaters={\n",
        "        \"total_population\": Tally(\"TOTPOP\", alias=\"total_population\"),\n",
        "        \"hisp_population\": Tally(\"HISP\", alias=\"hisp_population\"),\n",
        "        \"cut_edges\": cut_edges,\n",
        "        \"PRE20\": election\n",
        "    }\n",
        ")"
      ],
      "id": "7486c3c3123d854a",
      "outputs": [
        {
          "name": "stdout",
          "output_type": "stream",
          "text": [
            "Checkpoint: OR_Gerrychain_step_20_000\n",
            "Data loaded from cache.\n"
          ]
        }
      ],
      "execution_count": 16
    },
    {
      "metadata": {
        "ExecuteTime": {
          "end_time": "2025-04-09T20:44:37.205950Z",
          "start_time": "2025-04-09T20:44:32.786826Z"
        }
      },
      "cell_type": "code",
      "source": "partition_at_40_000 = run_the_chain(40_000, partition_at_20_000, offset=20_000)",
      "id": "ef50f182402a20e8",
      "outputs": [
        {
          "data": {
            "text/plain": [
              "  0%|          | 0/40000 [00:00<?, ?it/s]"
            ],
            "application/vnd.jupyter.widget-view+json": {
              "version_major": 2,
              "version_minor": 0,
              "model_id": "15fb538d19244f108f2e6741b4508d70"
            }
          },
          "metadata": {},
          "output_type": "display_data"
        },
        {
          "name": "stdout",
          "output_type": "stream",
          "text": [
            "Drawing diagram for step 20000\n"
          ]
        },
        {
          "ename": "KeyboardInterrupt",
          "evalue": "",
          "output_type": "error",
          "traceback": [
            "\u001b[1;31m---------------------------------------------------------------------------\u001b[0m",
            "\u001b[1;31mKeyboardInterrupt\u001b[0m                         Traceback (most recent call last)",
            "Cell \u001b[1;32mIn[17], line 1\u001b[0m\n\u001b[1;32m----> 1\u001b[0m partition_at_40_000 \u001b[38;5;241m=\u001b[39m \u001b[43mrun_the_chain\u001b[49m\u001b[43m(\u001b[49m\u001b[38;5;241;43m40_000\u001b[39;49m\u001b[43m,\u001b[49m\u001b[43m \u001b[49m\u001b[43mpartition_at_20_000\u001b[49m\u001b[43m,\u001b[49m\u001b[43m \u001b[49m\u001b[43moffset\u001b[49m\u001b[38;5;241;43m=\u001b[39;49m\u001b[38;5;241;43m20_000\u001b[39;49m\u001b[43m)\u001b[49m\n",
            "Cell \u001b[1;32mIn[12], line 20\u001b[0m, in \u001b[0;36mrun_the_chain\u001b[1;34m(nr_of_total_steps, start_partition, offset)\u001b[0m\n\u001b[0;32m      5\u001b[0m chain \u001b[38;5;241m=\u001b[39m MarkovChain(\n\u001b[0;32m      6\u001b[0m     proposal\u001b[38;5;241m=\u001b[39mproposal,\n\u001b[0;32m      7\u001b[0m     constraints\u001b[38;5;241m=\u001b[39m[\n\u001b[1;32m   (...)\u001b[0m\n\u001b[0;32m     16\u001b[0m     total_steps\u001b[38;5;241m=\u001b[39mnr_of_total_steps\n\u001b[0;32m     17\u001b[0m )\n\u001b[0;32m     18\u001b[0m last_partition: Partition \u001b[38;5;241m=\u001b[39m start_partition\n\u001b[1;32m---> 20\u001b[0m \u001b[43m\u001b[49m\u001b[38;5;28;43;01mfor\u001b[39;49;00m\u001b[43m \u001b[49m\u001b[43m(\u001b[49m\u001b[43mi\u001b[49m\u001b[43m,\u001b[49m\u001b[43m \u001b[49m\u001b[43mpartition\u001b[49m\u001b[43m)\u001b[49m\u001b[43m \u001b[49m\u001b[38;5;129;43;01min\u001b[39;49;00m\u001b[43m \u001b[49m\u001b[38;5;28;43menumerate\u001b[39;49m\u001b[43m(\u001b[49m\u001b[43mchain\u001b[49m\u001b[38;5;241;43m.\u001b[39;49m\u001b[43mwith_progress_bar\u001b[49m\u001b[43m(\u001b[49m\u001b[43m)\u001b[49m\u001b[43m)\u001b[49m\u001b[43m:\u001b[49m\n\u001b[0;32m     21\u001b[0m \u001b[43m    \u001b[49m\u001b[38;5;66;43;03m# append the number of cut edges for this proposal to the list\u001b[39;49;00m\n\u001b[0;32m     22\u001b[0m \u001b[43m    \u001b[49m\u001b[43mlist_of_nr_of_cut_edges\u001b[49m\u001b[38;5;241;43m.\u001b[39;49m\u001b[43mappend\u001b[49m\u001b[43m(\u001b[49m\u001b[38;5;28;43mlen\u001b[39;49m\u001b[43m(\u001b[49m\u001b[43mpartition\u001b[49m\u001b[38;5;241;43m.\u001b[39;49m\u001b[43mcut_edges\u001b[49m\u001b[43m)\u001b[49m\u001b[43m)\u001b[49m\n\u001b[0;32m     23\u001b[0m \u001b[43m    \u001b[49m\u001b[38;5;66;43;03m# append the number of majority hispanic population for this proposal to the list\u001b[39;49;00m\n",
            "File \u001b[1;32m~\\workspace\\6-Semester\\ai-for-redistricting\\venv\\Lib\\site-packages\\tqdm\\notebook.py:250\u001b[0m, in \u001b[0;36mtqdm_notebook.__iter__\u001b[1;34m(self)\u001b[0m\n\u001b[0;32m    248\u001b[0m \u001b[38;5;28;01mtry\u001b[39;00m:\n\u001b[0;32m    249\u001b[0m     it \u001b[38;5;241m=\u001b[39m \u001b[38;5;28msuper\u001b[39m()\u001b[38;5;241m.\u001b[39m\u001b[38;5;21m__iter__\u001b[39m()\n\u001b[1;32m--> 250\u001b[0m \u001b[43m    \u001b[49m\u001b[38;5;28;43;01mfor\u001b[39;49;00m\u001b[43m \u001b[49m\u001b[43mobj\u001b[49m\u001b[43m \u001b[49m\u001b[38;5;129;43;01min\u001b[39;49;00m\u001b[43m \u001b[49m\u001b[43mit\u001b[49m\u001b[43m:\u001b[49m\n\u001b[0;32m    251\u001b[0m \u001b[43m        \u001b[49m\u001b[38;5;66;43;03m# return super(tqdm...) will not catch exception\u001b[39;49;00m\n\u001b[0;32m    252\u001b[0m \u001b[43m        \u001b[49m\u001b[38;5;28;43;01myield\u001b[39;49;00m\u001b[43m \u001b[49m\u001b[43mobj\u001b[49m\n\u001b[0;32m    253\u001b[0m \u001b[38;5;66;03m# NB: except ... [ as ...] breaks IPython async KeyboardInterrupt\u001b[39;00m\n",
            "File \u001b[1;32m~\\workspace\\6-Semester\\ai-for-redistricting\\venv\\Lib\\site-packages\\tqdm\\std.py:1181\u001b[0m, in \u001b[0;36mtqdm.__iter__\u001b[1;34m(self)\u001b[0m\n\u001b[0;32m   1178\u001b[0m time \u001b[38;5;241m=\u001b[39m \u001b[38;5;28mself\u001b[39m\u001b[38;5;241m.\u001b[39m_time\n\u001b[0;32m   1180\u001b[0m \u001b[38;5;28;01mtry\u001b[39;00m:\n\u001b[1;32m-> 1181\u001b[0m \u001b[43m    \u001b[49m\u001b[38;5;28;43;01mfor\u001b[39;49;00m\u001b[43m \u001b[49m\u001b[43mobj\u001b[49m\u001b[43m \u001b[49m\u001b[38;5;129;43;01min\u001b[39;49;00m\u001b[43m \u001b[49m\u001b[43miterable\u001b[49m\u001b[43m:\u001b[49m\n\u001b[0;32m   1182\u001b[0m \u001b[43m        \u001b[49m\u001b[38;5;28;43;01myield\u001b[39;49;00m\u001b[43m \u001b[49m\u001b[43mobj\u001b[49m\n\u001b[0;32m   1183\u001b[0m \u001b[43m        \u001b[49m\u001b[38;5;66;43;03m# Update and possibly print the progressbar.\u001b[39;49;00m\n\u001b[0;32m   1184\u001b[0m \u001b[43m        \u001b[49m\u001b[38;5;66;43;03m# Note: does not call self.update(1) for speed optimisation.\u001b[39;49;00m\n",
            "File \u001b[1;32m~\\workspace\\6-Semester\\ai-for-redistricting\\venv\\Lib\\site-packages\\gerrychain\\chain.py:186\u001b[0m, in \u001b[0;36mMarkovChain.__next__\u001b[1;34m(self)\u001b[0m\n\u001b[0;32m    183\u001b[0m     \u001b[38;5;28;01mreturn\u001b[39;00m \u001b[38;5;28mself\u001b[39m\u001b[38;5;241m.\u001b[39mstate\n\u001b[0;32m    185\u001b[0m \u001b[38;5;28;01mwhile\u001b[39;00m \u001b[38;5;28mself\u001b[39m\u001b[38;5;241m.\u001b[39mcounter \u001b[38;5;241m<\u001b[39m \u001b[38;5;28mself\u001b[39m\u001b[38;5;241m.\u001b[39mtotal_steps:\n\u001b[1;32m--> 186\u001b[0m     proposed_next_state \u001b[38;5;241m=\u001b[39m \u001b[38;5;28;43mself\u001b[39;49m\u001b[38;5;241;43m.\u001b[39;49m\u001b[43mproposal\u001b[49m\u001b[43m(\u001b[49m\u001b[38;5;28;43mself\u001b[39;49m\u001b[38;5;241;43m.\u001b[39;49m\u001b[43mstate\u001b[49m\u001b[43m)\u001b[49m\n\u001b[0;32m    187\u001b[0m     \u001b[38;5;66;03m# Erase the parent of the parent, to avoid memory leak\u001b[39;00m\n\u001b[0;32m    188\u001b[0m     \u001b[38;5;28;01mif\u001b[39;00m \u001b[38;5;28mself\u001b[39m\u001b[38;5;241m.\u001b[39mstate \u001b[38;5;129;01mis\u001b[39;00m \u001b[38;5;129;01mnot\u001b[39;00m \u001b[38;5;28;01mNone\u001b[39;00m:\n",
            "File \u001b[1;32m~\\workspace\\6-Semester\\ai-for-redistricting\\venv\\Lib\\site-packages\\gerrychain\\proposals\\tree_proposals.py:122\u001b[0m, in \u001b[0;36mrecom\u001b[1;34m(partition, pop_col, pop_target, epsilon, node_repeats, region_surcharge, method)\u001b[0m\n\u001b[0;32m    116\u001b[0m             \u001b[38;5;28;01mbreak\u001b[39;00m\n\u001b[0;32m    118\u001b[0m     subgraph \u001b[38;5;241m=\u001b[39m partition\u001b[38;5;241m.\u001b[39mgraph\u001b[38;5;241m.\u001b[39msubgraph(\n\u001b[0;32m    119\u001b[0m         partition\u001b[38;5;241m.\u001b[39mparts[parts_to_merge[\u001b[38;5;241m0\u001b[39m]] \u001b[38;5;241m|\u001b[39m partition\u001b[38;5;241m.\u001b[39mparts[parts_to_merge[\u001b[38;5;241m1\u001b[39m]]\n\u001b[0;32m    120\u001b[0m     )\n\u001b[1;32m--> 122\u001b[0m     flips \u001b[38;5;241m=\u001b[39m \u001b[43mepsilon_tree_bipartition\u001b[49m\u001b[43m(\u001b[49m\n\u001b[0;32m    123\u001b[0m \u001b[43m        \u001b[49m\u001b[43msubgraph\u001b[49m\u001b[38;5;241;43m.\u001b[39;49m\u001b[43mgraph\u001b[49m\u001b[43m,\u001b[49m\n\u001b[0;32m    124\u001b[0m \u001b[43m        \u001b[49m\u001b[43mparts_to_merge\u001b[49m\u001b[43m,\u001b[49m\n\u001b[0;32m    125\u001b[0m \u001b[43m        \u001b[49m\u001b[43mpop_col\u001b[49m\u001b[38;5;241;43m=\u001b[39;49m\u001b[43mpop_col\u001b[49m\u001b[43m,\u001b[49m\n\u001b[0;32m    126\u001b[0m \u001b[43m        \u001b[49m\u001b[43mpop_target\u001b[49m\u001b[38;5;241;43m=\u001b[39;49m\u001b[43mpop_target\u001b[49m\u001b[43m,\u001b[49m\n\u001b[0;32m    127\u001b[0m \u001b[43m        \u001b[49m\u001b[43mepsilon\u001b[49m\u001b[38;5;241;43m=\u001b[39;49m\u001b[43mepsilon\u001b[49m\u001b[43m,\u001b[49m\n\u001b[0;32m    128\u001b[0m \u001b[43m        \u001b[49m\u001b[43mnode_repeats\u001b[49m\u001b[38;5;241;43m=\u001b[39;49m\u001b[43mnode_repeats\u001b[49m\u001b[43m,\u001b[49m\n\u001b[0;32m    129\u001b[0m \u001b[43m        \u001b[49m\u001b[43mmethod\u001b[49m\u001b[38;5;241;43m=\u001b[39;49m\u001b[43mmethod\u001b[49m\u001b[43m,\u001b[49m\n\u001b[0;32m    130\u001b[0m \u001b[43m    \u001b[49m\u001b[43m)\u001b[49m\n\u001b[0;32m    131\u001b[0m     \u001b[38;5;28;01mbreak\u001b[39;00m\n\u001b[0;32m    133\u001b[0m \u001b[38;5;28;01mexcept\u001b[39;00m \u001b[38;5;167;01mException\u001b[39;00m \u001b[38;5;28;01mas\u001b[39;00m e:\n",
            "File \u001b[1;32m~\\workspace\\6-Semester\\ai-for-redistricting\\venv\\Lib\\site-packages\\gerrychain\\tree.py:935\u001b[0m, in \u001b[0;36mepsilon_tree_bipartition\u001b[1;34m(graph, parts, pop_target, pop_col, epsilon, node_repeats, method)\u001b[0m\n\u001b[0;32m    932\u001b[0m ub_pop \u001b[38;5;241m=\u001b[39m pop_target \u001b[38;5;241m*\u001b[39m (\u001b[38;5;241m1\u001b[39m \u001b[38;5;241m+\u001b[39m epsilon)\n\u001b[0;32m    933\u001b[0m check_pop \u001b[38;5;241m=\u001b[39m \u001b[38;5;28;01mlambda\u001b[39;00m x: lb_pop \u001b[38;5;241m<\u001b[39m\u001b[38;5;241m=\u001b[39m x \u001b[38;5;241m<\u001b[39m\u001b[38;5;241m=\u001b[39m ub_pop\n\u001b[1;32m--> 935\u001b[0m nodes \u001b[38;5;241m=\u001b[39m \u001b[43mmethod\u001b[49m\u001b[43m(\u001b[49m\n\u001b[0;32m    936\u001b[0m \u001b[43m    \u001b[49m\u001b[43mgraph\u001b[49m\u001b[38;5;241;43m.\u001b[39;49m\u001b[43msubgraph\u001b[49m\u001b[43m(\u001b[49m\u001b[43mremaining_nodes\u001b[49m\u001b[43m)\u001b[49m\u001b[43m,\u001b[49m\n\u001b[0;32m    937\u001b[0m \u001b[43m    \u001b[49m\u001b[43mpop_col\u001b[49m\u001b[38;5;241;43m=\u001b[39;49m\u001b[43mpop_col\u001b[49m\u001b[43m,\u001b[49m\n\u001b[0;32m    938\u001b[0m \u001b[43m    \u001b[49m\u001b[43mpop_target\u001b[49m\u001b[38;5;241;43m=\u001b[39;49m\u001b[43mpop_target\u001b[49m\u001b[43m,\u001b[49m\n\u001b[0;32m    939\u001b[0m \u001b[43m    \u001b[49m\u001b[43mepsilon\u001b[49m\u001b[38;5;241;43m=\u001b[39;49m\u001b[43mepsilon\u001b[49m\u001b[43m,\u001b[49m\n\u001b[0;32m    940\u001b[0m \u001b[43m    \u001b[49m\u001b[43mnode_repeats\u001b[49m\u001b[38;5;241;43m=\u001b[39;49m\u001b[43mnode_repeats\u001b[49m\u001b[43m,\u001b[49m\n\u001b[0;32m    941\u001b[0m \u001b[43m    \u001b[49m\u001b[43mone_sided_cut\u001b[49m\u001b[38;5;241;43m=\u001b[39;49m\u001b[38;5;28;43;01mFalse\u001b[39;49;00m\u001b[43m,\u001b[49m\n\u001b[0;32m    942\u001b[0m \u001b[43m\u001b[49m\u001b[43m)\u001b[49m\n\u001b[0;32m    944\u001b[0m \u001b[38;5;28;01mif\u001b[39;00m nodes \u001b[38;5;129;01mis\u001b[39;00m \u001b[38;5;28;01mNone\u001b[39;00m:\n\u001b[0;32m    945\u001b[0m     \u001b[38;5;28;01mraise\u001b[39;00m BalanceError()\n",
            "File \u001b[1;32m~\\workspace\\6-Semester\\ai-for-redistricting\\venv\\Lib\\site-packages\\gerrychain\\tree.py:681\u001b[0m, in \u001b[0;36mbipartition_tree\u001b[1;34m(graph, pop_col, pop_target, epsilon, node_repeats, spanning_tree, spanning_tree_fn, region_surcharge, balance_edge_fn, one_sided_cut, choice, max_attempts, warn_attempts, allow_pair_reselection, cut_choice)\u001b[0m\n\u001b[0;32m    679\u001b[0m \u001b[38;5;28;01mwhile\u001b[39;00m max_attempts \u001b[38;5;129;01mis\u001b[39;00m \u001b[38;5;28;01mNone\u001b[39;00m \u001b[38;5;129;01mor\u001b[39;00m attempts \u001b[38;5;241m<\u001b[39m max_attempts:\n\u001b[0;32m    680\u001b[0m     \u001b[38;5;28;01mif\u001b[39;00m restarts \u001b[38;5;241m==\u001b[39m node_repeats:\n\u001b[1;32m--> 681\u001b[0m         spanning_tree \u001b[38;5;241m=\u001b[39m \u001b[43mspanning_tree_fn\u001b[49m\u001b[43m(\u001b[49m\u001b[43mgraph\u001b[49m\u001b[43m)\u001b[49m\n\u001b[0;32m    682\u001b[0m         restarts \u001b[38;5;241m=\u001b[39m \u001b[38;5;241m0\u001b[39m\n\u001b[0;32m    683\u001b[0m     h \u001b[38;5;241m=\u001b[39m PopulatedGraph(spanning_tree, populations, pop_target, epsilon)\n",
            "File \u001b[1;32m~\\workspace\\6-Semester\\ai-for-redistricting\\venv\\Lib\\site-packages\\gerrychain\\tree.py:78\u001b[0m, in \u001b[0;36mrandom_spanning_tree\u001b[1;34m(graph, region_surcharge)\u001b[0m\n\u001b[0;32m     75\u001b[0m \u001b[38;5;28;01mif\u001b[39;00m region_surcharge \u001b[38;5;129;01mis\u001b[39;00m \u001b[38;5;28;01mNone\u001b[39;00m:\n\u001b[0;32m     76\u001b[0m     region_surcharge \u001b[38;5;241m=\u001b[39m \u001b[38;5;28mdict\u001b[39m()\n\u001b[1;32m---> 78\u001b[0m \u001b[43m\u001b[49m\u001b[38;5;28;43;01mfor\u001b[39;49;00m\u001b[43m \u001b[49m\u001b[43medge\u001b[49m\u001b[43m \u001b[49m\u001b[38;5;129;43;01min\u001b[39;49;00m\u001b[43m \u001b[49m\u001b[43mgraph\u001b[49m\u001b[38;5;241;43m.\u001b[39;49m\u001b[43medges\u001b[49m\u001b[43m(\u001b[49m\u001b[43m)\u001b[49m\u001b[43m:\u001b[49m\n\u001b[0;32m     79\u001b[0m \u001b[43m    \u001b[49m\u001b[43mweight\u001b[49m\u001b[43m \u001b[49m\u001b[38;5;241;43m=\u001b[39;49m\u001b[43m \u001b[49m\u001b[43mrandom\u001b[49m\u001b[38;5;241;43m.\u001b[39;49m\u001b[43mrandom\u001b[49m\u001b[43m(\u001b[49m\u001b[43m)\u001b[49m\n\u001b[0;32m     80\u001b[0m \u001b[43m    \u001b[49m\u001b[38;5;28;43;01mfor\u001b[39;49;00m\u001b[43m \u001b[49m\u001b[43mkey\u001b[49m\u001b[43m,\u001b[49m\u001b[43m \u001b[49m\u001b[43mvalue\u001b[49m\u001b[43m \u001b[49m\u001b[38;5;129;43;01min\u001b[39;49;00m\u001b[43m \u001b[49m\u001b[43mregion_surcharge\u001b[49m\u001b[38;5;241;43m.\u001b[39;49m\u001b[43mitems\u001b[49m\u001b[43m(\u001b[49m\u001b[43m)\u001b[49m\u001b[43m:\u001b[49m\n\u001b[0;32m     81\u001b[0m \u001b[43m        \u001b[49m\u001b[38;5;66;43;03m# We surcharge edges that cross regions and those that are not in any region\u001b[39;49;00m\n",
            "File \u001b[1;32m~\\workspace\\6-Semester\\ai-for-redistricting\\venv\\Lib\\site-packages\\networkx\\classes\\reportviews.py:1277\u001b[0m, in \u001b[0;36mEdgeView.__iter__\u001b[1;34m(self)\u001b[0m\n\u001b[0;32m   1275\u001b[0m seen \u001b[38;5;241m=\u001b[39m {}\n\u001b[0;32m   1276\u001b[0m \u001b[38;5;28;01mfor\u001b[39;00m n, nbrs \u001b[38;5;129;01min\u001b[39;00m \u001b[38;5;28mself\u001b[39m\u001b[38;5;241m.\u001b[39m_nodes_nbrs():\n\u001b[1;32m-> 1277\u001b[0m     \u001b[38;5;28;01mfor\u001b[39;00m nbr \u001b[38;5;129;01min\u001b[39;00m \u001b[38;5;28mlist\u001b[39m(nbrs):\n\u001b[0;32m   1278\u001b[0m         \u001b[38;5;28;01mif\u001b[39;00m nbr \u001b[38;5;129;01mnot\u001b[39;00m \u001b[38;5;129;01min\u001b[39;00m seen:\n\u001b[0;32m   1279\u001b[0m             \u001b[38;5;28;01myield\u001b[39;00m (n, nbr)\n",
            "File \u001b[1;32m~\\workspace\\6-Semester\\ai-for-redistricting\\venv\\Lib\\site-packages\\networkx\\classes\\coreviews.py:287\u001b[0m, in \u001b[0;36mFilterAtlas.__len__\u001b[1;34m(self)\u001b[0m\n\u001b[0;32m    284\u001b[0m \u001b[38;5;28;01mdef\u001b[39;00m\u001b[38;5;250m \u001b[39m\u001b[38;5;21m__len__\u001b[39m(\u001b[38;5;28mself\u001b[39m):\n\u001b[0;32m    285\u001b[0m     \u001b[38;5;66;03m# check whether NODE_OK stores the number of nodes as `length`\u001b[39;00m\n\u001b[0;32m    286\u001b[0m     \u001b[38;5;66;03m# or the nodes themselves as a set `nodes`. If not, count the nodes.\u001b[39;00m\n\u001b[1;32m--> 287\u001b[0m     \u001b[38;5;28;01mif\u001b[39;00m \u001b[38;5;28mhasattr\u001b[39m(\u001b[38;5;28mself\u001b[39m\u001b[38;5;241m.\u001b[39mNODE_OK, \u001b[38;5;124m\"\u001b[39m\u001b[38;5;124mlength\u001b[39m\u001b[38;5;124m\"\u001b[39m):\n\u001b[0;32m    288\u001b[0m         \u001b[38;5;28;01mreturn\u001b[39;00m \u001b[38;5;28mself\u001b[39m\u001b[38;5;241m.\u001b[39mNODE_OK\u001b[38;5;241m.\u001b[39mlength\n\u001b[0;32m    289\u001b[0m     \u001b[38;5;28;01mif\u001b[39;00m \u001b[38;5;28mhasattr\u001b[39m(\u001b[38;5;28mself\u001b[39m\u001b[38;5;241m.\u001b[39mNODE_OK, \u001b[38;5;124m\"\u001b[39m\u001b[38;5;124mnodes\u001b[39m\u001b[38;5;124m\"\u001b[39m):\n",
            "\u001b[1;31mKeyboardInterrupt\u001b[0m: "
          ]
        }
      ],
      "execution_count": 17
    },
    {
      "metadata": {},
      "cell_type": "markdown",
      "source": "## Checkpoint for 40_000 steps",
      "id": "1206813dfa4ab639"
    },
    {
      "metadata": {},
      "cell_type": "code",
      "outputs": [],
      "execution_count": null,
      "source": [
        "assignment_at_40_000 = utilities.checkpoint(\"OR_Gerrychain_step_20_000\", partition_at_40_000.assignment)\n",
        "partition_at_40_000 = Partition(\n",
        "    graph=or_graph,\n",
        "    assignment=assignment_at_40_000,\n",
        "    updaters={\n",
        "        \"total_population\": Tally(\"TOTPOP\", alias=\"total_population\"),\n",
        "        \"hisp_population\": Tally(\"HISP\", alias=\"hisp_population\"),\n",
        "        \"cut_edges\": cut_edges,\n",
        "        \"PRE20\": election\n",
        "    }\n",
        ")"
      ],
      "id": "bcd4503510780a3e"
    }
  ],
  "metadata": {
    "kernelspec": {
      "name": "python3",
      "language": "python",
      "display_name": "Python 3 (ipykernel)"
    }
  },
  "nbformat": 4,
  "nbformat_minor": 5
}