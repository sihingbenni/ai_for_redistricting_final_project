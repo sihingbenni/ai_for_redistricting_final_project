{
 "cells": [
  {
   "metadata": {
    "ExecuteTime": {
     "end_time": "2025-04-09T20:16:18.963523Z",
     "start_time": "2025-04-09T20:16:18.126068Z"
    }
   },
   "cell_type": "code",
   "source": [
    "import matplotlib.pyplot as plt\n",
    "import geopandas as gpd\n",
    "import numpy as np\n",
    "from gerrychain import Graph, Partition, proposals, updaters, constraints, accept, MarkovChain, Election\n",
    "from gerrychain.tree import bipartition_tree\n",
    "from gerrychain.updaters import cut_edges, Tally\n",
    "from gerrychain.proposals import recom\n",
    "from gerrychain.accept import always_accept\n",
    "from functools import partial\n",
    "import utilities"
   ],
   "id": "39ea553d8a486ce2",
   "outputs": [],
   "execution_count": 1
  },
  {
   "metadata": {
    "ExecuteTime": {
     "end_time": "2025-04-09T20:16:31.657326Z",
     "start_time": "2025-04-09T20:16:18.966699Z"
    }
   },
   "cell_type": "code",
   "source": [
    "or_graph = Graph.from_file('./or_data/OR.shp')\n",
    "or_df = gpd.read_file(\"./or_data/OR.shp\")"
   ],
   "id": "54ae5007459c18a5",
   "outputs": [],
   "execution_count": 2
  },
  {
   "metadata": {
    "ExecuteTime": {
     "end_time": "2025-04-09T20:16:31.860889Z",
     "start_time": "2025-04-09T20:16:31.854833Z"
    }
   },
   "cell_type": "code",
   "source": [
    "# Set up Election updater\n",
    "election = Election(\"PRE20\", {\"Dem\": \"G20PRED\", \"Rep\": \"G20PRER\"})"
   ],
   "id": "6caa25ffe5d5723f",
   "outputs": [],
   "execution_count": 3
  },
  {
   "metadata": {
    "ExecuteTime": {
     "end_time": "2025-04-09T20:16:31.882014Z",
     "start_time": "2025-04-09T20:16:31.874220Z"
    }
   },
   "cell_type": "code",
   "source": [
    "# Set up the initial partition object\n",
    "initial_partition = Partition(\n",
    "    or_graph,\n",
    "    assignment=\"SEND\",  # as per assignment\n",
    "    updaters={\n",
    "        # setup updaters, that get updated per run of the chain\n",
    "        \"total_population\": Tally(\"TOTPOP\", alias=\"total_population\"),\n",
    "        \"hisp_population\": Tally(\"HISP\", alias=\"hisp_population\"),\n",
    "        \"cut_edges\": cut_edges,\n",
    "        \"PRE20\": election\n",
    "    }\n",
    ")"
   ],
   "id": "d713e00ec0d17bf5",
   "outputs": [],
   "execution_count": 4
  },
  {
   "metadata": {
    "ExecuteTime": {
     "end_time": "2025-04-09T20:16:31.904655Z",
     "start_time": "2025-04-09T20:16:31.896248Z"
    }
   },
   "cell_type": "code",
   "source": [
    "# Define the ideal population\n",
    "ideal_population = sum(initial_partition[\"total_population\"].values()) / len(initial_partition)\n",
    "print(len(initial_partition))\n",
    "print(ideal_population)"
   ],
   "id": "5be505ad7e66c5ec",
   "outputs": [
    {
     "name": "stdout",
     "output_type": "stream",
     "text": [
      "30\n",
      "141241.86666666667\n"
     ]
    }
   ],
   "execution_count": 5
  },
  {
   "metadata": {
    "ExecuteTime": {
     "end_time": "2025-04-09T20:16:31.921986Z",
     "start_time": "2025-04-09T20:16:31.916576Z"
    }
   },
   "cell_type": "code",
   "source": [
    "# Define the recom proposal\n",
    "proposal = partial(\n",
    "    recom,\n",
    "    pop_col=\"TOTPOP\",\n",
    "    pop_target=ideal_population,\n",
    "    epsilon=0.02, # changed from 0.02 to 0.1 because the initial partition was not within 2% of the ideal population\n",
    "    method = partial(\n",
    "        bipartition_tree,\n",
    "        max_attempts=100,\n",
    "        allow_pair_reselection=True  # <-- This is the only change\n",
    "    )\n",
    ")"
   ],
   "id": "bccbc82af99dadb7",
   "outputs": [],
   "execution_count": 6
  },
  {
   "metadata": {
    "ExecuteTime": {
     "end_time": "2025-04-09T20:16:31.955803Z",
     "start_time": "2025-04-09T20:16:31.949979Z"
    }
   },
   "cell_type": "code",
   "source": [
    "def calculate_nr_of_majority_hisp_pop(partition: Partition) -> int:\n",
    "    \"\"\"Calculates the number of districts with majority hispanic population\"\"\"\n",
    "    hisp_population = partition[\"hisp_population\"]\n",
    "    total_population = partition[\"total_population\"]\n",
    "    majority_hisp_pop = 0\n",
    "    for i in hisp_population.keys():\n",
    "        if hisp_population[i] > (0.5 * total_population[i]):\n",
    "            majority_hisp_pop += 1\n",
    "    return majority_hisp_pop"
   ],
   "id": "1fa511ce12b3ece1",
   "outputs": [],
   "execution_count": 7
  },
  {
   "metadata": {
    "ExecuteTime": {
     "end_time": "2025-04-09T20:16:31.965562Z",
     "start_time": "2025-04-09T20:16:31.955803Z"
    }
   },
   "cell_type": "code",
   "source": [
    "def draw_histogram_of_nr_of_cut_edges(_list_of_nr_of_cut_edges: [], nr_of_total_steps: int) -> None:\n",
    "    \"\"\"Draws the histogram for the number of cut edges\"\"\"\n",
    "    plt.hist(_list_of_nr_of_cut_edges)\n",
    "    plt.title(f\"{nr_of_total_steps} steps - cut edges\")\n",
    "    plt.xlabel(\"Number of cut edges\")\n",
    "    plt.ylabel(\"Frequency\")\n",
    "    plt.savefig(f\"images/OR_{nr_of_total_steps}_histogram_of_nr_of_cut_edges.png\")\n",
    "    plt.show()\n",
    "    pass"
   ],
   "id": "af10a1752dd18c59",
   "outputs": [],
   "execution_count": 8
  },
  {
   "metadata": {
    "ExecuteTime": {
     "end_time": "2025-04-09T20:16:31.982342Z",
     "start_time": "2025-04-09T20:16:31.977021Z"
    }
   },
   "cell_type": "code",
   "source": [
    "def draw_histogram_of_nr_of_majority_hisp_pop(_list_of_majority_hisp_pop: [], nr_of_total_steps: int) -> None:\n",
    "    \"\"\"Draws the histogram for the number of districts with majority hispanic population\"\"\"\n",
    "    plt.hist(_list_of_majority_hisp_pop)\n",
    "    plt.title(f\"{nr_of_total_steps} steps - districts with majority hispanic population\")\n",
    "    plt.xlabel(\"Number of districts with majority hispanic population\")\n",
    "    plt.ylabel(\"Frequency\")\n",
    "    plt.savefig(f\"images/OR_{nr_of_total_steps}_histogram_of_nr_of_majority_hisp_pop.png\")\n",
    "    plt.show()\n",
    "    pass"
   ],
   "id": "433ad914062e70e",
   "outputs": [],
   "execution_count": 9
  },
  {
   "metadata": {
    "ExecuteTime": {
     "end_time": "2025-04-09T20:16:32.013283Z",
     "start_time": "2025-04-09T20:16:32.008086Z"
    }
   },
   "cell_type": "code",
   "source": [
    "def draw_histogram_of_nr_of_dem_won_districts(_list_of_dem_won_districts: [], nr_of_total_steps: int) -> None:\n",
    "    \"\"\"Draws the histogram for the number of districts won by the Democratic party\"\"\"\n",
    "    plt.hist(_list_of_dem_won_districts)\n",
    "    plt.title(f\"{nr_of_total_steps} steps - districts won by the Democratic party\")\n",
    "    plt.xlabel(\"Number of districts won by the Democratic party\")\n",
    "    plt.ylabel(\"Frequency\")\n",
    "    plt.savefig(f\"images/OR_{nr_of_total_steps}_histogram_of_nr_of_dem_won_districts.png\")\n",
    "    plt.show()\n",
    "    pass"
   ],
   "id": "8f0453f90c53885e",
   "outputs": [],
   "execution_count": 10
  },
  {
   "metadata": {
    "ExecuteTime": {
     "end_time": "2025-04-09T20:16:32.023447Z",
     "start_time": "2025-04-09T20:16:32.020068Z"
    }
   },
   "cell_type": "code",
   "source": [
    "# define the three lists that are needed to track the changes\n",
    "list_of_nr_of_cut_edges = []\n",
    "list_of_majority_hisp_pop = []\n",
    "list_of_dem_won_districts = []"
   ],
   "id": "dd01d3721b6d9554",
   "outputs": [],
   "execution_count": 11
  },
  {
   "metadata": {
    "ExecuteTime": {
     "end_time": "2025-04-09T20:16:32.044157Z",
     "start_time": "2025-04-09T20:16:32.037152Z"
    }
   },
   "cell_type": "code",
   "source": [
    "def run_the_chain(nr_of_total_steps: int, start_partition: Partition, offset: int = 0) -> Partition:\n",
    "    \"\"\"Runs the chain for the specified number of steps. Returns the last partition\"\"\"\n",
    "\n",
    "    # Set up the chain\n",
    "    chain = MarkovChain(\n",
    "        proposal=proposal,\n",
    "        constraints=[\n",
    "            # Compactness constraint\n",
    "            constraints.UpperBound(lambda p: len(p[\"cut_edges\"]), 2 * len(initial_partition[\"cut_edges\"])),\n",
    "            # Population constraint\n",
    "            # had to change the percentage to 0.1, because the initial partition was not within 2% of the ideal population\n",
    "            constraints.within_percent_of_ideal_population(initial_partition, 0.1, \"total_population\")\n",
    "        ],\n",
    "        accept=always_accept,\n",
    "        initial_state=start_partition,\n",
    "        total_steps=nr_of_total_steps\n",
    "    )\n",
    "    last_partition: Partition = start_partition\n",
    "\n",
    "    for (i, partition) in enumerate(chain.with_progress_bar()):\n",
    "        # append the number of cut edges for this proposal to the list\n",
    "        list_of_nr_of_cut_edges.append(len(partition.cut_edges))\n",
    "        # append the number of majority hispanic population for this proposal to the list\n",
    "        list_of_majority_hisp_pop.append(calculate_nr_of_majority_hisp_pop(partition))\n",
    "        # append the number of districts won by the Democratic party for this proposal to the list\n",
    "        list_of_dem_won_districts.append(partition[\"PRE20\"].wins(\"Dem\"))\n",
    "\n",
    "        # draw every 1000 steps the diagram\n",
    "        if i % 1000 == 0:\n",
    "            print(f\"Drawing diagram for step {i + offset}\")\n",
    "            utilities.render_oregon_partition(or_df, partition, f\"step_{i + offset}\", show=False)\n",
    "\n",
    "        # store the last partition\n",
    "        last_partition = partition\n",
    "\n",
    "    draw_histogram_of_nr_of_cut_edges(list_of_nr_of_cut_edges, nr_of_total_steps + offset)\n",
    "    draw_histogram_of_nr_of_majority_hisp_pop(list_of_majority_hisp_pop, nr_of_total_steps + offset)\n",
    "    draw_histogram_of_nr_of_dem_won_districts(list_of_dem_won_districts, nr_of_total_steps + offset)\n",
    "\n",
    "    return last_partition"
   ],
   "id": "f8de4fe7e54ab36e",
   "outputs": [],
   "execution_count": 12
  },
  {
   "metadata": {
    "jupyter": {
     "is_executing": true
    },
    "ExecuteTime": {
     "start_time": "2025-04-09T20:16:32.058068Z"
    }
   },
   "cell_type": "code",
   "source": "partition_at_20_000 = run_the_chain(20_000, initial_partition)",
   "id": "6e7c325def49f063",
   "outputs": [
    {
     "data": {
      "text/plain": [
       "  0%|          | 0/20000 [00:00<?, ?it/s]"
      ],
      "application/vnd.jupyter.widget-view+json": {
       "version_major": 2,
       "version_minor": 0,
       "model_id": "c7999b5b0bf54d0f8f7a32261cbf08e2"
      }
     },
     "metadata": {},
     "output_type": "display_data"
    },
    {
     "name": "stdout",
     "output_type": "stream",
     "text": [
      "Drawing diagram for step 0\n"
     ]
    }
   ],
   "execution_count": null
  },
  {
   "metadata": {
    "ExecuteTime": {
     "end_time": "2025-04-09T20:11:47.625849Z",
     "start_time": "2025-04-09T20:11:47.622276Z"
    }
   },
   "cell_type": "code",
   "source": "",
   "id": "ef50f182402a20e8",
   "outputs": [],
   "execution_count": null
  }
 ],
 "metadata": {
  "kernelspec": {
   "name": "python3",
   "language": "python",
   "display_name": "Python 3 (ipykernel)"
  }
 },
 "nbformat": 5,
 "nbformat_minor": 9
}
