{
 "cells": [
  {
   "metadata": {},
   "cell_type": "markdown",
   "source": [
    "# Injecting the Vest 2018 data into the map\n",
    "\n",
    "@authors: vcle, bpuhani"
   ],
   "id": "c7543a77a66d73f5"
  },
  {
   "metadata": {
    "ExecuteTime": {
     "end_time": "2025-04-15T19:57:23.651024Z",
     "start_time": "2025-04-15T19:57:23.642928Z"
    }
   },
   "cell_type": "code",
   "source": [
    "import io\n",
    "import time\n",
    "import warnings\n",
    "from contextlib import redirect_stdout\n",
    "import geopandas as gpd\n",
    "\n",
    "import maup\n",
    "\n",
    "import utilities as util"
   ],
   "id": "15d976e084c0d037",
   "outputs": [],
   "execution_count": 24
  },
  {
   "metadata": {
    "ExecuteTime": {
     "end_time": "2025-04-15T19:57:23.698245Z",
     "start_time": "2025-04-15T19:57:23.692530Z"
    }
   },
   "cell_type": "code",
   "source": [
    "maup.progress.enabled = True\n",
    "\n",
    "warnings.filterwarnings('ignore')\n",
    "\n",
    "start_time = time.time()"
   ],
   "id": "1c870b3300c8be79",
   "outputs": [],
   "execution_count": 25
  },
  {
   "metadata": {},
   "cell_type": "markdown",
   "source": [
    "## Loading the needed data.\n",
    "For this notebook to work we assume, that you ran the following notebooks first:\n",
    "* `0_IL_import_and_explore_data.ipynb`\n",
    "* `B_2_IL_clean_maup_with_congress.ipynb`\n",
    "* `B_4_IL_find_map_without_holes_vest20_cong.ipynb`"
   ],
   "id": "4f6f30a7b07fa4e8"
  },
  {
   "metadata": {
    "ExecuteTime": {
     "end_time": "2025-04-15T19:57:28.274217Z",
     "start_time": "2025-04-15T19:57:23.741785Z"
    }
   },
   "cell_type": "code",
   "source": [
    "il_df = util.load_shapefile(\"il_data/IL_congress_without_holes.shp\")\n",
    "vest18_df = util.load_shapefile(\"il_data/il_vest_18/il_vest_18.shp\")\n",
    "county_df = util.load_shapefile(\"il_data/il_pl2020_cnty/il_pl2020_cnty.shp\")\n",
    "vap_df = util.load_shapefile(\"il_data/il_pl2020_b/il_pl2020_p4_b.shp\")\n",
    "population_df = util.load_shapefile(\"il_data/il_pl2020_b/il_pl2020_p2_b.shp\")"
   ],
   "id": "ca32f7e031eadf74",
   "outputs": [
    {
     "name": "stdout",
     "output_type": "stream",
     "text": [
      "Loading shapefile from il_data/IL_congress_without_holes.shp...\n",
      "Shapefile data loaded from cache.\n",
      "Loading shapefile from il_data/il_vest_18/il_vest_18.shp...\n",
      "Shapefile data loaded from cache.\n",
      "Loading shapefile from il_data/il_pl2020_cnty/il_pl2020_cnty.shp...\n",
      "Shapefile data loaded from cache.\n",
      "Loading shapefile from il_data/il_pl2020_b/il_pl2020_p4_b.shp...\n",
      "Shapefile data loaded from cache.\n",
      "Loading shapefile from il_data/il_pl2020_b/il_pl2020_p2_b.shp...\n",
      "Shapefile data loaded from cache.\n"
     ]
    }
   ],
   "execution_count": 26
  },
  {
   "metadata": {},
   "cell_type": "markdown",
   "source": [
    "## Cleaning the vest18 data\n",
    "### Reformating the `crs` of the `vest18_df` to the metric system."
   ],
   "id": "145dfc2abf797a5"
  },
  {
   "metadata": {
    "ExecuteTime": {
     "end_time": "2025-04-15T19:57:35.982777Z",
     "start_time": "2025-04-15T19:57:28.278678Z"
    }
   },
   "cell_type": "code",
   "source": [
    "vest18_df = vest18_df.to_crs(vest18_df.estimate_utm_crs())\n",
    "county_df = county_df.to_crs(county_df.estimate_utm_crs())\n",
    "vap_df = vap_df.to_crs(vap_df.estimate_utm_crs())\n",
    "population_df = population_df.to_crs(population_df.estimate_utm_crs())"
   ],
   "id": "d286a9ceb6982fc7",
   "outputs": [],
   "execution_count": 27
  },
  {
   "metadata": {},
   "cell_type": "markdown",
   "source": "### Examining the vest18 data (MAUP Doctor)",
   "id": "f45178cde23115da"
  },
  {
   "metadata": {
    "ExecuteTime": {
     "end_time": "2025-04-15T19:57:58.114025Z",
     "start_time": "2025-04-15T19:57:36.030823Z"
    }
   },
   "cell_type": "code",
   "source": [
    "try:\n",
    "    print(maup.doctor(vest18_df))\n",
    "except Exception as e:\n",
    "    print(f\"Error in MAUP Doctor for vest18_df: {e}\")"
   ],
   "id": "e0474b8f4277d309",
   "outputs": [
    {
     "name": "stderr",
     "output_type": "stream",
     "text": [
      "100%|██████████| 10116/10116 [00:10<00:00, 979.41it/s] \n"
     ]
    },
    {
     "name": "stdout",
     "output_type": "stream",
     "text": [
      "There are 4 overlaps.\n",
      "There are 5 holes.\n",
      "False\n"
     ]
    }
   ],
   "execution_count": 28
  },
  {
   "metadata": {},
   "cell_type": "markdown",
   "source": [
    "### Clean the data\n",
    "* `with min_rook_length = 30`\n",
    "* `nest_within_regions = county_df`"
   ],
   "id": "6f88d34e46cc5d22"
  },
  {
   "metadata": {
    "ExecuteTime": {
     "end_time": "2025-04-15T19:58:53.603954Z",
     "start_time": "2025-04-15T19:57:58.194990Z"
    }
   },
   "cell_type": "code",
   "source": [
    "repaired_vest18_df = maup.smart_repair(\n",
    "    vest18_df,\n",
    "    nest_within_regions=county_df,\n",
    "    min_rook_length=30\n",
    ")"
   ],
   "id": "9db14bbd967ffc10",
   "outputs": [
    {
     "name": "stdout",
     "output_type": "stream",
     "text": [
      "Snapping all geometries to a grid with precision 10^( -5 ) to avoid GEOS errors.\n",
      "Identifying overlaps...\n"
     ]
    },
    {
     "name": "stderr",
     "output_type": "stream",
     "text": [
      "100%|██████████| 10746/10746 [00:05<00:00, 1865.06it/s]\n"
     ]
    },
    {
     "name": "stdout",
     "output_type": "stream",
     "text": [
      "Resolving overlaps...\n",
      "Assigning order 2 pieces...\n",
      "Filling gaps...\n"
     ]
    },
    {
     "name": "stderr",
     "output_type": "stream",
     "text": [
      "Gaps to simplify: 100%|██████████| 4/4 [00:11<00:00,  2.84s/it]\n",
      "Gaps to fill: 100%|██████████| 1/1 [00:05<00:00,  5.61s/it]\n"
     ]
    }
   ],
   "execution_count": 29
  },
  {
   "metadata": {},
   "cell_type": "markdown",
   "source": "### Examining the vest18 data (MAUP Doctor) after the cleaning",
   "id": "3934d93531688eb5"
  },
  {
   "metadata": {
    "ExecuteTime": {
     "end_time": "2025-04-15T19:59:16.117608Z",
     "start_time": "2025-04-15T19:58:53.609833Z"
    }
   },
   "cell_type": "code",
   "source": [
    "try:\n",
    "    print(maup.doctor(repaired_vest18_df))\n",
    "except Exception as e:\n",
    "    print(f\"Error in MAUP Doctor for repaired_vest18_df: {e}\")"
   ],
   "id": "c5d7e1940cbb977b",
   "outputs": [
    {
     "name": "stderr",
     "output_type": "stream",
     "text": [
      "100%|██████████| 10116/10116 [00:10<00:00, 959.46it/s] \n"
     ]
    },
    {
     "name": "stdout",
     "output_type": "stream",
     "text": [
      "True\n"
     ]
    }
   ],
   "execution_count": 30
  },
  {
   "metadata": {},
   "cell_type": "markdown",
   "source": "Looks good! Now we can clean the `repaired_vest18_df` by removing and renaming the columns.",
   "id": "5fdae1aa5d59813e"
  },
  {
   "metadata": {
    "ExecuteTime": {
     "end_time": "2025-04-15T19:59:16.168412Z",
     "start_time": "2025-04-15T19:59:16.159711Z"
    }
   },
   "cell_type": "code",
   "source": "repaired_vest18_df.columns",
   "id": "bfa9b5a58e3654c",
   "outputs": [
    {
     "data": {
      "text/plain": [
       "Index(['STATEFP20', 'COUNTYFP20', 'VTDST20', 'GEOID20', 'NAME20', 'G18GOVDPRI',\n",
       "       'G18GOVRRAU', 'G18GOVCMCC', 'G18GOVLJAC', 'G18ATGDRAO', 'G18ATGRHAR',\n",
       "       'G18ATGLHAR', 'G18SOSDWHI', 'G18SOSRHEL', 'G18SOSLDUT', 'G18COMDMEN',\n",
       "       'G18COMRSEN', 'G18COMLBAL', 'G18TREDFRE', 'G18TRERDOD', 'G18TRELLEH',\n",
       "       'geometry'],\n",
       "      dtype='object')"
      ]
     },
     "execution_count": 31,
     "metadata": {},
     "output_type": "execute_result"
    }
   ],
   "execution_count": 31
  },
  {
   "metadata": {},
   "cell_type": "markdown",
   "source": "Let's rename the columns we need and remove the columns we don't need.",
   "id": "7b8cd9fed9f03159"
  },
  {
   "metadata": {
    "ExecuteTime": {
     "end_time": "2025-04-15T19:59:16.214998Z",
     "start_time": "2025-04-15T19:59:16.206295Z"
    }
   },
   "cell_type": "code",
   "source": [
    "# copied from SC_MAUP.ipynb # and modified for the G20USS candidates from Illinois\n",
    "rename_dict = {\n",
    "    'G18GOVDPRI': 'G18GOVD',\n",
    "    'G18GOVRRAU': 'G18GOVR',\n",
    "    'G18ATGDRAO': 'G18ATGD',\n",
    "    'G18ATGRHAR': 'G18ATGR',\n",
    "    'G18SOSDWHI': 'G18SOSD',\n",
    "    'G18SOSRHEL': 'G18SOSR',\n",
    "    'G18COMDMEN': 'G18COMD',\n",
    "    'G18COMRSEN': 'G18COMR',\n",
    "    'G18TREDFRE': 'G18TRED',\n",
    "    'G18TRERDOD': 'G18TRER'\n",
    "}"
   ],
   "id": "e3a60daf1e800a0e",
   "outputs": [],
   "execution_count": 32
  },
  {
   "metadata": {
    "ExecuteTime": {
     "end_time": "2025-04-15T19:59:16.262999Z",
     "start_time": "2025-04-15T19:59:16.259126Z"
    }
   },
   "cell_type": "code",
   "source": [
    "drop_list = [\n",
    "    'G18GOVCMCC',\n",
    "    'G18GOVLJAC',\n",
    "    'G18ATGLHAR',\n",
    "    'G18SOSLDUT',\n",
    "    'G18COMLBAL',\n",
    "    'G18TRELLEH'\n",
    "]"
   ],
   "id": "1ec15f6430abae96",
   "outputs": [],
   "execution_count": 33
  },
  {
   "metadata": {
    "ExecuteTime": {
     "end_time": "2025-04-15T19:59:16.307075Z",
     "start_time": "2025-04-15T19:59:16.300076Z"
    }
   },
   "cell_type": "code",
   "source": [
    "repaired_vest18_df.rename(columns=rename_dict, inplace=True)\n",
    "repaired_vest18_df.drop(columns=drop_list, inplace=True)"
   ],
   "id": "7f54671abee4280d",
   "outputs": [],
   "execution_count": 34
  },
  {
   "metadata": {
    "ExecuteTime": {
     "end_time": "2025-04-15T19:59:16.357304Z",
     "start_time": "2025-04-15T19:59:16.349685Z"
    }
   },
   "cell_type": "code",
   "source": "repaired_vest18_df.columns",
   "id": "69d84ff65fd213c9",
   "outputs": [
    {
     "data": {
      "text/plain": [
       "Index(['STATEFP20', 'COUNTYFP20', 'VTDST20', 'GEOID20', 'NAME20', 'G18GOVD',\n",
       "       'G18GOVR', 'G18ATGD', 'G18ATGR', 'G18SOSD', 'G18SOSR', 'G18COMD',\n",
       "       'G18COMR', 'G18TRED', 'G18TRER', 'geometry'],\n",
       "      dtype='object')"
      ]
     },
     "execution_count": 35,
     "metadata": {},
     "output_type": "execute_result"
    }
   ],
   "execution_count": 35
  },
  {
   "metadata": {
    "ExecuteTime": {
     "end_time": "2025-04-15T19:59:16.433913Z",
     "start_time": "2025-04-15T19:59:16.429916Z"
    }
   },
   "cell_type": "code",
   "source": [
    "elec2018_cols = list(rename_dict.values())\n",
    "print(elec2018_cols)"
   ],
   "id": "7bf37b5540e3bade",
   "outputs": [
    {
     "name": "stdout",
     "output_type": "stream",
     "text": [
      "['G18GOVD', 'G18GOVR', 'G18ATGD', 'G18ATGR', 'G18SOSD', 'G18SOSR', 'G18COMD', 'G18COMR', 'G18TRED', 'G18TRER']\n"
     ]
    }
   ],
   "execution_count": 36
  },
  {
   "metadata": {},
   "cell_type": "markdown",
   "source": [
    "Now that is's clean, we can add it to the `repaired_vest18_df`\n",
    "\n",
    "Remember that the 2020 and 2018 election years have different precincts, so we need to disaggregate this data to the block level as previously discussed, and re-aggregate to the 2020 precincts."
   ],
   "id": "6f50a84642f505d8"
  },
  {
   "metadata": {
    "ExecuteTime": {
     "end_time": "2025-04-15T19:59:16.454597Z",
     "start_time": "2025-04-15T19:59:16.442251Z"
    }
   },
   "cell_type": "code",
   "source": "repaired_vest18_df.head()",
   "id": "e7a38326f13b387f",
   "outputs": [
    {
     "data": {
      "text/plain": [
       "  STATEFP20 COUNTYFP20 VTDST20      GEOID20                NAME20  G18GOVD  \\\n",
       "0        17        019  CN0100  17019CN0100          Cunningham 1      554   \n",
       "1        17        019  CC0600  17019CC0600  City of Champaign 06      708   \n",
       "2        17        019  CC0100  17019CC0100  City of Champaign 01      497   \n",
       "3        17        019  CC0900  17019CC0900  City of Champaign 09      454   \n",
       "4        17        019  CC0300  17019CC0300  City of Champaign 03      892   \n",
       "\n",
       "   G18GOVR  G18ATGD  G18ATGR  G18SOSD  G18SOSR  G18COMD  G18COMR  G18TRED  \\\n",
       "0       40      510       94      588       22      569       28      566   \n",
       "1      186      674      252      772      146      724      186      734   \n",
       "2       23      463       69      517       14      514       17      503   \n",
       "3       81      444      125      505       57      480       83      470   \n",
       "4      182      896      195      956      137      900      167      867   \n",
       "\n",
       "   G18TRER                                           geometry  \n",
       "0       29  POLYGON ((395000.017 4443248.947, 395062.695 4...  \n",
       "1      174  POLYGON ((392826.416 4443312.151, 392828.282 4...  \n",
       "2       17  POLYGON ((395286.570 4441435.160, 395283.825 4...  \n",
       "3       82  POLYGON ((392819.261 4442698.203, 392818.473 4...  \n",
       "4      184  POLYGON ((394718.724 4440992.295, 394872.839 4...  "
      ],
      "text/html": [
       "<div>\n",
       "<style scoped>\n",
       "    .dataframe tbody tr th:only-of-type {\n",
       "        vertical-align: middle;\n",
       "    }\n",
       "\n",
       "    .dataframe tbody tr th {\n",
       "        vertical-align: top;\n",
       "    }\n",
       "\n",
       "    .dataframe thead th {\n",
       "        text-align: right;\n",
       "    }\n",
       "</style>\n",
       "<table border=\"1\" class=\"dataframe\">\n",
       "  <thead>\n",
       "    <tr style=\"text-align: right;\">\n",
       "      <th></th>\n",
       "      <th>STATEFP20</th>\n",
       "      <th>COUNTYFP20</th>\n",
       "      <th>VTDST20</th>\n",
       "      <th>GEOID20</th>\n",
       "      <th>NAME20</th>\n",
       "      <th>G18GOVD</th>\n",
       "      <th>G18GOVR</th>\n",
       "      <th>G18ATGD</th>\n",
       "      <th>G18ATGR</th>\n",
       "      <th>G18SOSD</th>\n",
       "      <th>G18SOSR</th>\n",
       "      <th>G18COMD</th>\n",
       "      <th>G18COMR</th>\n",
       "      <th>G18TRED</th>\n",
       "      <th>G18TRER</th>\n",
       "      <th>geometry</th>\n",
       "    </tr>\n",
       "  </thead>\n",
       "  <tbody>\n",
       "    <tr>\n",
       "      <th>0</th>\n",
       "      <td>17</td>\n",
       "      <td>019</td>\n",
       "      <td>CN0100</td>\n",
       "      <td>17019CN0100</td>\n",
       "      <td>Cunningham 1</td>\n",
       "      <td>554</td>\n",
       "      <td>40</td>\n",
       "      <td>510</td>\n",
       "      <td>94</td>\n",
       "      <td>588</td>\n",
       "      <td>22</td>\n",
       "      <td>569</td>\n",
       "      <td>28</td>\n",
       "      <td>566</td>\n",
       "      <td>29</td>\n",
       "      <td>POLYGON ((395000.017 4443248.947, 395062.695 4...</td>\n",
       "    </tr>\n",
       "    <tr>\n",
       "      <th>1</th>\n",
       "      <td>17</td>\n",
       "      <td>019</td>\n",
       "      <td>CC0600</td>\n",
       "      <td>17019CC0600</td>\n",
       "      <td>City of Champaign 06</td>\n",
       "      <td>708</td>\n",
       "      <td>186</td>\n",
       "      <td>674</td>\n",
       "      <td>252</td>\n",
       "      <td>772</td>\n",
       "      <td>146</td>\n",
       "      <td>724</td>\n",
       "      <td>186</td>\n",
       "      <td>734</td>\n",
       "      <td>174</td>\n",
       "      <td>POLYGON ((392826.416 4443312.151, 392828.282 4...</td>\n",
       "    </tr>\n",
       "    <tr>\n",
       "      <th>2</th>\n",
       "      <td>17</td>\n",
       "      <td>019</td>\n",
       "      <td>CC0100</td>\n",
       "      <td>17019CC0100</td>\n",
       "      <td>City of Champaign 01</td>\n",
       "      <td>497</td>\n",
       "      <td>23</td>\n",
       "      <td>463</td>\n",
       "      <td>69</td>\n",
       "      <td>517</td>\n",
       "      <td>14</td>\n",
       "      <td>514</td>\n",
       "      <td>17</td>\n",
       "      <td>503</td>\n",
       "      <td>17</td>\n",
       "      <td>POLYGON ((395286.570 4441435.160, 395283.825 4...</td>\n",
       "    </tr>\n",
       "    <tr>\n",
       "      <th>3</th>\n",
       "      <td>17</td>\n",
       "      <td>019</td>\n",
       "      <td>CC0900</td>\n",
       "      <td>17019CC0900</td>\n",
       "      <td>City of Champaign 09</td>\n",
       "      <td>454</td>\n",
       "      <td>81</td>\n",
       "      <td>444</td>\n",
       "      <td>125</td>\n",
       "      <td>505</td>\n",
       "      <td>57</td>\n",
       "      <td>480</td>\n",
       "      <td>83</td>\n",
       "      <td>470</td>\n",
       "      <td>82</td>\n",
       "      <td>POLYGON ((392819.261 4442698.203, 392818.473 4...</td>\n",
       "    </tr>\n",
       "    <tr>\n",
       "      <th>4</th>\n",
       "      <td>17</td>\n",
       "      <td>019</td>\n",
       "      <td>CC0300</td>\n",
       "      <td>17019CC0300</td>\n",
       "      <td>City of Champaign 03</td>\n",
       "      <td>892</td>\n",
       "      <td>182</td>\n",
       "      <td>896</td>\n",
       "      <td>195</td>\n",
       "      <td>956</td>\n",
       "      <td>137</td>\n",
       "      <td>900</td>\n",
       "      <td>167</td>\n",
       "      <td>867</td>\n",
       "      <td>184</td>\n",
       "      <td>POLYGON ((394718.724 4440992.295, 394872.839 4...</td>\n",
       "    </tr>\n",
       "  </tbody>\n",
       "</table>\n",
       "</div>"
      ]
     },
     "execution_count": 37,
     "metadata": {},
     "output_type": "execute_result"
    }
   ],
   "execution_count": 37
  },
  {
   "metadata": {
    "ExecuteTime": {
     "end_time": "2025-04-15T19:59:16.536548Z",
     "start_time": "2025-04-15T19:59:16.527241Z"
    }
   },
   "cell_type": "code",
   "source": "print(f\"Sum of all Votes: {sum(repaired_vest18_df[elec2018_cols].sum(axis=1)):_}\")",
   "id": "f01a48c00f0c7e1a",
   "outputs": [
    {
     "name": "stdout",
     "output_type": "stream",
     "text": [
      "Sum of all Votes: 21_874_163\n"
     ]
    }
   ],
   "execution_count": 38
  },
  {
   "metadata": {
    "ExecuteTime": {
     "end_time": "2025-04-15T20:00:19.041034Z",
     "start_time": "2025-04-15T19:59:16.582703Z"
    }
   },
   "cell_type": "code",
   "source": "blocks_to_2018precincts_assignment = maup.assign(population_df.geometry, repaired_vest18_df.geometry)",
   "id": "65ce3a9e862c13b4",
   "outputs": [
    {
     "name": "stderr",
     "output_type": "stream",
     "text": [
      "100%|██████████| 10116/10116 [00:12<00:00, 808.31it/s]\n",
      "100%|██████████| 10116/10116 [00:45<00:00, 221.52it/s]\n"
     ]
    }
   ],
   "execution_count": 39
  },
  {
   "metadata": {
    "ExecuteTime": {
     "end_time": "2025-04-15T20:00:19.126398Z",
     "start_time": "2025-04-15T20:00:19.098772Z"
    }
   },
   "cell_type": "code",
   "source": [
    "# VAP = P0040001\n",
    "weights2018 = vap_df[\"P0040001\"]/blocks_to_2018precincts_assignment.map(vap_df[\"P0040001\"].groupby(blocks_to_2018precincts_assignment).sum())\n",
    "weights2018 = weights2018.fillna(0)"
   ],
   "id": "58cdffa108db98f4",
   "outputs": [],
   "execution_count": 40
  },
  {
   "metadata": {
    "ExecuteTime": {
     "end_time": "2025-04-15T20:00:19.140652Z",
     "start_time": "2025-04-15T20:00:19.126398Z"
    }
   },
   "cell_type": "code",
   "source": "weights2018",
   "id": "e6c3be8af613c2e0",
   "outputs": [
    {
     "data": {
      "text/plain": [
       "0         0.022222\n",
       "1         0.009119\n",
       "2         0.015267\n",
       "3         0.111702\n",
       "4         0.000000\n",
       "            ...   \n",
       "369973    0.016362\n",
       "369974    0.012388\n",
       "369975    0.018930\n",
       "369976    0.009322\n",
       "369977    0.040449\n",
       "Length: 369978, dtype: float64"
      ]
     },
     "execution_count": 41,
     "metadata": {},
     "output_type": "execute_result"
    }
   ],
   "execution_count": 41
  },
  {
   "metadata": {
    "ExecuteTime": {
     "end_time": "2025-04-15T20:00:19.265517Z",
     "start_time": "2025-04-15T20:00:19.201673Z"
    }
   },
   "cell_type": "code",
   "source": "prorated2018 = maup.prorate(blocks_to_2018precincts_assignment, repaired_vest18_df[elec2018_cols], weights2018)",
   "id": "1f0686e8c41a9f09",
   "outputs": [],
   "execution_count": 42
  },
  {
   "metadata": {
    "ExecuteTime": {
     "end_time": "2025-04-15T20:00:19.304684Z",
     "start_time": "2025-04-15T20:00:19.295415Z"
    }
   },
   "cell_type": "code",
   "source": "il_df[elec2018_cols] = prorated2018",
   "id": "4842e8dbe0c2823e",
   "outputs": [],
   "execution_count": 43
  },
  {
   "metadata": {
    "ExecuteTime": {
     "end_time": "2025-04-15T20:00:19.354914Z",
     "start_time": "2025-04-15T20:00:19.334175Z"
    }
   },
   "cell_type": "code",
   "source": "il_df.head()",
   "id": "cb6e72f242f8ed93",
   "outputs": [
    {
     "data": {
      "text/plain": [
       "   boundary_n          area STATEFP20 COUNTYFP20 VTDST20      GEOID20  \\\n",
       "0       False  4.442025e+07        17        089  00HA01  1708900HA01   \n",
       "1       False  1.595962e+07        17        089  00HA03  1708900HA03   \n",
       "2       False  1.689435e+06        17        037  00DK09  1703700DK09   \n",
       "3       False  9.126377e+06        17        037  00DK02  1703700DK02   \n",
       "4       False  8.399433e+07        17        201  00Bu01  1720100Bu01   \n",
       "\n",
       "        NAME20  G20PRED  G20PRER  G20USSD  ...   G18GOVD   G18GOVR   G18ATGD  \\\n",
       "0  HAMPSHIRE 1      533      951      496  ...  1.222222  1.644444  1.377778   \n",
       "1  HAMPSHIRE 3      817     1075      784  ...  0.848024  1.158055  0.720365   \n",
       "2     DEKALB 9      716      346      691  ...  1.022901  1.969466  1.022901   \n",
       "3     DEKALB 2      677      133      604  ...  4.356383  7.037234  3.686170   \n",
       "4    Burritt 1      187      432      183  ...  0.000000  0.000000  0.000000   \n",
       "\n",
       "    G18ATGR   G18SOSD   G18SOSR   G18COMD   G18COMR   G18TRED   G18TRER  \n",
       "0  1.888889  2.266667  1.111111  1.755556  1.555556  1.577778  1.600000  \n",
       "1  1.686930  1.449848  1.103343  1.066869  1.413374  1.003040  1.513678  \n",
       "2  2.152672  1.694656  1.511450  1.297710  1.893130  1.206107  1.923664  \n",
       "3  9.829787  7.595745  5.808511  5.138298  7.930851  5.250000  8.042553  \n",
       "4  0.000000  0.000000  0.000000  0.000000  0.000000  0.000000  0.000000  \n",
       "\n",
       "[5 rows x 43 columns]"
      ],
      "text/html": [
       "<div>\n",
       "<style scoped>\n",
       "    .dataframe tbody tr th:only-of-type {\n",
       "        vertical-align: middle;\n",
       "    }\n",
       "\n",
       "    .dataframe tbody tr th {\n",
       "        vertical-align: top;\n",
       "    }\n",
       "\n",
       "    .dataframe thead th {\n",
       "        text-align: right;\n",
       "    }\n",
       "</style>\n",
       "<table border=\"1\" class=\"dataframe\">\n",
       "  <thead>\n",
       "    <tr style=\"text-align: right;\">\n",
       "      <th></th>\n",
       "      <th>boundary_n</th>\n",
       "      <th>area</th>\n",
       "      <th>STATEFP20</th>\n",
       "      <th>COUNTYFP20</th>\n",
       "      <th>VTDST20</th>\n",
       "      <th>GEOID20</th>\n",
       "      <th>NAME20</th>\n",
       "      <th>G20PRED</th>\n",
       "      <th>G20PRER</th>\n",
       "      <th>G20USSD</th>\n",
       "      <th>...</th>\n",
       "      <th>G18GOVD</th>\n",
       "      <th>G18GOVR</th>\n",
       "      <th>G18ATGD</th>\n",
       "      <th>G18ATGR</th>\n",
       "      <th>G18SOSD</th>\n",
       "      <th>G18SOSR</th>\n",
       "      <th>G18COMD</th>\n",
       "      <th>G18COMR</th>\n",
       "      <th>G18TRED</th>\n",
       "      <th>G18TRER</th>\n",
       "    </tr>\n",
       "  </thead>\n",
       "  <tbody>\n",
       "    <tr>\n",
       "      <th>0</th>\n",
       "      <td>False</td>\n",
       "      <td>4.442025e+07</td>\n",
       "      <td>17</td>\n",
       "      <td>089</td>\n",
       "      <td>00HA01</td>\n",
       "      <td>1708900HA01</td>\n",
       "      <td>HAMPSHIRE 1</td>\n",
       "      <td>533</td>\n",
       "      <td>951</td>\n",
       "      <td>496</td>\n",
       "      <td>...</td>\n",
       "      <td>1.222222</td>\n",
       "      <td>1.644444</td>\n",
       "      <td>1.377778</td>\n",
       "      <td>1.888889</td>\n",
       "      <td>2.266667</td>\n",
       "      <td>1.111111</td>\n",
       "      <td>1.755556</td>\n",
       "      <td>1.555556</td>\n",
       "      <td>1.577778</td>\n",
       "      <td>1.600000</td>\n",
       "    </tr>\n",
       "    <tr>\n",
       "      <th>1</th>\n",
       "      <td>False</td>\n",
       "      <td>1.595962e+07</td>\n",
       "      <td>17</td>\n",
       "      <td>089</td>\n",
       "      <td>00HA03</td>\n",
       "      <td>1708900HA03</td>\n",
       "      <td>HAMPSHIRE 3</td>\n",
       "      <td>817</td>\n",
       "      <td>1075</td>\n",
       "      <td>784</td>\n",
       "      <td>...</td>\n",
       "      <td>0.848024</td>\n",
       "      <td>1.158055</td>\n",
       "      <td>0.720365</td>\n",
       "      <td>1.686930</td>\n",
       "      <td>1.449848</td>\n",
       "      <td>1.103343</td>\n",
       "      <td>1.066869</td>\n",
       "      <td>1.413374</td>\n",
       "      <td>1.003040</td>\n",
       "      <td>1.513678</td>\n",
       "    </tr>\n",
       "    <tr>\n",
       "      <th>2</th>\n",
       "      <td>False</td>\n",
       "      <td>1.689435e+06</td>\n",
       "      <td>17</td>\n",
       "      <td>037</td>\n",
       "      <td>00DK09</td>\n",
       "      <td>1703700DK09</td>\n",
       "      <td>DEKALB 9</td>\n",
       "      <td>716</td>\n",
       "      <td>346</td>\n",
       "      <td>691</td>\n",
       "      <td>...</td>\n",
       "      <td>1.022901</td>\n",
       "      <td>1.969466</td>\n",
       "      <td>1.022901</td>\n",
       "      <td>2.152672</td>\n",
       "      <td>1.694656</td>\n",
       "      <td>1.511450</td>\n",
       "      <td>1.297710</td>\n",
       "      <td>1.893130</td>\n",
       "      <td>1.206107</td>\n",
       "      <td>1.923664</td>\n",
       "    </tr>\n",
       "    <tr>\n",
       "      <th>3</th>\n",
       "      <td>False</td>\n",
       "      <td>9.126377e+06</td>\n",
       "      <td>17</td>\n",
       "      <td>037</td>\n",
       "      <td>00DK02</td>\n",
       "      <td>1703700DK02</td>\n",
       "      <td>DEKALB 2</td>\n",
       "      <td>677</td>\n",
       "      <td>133</td>\n",
       "      <td>604</td>\n",
       "      <td>...</td>\n",
       "      <td>4.356383</td>\n",
       "      <td>7.037234</td>\n",
       "      <td>3.686170</td>\n",
       "      <td>9.829787</td>\n",
       "      <td>7.595745</td>\n",
       "      <td>5.808511</td>\n",
       "      <td>5.138298</td>\n",
       "      <td>7.930851</td>\n",
       "      <td>5.250000</td>\n",
       "      <td>8.042553</td>\n",
       "    </tr>\n",
       "    <tr>\n",
       "      <th>4</th>\n",
       "      <td>False</td>\n",
       "      <td>8.399433e+07</td>\n",
       "      <td>17</td>\n",
       "      <td>201</td>\n",
       "      <td>00Bu01</td>\n",
       "      <td>1720100Bu01</td>\n",
       "      <td>Burritt 1</td>\n",
       "      <td>187</td>\n",
       "      <td>432</td>\n",
       "      <td>183</td>\n",
       "      <td>...</td>\n",
       "      <td>0.000000</td>\n",
       "      <td>0.000000</td>\n",
       "      <td>0.000000</td>\n",
       "      <td>0.000000</td>\n",
       "      <td>0.000000</td>\n",
       "      <td>0.000000</td>\n",
       "      <td>0.000000</td>\n",
       "      <td>0.000000</td>\n",
       "      <td>0.000000</td>\n",
       "      <td>0.000000</td>\n",
       "    </tr>\n",
       "  </tbody>\n",
       "</table>\n",
       "<p>5 rows × 43 columns</p>\n",
       "</div>"
      ]
     },
     "execution_count": 44,
     "metadata": {},
     "output_type": "execute_result"
    }
   ],
   "execution_count": 44
  },
  {
   "metadata": {
    "ExecuteTime": {
     "end_time": "2025-04-15T20:00:19.445021Z",
     "start_time": "2025-04-15T20:00:19.433348Z"
    }
   },
   "cell_type": "code",
   "source": "print(\"Sum of all Votes (projected to VEST20):\", sum(il_df[elec2018_cols].sum(axis=1)))",
   "id": "b02360ec1ab4c462",
   "outputs": [
    {
     "name": "stdout",
     "output_type": "stream",
     "text": [
      "Sum of all Votes (projected to VEST20): 594398.4240203657\n"
     ]
    }
   ],
   "execution_count": 45
  }
 ],
 "metadata": {
  "kernelspec": {
   "display_name": "Python 3",
   "language": "python",
   "name": "python3"
  },
  "language_info": {
   "codemirror_mode": {
    "name": "ipython",
    "version": 2
   },
   "file_extension": ".py",
   "mimetype": "text/x-python",
   "name": "python",
   "nbconvert_exporter": "python",
   "pygments_lexer": "ipython2",
   "version": "2.7.6"
  }
 },
 "nbformat": 4,
 "nbformat_minor": 5
}
