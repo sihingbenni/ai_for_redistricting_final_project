{
 "cells": [
  {
   "metadata": {},
   "cell_type": "markdown",
   "source": [
    "# Injecting the Vest 2018 data into the map\n",
    "\n",
    "@authors: vcle, bpuhani"
   ],
   "id": "c7543a77a66d73f5"
  },
  {
   "metadata": {
    "ExecuteTime": {
     "end_time": "2025-04-16T00:17:31.000248Z",
     "start_time": "2025-04-16T00:17:30.992921Z"
    }
   },
   "cell_type": "code",
   "source": [
    "import io\n",
    "import time\n",
    "import warnings\n",
    "from contextlib import redirect_stdout\n",
    "import geopandas as gpd\n",
    "\n",
    "import maup\n",
    "\n",
    "import utilities as util"
   ],
   "id": "15d976e084c0d037",
   "outputs": [],
   "execution_count": 44
  },
  {
   "metadata": {
    "ExecuteTime": {
     "end_time": "2025-04-16T00:17:31.013933Z",
     "start_time": "2025-04-16T00:17:31.008847Z"
    }
   },
   "cell_type": "code",
   "source": [
    "maup.progress.enabled = True\n",
    "\n",
    "warnings.filterwarnings('ignore')\n",
    "\n",
    "start_time = time.time()"
   ],
   "id": "1c870b3300c8be79",
   "outputs": [],
   "execution_count": 45
  },
  {
   "metadata": {},
   "cell_type": "markdown",
   "source": [
    "## Loading the needed data.\n",
    "For this notebook to work we assume, that you ran the following notebooks first:\n",
    "* `0_IL_import_and_explore_data.ipynb`\n",
    "* `B_2_IL_clean_maup_with_congress.ipynb`\n",
    "* `B_4_IL_find_map_without_holes_vest20_cong.ipynb`"
   ],
   "id": "4f6f30a7b07fa4e8"
  },
  {
   "metadata": {
    "ExecuteTime": {
     "end_time": "2025-04-16T00:17:35.568614Z",
     "start_time": "2025-04-16T00:17:31.056089Z"
    }
   },
   "cell_type": "code",
   "source": [
    "il_df = util.load_shapefile(\"il_data/IL_congress_without_holes.shp\")\n",
    "vest18_df = util.load_shapefile(\"il_data/il_vest_18/il_vest_18.shp\")\n",
    "county_df = util.load_shapefile(\"il_data/il_pl2020_cnty/il_pl2020_cnty.shp\")\n",
    "vap_df = util.load_shapefile(\"il_data/il_pl2020_b/il_pl2020_p4_b.shp\")\n",
    "population_df = util.load_shapefile(\"il_data/il_pl2020_b/il_pl2020_p2_b.shp\")"
   ],
   "id": "ca32f7e031eadf74",
   "outputs": [
    {
     "name": "stdout",
     "output_type": "stream",
     "text": [
      "Loading shapefile from il_data/IL_congress_without_holes.shp...\n",
      "Shapefile data loaded from cache.\n",
      "Loading shapefile from il_data/il_vest_18/il_vest_18.shp...\n",
      "Shapefile data loaded from cache.\n",
      "Loading shapefile from il_data/il_pl2020_cnty/il_pl2020_cnty.shp...\n",
      "Shapefile data loaded from cache.\n",
      "Loading shapefile from il_data/il_pl2020_b/il_pl2020_p4_b.shp...\n",
      "Shapefile data loaded from cache.\n",
      "Loading shapefile from il_data/il_pl2020_b/il_pl2020_p2_b.shp...\n",
      "Shapefile data loaded from cache.\n"
     ]
    }
   ],
   "execution_count": 46
  },
  {
   "metadata": {},
   "cell_type": "markdown",
   "source": [
    "## Cleaning the vest18 data\n",
    "### Reformating the `crs` of the `vest18_df` to the metric system."
   ],
   "id": "145dfc2abf797a5"
  },
  {
   "metadata": {
    "ExecuteTime": {
     "end_time": "2025-04-16T00:17:43.044679Z",
     "start_time": "2025-04-16T00:17:35.611942Z"
    }
   },
   "cell_type": "code",
   "source": [
    "vest18_df = vest18_df.to_crs(vest18_df.estimate_utm_crs())\n",
    "county_df = county_df.to_crs(county_df.estimate_utm_crs())\n",
    "vap_df = vap_df.to_crs(vap_df.estimate_utm_crs())\n",
    "population_df = population_df.to_crs(population_df.estimate_utm_crs())"
   ],
   "id": "d286a9ceb6982fc7",
   "outputs": [],
   "execution_count": 47
  },
  {
   "metadata": {},
   "cell_type": "markdown",
   "source": "### Examining the il_df data (MAUP Doctor)\n",
   "id": "a81b6b6330b2d79e"
  },
  {
   "metadata": {
    "ExecuteTime": {
     "end_time": "2025-04-16T00:18:04.345553Z",
     "start_time": "2025-04-16T00:17:43.081647Z"
    }
   },
   "cell_type": "code",
   "source": [
    "try:\n",
    "    print(maup.doctor(il_df))\n",
    "except Exception as e:\n",
    "    print(f\"Error in MAUP Doctor for il_df: {e}\")"
   ],
   "id": "e6d9b49288c69efe",
   "outputs": [
    {
     "name": "stderr",
     "output_type": "stream",
     "text": [
      "100%|██████████| 10083/10083 [00:09<00:00, 1013.27it/s]\n"
     ]
    },
    {
     "name": "stdout",
     "output_type": "stream",
     "text": [
      "True\n"
     ]
    }
   ],
   "execution_count": 48
  },
  {
   "metadata": {},
   "cell_type": "markdown",
   "source": "### Examining the vest18 data (MAUP Doctor)",
   "id": "f45178cde23115da"
  },
  {
   "metadata": {
    "ExecuteTime": {
     "end_time": "2025-04-16T00:18:25.794340Z",
     "start_time": "2025-04-16T00:18:04.413170Z"
    }
   },
   "cell_type": "code",
   "source": [
    "try:\n",
    "    print(maup.doctor(vest18_df))\n",
    "except Exception as e:\n",
    "    print(f\"Error in MAUP Doctor for vest18_df: {e}\")"
   ],
   "id": "e0474b8f4277d309",
   "outputs": [
    {
     "name": "stderr",
     "output_type": "stream",
     "text": [
      "100%|██████████| 10116/10116 [00:10<00:00, 1007.86it/s]\n"
     ]
    },
    {
     "name": "stdout",
     "output_type": "stream",
     "text": [
      "There are 4 overlaps.\n",
      "There are 5 holes.\n",
      "False\n"
     ]
    }
   ],
   "execution_count": 49
  },
  {
   "metadata": {},
   "cell_type": "markdown",
   "source": [
    "### Clean the data\n",
    "* `with min_rook_length = 30`\n",
    "* `nest_within_regions = county_df`"
   ],
   "id": "6f88d34e46cc5d22"
  },
  {
   "metadata": {
    "ExecuteTime": {
     "end_time": "2025-04-16T00:19:19.058037Z",
     "start_time": "2025-04-16T00:18:25.807430Z"
    }
   },
   "cell_type": "code",
   "source": [
    "repaired_vest18_df = maup.smart_repair(\n",
    "    vest18_df\n",
    ")"
   ],
   "id": "9db14bbd967ffc10",
   "outputs": [
    {
     "name": "stdout",
     "output_type": "stream",
     "text": [
      "Snapping all geometries to a grid with precision 10^( -5 ) to avoid GEOS errors.\n",
      "Identifying overlaps...\n"
     ]
    },
    {
     "name": "stderr",
     "output_type": "stream",
     "text": [
      "100%|██████████| 10746/10746 [00:05<00:00, 1959.12it/s]\n"
     ]
    },
    {
     "name": "stdout",
     "output_type": "stream",
     "text": [
      "Resolving overlaps...\n",
      "Assigning order 2 pieces...\n",
      "Filling gaps...\n"
     ]
    },
    {
     "name": "stderr",
     "output_type": "stream",
     "text": [
      "Gaps to simplify: 100%|██████████| 4/4 [00:10<00:00,  2.75s/it]\n",
      "Gaps to fill: 100%|██████████| 1/1 [00:05<00:00,  5.55s/it]\n"
     ]
    }
   ],
   "execution_count": 50
  },
  {
   "metadata": {},
   "cell_type": "markdown",
   "source": "### Examining the vest18 data (MAUP Doctor) after the cleaning",
   "id": "3934d93531688eb5"
  },
  {
   "metadata": {
    "ExecuteTime": {
     "end_time": "2025-04-16T00:19:40.252836Z",
     "start_time": "2025-04-16T00:19:19.092384Z"
    }
   },
   "cell_type": "code",
   "source": [
    "try:\n",
    "    print(maup.doctor(repaired_vest18_df))\n",
    "except Exception as e:\n",
    "    print(f\"Error in MAUP Doctor for repaired_vest18_df: {e}\")"
   ],
   "id": "c5d7e1940cbb977b",
   "outputs": [
    {
     "name": "stderr",
     "output_type": "stream",
     "text": [
      "100%|██████████| 10116/10116 [00:09<00:00, 1021.83it/s]\n"
     ]
    },
    {
     "name": "stdout",
     "output_type": "stream",
     "text": [
      "True\n"
     ]
    }
   ],
   "execution_count": 51
  },
  {
   "metadata": {},
   "cell_type": "markdown",
   "source": "Looks good! Now we can clean the `repaired_vest18_df` by removing and renaming the columns.",
   "id": "5fdae1aa5d59813e"
  },
  {
   "metadata": {
    "ExecuteTime": {
     "end_time": "2025-04-16T00:19:40.292931Z",
     "start_time": "2025-04-16T00:19:40.285593Z"
    }
   },
   "cell_type": "code",
   "source": "repaired_vest18_df.columns",
   "id": "bfa9b5a58e3654c",
   "outputs": [
    {
     "data": {
      "text/plain": [
       "Index(['STATEFP20', 'COUNTYFP20', 'VTDST20', 'GEOID20', 'NAME20', 'G18GOVDPRI',\n",
       "       'G18GOVRRAU', 'G18GOVCMCC', 'G18GOVLJAC', 'G18ATGDRAO', 'G18ATGRHAR',\n",
       "       'G18ATGLHAR', 'G18SOSDWHI', 'G18SOSRHEL', 'G18SOSLDUT', 'G18COMDMEN',\n",
       "       'G18COMRSEN', 'G18COMLBAL', 'G18TREDFRE', 'G18TRERDOD', 'G18TRELLEH',\n",
       "       'geometry'],\n",
       "      dtype='object')"
      ]
     },
     "execution_count": 52,
     "metadata": {},
     "output_type": "execute_result"
    }
   ],
   "execution_count": 52
  },
  {
   "metadata": {},
   "cell_type": "markdown",
   "source": "Let's rename the columns we need and remove the columns we don't need.",
   "id": "7b8cd9fed9f03159"
  },
  {
   "metadata": {
    "ExecuteTime": {
     "end_time": "2025-04-16T00:19:40.331344Z",
     "start_time": "2025-04-16T00:19:40.326289Z"
    }
   },
   "cell_type": "code",
   "source": [
    "# copied from SC_MAUP.ipynb # and modified for the G20USS candidates from Illinois\n",
    "rename_dict = {\n",
    "    'G18GOVDPRI': 'G18GOVD',\n",
    "    'G18GOVRRAU': 'G18GOVR',\n",
    "    'G18ATGDRAO': 'G18ATGD',\n",
    "    'G18ATGRHAR': 'G18ATGR',\n",
    "    'G18SOSDWHI': 'G18SOSD',\n",
    "    'G18SOSRHEL': 'G18SOSR',\n",
    "    'G18COMDMEN': 'G18COMD',\n",
    "    'G18COMRSEN': 'G18COMR',\n",
    "    'G18TREDFRE': 'G18TRED',\n",
    "    'G18TRERDOD': 'G18TRER'\n",
    "}"
   ],
   "id": "e3a60daf1e800a0e",
   "outputs": [],
   "execution_count": 53
  },
  {
   "metadata": {
    "ExecuteTime": {
     "end_time": "2025-04-16T00:19:40.398324Z",
     "start_time": "2025-04-16T00:19:40.394288Z"
    }
   },
   "cell_type": "code",
   "source": [
    "drop_list = [\n",
    "    'G18GOVCMCC',\n",
    "    'G18GOVLJAC',\n",
    "    'G18ATGLHAR',\n",
    "    'G18SOSLDUT',\n",
    "    'G18COMLBAL',\n",
    "    'G18TRELLEH'\n",
    "]"
   ],
   "id": "1ec15f6430abae96",
   "outputs": [],
   "execution_count": 54
  },
  {
   "metadata": {
    "ExecuteTime": {
     "end_time": "2025-04-16T00:19:40.409296Z",
     "start_time": "2025-04-16T00:19:40.398324Z"
    }
   },
   "cell_type": "code",
   "source": [
    "repaired_vest18_df.rename(columns=rename_dict, inplace=True)\n",
    "repaired_vest18_df.drop(columns=drop_list, inplace=True)"
   ],
   "id": "7f54671abee4280d",
   "outputs": [],
   "execution_count": 55
  },
  {
   "metadata": {
    "ExecuteTime": {
     "end_time": "2025-04-16T00:19:40.450466Z",
     "start_time": "2025-04-16T00:19:40.445464Z"
    }
   },
   "cell_type": "code",
   "source": "repaired_vest18_df.columns",
   "id": "69d84ff65fd213c9",
   "outputs": [
    {
     "data": {
      "text/plain": [
       "Index(['STATEFP20', 'COUNTYFP20', 'VTDST20', 'GEOID20', 'NAME20', 'G18GOVD',\n",
       "       'G18GOVR', 'G18ATGD', 'G18ATGR', 'G18SOSD', 'G18SOSR', 'G18COMD',\n",
       "       'G18COMR', 'G18TRED', 'G18TRER', 'geometry'],\n",
       "      dtype='object')"
      ]
     },
     "execution_count": 56,
     "metadata": {},
     "output_type": "execute_result"
    }
   ],
   "execution_count": 56
  },
  {
   "metadata": {
    "ExecuteTime": {
     "end_time": "2025-04-16T00:19:40.524963Z",
     "start_time": "2025-04-16T00:19:40.521413Z"
    }
   },
   "cell_type": "code",
   "source": [
    "elec2018_cols = list(rename_dict.values())\n",
    "print(elec2018_cols)"
   ],
   "id": "7bf37b5540e3bade",
   "outputs": [
    {
     "name": "stdout",
     "output_type": "stream",
     "text": [
      "['G18GOVD', 'G18GOVR', 'G18ATGD', 'G18ATGR', 'G18SOSD', 'G18SOSR', 'G18COMD', 'G18COMR', 'G18TRED', 'G18TRER']\n"
     ]
    }
   ],
   "execution_count": 57
  },
  {
   "metadata": {},
   "cell_type": "markdown",
   "source": [
    "Now that is's clean, we can add it to the `repaired_vest18_df`\n",
    "\n",
    "Remember that the 2020 and 2018 election years have different precincts, so we need to disaggregate this data to the block level as previously discussed, and re-aggregate to the 2020 precincts."
   ],
   "id": "6f50a84642f505d8"
  },
  {
   "metadata": {
    "ExecuteTime": {
     "end_time": "2025-04-16T00:19:40.576128Z",
     "start_time": "2025-04-16T00:19:40.562370Z"
    }
   },
   "cell_type": "code",
   "source": "repaired_vest18_df.head()",
   "id": "e7a38326f13b387f",
   "outputs": [
    {
     "data": {
      "text/plain": [
       "  STATEFP20 COUNTYFP20 VTDST20      GEOID20                NAME20  G18GOVD  \\\n",
       "0        17        019  CN0100  17019CN0100          Cunningham 1      554   \n",
       "1        17        019  CC0600  17019CC0600  City of Champaign 06      708   \n",
       "2        17        019  CC0100  17019CC0100  City of Champaign 01      497   \n",
       "3        17        019  CC0900  17019CC0900  City of Champaign 09      454   \n",
       "4        17        019  CC0300  17019CC0300  City of Champaign 03      892   \n",
       "\n",
       "   G18GOVR  G18ATGD  G18ATGR  G18SOSD  G18SOSR  G18COMD  G18COMR  G18TRED  \\\n",
       "0       40      510       94      588       22      569       28      566   \n",
       "1      186      674      252      772      146      724      186      734   \n",
       "2       23      463       69      517       14      514       17      503   \n",
       "3       81      444      125      505       57      480       83      470   \n",
       "4      182      896      195      956      137      900      167      867   \n",
       "\n",
       "   G18TRER                                           geometry  \n",
       "0       29  POLYGON ((395000.017 4443248.947, 395062.695 4...  \n",
       "1      174  POLYGON ((392826.416 4443312.151, 392828.282 4...  \n",
       "2       17  POLYGON ((395286.570 4441435.160, 395283.825 4...  \n",
       "3       82  POLYGON ((392819.261 4442698.203, 392818.473 4...  \n",
       "4      184  POLYGON ((394718.724 4440992.295, 394872.839 4...  "
      ],
      "text/html": [
       "<div>\n",
       "<style scoped>\n",
       "    .dataframe tbody tr th:only-of-type {\n",
       "        vertical-align: middle;\n",
       "    }\n",
       "\n",
       "    .dataframe tbody tr th {\n",
       "        vertical-align: top;\n",
       "    }\n",
       "\n",
       "    .dataframe thead th {\n",
       "        text-align: right;\n",
       "    }\n",
       "</style>\n",
       "<table border=\"1\" class=\"dataframe\">\n",
       "  <thead>\n",
       "    <tr style=\"text-align: right;\">\n",
       "      <th></th>\n",
       "      <th>STATEFP20</th>\n",
       "      <th>COUNTYFP20</th>\n",
       "      <th>VTDST20</th>\n",
       "      <th>GEOID20</th>\n",
       "      <th>NAME20</th>\n",
       "      <th>G18GOVD</th>\n",
       "      <th>G18GOVR</th>\n",
       "      <th>G18ATGD</th>\n",
       "      <th>G18ATGR</th>\n",
       "      <th>G18SOSD</th>\n",
       "      <th>G18SOSR</th>\n",
       "      <th>G18COMD</th>\n",
       "      <th>G18COMR</th>\n",
       "      <th>G18TRED</th>\n",
       "      <th>G18TRER</th>\n",
       "      <th>geometry</th>\n",
       "    </tr>\n",
       "  </thead>\n",
       "  <tbody>\n",
       "    <tr>\n",
       "      <th>0</th>\n",
       "      <td>17</td>\n",
       "      <td>019</td>\n",
       "      <td>CN0100</td>\n",
       "      <td>17019CN0100</td>\n",
       "      <td>Cunningham 1</td>\n",
       "      <td>554</td>\n",
       "      <td>40</td>\n",
       "      <td>510</td>\n",
       "      <td>94</td>\n",
       "      <td>588</td>\n",
       "      <td>22</td>\n",
       "      <td>569</td>\n",
       "      <td>28</td>\n",
       "      <td>566</td>\n",
       "      <td>29</td>\n",
       "      <td>POLYGON ((395000.017 4443248.947, 395062.695 4...</td>\n",
       "    </tr>\n",
       "    <tr>\n",
       "      <th>1</th>\n",
       "      <td>17</td>\n",
       "      <td>019</td>\n",
       "      <td>CC0600</td>\n",
       "      <td>17019CC0600</td>\n",
       "      <td>City of Champaign 06</td>\n",
       "      <td>708</td>\n",
       "      <td>186</td>\n",
       "      <td>674</td>\n",
       "      <td>252</td>\n",
       "      <td>772</td>\n",
       "      <td>146</td>\n",
       "      <td>724</td>\n",
       "      <td>186</td>\n",
       "      <td>734</td>\n",
       "      <td>174</td>\n",
       "      <td>POLYGON ((392826.416 4443312.151, 392828.282 4...</td>\n",
       "    </tr>\n",
       "    <tr>\n",
       "      <th>2</th>\n",
       "      <td>17</td>\n",
       "      <td>019</td>\n",
       "      <td>CC0100</td>\n",
       "      <td>17019CC0100</td>\n",
       "      <td>City of Champaign 01</td>\n",
       "      <td>497</td>\n",
       "      <td>23</td>\n",
       "      <td>463</td>\n",
       "      <td>69</td>\n",
       "      <td>517</td>\n",
       "      <td>14</td>\n",
       "      <td>514</td>\n",
       "      <td>17</td>\n",
       "      <td>503</td>\n",
       "      <td>17</td>\n",
       "      <td>POLYGON ((395286.570 4441435.160, 395283.825 4...</td>\n",
       "    </tr>\n",
       "    <tr>\n",
       "      <th>3</th>\n",
       "      <td>17</td>\n",
       "      <td>019</td>\n",
       "      <td>CC0900</td>\n",
       "      <td>17019CC0900</td>\n",
       "      <td>City of Champaign 09</td>\n",
       "      <td>454</td>\n",
       "      <td>81</td>\n",
       "      <td>444</td>\n",
       "      <td>125</td>\n",
       "      <td>505</td>\n",
       "      <td>57</td>\n",
       "      <td>480</td>\n",
       "      <td>83</td>\n",
       "      <td>470</td>\n",
       "      <td>82</td>\n",
       "      <td>POLYGON ((392819.261 4442698.203, 392818.473 4...</td>\n",
       "    </tr>\n",
       "    <tr>\n",
       "      <th>4</th>\n",
       "      <td>17</td>\n",
       "      <td>019</td>\n",
       "      <td>CC0300</td>\n",
       "      <td>17019CC0300</td>\n",
       "      <td>City of Champaign 03</td>\n",
       "      <td>892</td>\n",
       "      <td>182</td>\n",
       "      <td>896</td>\n",
       "      <td>195</td>\n",
       "      <td>956</td>\n",
       "      <td>137</td>\n",
       "      <td>900</td>\n",
       "      <td>167</td>\n",
       "      <td>867</td>\n",
       "      <td>184</td>\n",
       "      <td>POLYGON ((394718.724 4440992.295, 394872.839 4...</td>\n",
       "    </tr>\n",
       "  </tbody>\n",
       "</table>\n",
       "</div>"
      ]
     },
     "execution_count": 58,
     "metadata": {},
     "output_type": "execute_result"
    }
   ],
   "execution_count": 58
  },
  {
   "metadata": {
    "ExecuteTime": {
     "end_time": "2025-04-16T00:19:40.615027Z",
     "start_time": "2025-04-16T00:19:40.606157Z"
    }
   },
   "cell_type": "code",
   "source": "print(f\"Sum of all Votes: {sum(repaired_vest18_df[elec2018_cols].sum(axis=1)):_}\")",
   "id": "f01a48c00f0c7e1a",
   "outputs": [
    {
     "name": "stdout",
     "output_type": "stream",
     "text": [
      "Sum of all Votes: 21_874_163\n"
     ]
    }
   ],
   "execution_count": 59
  },
  {
   "metadata": {
    "ExecuteTime": {
     "end_time": "2025-04-16T00:21:04.782846Z",
     "start_time": "2025-04-16T00:21:04.772511Z"
    }
   },
   "cell_type": "code",
   "source": "print(len(repaired_vest18_df))",
   "id": "91c626a625ced588",
   "outputs": [
    {
     "name": "stdout",
     "output_type": "stream",
     "text": [
      "10116\n"
     ]
    }
   ],
   "execution_count": 69
  },
  {
   "metadata": {
    "ExecuteTime": {
     "end_time": "2025-04-16T00:22:09.724176Z",
     "start_time": "2025-04-16T00:21:05.956002Z"
    }
   },
   "cell_type": "code",
   "source": "blocks_to_2018precincts_assignment = maup.assign(vap_df.geometry, repaired_vest18_df.geometry)",
   "id": "65ce3a9e862c13b4",
   "outputs": [
    {
     "name": "stderr",
     "output_type": "stream",
     "text": [
      "100%|██████████| 10116/10116 [00:12<00:00, 793.45it/s]\n",
      "100%|██████████| 10116/10116 [00:46<00:00, 216.00it/s]\n"
     ]
    }
   ],
   "execution_count": 70
  },
  {
   "metadata": {
    "ExecuteTime": {
     "end_time": "2025-04-16T00:22:22.731532Z",
     "start_time": "2025-04-16T00:22:22.727694Z"
    }
   },
   "cell_type": "code",
   "source": "print(len(blocks_to_2018precincts_assignment))",
   "id": "661a334fb3cd4759",
   "outputs": [
    {
     "name": "stdout",
     "output_type": "stream",
     "text": [
      "369978\n"
     ]
    }
   ],
   "execution_count": 78
  },
  {
   "metadata": {
    "ExecuteTime": {
     "end_time": "2025-04-16T00:22:23.302328Z",
     "start_time": "2025-04-16T00:22:23.280193Z"
    }
   },
   "cell_type": "code",
   "source": [
    "# VAP = P0040001\n",
    "weights2018 = (vap_df[\"P0040001\"]/\n",
    "               blocks_to_2018precincts_assignment.map(vap_df[\"P0040001\"].groupby(blocks_to_2018precincts_assignment).sum()))\n",
    "weights2018 = weights2018.fillna(0)"
   ],
   "id": "58cdffa108db98f4",
   "outputs": [],
   "execution_count": 79
  },
  {
   "metadata": {
    "ExecuteTime": {
     "end_time": "2025-04-16T00:22:24.230822Z",
     "start_time": "2025-04-16T00:22:24.222506Z"
    }
   },
   "cell_type": "code",
   "source": "len(weights2018)",
   "id": "d8c1b01261e262cb",
   "outputs": [
    {
     "data": {
      "text/plain": [
       "369978"
      ]
     },
     "execution_count": 80,
     "metadata": {},
     "output_type": "execute_result"
    }
   ],
   "execution_count": 80
  },
  {
   "metadata": {
    "ExecuteTime": {
     "end_time": "2025-04-16T00:22:25.554680Z",
     "start_time": "2025-04-16T00:22:25.545493Z"
    }
   },
   "cell_type": "code",
   "source": "weights2018",
   "id": "e6c3be8af613c2e0",
   "outputs": [
    {
     "data": {
      "text/plain": [
       "0         0.022222\n",
       "1         0.009119\n",
       "2         0.015267\n",
       "3         0.111702\n",
       "4         0.000000\n",
       "            ...   \n",
       "369973    0.016362\n",
       "369974    0.012388\n",
       "369975    0.018930\n",
       "369976    0.009322\n",
       "369977    0.040449\n",
       "Length: 369978, dtype: float64"
      ]
     },
     "execution_count": 81,
     "metadata": {},
     "output_type": "execute_result"
    }
   ],
   "execution_count": 81
  },
  {
   "metadata": {
    "ExecuteTime": {
     "end_time": "2025-04-16T00:22:29.195471Z",
     "start_time": "2025-04-16T00:22:29.122197Z"
    }
   },
   "cell_type": "code",
   "source": "prorated2018 = maup.prorate(blocks_to_2018precincts_assignment, repaired_vest18_df[elec2018_cols], weights2018)",
   "id": "1f0686e8c41a9f09",
   "outputs": [],
   "execution_count": 82
  },
  {
   "metadata": {
    "ExecuteTime": {
     "end_time": "2025-04-16T00:22:31.364914Z",
     "start_time": "2025-04-16T00:22:31.351331Z"
    }
   },
   "cell_type": "code",
   "source": "vap_df[elec2018_cols] = prorated2018",
   "id": "d396f1155f28309f",
   "outputs": [],
   "execution_count": 83
  },
  {
   "metadata": {
    "ExecuteTime": {
     "end_time": "2025-04-16T00:23:33.570182Z",
     "start_time": "2025-04-16T00:22:33.291214Z"
    }
   },
   "cell_type": "code",
   "source": "blocks_to_precincts_assignment = maup.assign(vap_df.geometry, il_df.geometry)",
   "id": "4d00da576437dead",
   "outputs": [
    {
     "name": "stderr",
     "output_type": "stream",
     "text": [
      "100%|██████████| 10083/10083 [00:12<00:00, 821.67it/s] \n",
      "100%|██████████| 10083/10083 [00:43<00:00, 229.36it/s]\n"
     ]
    }
   ],
   "execution_count": 84
  },
  {
   "metadata": {
    "ExecuteTime": {
     "end_time": "2025-04-16T00:23:33.675356Z",
     "start_time": "2025-04-16T00:23:33.622037Z"
    }
   },
   "cell_type": "code",
   "source": "il_df[elec2018_cols] = vap_df[elec2018_cols].groupby(blocks_to_precincts_assignment).sum()",
   "id": "e56ae485343c790f",
   "outputs": [],
   "execution_count": 85
  },
  {
   "metadata": {
    "ExecuteTime": {
     "end_time": "2025-04-16T00:23:33.699535Z",
     "start_time": "2025-04-16T00:23:33.681525Z"
    }
   },
   "cell_type": "code",
   "source": "il_df.head()",
   "id": "cb6e72f242f8ed93",
   "outputs": [
    {
     "data": {
      "text/plain": [
       "   boundary_n          area STATEFP20 COUNTYFP20 VTDST20      GEOID20  \\\n",
       "0       False  4.442025e+07        17        089  00HA01  1708900HA01   \n",
       "1       False  1.595962e+07        17        089  00HA03  1708900HA03   \n",
       "2       False  1.689435e+06        17        037  00DK09  1703700DK09   \n",
       "3       False  9.126377e+06        17        037  00DK02  1703700DK02   \n",
       "4       False  8.399433e+07        17        201  00Bu01  1720100Bu01   \n",
       "\n",
       "        NAME20  G20PRED  G20PRER  G20USSD  ...  G18GOVD  G18GOVR  G18ATGD  \\\n",
       "0  HAMPSHIRE 1      533      951      496  ...    307.0    659.0    321.0   \n",
       "1  HAMPSHIRE 3      817     1075      784  ...    503.0    689.0    544.0   \n",
       "2     DEKALB 9      716      346      691  ...    530.0    294.0    542.0   \n",
       "3     DEKALB 2      677      133      604  ...    811.0    127.0    801.0   \n",
       "4    Burritt 1      187      432      183  ...    119.0    300.0    123.0   \n",
       "\n",
       "   G18ATGR  G18SOSD  G18SOSR  G18COMD  G18COMR  G18TRED  G18TRER  \n",
       "0    679.0    499.0    510.0    383.0    609.0    328.0    645.0  \n",
       "1    706.0    714.0    534.0    588.0    655.0    520.0    684.0  \n",
       "2    317.0    649.0    213.0    574.0    271.0    533.0    295.0  \n",
       "3    142.0    864.0     98.0    812.0    119.0    766.0    148.0  \n",
       "4    346.0    193.0    281.0    149.0    313.0    144.0    319.0  \n",
       "\n",
       "[5 rows x 43 columns]"
      ],
      "text/html": [
       "<div>\n",
       "<style scoped>\n",
       "    .dataframe tbody tr th:only-of-type {\n",
       "        vertical-align: middle;\n",
       "    }\n",
       "\n",
       "    .dataframe tbody tr th {\n",
       "        vertical-align: top;\n",
       "    }\n",
       "\n",
       "    .dataframe thead th {\n",
       "        text-align: right;\n",
       "    }\n",
       "</style>\n",
       "<table border=\"1\" class=\"dataframe\">\n",
       "  <thead>\n",
       "    <tr style=\"text-align: right;\">\n",
       "      <th></th>\n",
       "      <th>boundary_n</th>\n",
       "      <th>area</th>\n",
       "      <th>STATEFP20</th>\n",
       "      <th>COUNTYFP20</th>\n",
       "      <th>VTDST20</th>\n",
       "      <th>GEOID20</th>\n",
       "      <th>NAME20</th>\n",
       "      <th>G20PRED</th>\n",
       "      <th>G20PRER</th>\n",
       "      <th>G20USSD</th>\n",
       "      <th>...</th>\n",
       "      <th>G18GOVD</th>\n",
       "      <th>G18GOVR</th>\n",
       "      <th>G18ATGD</th>\n",
       "      <th>G18ATGR</th>\n",
       "      <th>G18SOSD</th>\n",
       "      <th>G18SOSR</th>\n",
       "      <th>G18COMD</th>\n",
       "      <th>G18COMR</th>\n",
       "      <th>G18TRED</th>\n",
       "      <th>G18TRER</th>\n",
       "    </tr>\n",
       "  </thead>\n",
       "  <tbody>\n",
       "    <tr>\n",
       "      <th>0</th>\n",
       "      <td>False</td>\n",
       "      <td>4.442025e+07</td>\n",
       "      <td>17</td>\n",
       "      <td>089</td>\n",
       "      <td>00HA01</td>\n",
       "      <td>1708900HA01</td>\n",
       "      <td>HAMPSHIRE 1</td>\n",
       "      <td>533</td>\n",
       "      <td>951</td>\n",
       "      <td>496</td>\n",
       "      <td>...</td>\n",
       "      <td>307.0</td>\n",
       "      <td>659.0</td>\n",
       "      <td>321.0</td>\n",
       "      <td>679.0</td>\n",
       "      <td>499.0</td>\n",
       "      <td>510.0</td>\n",
       "      <td>383.0</td>\n",
       "      <td>609.0</td>\n",
       "      <td>328.0</td>\n",
       "      <td>645.0</td>\n",
       "    </tr>\n",
       "    <tr>\n",
       "      <th>1</th>\n",
       "      <td>False</td>\n",
       "      <td>1.595962e+07</td>\n",
       "      <td>17</td>\n",
       "      <td>089</td>\n",
       "      <td>00HA03</td>\n",
       "      <td>1708900HA03</td>\n",
       "      <td>HAMPSHIRE 3</td>\n",
       "      <td>817</td>\n",
       "      <td>1075</td>\n",
       "      <td>784</td>\n",
       "      <td>...</td>\n",
       "      <td>503.0</td>\n",
       "      <td>689.0</td>\n",
       "      <td>544.0</td>\n",
       "      <td>706.0</td>\n",
       "      <td>714.0</td>\n",
       "      <td>534.0</td>\n",
       "      <td>588.0</td>\n",
       "      <td>655.0</td>\n",
       "      <td>520.0</td>\n",
       "      <td>684.0</td>\n",
       "    </tr>\n",
       "    <tr>\n",
       "      <th>2</th>\n",
       "      <td>False</td>\n",
       "      <td>1.689435e+06</td>\n",
       "      <td>17</td>\n",
       "      <td>037</td>\n",
       "      <td>00DK09</td>\n",
       "      <td>1703700DK09</td>\n",
       "      <td>DEKALB 9</td>\n",
       "      <td>716</td>\n",
       "      <td>346</td>\n",
       "      <td>691</td>\n",
       "      <td>...</td>\n",
       "      <td>530.0</td>\n",
       "      <td>294.0</td>\n",
       "      <td>542.0</td>\n",
       "      <td>317.0</td>\n",
       "      <td>649.0</td>\n",
       "      <td>213.0</td>\n",
       "      <td>574.0</td>\n",
       "      <td>271.0</td>\n",
       "      <td>533.0</td>\n",
       "      <td>295.0</td>\n",
       "    </tr>\n",
       "    <tr>\n",
       "      <th>3</th>\n",
       "      <td>False</td>\n",
       "      <td>9.126377e+06</td>\n",
       "      <td>17</td>\n",
       "      <td>037</td>\n",
       "      <td>00DK02</td>\n",
       "      <td>1703700DK02</td>\n",
       "      <td>DEKALB 2</td>\n",
       "      <td>677</td>\n",
       "      <td>133</td>\n",
       "      <td>604</td>\n",
       "      <td>...</td>\n",
       "      <td>811.0</td>\n",
       "      <td>127.0</td>\n",
       "      <td>801.0</td>\n",
       "      <td>142.0</td>\n",
       "      <td>864.0</td>\n",
       "      <td>98.0</td>\n",
       "      <td>812.0</td>\n",
       "      <td>119.0</td>\n",
       "      <td>766.0</td>\n",
       "      <td>148.0</td>\n",
       "    </tr>\n",
       "    <tr>\n",
       "      <th>4</th>\n",
       "      <td>False</td>\n",
       "      <td>8.399433e+07</td>\n",
       "      <td>17</td>\n",
       "      <td>201</td>\n",
       "      <td>00Bu01</td>\n",
       "      <td>1720100Bu01</td>\n",
       "      <td>Burritt 1</td>\n",
       "      <td>187</td>\n",
       "      <td>432</td>\n",
       "      <td>183</td>\n",
       "      <td>...</td>\n",
       "      <td>119.0</td>\n",
       "      <td>300.0</td>\n",
       "      <td>123.0</td>\n",
       "      <td>346.0</td>\n",
       "      <td>193.0</td>\n",
       "      <td>281.0</td>\n",
       "      <td>149.0</td>\n",
       "      <td>313.0</td>\n",
       "      <td>144.0</td>\n",
       "      <td>319.0</td>\n",
       "    </tr>\n",
       "  </tbody>\n",
       "</table>\n",
       "<p>5 rows × 43 columns</p>\n",
       "</div>"
      ]
     },
     "execution_count": 86,
     "metadata": {},
     "output_type": "execute_result"
    }
   ],
   "execution_count": 86
  },
  {
   "metadata": {
    "ExecuteTime": {
     "end_time": "2025-04-16T00:23:33.778496Z",
     "start_time": "2025-04-16T00:23:33.765358Z"
    }
   },
   "cell_type": "code",
   "source": [
    "print(f\"Sum of all Votes (VEST18) \\t\\t\\t\\t: {sum(repaired_vest18_df[elec2018_cols].sum(axis=1)):_}\")\n",
    "print(f\"Sum of all Votes (projected to VEST20)\\t: {sum(il_df[elec2018_cols].sum(axis=1)):_}\")"
   ],
   "id": "b02360ec1ab4c462",
   "outputs": [
    {
     "name": "stdout",
     "output_type": "stream",
     "text": [
      "Sum of all Votes (VEST18) \t\t\t\t: 21_874_163\n",
      "Sum of all Votes (projected to VEST20)\t: 21_873_265.0\n"
     ]
    }
   ],
   "execution_count": 87
  },
  {
   "metadata": {},
   "cell_type": "markdown",
   "source": [
    "As you can see, we lost over 1000 votes in the process.\n",
    "\n",
    "So it would not be a good idea to use the elections from 2018 for the following analysis."
   ],
   "id": "9142d92573f7e530"
  }
 ],
 "metadata": {
  "kernelspec": {
   "display_name": "Python 3",
   "language": "python",
   "name": "python3"
  },
  "language_info": {
   "codemirror_mode": {
    "name": "ipython",
    "version": 2
   },
   "file_extension": ".py",
   "mimetype": "text/x-python",
   "name": "python",
   "nbconvert_exporter": "python",
   "pygments_lexer": "ipython2",
   "version": "2.7.6"
  }
 },
 "nbformat": 4,
 "nbformat_minor": 5
}
