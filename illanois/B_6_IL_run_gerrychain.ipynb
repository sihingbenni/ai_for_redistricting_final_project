{
 "cells": [
  {
   "metadata": {},
   "cell_type": "markdown",
   "source": [
    "# Running the gerrychain to find a map without holes on congressional districts\n",
    "\n",
    "@authors: vcle, bpuhani"
   ],
   "id": "4e157b59fcfd78c5"
  },
  {
   "metadata": {
    "ExecuteTime": {
     "end_time": "2025-04-16T20:12:42.864536Z",
     "start_time": "2025-04-16T20:12:42.857298Z"
    }
   },
   "cell_type": "code",
   "source": [
    "import io\n",
    "import random\n",
    "from contextlib import redirect_stdout\n",
    "\n",
    "import maup\n",
    "import pandas as pd\n",
    "from shapely.ops import unary_union\n",
    "\n",
    "import utilities as util\n",
    "import matplotlib.pyplot as plt\n",
    "import geopandas as gpd\n",
    "import numpy as np\n",
    "from gerrychain import Graph, Partition, proposals, updaters, constraints, accept, MarkovChain, Election\n",
    "from gerrychain.tree import bipartition_tree\n",
    "from gerrychain.updaters import cut_edges, Tally\n",
    "from gerrychain.proposals import recom, propose_random_flip\n",
    "from gerrychain.accept import always_accept\n",
    "from functools import partial\n",
    "from gerrychain.metrics import efficiency_gap  # get the efficiency gap directly from gerrychain"
   ],
   "id": "655f1033bbc5e318",
   "outputs": [],
   "execution_count": 185
  },
  {
   "metadata": {},
   "cell_type": "markdown",
   "source": [
    "## Loading the needed data.\n",
    "For this notebook to work we assume, that you ran the following notebooks first:\n",
    "* `0_IL_import_and_explore_data.ipynb`\n",
    "* `B_2_IL_clean_maup_with_congress.ipynb`"
   ],
   "id": "81225e82f8299255"
  },
  {
   "metadata": {
    "ExecuteTime": {
     "end_time": "2025-04-16T19:54:11.532648Z",
     "start_time": "2025-04-16T19:54:10.794043Z"
    }
   },
   "cell_type": "code",
   "source": [
    "il_df: gpd.GeoDataFrame = util.load_shapefile(\"il_data/IL_congress_without_holes.shp\")\n",
    "il_graph: Graph = util.load_graph(\"il_data/IL_congress_without_holes.shp\")"
   ],
   "id": "ac385fd85704b5bc",
   "outputs": [
    {
     "name": "stdout",
     "output_type": "stream",
     "text": [
      "Loading shapefile from il_data/IL_congress_without_holes.shp...\n",
      "Shapefile data loaded from cache.\n",
      "Loading shapefile graph from il_data/IL_congress_without_holes.shp...\n",
      "Shapefile data loaded from cache.\n"
     ]
    }
   ],
   "execution_count": 142
  },
  {
   "metadata": {
    "ExecuteTime": {
     "end_time": "2025-04-16T20:18:27.192122Z",
     "start_time": "2025-04-16T20:18:27.178344Z"
    }
   },
   "cell_type": "code",
   "source": [
    "partition_at_5_000: Partition\n",
    "partition_at_10_000: Partition\n",
    "partition_at_15_000: Partition\n",
    "partition_at_20_000: Partition\n",
    "partition_at_25_000: Partition\n",
    "partition_at_30_000: Partition\n",
    "partition_at_35_000: Partition\n",
    "partition_at_40_000: Partition"
   ],
   "id": "2e6db256d38e8353",
   "outputs": [],
   "execution_count": 205
  },
  {
   "metadata": {},
   "cell_type": "markdown",
   "source": "Setup Updaters",
   "id": "4b124db81b232a10"
  },
  {
   "metadata": {
    "ExecuteTime": {
     "end_time": "2025-04-16T20:12:45.187261Z",
     "start_time": "2025-04-16T20:12:45.176347Z"
    }
   },
   "cell_type": "code",
   "source": [
    "def has_holes(partition, district) -> bool:\n",
    "    # Merge all geometries in the district into a single polygon/multipolygon\n",
    "    raw_geometry = unary_union([partition.graph.nodes[v][\"geometry\"]\n",
    "                                for v in partition.parts[district]])\n",
    "\n",
    "    # Try to repair invalid geometry\n",
    "    geom_fixed = raw_geometry.buffer(0)\n",
    "\n",
    "    # A simple hole check: does the geometry have interior rings?\n",
    "    # (for Polygon: check .interiors; for MultiPolygon: check if any part has interiors)\n",
    "    if geom_fixed.geom_type == \"Polygon\":\n",
    "        return len(geom_fixed.interiors) > 0\n",
    "    elif geom_fixed.geom_type == \"MultiPolygon\":\n",
    "        return any(len(p.interiors) > 0 for p in geom_fixed.geoms)\n",
    "    else:\n",
    "        print(f\"Not a polygon geometry: {geom_fixed.geom_type}\")\n",
    "        return False  # Not a polygon geometry? Then we ignore it."
   ],
   "id": "e20791f45ef82908",
   "outputs": [],
   "execution_count": 186
  },
  {
   "metadata": {
    "ExecuteTime": {
     "end_time": "2025-04-16T20:12:45.667214Z",
     "start_time": "2025-04-16T20:12:45.658974Z"
    }
   },
   "cell_type": "code",
   "source": [
    "il_updaters = {\n",
    "    \"total_population\": Tally(\"TOTPOP\", alias=\"total_population\"),\n",
    "    # \"hisp_population\": Tally(\"HISP\", alias=\"hisp_population\"), # not needed apparently\n",
    "    \"cut_edges\": cut_edges,\n",
    "    # calculate if a district has holes\n",
    "    \"district_has_holes\": lambda p: [int(has_holes(p, d)) for d in p.parts],\n",
    "}"
   ],
   "id": "b50063aa7b3874dc",
   "outputs": [],
   "execution_count": 187
  },
  {
   "metadata": {
    "ExecuteTime": {
     "end_time": "2025-04-16T20:12:46.123839Z",
     "start_time": "2025-04-16T20:12:46.115304Z"
    }
   },
   "cell_type": "code",
   "source": [
    "elections = [\n",
    "    Election(\"PRE20\", {\"Dem\": \"G20PRED\", \"Rep\": \"G20PRER\"}),\n",
    "    Election(\"USS20\", {\"Dem\": \"G20USSD\", \"Rep\": \"G20USSR\"}),\n",
    "]"
   ],
   "id": "b15ac48837233802",
   "outputs": [],
   "execution_count": 188
  },
  {
   "metadata": {
    "ExecuteTime": {
     "end_time": "2025-04-16T20:12:46.526583Z",
     "start_time": "2025-04-16T20:12:46.522104Z"
    }
   },
   "cell_type": "code",
   "source": [
    "# adding the elections to the updaters\n",
    "election_updaters = {election.name: election for election in elections}\n",
    "il_updaters.update(election_updaters)"
   ],
   "id": "d4135f6dfd8ac36d",
   "outputs": [],
   "execution_count": 189
  },
  {
   "metadata": {
    "ExecuteTime": {
     "end_time": "2025-04-16T20:12:46.920644Z",
     "start_time": "2025-04-16T20:12:46.897343Z"
    }
   },
   "cell_type": "code",
   "source": [
    "# Set up the initial partition object\n",
    "initial_partition = Partition(\n",
    "    il_graph,\n",
    "    assignment=\"district\",  # use the \"district\" column because this is the new one without holes.\n",
    "    updaters=il_updaters,\n",
    ")"
   ],
   "id": "dab6791916c72246",
   "outputs": [],
   "execution_count": 190
  },
  {
   "metadata": {
    "ExecuteTime": {
     "end_time": "2025-04-16T20:12:47.448276Z",
     "start_time": "2025-04-16T20:12:47.393742Z"
    }
   },
   "cell_type": "code",
   "source": [
    "# Define the ideal population\n",
    "ideal_population = sum(initial_partition[\"total_population\"].values()) / len(initial_partition)\n",
    "print(\"Nr of districts:\", len(initial_partition))\n",
    "print(\"Ideal population:\", ideal_population)"
   ],
   "id": "af7d176abcf69223",
   "outputs": [
    {
     "name": "stdout",
     "output_type": "stream",
     "text": [
      "Nr of districts: 17\n",
      "Ideal population: 753676.9411764706\n"
     ]
    }
   ],
   "execution_count": 191
  },
  {
   "metadata": {
    "ExecuteTime": {
     "end_time": "2025-04-16T20:12:47.819870Z",
     "start_time": "2025-04-16T20:12:47.811703Z"
    }
   },
   "cell_type": "code",
   "source": [
    "# Define the recom proposal\n",
    "proposal = partial(\n",
    "    recom,\n",
    "    pop_col=\"TOTPOP\",\n",
    "    pop_target=ideal_population,\n",
    "    epsilon=0.02,\n",
    "    method=partial(\n",
    "        bipartition_tree,\n",
    "        max_attempts=100,\n",
    "        allow_pair_reselection=True\n",
    "    )\n",
    ")"
   ],
   "id": "85a1e933607c217b",
   "outputs": [],
   "execution_count": 192
  },
  {
   "metadata": {
    "ExecuteTime": {
     "end_time": "2025-04-16T20:12:49.163225Z",
     "start_time": "2025-04-16T20:12:49.157007Z"
    }
   },
   "cell_type": "code",
   "source": [
    "# define the lists that are needed to track the changes\n",
    "list_of_nr_of_cut_edges = []\n",
    "\n",
    "list_of_dem_won_districts_pre20 = []\n",
    "list_of_dem_won_districts_uss20 = []\n",
    "\n",
    "list_of_eg_pre20 = []\n",
    "list_of_eg_uss20 = []\n",
    "\n",
    "list_of_dem_percents_pre20 = []\n",
    "list_of_dem_percents_uss20 = []"
   ],
   "id": "ad081dbf76e86442",
   "outputs": [],
   "execution_count": 193
  },
  {
   "metadata": {
    "ExecuteTime": {
     "end_time": "2025-04-16T20:12:49.928726Z",
     "start_time": "2025-04-16T20:12:49.921964Z"
    }
   },
   "cell_type": "code",
   "source": [
    "# create a checkpoint for all the lists in one big dictionary\n",
    "checkpoint_dict = {\n",
    "    \"list_of_nr_of_cut_edges\": list_of_nr_of_cut_edges,\n",
    "    \"list_of_dem_won_districts_pre20\": list_of_dem_won_districts_pre20,\n",
    "    \"list_of_dem_won_districts_uss20\": list_of_dem_won_districts_uss20,\n",
    "    \"list_of_eg_pre20\": list_of_eg_pre20,\n",
    "    \"list_of_eg_uss20\": list_of_eg_uss20,\n",
    "    \"list_of_dem_percents_pre20\": list_of_dem_percents_pre20,\n",
    "    \"list_of_dem_percents_uss20\": list_of_dem_percents_uss20\n",
    "}"
   ],
   "id": "f8e4c03de2147484",
   "outputs": [],
   "execution_count": 194
  },
  {
   "metadata": {
    "ExecuteTime": {
     "end_time": "2025-04-16T20:12:52.159922Z",
     "start_time": "2025-04-16T20:12:52.136628Z"
    }
   },
   "cell_type": "code",
   "source": [
    "def run_the_chain(nr_of_total_steps: int, start_partition: Partition, offset: int = 0) -> Partition:\n",
    "    \"\"\"Runs the chain for the specified number of steps. Returns the last partition\"\"\"\n",
    "\n",
    "    # Set up the chain\n",
    "    chain = MarkovChain(\n",
    "        proposal=proposal,\n",
    "        constraints=[\n",
    "            # Compactness constraint\n",
    "            constraints.UpperBound(lambda p: len(p[\"cut_edges\"]), 2 * len(initial_partition[\"cut_edges\"])),\n",
    "            # Population constraint\n",
    "            constraints.within_percent_of_ideal_population(initial_partition, 0.02, \"total_population\"),\n",
    "            # set constraint for the map not to allow holes (lower and upper bound is 1 == (True) == no Holes)\n",
    "            constraints.Bounds(lambda p: p[\"holes_in_districts\"], (0, 0))\n",
    "        ],\n",
    "        accept=always_accept,\n",
    "        initial_state=start_partition,\n",
    "        total_steps=nr_of_total_steps - offset\n",
    "    )\n",
    "    last_partition: Partition = start_partition\n",
    "\n",
    "    for (i, partition) in enumerate(chain.with_progress_bar()):\n",
    "        last_partition = partition\n",
    "\n",
    "        # Calculate and append the efficiency gap values for each election to checkpoint_dict\n",
    "        checkpoint_dict[\"list_of_eg_pre20\"].append(efficiency_gap(partition[\"PRE20\"]))\n",
    "        checkpoint_dict[\"list_of_eg_uss20\"].append(efficiency_gap(partition[\"USS20\"]))\n",
    "\n",
    "        # Append the sorted percentages of Democratic votes for each election to checkpoint_dict\n",
    "        checkpoint_dict[\"list_of_dem_percents_pre20\"].append(sorted(partition[\"PRE20\"].percents(\"Dem\")))\n",
    "        checkpoint_dict[\"list_of_dem_percents_uss20\"].append(sorted(partition[\"USS20\"].percents(\"Dem\")))\n",
    "\n",
    "        # Append the number of districts won by the Democratic Party for each election to checkpoint_dict\n",
    "        checkpoint_dict[\"list_of_dem_won_districts_pre20\"].append(partition[\"PRE20\"].wins(\"Dem\"))\n",
    "        checkpoint_dict[\"list_of_dem_won_districts_uss20\"].append(partition[\"USS20\"].wins(\"Dem\"))\n",
    "\n",
    "        # Append the number of cut edges for this partition to checkpoint_dict\n",
    "        checkpoint_dict[\"list_of_nr_of_cut_edges\"].append(len(partition[\"cut_edges\"]))\n",
    "\n",
    "        print(partition[\"district_has_holes\"])\n",
    "        #print(f\"There are {partition.nr_of_holes} holes overall\")\n",
    "\n",
    "    return last_partition"
   ],
   "id": "e6f0db5009bbfec4",
   "outputs": [],
   "execution_count": 195
  },
  {
   "metadata": {},
   "cell_type": "markdown",
   "source": "## RUN FIRST 5_000 STEPS",
   "id": "d198948033d14a30"
  },
  {
   "metadata": {
    "ExecuteTime": {
     "end_time": "2025-04-16T20:03:24.140513Z",
     "start_time": "2025-04-16T20:03:13.090363Z"
    }
   },
   "cell_type": "code",
   "source": "partition_at_5_000 = run_the_chain(5_000, initial_partition)",
   "id": "c084d984cd3b7643",
   "outputs": [
    {
     "data": {
      "text/plain": [
       "  0%|          | 0/2 [00:00<?, ?it/s]"
      ],
      "application/vnd.jupyter.widget-view+json": {
       "version_major": 2,
       "version_minor": 0,
       "model_id": "9a46bbf280b1455b8624a992ee8b1043"
      }
     },
     "metadata": {},
     "output_type": "display_data"
    },
    {
     "name": "stdout",
     "output_type": "stream",
     "text": [
      "[0, 0, 0, 0, 0, 0, 0, 0, 0, 0, 0, 0, 0, 0, 0, 0, 0]\n"
     ]
    },
    {
     "ename": "KeyboardInterrupt",
     "evalue": "",
     "output_type": "error",
     "traceback": [
      "\u001B[1;31m---------------------------------------------------------------------------\u001B[0m",
      "\u001B[1;31mKeyboardInterrupt\u001B[0m                         Traceback (most recent call last)",
      "Cell \u001B[1;32mIn[183], line 1\u001B[0m\n\u001B[1;32m----> 1\u001B[0m partition_at_10_000 \u001B[38;5;241m=\u001B[39m \u001B[43mrun_the_chain\u001B[49m\u001B[43m(\u001B[49m\u001B[38;5;241;43m2\u001B[39;49m\u001B[43m,\u001B[49m\u001B[43m \u001B[49m\u001B[43minitial_partition\u001B[49m\u001B[43m,\u001B[49m\u001B[43m \u001B[49m\u001B[38;5;241;43m1\u001B[39;49m\u001B[43m)\u001B[49m\n",
      "Cell \u001B[1;32mIn[174], line 40\u001B[0m, in \u001B[0;36mrun_the_chain\u001B[1;34m(nr_of_total_steps, start_partition, offset)\u001B[0m\n\u001B[0;32m     37\u001B[0m     \u001B[38;5;66;03m# append the number of cut edges for this partition to the list\u001B[39;00m\n\u001B[0;32m     38\u001B[0m     checkpoint_dict[\u001B[38;5;124m\"\u001B[39m\u001B[38;5;124mlist_of_nr_of_cut_edges\u001B[39m\u001B[38;5;124m\"\u001B[39m]\u001B[38;5;241m.\u001B[39mappend(\u001B[38;5;28mlen\u001B[39m(partition[\u001B[38;5;124m\"\u001B[39m\u001B[38;5;124mcut_edges\u001B[39m\u001B[38;5;124m\"\u001B[39m]))\n\u001B[1;32m---> 40\u001B[0m     \u001B[38;5;28mprint\u001B[39m(\u001B[43mpartition\u001B[49m\u001B[43m[\u001B[49m\u001B[38;5;124;43m\"\u001B[39;49m\u001B[38;5;124;43mdistrict_has_holes\u001B[39;49m\u001B[38;5;124;43m\"\u001B[39;49m\u001B[43m]\u001B[49m)\n\u001B[0;32m     41\u001B[0m     \u001B[38;5;66;03m#print(f\"There are {partition.nr_of_holes} holes overall\")\u001B[39;00m\n\u001B[0;32m     43\u001B[0m \u001B[38;5;28;01mreturn\u001B[39;00m last_partition\n",
      "File \u001B[1;32m~\\workspace\\6-Semester\\ai-for-redistricting\\venv\\Lib\\site-packages\\gerrychain\\partition\\partition.py:209\u001B[0m, in \u001B[0;36mPartition.__getitem__\u001B[1;34m(self, key)\u001B[0m\n\u001B[0;32m    198\u001B[0m \u001B[38;5;250m\u001B[39m\u001B[38;5;124;03m\"\"\"\u001B[39;00m\n\u001B[0;32m    199\u001B[0m \u001B[38;5;124;03mAllows accessing the values of updaters computed for this\u001B[39;00m\n\u001B[0;32m    200\u001B[0m \u001B[38;5;124;03mPartition instance.\u001B[39;00m\n\u001B[1;32m   (...)\u001B[0m\n\u001B[0;32m    206\u001B[0m \u001B[38;5;124;03m:rtype: Any\u001B[39;00m\n\u001B[0;32m    207\u001B[0m \u001B[38;5;124;03m\"\"\"\u001B[39;00m\n\u001B[0;32m    208\u001B[0m \u001B[38;5;28;01mif\u001B[39;00m key \u001B[38;5;129;01mnot\u001B[39;00m \u001B[38;5;129;01min\u001B[39;00m \u001B[38;5;28mself\u001B[39m\u001B[38;5;241m.\u001B[39m_cache:\n\u001B[1;32m--> 209\u001B[0m     \u001B[38;5;28mself\u001B[39m\u001B[38;5;241m.\u001B[39m_cache[key] \u001B[38;5;241m=\u001B[39m \u001B[38;5;28;43mself\u001B[39;49m\u001B[38;5;241;43m.\u001B[39;49m\u001B[43mupdaters\u001B[49m\u001B[43m[\u001B[49m\u001B[43mkey\u001B[49m\u001B[43m]\u001B[49m\u001B[43m(\u001B[49m\u001B[38;5;28;43mself\u001B[39;49m\u001B[43m)\u001B[49m\n\u001B[0;32m    210\u001B[0m \u001B[38;5;28;01mreturn\u001B[39;00m \u001B[38;5;28mself\u001B[39m\u001B[38;5;241m.\u001B[39m_cache[key]\n",
      "Cell \u001B[1;32mIn[144], line 6\u001B[0m, in \u001B[0;36m<lambda>\u001B[1;34m(p)\u001B[0m\n\u001B[0;32m      1\u001B[0m il_updaters \u001B[38;5;241m=\u001B[39m {\n\u001B[0;32m      2\u001B[0m     \u001B[38;5;124m\"\u001B[39m\u001B[38;5;124mtotal_population\u001B[39m\u001B[38;5;124m\"\u001B[39m: Tally(\u001B[38;5;124m\"\u001B[39m\u001B[38;5;124mTOTPOP\u001B[39m\u001B[38;5;124m\"\u001B[39m, alias\u001B[38;5;241m=\u001B[39m\u001B[38;5;124m\"\u001B[39m\u001B[38;5;124mtotal_population\u001B[39m\u001B[38;5;124m\"\u001B[39m),\n\u001B[0;32m      3\u001B[0m     \u001B[38;5;66;03m# \"hisp_population\": Tally(\"HISP\", alias=\"hisp_population\"), # not needed apparently\u001B[39;00m\n\u001B[0;32m      4\u001B[0m     \u001B[38;5;124m\"\u001B[39m\u001B[38;5;124mcut_edges\u001B[39m\u001B[38;5;124m\"\u001B[39m: cut_edges,\n\u001B[0;32m      5\u001B[0m     \u001B[38;5;66;03m# calculate if a district has holes\u001B[39;00m\n\u001B[1;32m----> 6\u001B[0m     \u001B[38;5;124m\"\u001B[39m\u001B[38;5;124mdistrict_has_holes\u001B[39m\u001B[38;5;124m\"\u001B[39m: \u001B[38;5;28;01mlambda\u001B[39;00m p: \u001B[43m[\u001B[49m\u001B[38;5;28;43mint\u001B[39;49m\u001B[43m(\u001B[49m\u001B[43mhas_holes\u001B[49m\u001B[43m(\u001B[49m\u001B[43mp\u001B[49m\u001B[43m,\u001B[49m\u001B[43m \u001B[49m\u001B[43md\u001B[49m\u001B[43m)\u001B[49m\u001B[43m)\u001B[49m\u001B[43m \u001B[49m\u001B[38;5;28;43;01mfor\u001B[39;49;00m\u001B[43m \u001B[49m\u001B[43md\u001B[49m\u001B[43m \u001B[49m\u001B[38;5;129;43;01min\u001B[39;49;00m\u001B[43m \u001B[49m\u001B[43mp\u001B[49m\u001B[38;5;241;43m.\u001B[39;49m\u001B[43mparts\u001B[49m\u001B[43m]\u001B[49m,\n\u001B[0;32m      7\u001B[0m }\n",
      "Cell \u001B[1;32mIn[144], line 6\u001B[0m, in \u001B[0;36m<listcomp>\u001B[1;34m(.0)\u001B[0m\n\u001B[0;32m      1\u001B[0m il_updaters \u001B[38;5;241m=\u001B[39m {\n\u001B[0;32m      2\u001B[0m     \u001B[38;5;124m\"\u001B[39m\u001B[38;5;124mtotal_population\u001B[39m\u001B[38;5;124m\"\u001B[39m: Tally(\u001B[38;5;124m\"\u001B[39m\u001B[38;5;124mTOTPOP\u001B[39m\u001B[38;5;124m\"\u001B[39m, alias\u001B[38;5;241m=\u001B[39m\u001B[38;5;124m\"\u001B[39m\u001B[38;5;124mtotal_population\u001B[39m\u001B[38;5;124m\"\u001B[39m),\n\u001B[0;32m      3\u001B[0m     \u001B[38;5;66;03m# \"hisp_population\": Tally(\"HISP\", alias=\"hisp_population\"), # not needed apparently\u001B[39;00m\n\u001B[0;32m      4\u001B[0m     \u001B[38;5;124m\"\u001B[39m\u001B[38;5;124mcut_edges\u001B[39m\u001B[38;5;124m\"\u001B[39m: cut_edges,\n\u001B[0;32m      5\u001B[0m     \u001B[38;5;66;03m# calculate if a district has holes\u001B[39;00m\n\u001B[1;32m----> 6\u001B[0m     \u001B[38;5;124m\"\u001B[39m\u001B[38;5;124mdistrict_has_holes\u001B[39m\u001B[38;5;124m\"\u001B[39m: \u001B[38;5;28;01mlambda\u001B[39;00m p: [\u001B[38;5;28mint\u001B[39m(\u001B[43mhas_holes\u001B[49m\u001B[43m(\u001B[49m\u001B[43mp\u001B[49m\u001B[43m,\u001B[49m\u001B[43m \u001B[49m\u001B[43md\u001B[49m\u001B[43m)\u001B[49m) \u001B[38;5;28;01mfor\u001B[39;00m d \u001B[38;5;129;01min\u001B[39;00m p\u001B[38;5;241m.\u001B[39mparts],\n\u001B[0;32m      7\u001B[0m }\n",
      "Cell \u001B[1;32mIn[143], line 3\u001B[0m, in \u001B[0;36mhas_holes\u001B[1;34m(partition, district)\u001B[0m\n\u001B[0;32m      1\u001B[0m \u001B[38;5;28;01mdef\u001B[39;00m\u001B[38;5;250m \u001B[39m\u001B[38;5;21mhas_holes\u001B[39m(partition, district) \u001B[38;5;241m-\u001B[39m\u001B[38;5;241m>\u001B[39m \u001B[38;5;28mbool\u001B[39m:\n\u001B[0;32m      2\u001B[0m     \u001B[38;5;66;03m# Merge all geometries in the district into a single polygon/multipolygon\u001B[39;00m\n\u001B[1;32m----> 3\u001B[0m     raw_geometry \u001B[38;5;241m=\u001B[39m \u001B[43munary_union\u001B[49m\u001B[43m(\u001B[49m\u001B[43m[\u001B[49m\u001B[43mpartition\u001B[49m\u001B[38;5;241;43m.\u001B[39;49m\u001B[43mgraph\u001B[49m\u001B[38;5;241;43m.\u001B[39;49m\u001B[43mnodes\u001B[49m\u001B[43m[\u001B[49m\u001B[43mv\u001B[49m\u001B[43m]\u001B[49m\u001B[43m[\u001B[49m\u001B[38;5;124;43m\"\u001B[39;49m\u001B[38;5;124;43mgeometry\u001B[39;49m\u001B[38;5;124;43m\"\u001B[39;49m\u001B[43m]\u001B[49m\n\u001B[0;32m      4\u001B[0m \u001B[43m                                \u001B[49m\u001B[38;5;28;43;01mfor\u001B[39;49;00m\u001B[43m \u001B[49m\u001B[43mv\u001B[49m\u001B[43m \u001B[49m\u001B[38;5;129;43;01min\u001B[39;49;00m\u001B[43m \u001B[49m\u001B[43mpartition\u001B[49m\u001B[38;5;241;43m.\u001B[39;49m\u001B[43mparts\u001B[49m\u001B[43m[\u001B[49m\u001B[43mdistrict\u001B[49m\u001B[43m]\u001B[49m\u001B[43m]\u001B[49m\u001B[43m)\u001B[49m\n\u001B[0;32m      6\u001B[0m     \u001B[38;5;66;03m# Try to repair invalid geometry\u001B[39;00m\n\u001B[0;32m      7\u001B[0m     geom_fixed \u001B[38;5;241m=\u001B[39m raw_geometry\u001B[38;5;241m.\u001B[39mbuffer(\u001B[38;5;241m0\u001B[39m)\n",
      "File \u001B[1;32m~\\workspace\\6-Semester\\ai-for-redistricting\\venv\\Lib\\site-packages\\shapely\\ops.py:135\u001B[0m, in \u001B[0;36mCollectionOperator.unary_union\u001B[1;34m(self, geoms)\u001B[0m\n\u001B[0;32m    129\u001B[0m \u001B[38;5;28;01mdef\u001B[39;00m\u001B[38;5;250m \u001B[39m\u001B[38;5;21munary_union\u001B[39m(\u001B[38;5;28mself\u001B[39m, geoms):\n\u001B[0;32m    130\u001B[0m \u001B[38;5;250m    \u001B[39m\u001B[38;5;124;03m\"\"\"Returns the union of a sequence of geometries\u001B[39;00m\n\u001B[0;32m    131\u001B[0m \n\u001B[0;32m    132\u001B[0m \u001B[38;5;124;03m    Usually used to convert a collection into the smallest set of polygons\u001B[39;00m\n\u001B[0;32m    133\u001B[0m \u001B[38;5;124;03m    that cover the same area.\u001B[39;00m\n\u001B[0;32m    134\u001B[0m \u001B[38;5;124;03m    \"\"\"\u001B[39;00m\n\u001B[1;32m--> 135\u001B[0m     \u001B[38;5;28;01mreturn\u001B[39;00m \u001B[43mshapely\u001B[49m\u001B[38;5;241;43m.\u001B[39;49m\u001B[43munion_all\u001B[49m\u001B[43m(\u001B[49m\u001B[43mgeoms\u001B[49m\u001B[43m,\u001B[49m\u001B[43m \u001B[49m\u001B[43maxis\u001B[49m\u001B[38;5;241;43m=\u001B[39;49m\u001B[38;5;28;43;01mNone\u001B[39;49;00m\u001B[43m)\u001B[49m\n",
      "File \u001B[1;32m~\\workspace\\6-Semester\\ai-for-redistricting\\venv\\Lib\\site-packages\\shapely\\decorators.py:77\u001B[0m, in \u001B[0;36mmultithreading_enabled.<locals>.wrapped\u001B[1;34m(*args, **kwargs)\u001B[0m\n\u001B[0;32m     75\u001B[0m     \u001B[38;5;28;01mfor\u001B[39;00m arr \u001B[38;5;129;01min\u001B[39;00m array_args:\n\u001B[0;32m     76\u001B[0m         arr\u001B[38;5;241m.\u001B[39mflags\u001B[38;5;241m.\u001B[39mwriteable \u001B[38;5;241m=\u001B[39m \u001B[38;5;28;01mFalse\u001B[39;00m\n\u001B[1;32m---> 77\u001B[0m     \u001B[38;5;28;01mreturn\u001B[39;00m \u001B[43mfunc\u001B[49m\u001B[43m(\u001B[49m\u001B[38;5;241;43m*\u001B[39;49m\u001B[43margs\u001B[49m\u001B[43m,\u001B[49m\u001B[43m \u001B[49m\u001B[38;5;241;43m*\u001B[39;49m\u001B[38;5;241;43m*\u001B[39;49m\u001B[43mkwargs\u001B[49m\u001B[43m)\u001B[49m\n\u001B[0;32m     78\u001B[0m \u001B[38;5;28;01mfinally\u001B[39;00m:\n\u001B[0;32m     79\u001B[0m     \u001B[38;5;28;01mfor\u001B[39;00m arr, old_flag \u001B[38;5;129;01min\u001B[39;00m \u001B[38;5;28mzip\u001B[39m(array_args, old_flags):\n",
      "File \u001B[1;32m~\\workspace\\6-Semester\\ai-for-redistricting\\venv\\Lib\\site-packages\\shapely\\set_operations.py:421\u001B[0m, in \u001B[0;36munion_all\u001B[1;34m(geometries, grid_size, axis, **kwargs)\u001B[0m\n\u001B[0;32m    417\u001B[0m         \u001B[38;5;28;01mraise\u001B[39;00m \u001B[38;5;167;01mValueError\u001B[39;00m(\u001B[38;5;124m\"\u001B[39m\u001B[38;5;124mgrid_size parameter only accepts scalar values\u001B[39m\u001B[38;5;124m\"\u001B[39m)\n\u001B[0;32m    419\u001B[0m     \u001B[38;5;28;01mreturn\u001B[39;00m lib\u001B[38;5;241m.\u001B[39munary_union_prec(collections, grid_size, \u001B[38;5;241m*\u001B[39m\u001B[38;5;241m*\u001B[39mkwargs)\n\u001B[1;32m--> 421\u001B[0m \u001B[38;5;28;01mreturn\u001B[39;00m \u001B[43mlib\u001B[49m\u001B[38;5;241;43m.\u001B[39;49m\u001B[43munary_union\u001B[49m\u001B[43m(\u001B[49m\u001B[43mcollections\u001B[49m\u001B[43m,\u001B[49m\u001B[43m \u001B[49m\u001B[38;5;241;43m*\u001B[39;49m\u001B[38;5;241;43m*\u001B[39;49m\u001B[43mkwargs\u001B[49m\u001B[43m)\u001B[49m\n",
      "\u001B[1;31mKeyboardInterrupt\u001B[0m: "
     ]
    }
   ],
   "execution_count": 183
  },
  {
   "metadata": {},
   "cell_type": "markdown",
   "source": "### Saving the progress for the first 5_000 steps",
   "id": "be1d0e67cba231be"
  },
  {
   "metadata": {
    "ExecuteTime": {
     "end_time": "2025-04-16T20:13:00.009970Z",
     "start_time": "2025-04-16T20:12:59.995111Z"
    }
   },
   "cell_type": "code",
   "source": [
    "# load the checkpoint if it exists\n",
    "checkpoint_dict = util.checkpoint(\"IL_plot_results_5_000\", checkpoint_dict)"
   ],
   "id": "9d191c2675cfcf1c",
   "outputs": [
    {
     "name": "stdout",
     "output_type": "stream",
     "text": [
      "Checkpoint: IL_plot_results_5_000\n",
      "Saving data...\n",
      "Data saved successfully to checkpoints/IL_plot_results_5_000.pkl.\n"
     ]
    }
   ],
   "execution_count": 196
  },
  {
   "metadata": {
    "ExecuteTime": {
     "end_time": "2025-04-16T20:18:31.107605Z",
     "start_time": "2025-04-16T20:18:31.042885Z"
    }
   },
   "cell_type": "code",
   "source": [
    "assignment_at_5_000 = util.checkpoint(\"IL_Gerrychain_step_5_000\", partition_at_5_000)\n",
    "partition_at_5_000 = Partition(\n",
    "    graph=il_graph,\n",
    "    assignment=assignment_at_5_000,\n",
    "    updaters=il_updaters,\n",
    ")"
   ],
   "id": "fc5424bd7c73a348",
   "outputs": [
    {
     "name": "stdout",
     "output_type": "stream",
     "text": [
      "Checkpoint: IL_Gerrychain_step_5_000\n",
      "Saving data...\n",
      "Data saved successfully to checkpoints/IL_Gerrychain_step_5_000.pkl.\n"
     ]
    },
    {
     "ename": "TypeError",
     "evalue": "Assignment must be a dict or a node attribute key",
     "output_type": "error",
     "traceback": [
      "\u001B[1;31m---------------------------------------------------------------------------\u001B[0m",
      "\u001B[1;31mTypeError\u001B[0m                                 Traceback (most recent call last)",
      "Cell \u001B[1;32mIn[206], line 2\u001B[0m\n\u001B[0;32m      1\u001B[0m assignment_at_5_000 \u001B[38;5;241m=\u001B[39m util\u001B[38;5;241m.\u001B[39mcheckpoint(\u001B[38;5;124m\"\u001B[39m\u001B[38;5;124mIL_Gerrychain_step_5_000\u001B[39m\u001B[38;5;124m\"\u001B[39m, partition_at_5_000)\n\u001B[1;32m----> 2\u001B[0m partition_at_5_000 \u001B[38;5;241m=\u001B[39m \u001B[43mPartition\u001B[49m\u001B[43m(\u001B[49m\n\u001B[0;32m      3\u001B[0m \u001B[43m    \u001B[49m\u001B[43mgraph\u001B[49m\u001B[38;5;241;43m=\u001B[39;49m\u001B[43mil_graph\u001B[49m\u001B[43m,\u001B[49m\n\u001B[0;32m      4\u001B[0m \u001B[43m    \u001B[49m\u001B[43massignment\u001B[49m\u001B[38;5;241;43m=\u001B[39;49m\u001B[43massignment_at_5_000\u001B[49m\u001B[43m,\u001B[49m\n\u001B[0;32m      5\u001B[0m \u001B[43m    \u001B[49m\u001B[43mupdaters\u001B[49m\u001B[38;5;241;43m=\u001B[39;49m\u001B[43mil_updaters\u001B[49m\u001B[43m,\u001B[49m\n\u001B[0;32m      6\u001B[0m \u001B[43m)\u001B[49m\n",
      "File \u001B[1;32m~\\workspace\\6-Semester\\ai-for-redistricting\\venv\\Lib\\site-packages\\gerrychain\\partition\\partition.py:60\u001B[0m, in \u001B[0;36mPartition.__init__\u001B[1;34m(self, graph, assignment, updaters, parent, flips, use_default_updaters)\u001B[0m\n\u001B[0;32m     51\u001B[0m \u001B[38;5;250m\u001B[39m\u001B[38;5;124;03m\"\"\"\u001B[39;00m\n\u001B[0;32m     52\u001B[0m \u001B[38;5;124;03m:param graph: Underlying graph.\u001B[39;00m\n\u001B[0;32m     53\u001B[0m \u001B[38;5;124;03m:param assignment: Dictionary assigning nodes to districts.\u001B[39;00m\n\u001B[1;32m   (...)\u001B[0m\n\u001B[0;32m     57\u001B[0m \u001B[38;5;124;03m:param use_default_updaters: If `False`, do not include default updaters.\u001B[39;00m\n\u001B[0;32m     58\u001B[0m \u001B[38;5;124;03m\"\"\"\u001B[39;00m\n\u001B[0;32m     59\u001B[0m \u001B[38;5;28;01mif\u001B[39;00m parent \u001B[38;5;129;01mis\u001B[39;00m \u001B[38;5;28;01mNone\u001B[39;00m:\n\u001B[1;32m---> 60\u001B[0m     \u001B[38;5;28;43mself\u001B[39;49m\u001B[38;5;241;43m.\u001B[39;49m\u001B[43m_first_time\u001B[49m\u001B[43m(\u001B[49m\u001B[43mgraph\u001B[49m\u001B[43m,\u001B[49m\u001B[43m \u001B[49m\u001B[43massignment\u001B[49m\u001B[43m,\u001B[49m\u001B[43m \u001B[49m\u001B[43mupdaters\u001B[49m\u001B[43m,\u001B[49m\u001B[43m \u001B[49m\u001B[43muse_default_updaters\u001B[49m\u001B[43m)\u001B[49m\n\u001B[0;32m     61\u001B[0m \u001B[38;5;28;01melse\u001B[39;00m:\n\u001B[0;32m     62\u001B[0m     \u001B[38;5;28mself\u001B[39m\u001B[38;5;241m.\u001B[39m_from_parent(parent, flips)\n",
      "File \u001B[1;32m~\\workspace\\6-Semester\\ai-for-redistricting\\venv\\Lib\\site-packages\\gerrychain\\partition\\partition.py:133\u001B[0m, in \u001B[0;36mPartition._first_time\u001B[1;34m(self, graph, assignment, updaters, use_default_updaters)\u001B[0m\n\u001B[0;32m    130\u001B[0m \u001B[38;5;28;01melse\u001B[39;00m:\n\u001B[0;32m    131\u001B[0m     \u001B[38;5;28;01mraise\u001B[39;00m \u001B[38;5;167;01mTypeError\u001B[39;00m(\u001B[38;5;124mf\u001B[39m\u001B[38;5;124m\"\u001B[39m\u001B[38;5;124mUnsupported Graph object with type \u001B[39m\u001B[38;5;132;01m{\u001B[39;00m\u001B[38;5;28mtype\u001B[39m(graph)\u001B[38;5;132;01m}\u001B[39;00m\u001B[38;5;124m\"\u001B[39m)\n\u001B[1;32m--> 133\u001B[0m \u001B[38;5;28mself\u001B[39m\u001B[38;5;241m.\u001B[39massignment \u001B[38;5;241m=\u001B[39m \u001B[43mget_assignment\u001B[49m\u001B[43m(\u001B[49m\u001B[43massignment\u001B[49m\u001B[43m,\u001B[49m\u001B[43m \u001B[49m\u001B[43mgraph\u001B[49m\u001B[43m)\u001B[49m\n\u001B[0;32m    135\u001B[0m \u001B[38;5;28;01mif\u001B[39;00m \u001B[38;5;28mset\u001B[39m(\u001B[38;5;28mself\u001B[39m\u001B[38;5;241m.\u001B[39massignment) \u001B[38;5;241m!=\u001B[39m \u001B[38;5;28mset\u001B[39m(graph):\n\u001B[0;32m    136\u001B[0m     \u001B[38;5;28;01mraise\u001B[39;00m \u001B[38;5;167;01mKeyError\u001B[39;00m(\u001B[38;5;124m\"\u001B[39m\u001B[38;5;124mThe graph\u001B[39m\u001B[38;5;124m'\u001B[39m\u001B[38;5;124ms node labels do not match the Assignment\u001B[39m\u001B[38;5;124m'\u001B[39m\u001B[38;5;124ms keys\u001B[39m\u001B[38;5;124m\"\u001B[39m)\n",
      "File \u001B[1;32m~\\workspace\\6-Semester\\ai-for-redistricting\\venv\\Lib\\site-packages\\gerrychain\\partition\\assignment.py:191\u001B[0m, in \u001B[0;36mget_assignment\u001B[1;34m(part_assignment, graph)\u001B[0m\n\u001B[0;32m    189\u001B[0m     \u001B[38;5;28;01mreturn\u001B[39;00m part_assignment\n\u001B[0;32m    190\u001B[0m \u001B[38;5;28;01melse\u001B[39;00m:\n\u001B[1;32m--> 191\u001B[0m     \u001B[38;5;28;01mraise\u001B[39;00m \u001B[38;5;167;01mTypeError\u001B[39;00m(\u001B[38;5;124m\"\u001B[39m\u001B[38;5;124mAssignment must be a dict or a node attribute key\u001B[39m\u001B[38;5;124m\"\u001B[39m)\n",
      "\u001B[1;31mTypeError\u001B[0m: Assignment must be a dict or a node attribute key"
     ]
    }
   ],
   "execution_count": 206
  },
  {
   "metadata": {},
   "cell_type": "markdown",
   "source": "## RUN NEXT 5_000 STEPS",
   "id": "9d4def2bc53cd99b"
  },
  {
   "metadata": {},
   "cell_type": "code",
   "outputs": [],
   "execution_count": null,
   "source": "partition_at_10_000 = run_the_chain(10_000, partition_at_5_000, 5_000)",
   "id": "f2f98b41446c320a"
  },
  {
   "metadata": {},
   "cell_type": "markdown",
   "source": "### save the progress for the next 5_000 steps",
   "id": "d1d08d5b234d7539"
  },
  {
   "metadata": {},
   "cell_type": "code",
   "outputs": [],
   "execution_count": null,
   "source": [
    "assignment_at_10_000 = util.checkpoint(\"IL_Gerrychain_step_10_000\", partition_at_10_000)\n",
    "partition_at_10_000 = Partition(\n",
    "    graph=il_graph,\n",
    "    assignment=assignment_at_10_000,\n",
    "    updaters=il_updaters,\n",
    ")"
   ],
   "id": "b3e7939e14914b5d"
  },
  {
   "metadata": {},
   "cell_type": "code",
   "outputs": [],
   "execution_count": null,
   "source": [
    "# load the checkpoint if it exists\n",
    "checkpoint_dict = util.checkpoint(\"IL_plot_results_10_000\", checkpoint_dict)"
   ],
   "id": "879058cd0b8b7432"
  }
 ],
 "metadata": {
  "kernelspec": {
   "display_name": "Python 3",
   "language": "python",
   "name": "python3"
  },
  "language_info": {
   "codemirror_mode": {
    "name": "ipython",
    "version": 2
   },
   "file_extension": ".py",
   "mimetype": "text/x-python",
   "name": "python",
   "nbconvert_exporter": "python",
   "pygments_lexer": "ipython2",
   "version": "2.7.6"
  }
 },
 "nbformat": 4,
 "nbformat_minor": 5
}
