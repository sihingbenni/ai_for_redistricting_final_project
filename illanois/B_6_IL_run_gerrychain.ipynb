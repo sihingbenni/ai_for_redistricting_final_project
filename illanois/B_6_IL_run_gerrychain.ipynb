{
 "cells": [
  {
   "metadata": {},
   "cell_type": "markdown",
   "source": [
    "# Running the gerrychain to find a map without holes on congressional districts\n",
    "\n",
    "@authors: vcle, bpuhani"
   ],
   "id": "4e157b59fcfd78c5"
  },
  {
   "metadata": {},
   "cell_type": "code",
   "source": [
    "import io\n",
    "from contextlib import redirect_stdout\n",
    "\n",
    "import maup\n",
    "import pandas as pd\n",
    "\n",
    "import utilities as util\n",
    "import matplotlib.pyplot as plt\n",
    "import geopandas as gpd\n",
    "import numpy as np\n",
    "from gerrychain import Graph, Partition, proposals, updaters, constraints, accept, MarkovChain, Election\n",
    "from gerrychain.tree import bipartition_tree\n",
    "from gerrychain.updaters import cut_edges, Tally\n",
    "from gerrychain.proposals import recom, propose_random_flip\n",
    "from gerrychain.accept import always_accept\n",
    "from functools import partial"
   ],
   "id": "655f1033bbc5e318",
   "outputs": [],
   "execution_count": null
  },
  {
   "metadata": {},
   "cell_type": "markdown",
   "source": [
    "## Loading the needed data.\n",
    "For this notebook to work we assume, that you ran the following notebooks first:\n",
    "* `0_IL_import_and_explore_data.ipynb`\n",
    "* `B_2_IL_clean_maup_with_congress.ipynb`"
   ],
   "id": "81225e82f8299255"
  },
  {
   "metadata": {},
   "cell_type": "code",
   "source": [
    "il_df: gpd.GeoDataFrame = util.load_shapefile(\"il_data/IL_congress_without_holes.shp\")\n",
    "il_graph: Graph = util.load_graph(\"il_data/IL_congress_without_holes.shp\")"
   ],
   "id": "ac385fd85704b5bc",
   "outputs": [],
   "execution_count": null
  },
  {
   "metadata": {},
   "cell_type": "code",
   "source": [
    "# Set up the initial partition object\n",
    "initial_partition = Partition(\n",
    "    il_graph,\n",
    "    assignment=\"CONGD\",  # as per assignment\n",
    "    updaters={\n",
    "        # setup updaters, that get updated per run of the chain\n",
    "        \"total_population\": Tally(\"TOTPOP\", alias=\"total_population\"),\n",
    "        # TODO set updater for hispanic population\n",
    "        \"cut_edges\": cut_edges\n",
    "        # TODO add elections for PRE and USS\n",
    "    }\n",
    ")"
   ],
   "id": "dab6791916c72246",
   "outputs": [],
   "execution_count": null
  },
  {
   "metadata": {},
   "cell_type": "code",
   "source": [
    "# Define the ideal population\n",
    "ideal_population = sum(initial_partition[\"total_population\"].values()) / len(initial_partition)\n",
    "print(\"Nr of districts:\", len(initial_partition))\n",
    "print(\"Ideal population:\", ideal_population)"
   ],
   "id": "af7d176abcf69223",
   "outputs": [],
   "execution_count": null
  },
  {
   "metadata": {},
   "cell_type": "code",
   "source": [
    "# Define the recom proposal\n",
    "proposal = partial(\n",
    "    recom,\n",
    "    pop_col=\"TOTPOP\",\n",
    "    pop_target=ideal_population,\n",
    "    epsilon=0.02,\n",
    "    method=partial(\n",
    "        bipartition_tree,\n",
    "        max_attempts=100,\n",
    "        allow_pair_reselection=True\n",
    "    )\n",
    ")"
   ],
   "id": "85a1e933607c217b",
   "outputs": [],
   "execution_count": null
  },
  {
   "metadata": {},
   "cell_type": "code",
   "source": [
    "def run_the_chain(nr_of_total_steps: int, start_partition: Partition, offset: int = 0) -> Partition:\n",
    "    \"\"\"Runs the chain for the specified number of steps. Returns the last partition\"\"\"\n",
    "\n",
    "    # Set up the chain\n",
    "    chain = MarkovChain(\n",
    "        proposal=proposal,\n",
    "        constraints=[\n",
    "            # Compactness constraint\n",
    "            constraints.UpperBound(lambda p: len(p[\"cut_edges\"]), 2 * len(initial_partition[\"cut_edges\"])),\n",
    "            # Population constraint\n",
    "            constraints.within_percent_of_ideal_population(initial_partition, 0.02, \"total_population\")\n",
    "            # TODO set constraint for the map not to allow holes\n",
    "        ],\n",
    "        accept=always_accept,\n",
    "        initial_state=start_partition,\n",
    "        total_steps=nr_of_total_steps\n",
    "    )\n",
    "    last_partition: Partition = start_partition\n",
    "\n",
    "    for (i, partition) in enumerate(chain.with_progress_bar()):\n",
    "        last_partition = partition\n",
    "\n",
    "        #print(f\"There are {partition.nr_of_holes} holes overall\")\n",
    "        # append the number of cut edges for this proposal to the list\n",
    "\n",
    "\n",
    "\n",
    "    return last_partition"
   ],
   "id": "e6f0db5009bbfec4",
   "outputs": [],
   "execution_count": null
  },
  {
   "metadata": {},
   "cell_type": "code",
   "source": "partition_at_10_000 = run_the_chain(10_000, initial_partition)",
   "id": "c084d984cd3b7643",
   "outputs": [],
   "execution_count": null
  },
  {
   "metadata": {},
   "cell_type": "markdown",
   "source": [
    "Verify the result:\n",
    "(This result is not reproducible)"
   ],
   "id": "90c429becc439648"
  },
  {
   "metadata": {},
   "cell_type": "code",
   "source": [
    "districts_df: gpd.GeoDataFrame = gpd.GeoDataFrame()\n",
    "\n",
    "# create a districts dataFrame from the partition\n",
    "for district, nodes in partition_at_10_000.parts.items():\n",
    "        records = [partition_at_10_000.graph.nodes[n] for n in nodes]\n",
    "        this_district_df = gpd.GeoDataFrame(records)\n",
    "        this_district_df[\"district\"] = district\n",
    "        districts_df = gpd.GeoDataFrame(pd.concat([districts_df, this_district_df], ignore_index=True))"
   ],
   "id": "cecdf644067bbd27",
   "outputs": [],
   "execution_count": null
  },
  {
   "metadata": {},
   "cell_type": "code",
   "source": [
    "# set the crf to the same as the original dataframe\n",
    "districts_df.crs = il_df.crs"
   ],
   "id": "e32552292a9d9970",
   "outputs": [],
   "execution_count": null
  },
  {
   "metadata": {},
   "cell_type": "code",
   "outputs": [],
   "execution_count": null,
   "source": [
    "print(len(districts_df))\n",
    "print(len(il_df))"
   ],
   "id": "e9df1e98aa962702"
  },
  {
   "metadata": {},
   "cell_type": "code",
   "outputs": [],
   "execution_count": null,
   "source": "print(f\"{sum(il_df['TOTPOP']):_}\")  # check if there are any holes",
   "id": "b5241673304c9ab6"
  },
  {
   "metadata": {},
   "cell_type": "code",
   "outputs": [],
   "execution_count": null,
   "source": "print(f\"{sum(districts_df['TOTPOP']):_}\")  # check if there are any holes",
   "id": "3dd8ec4fab231f38"
  },
  {
   "metadata": {},
   "cell_type": "code",
   "outputs": [],
   "execution_count": null,
   "source": "print(set(districts_df[\"district\"]))",
   "id": "84ad69f8593e3e9a"
  },
  {
   "metadata": {},
   "cell_type": "code",
   "outputs": [],
   "execution_count": null,
   "source": [
    "# Plot map\n",
    "title = \"Illinois Congressional map without holes\"\n",
    "districts_df.plot(column=\"district\", cmap=\"tab20\", figsize=(12, 12), legend=False)\n",
    "\n",
    "# Final touches\n",
    "plt.axis(\"off\")\n",
    "plt.title(title, fontsize=20)\n",
    "plt.tight_layout()\n",
    "plt.savefig(f\"images/illinois_map_{title}.svg\", bbox_inches=\"tight\")\n",
    "plt.show()\n",
    "plt.close()"
   ],
   "id": "5dfe352d54ec2785"
  }
 ],
 "metadata": {
  "kernelspec": {
   "display_name": "Python 3",
   "language": "python",
   "name": "python3"
  },
  "language_info": {
   "codemirror_mode": {
    "name": "ipython",
    "version": 2
   },
   "file_extension": ".py",
   "mimetype": "text/x-python",
   "name": "python",
   "nbconvert_exporter": "python",
   "pygments_lexer": "ipython2",
   "version": "2.7.6"
  }
 },
 "nbformat": 4,
 "nbformat_minor": 5
}
