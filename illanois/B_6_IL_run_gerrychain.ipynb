{
 "cells": [
  {
   "metadata": {},
   "cell_type": "markdown",
   "source": [
    "# Running the gerrychain to find a map without holes on congressional districts\n",
    "\n",
    "@authors: vcle, bpuhani"
   ],
   "id": "4e157b59fcfd78c5"
  },
  {
   "metadata": {},
   "cell_type": "code",
   "source": [
    "import io\n",
    "import random\n",
    "from contextlib import redirect_stdout\n",
    "\n",
    "import maup\n",
    "import pandas as pd\n",
    "from shapely.ops import unary_union\n",
    "\n",
    "import utilities as util\n",
    "import matplotlib.pyplot as plt\n",
    "import geopandas as gpd\n",
    "import numpy as np\n",
    "from gerrychain import Graph, Partition, proposals, updaters, constraints, accept, MarkovChain, Election\n",
    "from gerrychain.tree import bipartition_tree\n",
    "from gerrychain.updaters import cut_edges, Tally\n",
    "from gerrychain.proposals import recom, propose_random_flip\n",
    "from gerrychain.accept import always_accept\n",
    "from functools import partial\n",
    "from gerrychain.metrics import efficiency_gap  # get the efficiency gap directly from gerrychain"
   ],
   "id": "655f1033bbc5e318",
   "outputs": [],
   "execution_count": null
  },
  {
   "metadata": {},
   "cell_type": "markdown",
   "source": [
    "## Loading the needed data.\n",
    "For this notebook to work we assume, that you ran the following notebooks first:\n",
    "* `0_IL_import_and_explore_data.ipynb`\n",
    "* `B_2_IL_clean_maup_with_congress.ipynb`"
   ],
   "id": "81225e82f8299255"
  },
  {
   "metadata": {},
   "cell_type": "code",
   "source": [
    "il_df: gpd.GeoDataFrame = util.load_shapefile(\"il_data/IL_congress_without_holes.shp\")\n",
    "il_graph: Graph = util.load_graph(\"il_data/IL_congress_without_holes.shp\")"
   ],
   "id": "ac385fd85704b5bc",
   "outputs": [],
   "execution_count": null
  },
  {
   "metadata": {},
   "cell_type": "code",
   "source": [
    "partition_at_5_000: Partition\n",
    "partition_at_10_000: Partition\n",
    "partition_at_15_000: Partition\n",
    "partition_at_20_000: Partition\n",
    "partition_at_25_000: Partition\n",
    "partition_at_30_000: Partition\n",
    "partition_at_35_000: Partition\n",
    "partition_at_40_000: Partition"
   ],
   "id": "2e6db256d38e8353",
   "outputs": [],
   "execution_count": null
  },
  {
   "metadata": {},
   "cell_type": "markdown",
   "source": "Setup Updaters",
   "id": "4b124db81b232a10"
  },
  {
   "metadata": {},
   "cell_type": "code",
   "source": [
    "def has_holes(partition, district) -> bool:\n",
    "    # Merge all geometries in the district into a single polygon/multipolygon\n",
    "    raw_geometry = unary_union([partition.graph.nodes[v][\"geometry\"]\n",
    "                                for v in partition.parts[district]])\n",
    "\n",
    "    # Try to repair invalid geometry\n",
    "    geom_fixed = raw_geometry.buffer(0)\n",
    "\n",
    "    # A simple hole check: does the geometry have interior rings?\n",
    "    # (for Polygon: check .interiors; for MultiPolygon: check if any part has interiors)\n",
    "    if geom_fixed.geom_type == \"Polygon\":\n",
    "        return len(geom_fixed.interiors) > 0\n",
    "    elif geom_fixed.geom_type == \"MultiPolygon\":\n",
    "        return any(len(p.interiors) > 0 for p in geom_fixed.geoms)\n",
    "    else:\n",
    "        print(f\"Not a polygon geometry: {geom_fixed.geom_type}\")\n",
    "        return False  # Not a polygon geometry? Then we ignore it."
   ],
   "id": "e20791f45ef82908",
   "outputs": [],
   "execution_count": null
  },
  {
   "metadata": {},
   "cell_type": "code",
   "source": [
    "il_updaters = {\n",
    "    \"total_population\": Tally(\"TOTPOP\", alias=\"total_population\"),\n",
    "    # \"hisp_population\": Tally(\"HISP\", alias=\"hisp_population\"), # not needed apparently\n",
    "    \"cut_edges\": cut_edges,\n",
    "    # calculate if a district has holes\n",
    "    \"district_has_holes\": lambda p: [int(has_holes(p, d)) for d in p.parts],\n",
    "}"
   ],
   "id": "b50063aa7b3874dc",
   "outputs": [],
   "execution_count": null
  },
  {
   "metadata": {},
   "cell_type": "code",
   "source": [
    "elections = [\n",
    "    Election(\"PRE20\", {\"Dem\": \"G20PRED\", \"Rep\": \"G20PRER\"}),\n",
    "    Election(\"USS20\", {\"Dem\": \"G20USSD\", \"Rep\": \"G20USSR\"}),\n",
    "]"
   ],
   "id": "b15ac48837233802",
   "outputs": [],
   "execution_count": null
  },
  {
   "metadata": {},
   "cell_type": "code",
   "source": [
    "# adding the elections to the updaters\n",
    "election_updaters = {election.name: election for election in elections}\n",
    "il_updaters.update(election_updaters)"
   ],
   "id": "d4135f6dfd8ac36d",
   "outputs": [],
   "execution_count": null
  },
  {
   "metadata": {},
   "cell_type": "code",
   "source": [
    "# Set up the initial partition object\n",
    "initial_partition = Partition(\n",
    "    il_graph,\n",
    "    assignment=\"district\",  # use the \"district\" column because this is the new one without holes.\n",
    "    updaters=il_updaters,\n",
    ")"
   ],
   "id": "dab6791916c72246",
   "outputs": [],
   "execution_count": null
  },
  {
   "metadata": {},
   "cell_type": "code",
   "source": [
    "# Define the ideal population\n",
    "ideal_population = sum(initial_partition[\"total_population\"].values()) / len(initial_partition)\n",
    "print(\"Nr of districts:\", len(initial_partition))\n",
    "print(\"Ideal population:\", ideal_population)"
   ],
   "id": "af7d176abcf69223",
   "outputs": [],
   "execution_count": null
  },
  {
   "metadata": {},
   "cell_type": "code",
   "source": [
    "# Define the recom proposal\n",
    "proposal = partial(\n",
    "    recom,\n",
    "    pop_col=\"TOTPOP\",\n",
    "    pop_target=ideal_population,\n",
    "    epsilon=0.02,\n",
    "    method=partial(\n",
    "        bipartition_tree,\n",
    "        max_attempts=100,\n",
    "        allow_pair_reselection=True\n",
    "    )\n",
    ")"
   ],
   "id": "85a1e933607c217b",
   "outputs": [],
   "execution_count": null
  },
  {
   "metadata": {},
   "cell_type": "code",
   "source": [
    "# define the lists that are needed to track the changes\n",
    "list_of_nr_of_cut_edges = []\n",
    "\n",
    "list_of_dem_won_districts_pre20 = []\n",
    "list_of_dem_won_districts_uss20 = []\n",
    "\n",
    "list_of_eg_pre20 = []\n",
    "list_of_eg_uss20 = []\n",
    "\n",
    "list_of_dem_percents_pre20 = []\n",
    "list_of_dem_percents_uss20 = []"
   ],
   "id": "ad081dbf76e86442",
   "outputs": [],
   "execution_count": null
  },
  {
   "metadata": {},
   "cell_type": "code",
   "source": [
    "# create a checkpoint for all the lists in one big dictionary\n",
    "checkpoint_dict = {\n",
    "    \"list_of_nr_of_cut_edges\": list_of_nr_of_cut_edges,\n",
    "    \"list_of_dem_won_districts_pre20\": list_of_dem_won_districts_pre20,\n",
    "    \"list_of_dem_won_districts_uss20\": list_of_dem_won_districts_uss20,\n",
    "    \"list_of_eg_pre20\": list_of_eg_pre20,\n",
    "    \"list_of_eg_uss20\": list_of_eg_uss20,\n",
    "    \"list_of_dem_percents_pre20\": list_of_dem_percents_pre20,\n",
    "    \"list_of_dem_percents_uss20\": list_of_dem_percents_uss20\n",
    "}"
   ],
   "id": "f8e4c03de2147484",
   "outputs": [],
   "execution_count": null
  },
  {
   "metadata": {},
   "cell_type": "code",
   "source": [
    "def run_the_chain(nr_of_total_steps: int, start_partition: Partition, offset: int = 0) -> Partition:\n",
    "    \"\"\"Runs the chain for the specified number of steps. Returns the last partition\"\"\"\n",
    "\n",
    "    # Set up the chain\n",
    "    chain = MarkovChain(\n",
    "        proposal=proposal,\n",
    "        constraints=[\n",
    "            # Compactness constraint\n",
    "            constraints.UpperBound(lambda p: len(p[\"cut_edges\"]), 2 * len(initial_partition[\"cut_edges\"])),\n",
    "            # Population constraint\n",
    "            constraints.within_percent_of_ideal_population(initial_partition, 0.02, \"total_population\"),\n",
    "            # set constraint for the map not to allow holes (lower and upper bound is 1 == (True) == no Holes)\n",
    "            constraints.Bounds(lambda p: p[\"district_has_holes\"], (0, 0))\n",
    "        ],\n",
    "        accept=always_accept,\n",
    "        initial_state=start_partition,\n",
    "        total_steps=nr_of_total_steps - offset\n",
    "    )\n",
    "    last_partition: Partition = start_partition\n",
    "\n",
    "    for (i, partition) in enumerate(chain.with_progress_bar()):\n",
    "        last_partition = partition\n",
    "\n",
    "        # Calculate and append the efficiency gap values for each election to checkpoint_dict\n",
    "        checkpoint_dict[\"list_of_eg_pre20\"].append(efficiency_gap(partition[\"PRE20\"]))\n",
    "        checkpoint_dict[\"list_of_eg_uss20\"].append(efficiency_gap(partition[\"USS20\"]))\n",
    "\n",
    "        # Append the sorted percentages of Democratic votes for each election to checkpoint_dict\n",
    "        checkpoint_dict[\"list_of_dem_percents_pre20\"].append(sorted(partition[\"PRE20\"].percents(\"Dem\")))\n",
    "        checkpoint_dict[\"list_of_dem_percents_uss20\"].append(sorted(partition[\"USS20\"].percents(\"Dem\")))\n",
    "\n",
    "        # Append the number of districts won by the Democratic Party for each election to checkpoint_dict\n",
    "        checkpoint_dict[\"list_of_dem_won_districts_pre20\"].append(partition[\"PRE20\"].wins(\"Dem\"))\n",
    "        checkpoint_dict[\"list_of_dem_won_districts_uss20\"].append(partition[\"USS20\"].wins(\"Dem\"))\n",
    "\n",
    "        # Append the number of cut edges for this partition to checkpoint_dict\n",
    "        checkpoint_dict[\"list_of_nr_of_cut_edges\"].append(len(partition[\"cut_edges\"]))\n",
    "\n",
    "    return last_partition"
   ],
   "id": "e6f0db5009bbfec4",
   "outputs": [],
   "execution_count": null
  },
  {
   "metadata": {},
   "cell_type": "markdown",
   "source": "## RUN FIRST 5_000 STEPS",
   "id": "d198948033d14a30"
  },
  {
   "metadata": {},
   "cell_type": "code",
   "source": "partition_at_5_000 = run_the_chain(5_000, initial_partition)",
   "id": "c084d984cd3b7643",
   "outputs": [],
   "execution_count": null
  },
  {
   "metadata": {},
   "cell_type": "markdown",
   "source": "### Saving the progress for the first 5_000 steps",
   "id": "be1d0e67cba231be"
  },
  {
   "metadata": {},
   "cell_type": "code",
   "source": [
    "# load the checkpoint if it exists\n",
    "checkpoint_dict = util.checkpoint(\"IL_plot_results_5_000\", checkpoint_dict)"
   ],
   "id": "9d191c2675cfcf1c",
   "outputs": [],
   "execution_count": null
  },
  {
   "metadata": {},
   "cell_type": "code",
   "source": [
    "assignment_at_5_000 = util.checkpoint(\"IL_Gerrychain_step_5_000\", partition_at_5_000)\n",
    "partition_at_5_000 = Partition(\n",
    "    graph=il_graph,\n",
    "    assignment=assignment_at_5_000,\n",
    "    updaters=il_updaters,\n",
    ")"
   ],
   "id": "fc5424bd7c73a348",
   "outputs": [],
   "execution_count": null
  },
  {
   "metadata": {},
   "cell_type": "code",
   "source": "print(assignment_at_5_000)",
   "id": "576138a0ddea0aa3",
   "outputs": [],
   "execution_count": null
  },
  {
   "metadata": {},
   "cell_type": "markdown",
   "source": "## RUN NEXT 5_000 STEPS",
   "id": "9d4def2bc53cd99b"
  },
  {
   "metadata": {},
   "cell_type": "code",
   "source": "partition_at_10_000 = run_the_chain(10_000, partition_at_5_000, 5_000)",
   "id": "f2f98b41446c320a",
   "outputs": [],
   "execution_count": null
  },
  {
   "metadata": {},
   "cell_type": "markdown",
   "source": "### save the progress for the next 5_000 steps",
   "id": "d1d08d5b234d7539"
  },
  {
   "metadata": {},
   "cell_type": "code",
   "source": [
    "assignment_at_10_000 = util.checkpoint(\"IL_Gerrychain_step_10_000\", partition_at_10_000)\n",
    "partition_at_10_000 = Partition(\n",
    "    graph=il_graph,\n",
    "    assignment=assignment_at_10_000,\n",
    "    updaters=il_updaters,\n",
    ")"
   ],
   "id": "b3e7939e14914b5d",
   "outputs": [],
   "execution_count": null
  },
  {
   "metadata": {},
   "cell_type": "code",
   "source": [
    "# load the checkpoint if it exists\n",
    "checkpoint_dict = util.checkpoint(\"IL_plot_results_10_000\", checkpoint_dict)"
   ],
   "id": "879058cd0b8b7432",
   "outputs": [],
   "execution_count": null
  },
  {
   "metadata": {},
   "cell_type": "markdown",
   "source": "## Run the next 5_000 steps",
   "id": "d469530162a0dee9"
  },
  {
   "metadata": {},
   "cell_type": "code",
   "source": "partition_at_15_000 = run_the_chain(15_000, partition_at_10_000, 10_000)",
   "id": "a20181e6682c41fa",
   "outputs": [],
   "execution_count": null
  },
  {
   "metadata": {},
   "cell_type": "markdown",
   "source": "### save the progress for the next 5_000 steps",
   "id": "18cf0581f05145dc"
  },
  {
   "metadata": {},
   "cell_type": "code",
   "source": [
    "assignment_at_15_000 = util.checkpoint(\"IL_Gerrychain_step_15_000\", partition_at_15_000)\n",
    "partition_at_15_000 = Partition(\n",
    "    graph=il_graph,\n",
    "    assignment=assignment_at_15_000,\n",
    "    updaters=il_updaters,\n",
    ")"
   ],
   "id": "8a256064d9399e83",
   "outputs": [],
   "execution_count": null
  }
 ],
 "metadata": {
  "kernelspec": {
   "display_name": "Python 3",
   "language": "python",
   "name": "python3"
  },
  "language_info": {
   "codemirror_mode": {
    "name": "ipython",
    "version": 2
   },
   "file_extension": ".py",
   "mimetype": "text/x-python",
   "name": "python",
   "nbconvert_exporter": "python",
   "pygments_lexer": "ipython2",
   "version": "2.7.6"
  }
 },
 "nbformat": 4,
 "nbformat_minor": 5
}
