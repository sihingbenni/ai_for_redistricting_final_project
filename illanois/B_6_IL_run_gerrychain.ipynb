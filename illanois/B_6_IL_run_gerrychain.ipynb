{
 "cells": [
  {
   "metadata": {},
   "cell_type": "markdown",
   "source": [
    "# Running the gerrychain to find a map without holes on congressional districts\n",
    "\n",
    "@authors: vcle, bpuhani"
   ],
   "id": "4e157b59fcfd78c5"
  },
  {
   "metadata": {
    "ExecuteTime": {
     "end_time": "2025-04-22T03:43:19.330676Z",
     "start_time": "2025-04-22T03:43:17.713542Z"
    }
   },
   "cell_type": "code",
   "source": [
    "import io\n",
    "import random\n",
    "from contextlib import redirect_stdout\n",
    "\n",
    "import maup\n",
    "import pandas as pd\n",
    "from shapely.ops import unary_union\n",
    "\n",
    "import utilities as util\n",
    "import matplotlib.pyplot as plt\n",
    "import geopandas as gpd\n",
    "import numpy as np\n",
    "from gerrychain import Graph, Partition, proposals, updaters, constraints, accept, MarkovChain, Election\n",
    "from gerrychain.tree import bipartition_tree\n",
    "from gerrychain.updaters import cut_edges, Tally\n",
    "from gerrychain.proposals import recom, propose_random_flip\n",
    "from gerrychain.accept import always_accept\n",
    "from functools import partial\n",
    "from gerrychain.metrics import efficiency_gap  # get the efficiency gap directly from gerrychain"
   ],
   "id": "655f1033bbc5e318",
   "outputs": [],
   "execution_count": 1
  },
  {
   "metadata": {},
   "cell_type": "markdown",
   "source": [
    "## Loading the needed data.\n",
    "For this notebook to work we assume, that you ran the following notebooks first:\n",
    "* `0_IL_import_and_explore_data.ipynb`\n",
    "* `B_2_IL_clean_maup_with_congress.ipynb`\n",
    "* `B_4_IL_find_map_without_holes_vest20.ipynb`"
   ],
   "id": "81225e82f8299255"
  },
  {
   "metadata": {
    "ExecuteTime": {
     "end_time": "2025-04-22T03:43:19.799798Z",
     "start_time": "2025-04-22T03:43:19.351208Z"
    }
   },
   "cell_type": "code",
   "source": [
    "il_df: gpd.GeoDataFrame = util.load_shapefile(\"il_data/IL_congress_without_holes.shp\")\n",
    "il_graph: Graph = util.load_graph(\"il_data/IL_congress_without_holes.shp\")"
   ],
   "id": "ac385fd85704b5bc",
   "outputs": [
    {
     "name": "stdout",
     "output_type": "stream",
     "text": [
      "Loading shapefile from il_data/IL_congress_without_holes.shp...\n",
      "Shapefile data loaded from cache.\n",
      "Loading shapefile graph from il_data/IL_congress_without_holes.shp...\n",
      "Shapefile data loaded from cache.\n"
     ]
    }
   ],
   "execution_count": 2
  },
  {
   "metadata": {
    "ExecuteTime": {
     "end_time": "2025-04-22T11:39:38.139752Z",
     "start_time": "2025-04-22T11:39:38.134539Z"
    }
   },
   "cell_type": "code",
   "source": [
    "partition_at_5_000 = None\n",
    "partition_at_10_000 = None\n",
    "partition_at_15_000 = None\n",
    "partition_at_20_000 = None\n",
    "partition_at_25_000 = None\n",
    "partition_at_30_000 = None\n",
    "partition_at_35_000 = None\n",
    "partition_at_40_000 = None"
   ],
   "id": "2e6db256d38e8353",
   "outputs": [],
   "execution_count": 21
  },
  {
   "metadata": {},
   "cell_type": "markdown",
   "source": "Setup Updaters",
   "id": "4b124db81b232a10"
  },
  {
   "metadata": {
    "ExecuteTime": {
     "end_time": "2025-04-22T03:43:24.735344Z",
     "start_time": "2025-04-22T03:43:24.729104Z"
    }
   },
   "cell_type": "code",
   "source": [
    "def has_holes(partition, district) -> bool:\n",
    "    # Merge all geometries in the district into a single polygon/multipolygon\n",
    "    raw_geometry = unary_union([partition.graph.nodes[v][\"geometry\"]\n",
    "                                for v in partition.parts[district]])\n",
    "\n",
    "    # Try to repair invalid geometry\n",
    "    geom_fixed = raw_geometry.buffer(0)\n",
    "\n",
    "    # A simple hole check: does the geometry have interior rings?\n",
    "    # (for Polygon: check .interiors; for MultiPolygon: check if any part has interiors)\n",
    "    if geom_fixed.geom_type == \"Polygon\":\n",
    "        return len(geom_fixed.interiors) > 0\n",
    "    elif geom_fixed.geom_type == \"MultiPolygon\":\n",
    "        return any(len(p.interiors) > 0 for p in geom_fixed.geoms)\n",
    "    else:\n",
    "        print(f\"Not a polygon geometry: {geom_fixed.geom_type}\")\n",
    "        return False  # Not a polygon geometry? Then we ignore it."
   ],
   "id": "e20791f45ef82908",
   "outputs": [],
   "execution_count": 4
  },
  {
   "metadata": {
    "ExecuteTime": {
     "end_time": "2025-04-22T03:43:24.981473Z",
     "start_time": "2025-04-22T03:43:24.976603Z"
    }
   },
   "cell_type": "code",
   "source": [
    "il_updaters = {\n",
    "    \"total_population\": Tally(\"TOTPOP\", alias=\"total_population\"),\n",
    "    # \"hisp_population\": Tally(\"HISP\", alias=\"hisp_population\"), # not needed apparently\n",
    "    \"cut_edges\": cut_edges,\n",
    "    # calculate if a district has holes\n",
    "    \"district_has_holes\": lambda p: [int(has_holes(p, d)) for d in p.parts],\n",
    "}"
   ],
   "id": "b50063aa7b3874dc",
   "outputs": [],
   "execution_count": 5
  },
  {
   "metadata": {
    "ExecuteTime": {
     "end_time": "2025-04-22T03:43:26.852356Z",
     "start_time": "2025-04-22T03:43:26.848354Z"
    }
   },
   "cell_type": "code",
   "source": [
    "elections = [\n",
    "    Election(\"PRE20\", {\"Dem\": \"G20PRED\", \"Rep\": \"G20PRER\"}),\n",
    "    Election(\"USS20\", {\"Dem\": \"G20USSD\", \"Rep\": \"G20USSR\"}),\n",
    "]"
   ],
   "id": "b15ac48837233802",
   "outputs": [],
   "execution_count": 6
  },
  {
   "metadata": {
    "ExecuteTime": {
     "end_time": "2025-04-22T03:43:27.178440Z",
     "start_time": "2025-04-22T03:43:27.174084Z"
    }
   },
   "cell_type": "code",
   "source": [
    "# adding the elections to the updaters\n",
    "election_updaters = {election.name: election for election in elections}\n",
    "il_updaters.update(election_updaters)"
   ],
   "id": "d4135f6dfd8ac36d",
   "outputs": [],
   "execution_count": 7
  },
  {
   "metadata": {
    "ExecuteTime": {
     "end_time": "2025-04-22T03:43:27.361358Z",
     "start_time": "2025-04-22T03:43:27.348313Z"
    }
   },
   "cell_type": "code",
   "source": [
    "# Set up the initial partition object\n",
    "initial_partition = Partition(\n",
    "    il_graph,\n",
    "    assignment=\"district\",  # use the \"district\" column because this is the new one without holes.\n",
    "    updaters=il_updaters,\n",
    ")"
   ],
   "id": "dab6791916c72246",
   "outputs": [],
   "execution_count": 8
  },
  {
   "metadata": {
    "ExecuteTime": {
     "end_time": "2025-04-22T03:43:28.719992Z",
     "start_time": "2025-04-22T03:43:28.695512Z"
    }
   },
   "cell_type": "code",
   "source": [
    "# Define the ideal population\n",
    "ideal_population = sum(initial_partition[\"total_population\"].values()) / len(initial_partition)\n",
    "print(\"Nr of districts:\", len(initial_partition))\n",
    "print(\"Ideal population:\", ideal_population)"
   ],
   "id": "af7d176abcf69223",
   "outputs": [
    {
     "name": "stdout",
     "output_type": "stream",
     "text": [
      "Nr of districts: 17\n",
      "Ideal population: 753676.9411764706\n"
     ]
    }
   ],
   "execution_count": 9
  },
  {
   "metadata": {
    "ExecuteTime": {
     "end_time": "2025-04-22T03:43:29.277779Z",
     "start_time": "2025-04-22T03:43:29.273267Z"
    }
   },
   "cell_type": "code",
   "source": [
    "# Define the recom proposal\n",
    "proposal = partial(\n",
    "    recom,\n",
    "    pop_col=\"TOTPOP\",\n",
    "    pop_target=ideal_population,\n",
    "    epsilon=0.02,\n",
    "    method=partial(\n",
    "        bipartition_tree,\n",
    "        max_attempts=100,\n",
    "        allow_pair_reselection=True\n",
    "    )\n",
    ")"
   ],
   "id": "85a1e933607c217b",
   "outputs": [],
   "execution_count": 10
  },
  {
   "metadata": {
    "ExecuteTime": {
     "end_time": "2025-04-22T03:43:30.761394Z",
     "start_time": "2025-04-22T03:43:30.757193Z"
    }
   },
   "cell_type": "code",
   "source": [
    "# define the lists that are needed to track the changes\n",
    "list_of_nr_of_cut_edges = []\n",
    "\n",
    "list_of_dem_won_districts_pre20 = []\n",
    "list_of_dem_won_districts_uss20 = []\n",
    "\n",
    "list_of_eg_pre20 = []\n",
    "list_of_eg_uss20 = []\n",
    "\n",
    "list_of_dem_percents_pre20 = []\n",
    "list_of_dem_percents_uss20 = []"
   ],
   "id": "ad081dbf76e86442",
   "outputs": [],
   "execution_count": 11
  },
  {
   "metadata": {
    "ExecuteTime": {
     "end_time": "2025-04-22T03:43:33.166863Z",
     "start_time": "2025-04-22T03:43:33.162835Z"
    }
   },
   "cell_type": "code",
   "source": [
    "# create a checkpoint for all the lists in one big dictionary\n",
    "checkpoint_dict = {\n",
    "    \"list_of_nr_of_cut_edges\": list_of_nr_of_cut_edges,\n",
    "    \"list_of_dem_won_districts_pre20\": list_of_dem_won_districts_pre20,\n",
    "    \"list_of_dem_won_districts_uss20\": list_of_dem_won_districts_uss20,\n",
    "    \"list_of_eg_pre20\": list_of_eg_pre20,\n",
    "    \"list_of_eg_uss20\": list_of_eg_uss20,\n",
    "    \"list_of_dem_percents_pre20\": list_of_dem_percents_pre20,\n",
    "    \"list_of_dem_percents_uss20\": list_of_dem_percents_uss20\n",
    "}"
   ],
   "id": "f8e4c03de2147484",
   "outputs": [],
   "execution_count": 12
  },
  {
   "metadata": {
    "ExecuteTime": {
     "end_time": "2025-04-22T03:43:34.851598Z",
     "start_time": "2025-04-22T03:43:34.844354Z"
    }
   },
   "cell_type": "code",
   "source": [
    "def run_the_chain(nr_of_total_steps: int, start_partition: Partition, offset: int = 0) -> Partition:\n",
    "    \"\"\"Runs the chain for the specified number of steps. Returns the last partition\"\"\"\n",
    "\n",
    "    # Set up the chain\n",
    "    chain = MarkovChain(\n",
    "        proposal=proposal,\n",
    "        constraints=[\n",
    "            # Compactness constraint\n",
    "            constraints.UpperBound(lambda p: len(p[\"cut_edges\"]), 2 * len(initial_partition[\"cut_edges\"])),\n",
    "            # Population constraint\n",
    "            constraints.within_percent_of_ideal_population(initial_partition, 0.02, \"total_population\"),\n",
    "            # set constraint for the map not to allow holes (lower and upper bound is 1 == (True) == no Holes)\n",
    "            constraints.Bounds(lambda p: p[\"district_has_holes\"], (0, 0))\n",
    "        ],\n",
    "        accept=always_accept,\n",
    "        initial_state=start_partition,\n",
    "        total_steps=nr_of_total_steps - offset\n",
    "    )\n",
    "    last_partition: Partition = start_partition\n",
    "\n",
    "    for (i, partition) in enumerate(chain.with_progress_bar()):\n",
    "        last_partition = partition\n",
    "\n",
    "        # Calculate and append the efficiency gap values for each election to checkpoint_dict\n",
    "        checkpoint_dict[\"list_of_eg_pre20\"].append(efficiency_gap(partition[\"PRE20\"]))\n",
    "        checkpoint_dict[\"list_of_eg_uss20\"].append(efficiency_gap(partition[\"USS20\"]))\n",
    "\n",
    "        # Append the sorted percentages of Democratic votes for each election to checkpoint_dict\n",
    "        checkpoint_dict[\"list_of_dem_percents_pre20\"].append(sorted(partition[\"PRE20\"].percents(\"Dem\")))\n",
    "        checkpoint_dict[\"list_of_dem_percents_uss20\"].append(sorted(partition[\"USS20\"].percents(\"Dem\")))\n",
    "\n",
    "        # Append the number of districts won by the Democratic Party for each election to checkpoint_dict\n",
    "        checkpoint_dict[\"list_of_dem_won_districts_pre20\"].append(partition[\"PRE20\"].wins(\"Dem\"))\n",
    "        checkpoint_dict[\"list_of_dem_won_districts_uss20\"].append(partition[\"USS20\"].wins(\"Dem\"))\n",
    "\n",
    "        # Append the number of cut edges for this partition to checkpoint_dict\n",
    "        checkpoint_dict[\"list_of_nr_of_cut_edges\"].append(len(partition[\"cut_edges\"]))\n",
    "\n",
    "    return last_partition"
   ],
   "id": "e6f0db5009bbfec4",
   "outputs": [],
   "execution_count": 13
  },
  {
   "metadata": {},
   "cell_type": "markdown",
   "source": "## RUN FIRST 5_000 STEPS",
   "id": "d198948033d14a30"
  },
  {
   "metadata": {
    "ExecuteTime": {
     "end_time": "2025-04-19T05:57:50.723627Z",
     "start_time": "2025-04-19T05:57:50.720063Z"
    }
   },
   "cell_type": "code",
   "source": "partition_at_5_000 = run_the_chain(5_000, initial_partition)",
   "id": "c084d984cd3b7643",
   "outputs": [],
   "execution_count": 14
  },
  {
   "metadata": {},
   "cell_type": "markdown",
   "source": "### Saving the progress for the first 5_000 steps",
   "id": "be1d0e67cba231be"
  },
  {
   "metadata": {
    "ExecuteTime": {
     "end_time": "2025-04-19T05:57:50.773463Z",
     "start_time": "2025-04-19T05:57:50.750775Z"
    }
   },
   "cell_type": "code",
   "source": [
    "# load the checkpoint if it exists\n",
    "checkpoint_dict = util.checkpoint(\"IL_plot_results_5_000\", checkpoint_dict)"
   ],
   "id": "9d191c2675cfcf1c",
   "outputs": [
    {
     "name": "stdout",
     "output_type": "stream",
     "text": [
      "Checkpoint: IL_plot_results_5_000\n",
      "Data loaded from cache.\n"
     ]
    }
   ],
   "execution_count": 15
  },
  {
   "metadata": {
    "ExecuteTime": {
     "end_time": "2025-04-19T05:57:50.816038Z",
     "start_time": "2025-04-19T05:57:50.803002Z"
    }
   },
   "cell_type": "code",
   "source": [
    "assignment_at_5_000 = util.checkpoint(\"IL_Gerrychain_step_5_000\", partition_at_5_000)\n",
    "partition_at_5_000 = Partition(\n",
    "    graph=il_graph,\n",
    "    assignment=assignment_at_5_000,\n",
    "    updaters=il_updaters,\n",
    ")"
   ],
   "id": "fc5424bd7c73a348",
   "outputs": [
    {
     "name": "stdout",
     "output_type": "stream",
     "text": [
      "Checkpoint: IL_Gerrychain_step_5_000\n",
      "Data loaded from cache.\n"
     ]
    }
   ],
   "execution_count": 16
  },
  {
   "metadata": {},
   "cell_type": "markdown",
   "source": "## RUN NEXT 5_000 STEPS",
   "id": "9d4def2bc53cd99b"
  },
  {
   "metadata": {
    "ExecuteTime": {
     "end_time": "2025-04-19T14:59:54.180245Z",
     "start_time": "2025-04-19T05:57:50.887477Z"
    }
   },
   "cell_type": "code",
   "source": "partition_at_10_000 = run_the_chain(10_000, partition_at_5_000, 5_000)",
   "id": "f2f98b41446c320a",
   "outputs": [
    {
     "data": {
      "text/plain": [
       "  0%|          | 0/5000 [00:00<?, ?it/s]"
      ],
      "application/vnd.jupyter.widget-view+json": {
       "version_major": 2,
       "version_minor": 0,
       "model_id": "eddd7c8aebd14e26803c880558884d08"
      }
     },
     "metadata": {},
     "output_type": "display_data"
    }
   ],
   "execution_count": 18
  },
  {
   "metadata": {},
   "cell_type": "markdown",
   "source": "### save the progress for the next 5_000 steps",
   "id": "d1d08d5b234d7539"
  },
  {
   "metadata": {
    "ExecuteTime": {
     "end_time": "2025-04-19T14:59:54.860109Z",
     "start_time": "2025-04-19T14:59:54.841572Z"
    }
   },
   "cell_type": "code",
   "source": [
    "assignment_at_10_000 = util.checkpoint(\"IL_Gerrychain_step_10_000\", partition_at_10_000)\n",
    "partition_at_10_000 = Partition(\n",
    "    graph=il_graph,\n",
    "    assignment=assignment_at_10_000,\n",
    "    updaters=il_updaters,\n",
    ")"
   ],
   "id": "b3e7939e14914b5d",
   "outputs": [
    {
     "name": "stdout",
     "output_type": "stream",
     "text": [
      "Checkpoint: IL_Gerrychain_step_10_000\n",
      "Saving data...\n",
      "Data saved successfully to checkpoints/IL_Gerrychain_step_10_000.pkl.\n"
     ]
    }
   ],
   "execution_count": 19
  },
  {
   "metadata": {
    "ExecuteTime": {
     "end_time": "2025-04-19T14:59:54.997195Z",
     "start_time": "2025-04-19T14:59:54.961158Z"
    }
   },
   "cell_type": "code",
   "source": [
    "# load the checkpoint if it exists\n",
    "checkpoint_dict = util.checkpoint(\"IL_plot_results_10_000\", checkpoint_dict)"
   ],
   "id": "879058cd0b8b7432",
   "outputs": [
    {
     "name": "stdout",
     "output_type": "stream",
     "text": [
      "Checkpoint: IL_plot_results_10_000\n",
      "Saving data...\n",
      "Data saved successfully to checkpoints/IL_plot_results_10_000.pkl.\n"
     ]
    }
   ],
   "execution_count": 20
  },
  {
   "metadata": {},
   "cell_type": "markdown",
   "source": "## Run the next 5_000 steps",
   "id": "d469530162a0dee9"
  },
  {
   "metadata": {
    "ExecuteTime": {
     "end_time": "2025-04-20T00:23:03.992152Z",
     "start_time": "2025-04-19T14:59:55.037558Z"
    }
   },
   "cell_type": "code",
   "source": "partition_at_15_000 = run_the_chain(15_000, partition_at_10_000, 10_000)",
   "id": "a20181e6682c41fa",
   "outputs": [
    {
     "data": {
      "text/plain": [
       "  0%|          | 0/5000 [00:00<?, ?it/s]"
      ],
      "application/vnd.jupyter.widget-view+json": {
       "version_major": 2,
       "version_minor": 0,
       "model_id": "11a5c0447b2b417daeb58d8acc8f779e"
      }
     },
     "metadata": {},
     "output_type": "display_data"
    }
   ],
   "execution_count": 21
  },
  {
   "metadata": {},
   "cell_type": "markdown",
   "source": "### save the progress for the next 5_000 steps",
   "id": "18cf0581f05145dc"
  },
  {
   "metadata": {
    "ExecuteTime": {
     "end_time": "2025-04-20T05:08:29.510984Z",
     "start_time": "2025-04-20T05:08:29.499512Z"
    }
   },
   "cell_type": "code",
   "source": [
    "assignment_at_15_000 = util.checkpoint(\"IL_Gerrychain_step_15_000\", partition_at_15_000)\n",
    "partition_at_15_000 = Partition(\n",
    "    graph=il_graph,\n",
    "    assignment=assignment_at_15_000,\n",
    "    updaters=il_updaters,\n",
    ")"
   ],
   "id": "8a256064d9399e83",
   "outputs": [
    {
     "name": "stdout",
     "output_type": "stream",
     "text": [
      "Checkpoint: IL_Gerrychain_step_15_000\n",
      "Data loaded from cache.\n"
     ]
    }
   ],
   "execution_count": 14
  },
  {
   "metadata": {
    "ExecuteTime": {
     "end_time": "2025-04-20T05:08:31.082284Z",
     "start_time": "2025-04-20T05:08:31.038193Z"
    }
   },
   "cell_type": "code",
   "source": [
    "# load the checkpoint if it exists\n",
    "checkpoint_dict = util.checkpoint(\"IL_plot_results_15_000\", checkpoint_dict)"
   ],
   "id": "f63911eb83a68fda",
   "outputs": [
    {
     "name": "stdout",
     "output_type": "stream",
     "text": [
      "Checkpoint: IL_plot_results_15_000\n",
      "Data loaded from cache.\n"
     ]
    }
   ],
   "execution_count": 15
  },
  {
   "metadata": {},
   "cell_type": "markdown",
   "source": "## Run the steps from 15_000 to 20_000",
   "id": "650048432816a468"
  },
  {
   "metadata": {
    "ExecuteTime": {
     "end_time": "2025-04-20T12:41:53.634148Z",
     "start_time": "2025-04-20T05:10:18.380790Z"
    }
   },
   "cell_type": "code",
   "source": "partition_at_20_000 = run_the_chain(20_000, partition_at_15_000, 15_000)",
   "id": "fd9e9775019031",
   "outputs": [
    {
     "data": {
      "text/plain": [
       "  0%|          | 0/5000 [00:00<?, ?it/s]"
      ],
      "application/vnd.jupyter.widget-view+json": {
       "version_major": 2,
       "version_minor": 0,
       "model_id": "e5f0119b8a9644dbaaf553881854c93b"
      }
     },
     "metadata": {},
     "output_type": "display_data"
    }
   ],
   "execution_count": 17
  },
  {
   "metadata": {},
   "cell_type": "markdown",
   "source": "### Save the progress for the 20_000 steps mark",
   "id": "670daf05362fb1e4"
  },
  {
   "metadata": {
    "ExecuteTime": {
     "end_time": "2025-04-20T12:41:53.979560Z",
     "start_time": "2025-04-20T12:41:53.969092Z"
    }
   },
   "cell_type": "code",
   "source": [
    "assignment_at_20_000 = util.checkpoint(\"IL_Gerrychain_step_20_000\", partition_at_20_000)\n",
    "partition_at_20_000 = Partition(\n",
    "    graph=il_graph,\n",
    "    assignment=assignment_at_20_000,\n",
    "    updaters=il_updaters,\n",
    ")"
   ],
   "id": "aa282da0cfedd99d",
   "outputs": [
    {
     "name": "stdout",
     "output_type": "stream",
     "text": [
      "Checkpoint: IL_Gerrychain_step_20_000\n",
      "Saving data...\n",
      "Data saved successfully to checkpoints/IL_Gerrychain_step_20_000.pkl.\n"
     ]
    }
   ],
   "execution_count": 18
  },
  {
   "metadata": {
    "ExecuteTime": {
     "end_time": "2025-04-20T12:41:54.183829Z",
     "start_time": "2025-04-20T12:41:54.132820Z"
    }
   },
   "cell_type": "code",
   "source": [
    "# load the checkpoint if it exists\n",
    "checkpoint_dict = util.checkpoint(\"IL_plot_results_20_000\", checkpoint_dict)"
   ],
   "id": "e23c88d1f69206a2",
   "outputs": [
    {
     "name": "stdout",
     "output_type": "stream",
     "text": [
      "Checkpoint: IL_plot_results_20_000\n",
      "Saving data...\n",
      "Data saved successfully to checkpoints/IL_plot_results_20_000.pkl.\n"
     ]
    }
   ],
   "execution_count": 19
  },
  {
   "metadata": {},
   "cell_type": "markdown",
   "source": "## Run the steps from 20_000 to 25_000",
   "id": "d607cfc46f3b1366"
  },
  {
   "metadata": {
    "ExecuteTime": {
     "end_time": "2025-04-20T20:25:20.251926Z",
     "start_time": "2025-04-20T12:41:54.300986Z"
    }
   },
   "cell_type": "code",
   "source": "partition_at_25_000 = run_the_chain(25_000, partition_at_20_000, 20_000)",
   "id": "e87bfd58e918f8e6",
   "outputs": [
    {
     "data": {
      "text/plain": [
       "  0%|          | 0/5000 [00:00<?, ?it/s]"
      ],
      "application/vnd.jupyter.widget-view+json": {
       "version_major": 2,
       "version_minor": 0,
       "model_id": "80989f2982ba4ef88f0b54344ddb76b9"
      }
     },
     "metadata": {},
     "output_type": "display_data"
    }
   ],
   "execution_count": 20
  },
  {
   "metadata": {},
   "cell_type": "markdown",
   "source": "### Save the progress for the 25_000 steps mark",
   "id": "ba1b596158bf7fb0"
  },
  {
   "metadata": {
    "ExecuteTime": {
     "end_time": "2025-04-21T02:57:41.443690Z",
     "start_time": "2025-04-21T02:57:41.432689Z"
    }
   },
   "cell_type": "code",
   "source": [
    "assignment_at_25_000 = util.checkpoint(\"IL_Gerrychain_step_25_000\", partition_at_25_000)\n",
    "partition_at_25_000 = Partition(\n",
    "    graph=il_graph,\n",
    "    assignment=assignment_at_25_000,\n",
    "    updaters=il_updaters,\n",
    ")"
   ],
   "id": "535be40fc259d4e9",
   "outputs": [
    {
     "name": "stdout",
     "output_type": "stream",
     "text": [
      "Checkpoint: IL_Gerrychain_step_25_000\n",
      "Data loaded from cache.\n"
     ]
    }
   ],
   "execution_count": 14
  },
  {
   "metadata": {
    "ExecuteTime": {
     "end_time": "2025-04-21T02:57:44.141221Z",
     "start_time": "2025-04-21T02:57:44.010408Z"
    }
   },
   "cell_type": "code",
   "source": [
    "# load the checkpoint if it exists\n",
    "checkpoint_dict = util.checkpoint(\"IL_plot_results_25_000\", checkpoint_dict)"
   ],
   "id": "2e5473783767bc8b",
   "outputs": [
    {
     "name": "stdout",
     "output_type": "stream",
     "text": [
      "Checkpoint: IL_plot_results_25_000\n",
      "Data loaded from cache.\n"
     ]
    }
   ],
   "execution_count": 15
  },
  {
   "metadata": {},
   "cell_type": "markdown",
   "source": "## Run the steps from 25_000 to 30_000",
   "id": "e5ce3d11f5c05df"
  },
  {
   "metadata": {
    "ExecuteTime": {
     "end_time": "2025-04-21T10:56:32.258218Z",
     "start_time": "2025-04-21T02:57:58.562741Z"
    }
   },
   "cell_type": "code",
   "source": "partition_at_30_000 = run_the_chain(30_000, partition_at_25_000, 25_000)",
   "id": "6f303308108e5591",
   "outputs": [
    {
     "data": {
      "text/plain": [
       "  0%|          | 0/5000 [00:00<?, ?it/s]"
      ],
      "application/vnd.jupyter.widget-view+json": {
       "version_major": 2,
       "version_minor": 0,
       "model_id": "f228dc819aef4b44b2feaa071b76396f"
      }
     },
     "metadata": {},
     "output_type": "display_data"
    }
   ],
   "execution_count": 17
  },
  {
   "metadata": {},
   "cell_type": "markdown",
   "source": "### Save the progress for the 30_000 steps mark",
   "id": "666b7eadc1a77dba"
  },
  {
   "metadata": {
    "ExecuteTime": {
     "end_time": "2025-04-21T10:56:32.792897Z",
     "start_time": "2025-04-21T10:56:32.779312Z"
    }
   },
   "cell_type": "code",
   "source": [
    "assignment_at_30_000 = util.checkpoint(\"IL_Gerrychain_step_30_000\", partition_at_30_000)\n",
    "partition_at_30_000 = Partition(\n",
    "    graph=il_graph,\n",
    "    assignment=assignment_at_30_000,\n",
    "    updaters=il_updaters,\n",
    ")"
   ],
   "id": "13e110c92022e8f3",
   "outputs": [
    {
     "name": "stdout",
     "output_type": "stream",
     "text": [
      "Checkpoint: IL_Gerrychain_step_30_000\n",
      "Saving data...\n",
      "Data saved successfully to checkpoints/IL_Gerrychain_step_30_000.pkl.\n"
     ]
    }
   ],
   "execution_count": 18
  },
  {
   "metadata": {
    "ExecuteTime": {
     "end_time": "2025-04-21T10:56:33.029165Z",
     "start_time": "2025-04-21T10:56:32.959252Z"
    }
   },
   "cell_type": "code",
   "source": [
    "# load the checkpoint if it exists\n",
    "checkpoint_dict = util.checkpoint(\"IL_plot_results_30_000\", checkpoint_dict)"
   ],
   "id": "276bd05ca46eff09",
   "outputs": [
    {
     "name": "stdout",
     "output_type": "stream",
     "text": [
      "Checkpoint: IL_plot_results_30_000\n",
      "Saving data...\n",
      "Data saved successfully to checkpoints/IL_plot_results_30_000.pkl.\n"
     ]
    }
   ],
   "execution_count": 19
  },
  {
   "metadata": {},
   "cell_type": "markdown",
   "source": "## Run the steps from 30_000 to 35_000",
   "id": "fab960fd8805afe3"
  },
  {
   "metadata": {
    "ExecuteTime": {
     "end_time": "2025-04-21T19:16:29.587080Z",
     "start_time": "2025-04-21T10:56:33.081814Z"
    }
   },
   "cell_type": "code",
   "source": "partition_at_35_000 = run_the_chain(35_000, partition_at_30_000, 30_000)",
   "id": "df2d2bfecbe39bff",
   "outputs": [
    {
     "data": {
      "text/plain": [
       "  0%|          | 0/5000 [00:00<?, ?it/s]"
      ],
      "application/vnd.jupyter.widget-view+json": {
       "version_major": 2,
       "version_minor": 0,
       "model_id": "c7f9619dcf754052b149c1e09728c551"
      }
     },
     "metadata": {},
     "output_type": "display_data"
    }
   ],
   "execution_count": 20
  },
  {
   "metadata": {},
   "cell_type": "markdown",
   "source": "### Save the progress for the 35_000 steps mark",
   "id": "db81730707905e55"
  },
  {
   "metadata": {
    "ExecuteTime": {
     "end_time": "2025-04-22T03:44:02.597943Z",
     "start_time": "2025-04-22T03:44:02.587465Z"
    }
   },
   "cell_type": "code",
   "source": [
    "assignment_at_35_000 = util.checkpoint(\"IL_Gerrychain_step_35_000\", partition_at_35_000)\n",
    "partition_at_35_000 = Partition(\n",
    "    graph=il_graph,\n",
    "    assignment=assignment_at_35_000,\n",
    "    updaters=il_updaters,\n",
    ")"
   ],
   "id": "7f88318d31826d5",
   "outputs": [
    {
     "name": "stdout",
     "output_type": "stream",
     "text": [
      "Checkpoint: IL_Gerrychain_step_35_000\n",
      "Data loaded from cache.\n"
     ]
    }
   ],
   "execution_count": 14
  },
  {
   "metadata": {
    "ExecuteTime": {
     "end_time": "2025-04-22T03:44:04.979053Z",
     "start_time": "2025-04-22T03:44:04.832367Z"
    }
   },
   "cell_type": "code",
   "source": "checkpoint_dict = util.checkpoint(\"IL_plot_results_35_000\", checkpoint_dict)",
   "id": "7ef808a5afcaca56",
   "outputs": [
    {
     "name": "stdout",
     "output_type": "stream",
     "text": [
      "Checkpoint: IL_plot_results_35_000\n",
      "Data loaded from cache.\n"
     ]
    }
   ],
   "execution_count": 15
  },
  {
   "metadata": {},
   "cell_type": "markdown",
   "source": "## Run the steps from 35_000 to 40_000",
   "id": "c5149c2dfd1db037"
  },
  {
   "metadata": {
    "ExecuteTime": {
     "end_time": "2025-04-22T11:39:37.225662Z",
     "start_time": "2025-04-22T03:44:34.265888Z"
    }
   },
   "cell_type": "code",
   "source": "partition_at_40_000 = run_the_chain(40_000, partition_at_35_000, 35_000)",
   "id": "68082f4841f789d5",
   "outputs": [
    {
     "data": {
      "text/plain": [
       "  0%|          | 0/5000 [00:00<?, ?it/s]"
      ],
      "application/vnd.jupyter.widget-view+json": {
       "version_major": 2,
       "version_minor": 0,
       "model_id": "b4a2da8c17f74b4596b3d4aed3b9fd9d"
      }
     },
     "metadata": {},
     "output_type": "display_data"
    }
   ],
   "execution_count": 18
  },
  {
   "metadata": {},
   "cell_type": "markdown",
   "source": "### Save the progress for the 40_000 steps mark",
   "id": "c336d4c32df4cf46"
  },
  {
   "metadata": {
    "ExecuteTime": {
     "end_time": "2025-04-22T16:04:52.229166Z",
     "start_time": "2025-04-22T16:04:52.213369Z"
    }
   },
   "cell_type": "code",
   "source": [
    "assignment_at_40_000 = util.checkpoint(\"IL_Gerrychain_step_40_000\", partition_at_40_000)\n",
    "partition_at_40_000 = Partition(\n",
    "    graph=il_graph,\n",
    "    assignment=assignment_at_40_000,\n",
    "    updaters=il_updaters,\n",
    ")"
   ],
   "id": "2be6fd4dd6c31900",
   "outputs": [
    {
     "name": "stdout",
     "output_type": "stream",
     "text": [
      "Checkpoint: IL_Gerrychain_step_40_000\n",
      "Data loaded from cache.\n"
     ]
    }
   ],
   "execution_count": 24
  },
  {
   "metadata": {
    "ExecuteTime": {
     "end_time": "2025-04-22T11:39:37.999320Z",
     "start_time": "2025-04-22T11:39:37.934190Z"
    }
   },
   "cell_type": "code",
   "source": "checkpoint_dict = util.checkpoint(\"IL_plot_results_40_000\", checkpoint_dict)",
   "id": "54aa709547a57c78",
   "outputs": [
    {
     "name": "stdout",
     "output_type": "stream",
     "text": [
      "Checkpoint: IL_plot_results_40_000\n",
      "Saving data...\n",
      "Data saved successfully to checkpoints/IL_plot_results_40_000.pkl.\n"
     ]
    }
   ],
   "execution_count": 20
  }
 ],
 "metadata": {
  "kernelspec": {
   "display_name": "Python 3",
   "language": "python",
   "name": "python3"
  },
  "language_info": {
   "codemirror_mode": {
    "name": "ipython",
    "version": 2
   },
   "file_extension": ".py",
   "mimetype": "text/x-python",
   "name": "python",
   "nbconvert_exporter": "python",
   "pygments_lexer": "ipython2",
   "version": "2.7.6"
  }
 },
 "nbformat": 4,
 "nbformat_minor": 5
}
