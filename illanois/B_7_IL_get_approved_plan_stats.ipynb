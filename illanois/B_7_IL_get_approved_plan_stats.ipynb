{
 "cells": [
  {
   "metadata": {},
   "cell_type": "markdown",
   "source": [
    "# Running the gerrychain to find out the stats for the approved congressional districting plan\n",
    "\n",
    "@authors: vcle, bpuhani"
   ],
   "id": "4e157b59fcfd78c5"
  },
  {
   "metadata": {
    "ExecuteTime": {
     "end_time": "2025-04-23T20:10:48.189173Z",
     "start_time": "2025-04-23T20:10:47.381552Z"
    }
   },
   "cell_type": "code",
   "source": [
    "import json\n",
    "from functools import partial\n",
    "\n",
    "import geopandas as gpd\n",
    "from gerrychain import Graph, Partition, constraints, MarkovChain, Election\n",
    "from gerrychain.accept import always_accept\n",
    "from gerrychain.metrics import efficiency_gap  # get the efficiency gap directly from gerrychain\n",
    "from gerrychain.proposals import recom\n",
    "from gerrychain.tree import bipartition_tree\n",
    "from gerrychain.updaters import cut_edges, Tally\n",
    "from shapely.ops import unary_union\n",
    "\n",
    "import utilities as util"
   ],
   "id": "655f1033bbc5e318",
   "outputs": [],
   "execution_count": 1
  },
  {
   "metadata": {},
   "cell_type": "markdown",
   "source": [
    "## Loading the needed data.\n",
    "For this notebook to work we assume, that you ran the following notebooks first:\n",
    "* `0_IL_import_and_explore_data.ipynb`\n",
    "* `B_2_IL_clean_maup_with_congress.ipynb`"
   ],
   "id": "81225e82f8299255"
  },
  {
   "metadata": {
    "ExecuteTime": {
     "end_time": "2025-04-23T20:10:48.759165Z",
     "start_time": "2025-04-23T20:10:48.421695Z"
    }
   },
   "cell_type": "code",
   "source": [
    "il_df: gpd.GeoDataFrame = util.load_shapefile(\"il_data/IL_congress.shp\")\n",
    "il_graph: Graph = util.load_graph(\"il_data/IL_congress.shp\")"
   ],
   "id": "ac385fd85704b5bc",
   "outputs": [
    {
     "name": "stdout",
     "output_type": "stream",
     "text": [
      "Loading shapefile from il_data/IL_congress.shp...\n",
      "Shapefile data loaded from cache.\n",
      "Loading shapefile graph from il_data/IL_congress.shp...\n",
      "Shapefile data loaded from cache.\n"
     ]
    }
   ],
   "execution_count": 2
  },
  {
   "metadata": {},
   "cell_type": "markdown",
   "source": "Setup Updaters",
   "id": "4b124db81b232a10"
  },
  {
   "metadata": {
    "ExecuteTime": {
     "end_time": "2025-04-23T20:10:48.789711Z",
     "start_time": "2025-04-23T20:10:48.783385Z"
    }
   },
   "cell_type": "code",
   "source": [
    "def has_holes(partition, district) -> bool:\n",
    "    # Merge all geometries in the district into a single polygon/multipolygon\n",
    "    raw_geometry = unary_union([partition.graph.nodes[v][\"geometry\"]\n",
    "                                for v in partition.parts[district]])\n",
    "\n",
    "    # Try to repair invalid geometry\n",
    "    geom_fixed = raw_geometry.buffer(0)\n",
    "\n",
    "    # A simple hole check: does the geometry have interior rings?\n",
    "    # (for Polygon: check .interiors; for MultiPolygon: check if any part has interiors)\n",
    "    if geom_fixed.geom_type == \"Polygon\":\n",
    "        return len(geom_fixed.interiors) > 0\n",
    "    elif geom_fixed.geom_type == \"MultiPolygon\":\n",
    "        return any(len(p.interiors) > 0 for p in geom_fixed.geoms)\n",
    "    else:\n",
    "        print(f\"Not a polygon geometry: {geom_fixed.geom_type}\")\n",
    "        return False  # Not a polygon geometry? Then we ignore it."
   ],
   "id": "e20791f45ef82908",
   "outputs": [],
   "execution_count": 3
  },
  {
   "metadata": {
    "ExecuteTime": {
     "end_time": "2025-04-23T20:10:48.811584Z",
     "start_time": "2025-04-23T20:10:48.808161Z"
    }
   },
   "cell_type": "code",
   "source": [
    "il_updaters = {\n",
    "    \"total_population\": Tally(\"TOTPOP\", alias=\"total_population\"),\n",
    "    # \"hisp_population\": Tally(\"HISP\", alias=\"hisp_population\"), # not needed apparently\n",
    "    \"cut_edges\": cut_edges,\n",
    "    # calculate if a district has holes\n",
    "    \"district_has_holes\": lambda p: [int(has_holes(p, d)) for d in p.parts],\n",
    "}"
   ],
   "id": "b50063aa7b3874dc",
   "outputs": [],
   "execution_count": 4
  },
  {
   "metadata": {
    "ExecuteTime": {
     "end_time": "2025-04-23T20:10:48.838895Z",
     "start_time": "2025-04-23T20:10:48.834944Z"
    }
   },
   "cell_type": "code",
   "source": [
    "elections = [\n",
    "    Election(\"PRE20\", {\"Dem\": \"G20PRED\", \"Rep\": \"G20PRER\"}),\n",
    "    Election(\"USS20\", {\"Dem\": \"G20USSD\", \"Rep\": \"G20USSR\"}),\n",
    "]"
   ],
   "id": "b15ac48837233802",
   "outputs": [],
   "execution_count": 5
  },
  {
   "metadata": {
    "ExecuteTime": {
     "end_time": "2025-04-23T20:10:48.860409Z",
     "start_time": "2025-04-23T20:10:48.855722Z"
    }
   },
   "cell_type": "code",
   "source": [
    "# adding the elections to the updaters\n",
    "election_updaters = {election.name: election for election in elections}\n",
    "il_updaters.update(election_updaters)"
   ],
   "id": "d4135f6dfd8ac36d",
   "outputs": [],
   "execution_count": 6
  },
  {
   "metadata": {
    "ExecuteTime": {
     "end_time": "2025-04-23T20:10:48.888417Z",
     "start_time": "2025-04-23T20:10:48.877627Z"
    }
   },
   "cell_type": "code",
   "source": [
    "# Set up the initial partition object\n",
    "initial_partition = Partition(\n",
    "    il_graph,\n",
    "    assignment=\"CONGD\",\n",
    "    updaters=il_updaters,\n",
    ")"
   ],
   "id": "dab6791916c72246",
   "outputs": [],
   "execution_count": 7
  },
  {
   "metadata": {
    "ExecuteTime": {
     "end_time": "2025-04-23T20:10:48.928503Z",
     "start_time": "2025-04-23T20:10:48.906020Z"
    }
   },
   "cell_type": "code",
   "source": [
    "# Define the ideal population\n",
    "ideal_population = sum(initial_partition[\"total_population\"].values()) / len(initial_partition)\n",
    "print(\"Nr of districts:\", len(initial_partition))\n",
    "print(\"Ideal population:\", ideal_population)"
   ],
   "id": "af7d176abcf69223",
   "outputs": [
    {
     "name": "stdout",
     "output_type": "stream",
     "text": [
      "Nr of districts: 17\n",
      "Ideal population: 753676.9411764706\n"
     ]
    }
   ],
   "execution_count": 8
  },
  {
   "metadata": {
    "ExecuteTime": {
     "end_time": "2025-04-23T20:10:48.951566Z",
     "start_time": "2025-04-23T20:10:48.946735Z"
    }
   },
   "cell_type": "code",
   "source": [
    "# Define the recom proposal\n",
    "proposal = partial(\n",
    "    recom,\n",
    "    pop_col=\"TOTPOP\",\n",
    "    pop_target=ideal_population,\n",
    "    epsilon=0.02,\n",
    "    method=partial(\n",
    "        bipartition_tree,\n",
    "        max_attempts=100,\n",
    "        allow_pair_reselection=True\n",
    "    )\n",
    ")"
   ],
   "id": "85a1e933607c217b",
   "outputs": [],
   "execution_count": 9
  },
  {
   "metadata": {
    "ExecuteTime": {
     "end_time": "2025-04-23T20:10:48.976353Z",
     "start_time": "2025-04-23T20:10:48.971649Z"
    }
   },
   "cell_type": "code",
   "source": [
    "# define the lists that are needed to track the one Number\n",
    "list_of_nr_of_cut_edges = []\n",
    "\n",
    "list_of_dem_won_districts_pre20 = []\n",
    "list_of_dem_won_districts_uss20 = []\n",
    "\n",
    "list_of_eg_pre20 = []\n",
    "list_of_eg_uss20 = []\n",
    "\n",
    "list_of_dem_percents_pre20 = []\n",
    "list_of_dem_percents_uss20 = []"
   ],
   "id": "ad081dbf76e86442",
   "outputs": [],
   "execution_count": 10
  },
  {
   "metadata": {
    "ExecuteTime": {
     "end_time": "2025-04-23T20:10:48.998271Z",
     "start_time": "2025-04-23T20:10:48.993470Z"
    }
   },
   "cell_type": "code",
   "source": [
    "# create a checkpoint for all the lists in one big dictionary\n",
    "checkpoint_dict = {\n",
    "    \"list_of_nr_of_cut_edges\": list_of_nr_of_cut_edges,\n",
    "    \"list_of_dem_won_districts_pre20\": list_of_dem_won_districts_pre20,\n",
    "    \"list_of_dem_won_districts_uss20\": list_of_dem_won_districts_uss20,\n",
    "    \"list_of_eg_pre20\": list_of_eg_pre20,\n",
    "    \"list_of_eg_uss20\": list_of_eg_uss20,\n",
    "    \"list_of_dem_percents_pre20\": list_of_dem_percents_pre20,\n",
    "    \"list_of_dem_percents_uss20\": list_of_dem_percents_uss20\n",
    "}"
   ],
   "id": "f8e4c03de2147484",
   "outputs": [],
   "execution_count": 11
  },
  {
   "metadata": {
    "ExecuteTime": {
     "end_time": "2025-04-23T20:10:49.023336Z",
     "start_time": "2025-04-23T20:10:49.015806Z"
    }
   },
   "cell_type": "code",
   "source": [
    "def run_the_chain(nr_of_total_steps: int, start_partition: Partition, offset: int = 0) -> Partition:\n",
    "    \"\"\"Runs the chain for the specified number of steps. Returns the last partition\"\"\"\n",
    "\n",
    "    # Set up the chain\n",
    "    chain = MarkovChain(\n",
    "        proposal=proposal,\n",
    "        constraints=[\n",
    "            # Compactness constraint\n",
    "            constraints.UpperBound(lambda p: len(p[\"cut_edges\"]), 2 * len(initial_partition[\"cut_edges\"])),\n",
    "            # Population constraint\n",
    "            constraints.within_percent_of_ideal_population(initial_partition, 0.02, \"total_population\"),\n",
    "            # remove the constraint because it will have holes\n",
    "            # set constraint for the map not to allow holes (lower and upper bound is 1 == (True) == no Holes)\n",
    "            # constraints.Bounds(lambda p: p[\"district_has_holes\"], (0, 0))\n",
    "        ],\n",
    "        accept=always_accept,\n",
    "        initial_state=start_partition,\n",
    "        total_steps=nr_of_total_steps - offset\n",
    "    )\n",
    "    last_partition: Partition = start_partition\n",
    "\n",
    "    for (i, partition) in enumerate(chain.with_progress_bar()):\n",
    "        last_partition = partition\n",
    "\n",
    "        # Calculate and append the efficiency gap values for each election to checkpoint_dict\n",
    "        checkpoint_dict[\"list_of_eg_pre20\"].append(efficiency_gap(partition[\"PRE20\"]))\n",
    "        checkpoint_dict[\"list_of_eg_uss20\"].append(efficiency_gap(partition[\"USS20\"]))\n",
    "\n",
    "        # append the sorted percentages of Democratic votes for each election to checkpoint_dict\n",
    "        checkpoint_dict[\"list_of_dem_percents_pre20\"].append(sorted(partition[\"PRE20\"].percents(\"Dem\")))\n",
    "        checkpoint_dict[\"list_of_dem_percents_uss20\"].append(sorted(partition[\"USS20\"].percents(\"Dem\")))\n",
    "\n",
    "        # append the number of districts won by the Democratic Party for each election to checkpoint_dict\n",
    "        checkpoint_dict[\"list_of_dem_won_districts_pre20\"].append(partition[\"PRE20\"].wins(\"Dem\"))\n",
    "        checkpoint_dict[\"list_of_dem_won_districts_uss20\"].append(partition[\"USS20\"].wins(\"Dem\"))\n",
    "\n",
    "        # append the number of cut edges for this partition to checkpoint_dict\n",
    "        checkpoint_dict[\"list_of_nr_of_cut_edges\"].append(len(partition[\"cut_edges\"]))\n",
    "\n",
    "    return last_partition"
   ],
   "id": "880a6fd8d99bf569",
   "outputs": [],
   "execution_count": 12
  },
  {
   "metadata": {},
   "cell_type": "markdown",
   "source": "## RUN CHAIN ONLY ONCE",
   "id": "9d31c7a50778b198"
  },
  {
   "metadata": {
    "ExecuteTime": {
     "end_time": "2025-04-23T20:10:49.163503Z",
     "start_time": "2025-04-23T20:10:49.045994Z"
    }
   },
   "cell_type": "code",
   "source": "run_the_chain(1, initial_partition)",
   "id": "e7899ccb07c29558",
   "outputs": [
    {
     "data": {
      "text/plain": [
       "  0%|          | 0/1 [00:00<?, ?it/s]"
      ],
      "application/vnd.jupyter.widget-view+json": {
       "version_major": 2,
       "version_minor": 0,
       "model_id": "2f5d79200f9e44838f85baad13e03f88"
      }
     },
     "metadata": {},
     "output_type": "display_data"
    },
    {
     "data": {
      "text/plain": [
       "<Partition [17 parts]>"
      ]
     },
     "execution_count": 13,
     "metadata": {},
     "output_type": "execute_result"
    }
   ],
   "execution_count": 13
  },
  {
   "metadata": {},
   "cell_type": "markdown",
   "source": "### Save the result",
   "id": "c4589284eee58943"
  },
  {
   "metadata": {
    "ExecuteTime": {
     "end_time": "2025-04-23T20:10:49.201309Z",
     "start_time": "2025-04-23T20:10:49.196466Z"
    }
   },
   "cell_type": "code",
   "source": [
    "# load the checkpoint if it exists\n",
    "checkpoint_dict = util.checkpoint(\"IL_approved_congress_stats\", checkpoint_dict)"
   ],
   "id": "1a6b0fc58de738df",
   "outputs": [
    {
     "name": "stdout",
     "output_type": "stream",
     "text": [
      "Checkpoint: IL_approved_congress_stats\n",
      "Saving data...\n",
      "Data saved successfully to checkpoints/IL_approved_congress_stats.pkl.\n"
     ]
    }
   ],
   "execution_count": 14
  },
  {
   "metadata": {
    "ExecuteTime": {
     "end_time": "2025-04-23T20:14:53.568890Z",
     "start_time": "2025-04-23T20:14:53.563944Z"
    }
   },
   "cell_type": "code",
   "source": "print(json.dumps(checkpoint_dict, indent=2))",
   "id": "e7969b31c44fa39a",
   "outputs": [
    {
     "name": "stdout",
     "output_type": "stream",
     "text": [
      "{\n",
      "  \"list_of_nr_of_cut_edges\": [\n",
      "    2729\n",
      "  ],\n",
      "  \"list_of_dem_won_districts_pre20\": [\n",
      "    14\n",
      "  ],\n",
      "  \"list_of_dem_won_districts_uss20\": [\n",
      "    14\n",
      "  ],\n",
      "  \"list_of_eg_pre20\": [\n",
      "    0.13131178822215156\n",
      "  ],\n",
      "  \"list_of_eg_uss20\": [\n",
      "    0.12667910980924485\n",
      "  ],\n",
      "  \"list_of_dem_percents_pre20\": [\n",
      "    [\n",
      "      0.2829432463800301,\n",
      "      0.30215946585723386,\n",
      "      0.39093753420891175,\n",
      "      0.5391122864167559,\n",
      "      0.5560699417152373,\n",
      "      0.5568248180380874,\n",
      "      0.5578379199798942,\n",
      "      0.5786117038717272,\n",
      "      0.5788307899118587,\n",
      "      0.6317107555474051,\n",
      "      0.7034732037467641,\n",
      "      0.7055919546195603,\n",
      "      0.70941553234033,\n",
      "      0.710698346202289,\n",
      "      0.7140061275445119,\n",
      "      0.7369181346715099,\n",
      "      0.8706399665343582\n",
      "    ]\n",
      "  ],\n",
      "  \"list_of_dem_percents_uss20\": [\n",
      "    [\n",
      "      0.3181500844265489,\n",
      "      0.3321918351588489,\n",
      "      0.39583023587624777,\n",
      "      0.5464606907784858,\n",
      "      0.5607279129399929,\n",
      "      0.5623922246994512,\n",
      "      0.5626044754496623,\n",
      "      0.5656581273373278,\n",
      "      0.5811058595387505,\n",
      "      0.5990430029541314,\n",
      "      0.6915943651460025,\n",
      "      0.7066142763588736,\n",
      "      0.7069434412586754,\n",
      "      0.709293065214854,\n",
      "      0.7234814375553652,\n",
      "      0.7613671236264868,\n",
      "      0.8600411761909463\n",
      "    ]\n",
      "  ]\n",
      "}\n"
     ]
    }
   ],
   "execution_count": 24
  }
 ],
 "metadata": {
  "kernelspec": {
   "display_name": "Python 3",
   "language": "python",
   "name": "python3"
  },
  "language_info": {
   "codemirror_mode": {
    "name": "ipython",
    "version": 2
   },
   "file_extension": ".py",
   "mimetype": "text/x-python",
   "name": "python",
   "nbconvert_exporter": "python",
   "pygments_lexer": "ipython2",
   "version": "2.7.6"
  }
 },
 "nbformat": 4,
 "nbformat_minor": 5
}
