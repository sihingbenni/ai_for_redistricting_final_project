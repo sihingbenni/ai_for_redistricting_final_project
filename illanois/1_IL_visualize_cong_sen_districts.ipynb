{
 "cells": [
  {
   "metadata": {},
   "cell_type": "markdown",
   "source": [
    "# Visualizing Illinois:\n",
    "Including none cleaned:\n",
    "* approved state senate plan districts\n",
    "* approved congressional districts\n",
    "\n",
    "@authors: vcle, bpuhani"
   ],
   "id": "30880166e90c1c09"
  },
  {
   "metadata": {},
   "cell_type": "markdown",
   "source": "## Loading needed libraries",
   "id": "d0579f7e4dc1dab5"
  },
  {
   "metadata": {
    "ExecuteTime": {
     "end_time": "2025-04-13T04:04:39.923581Z",
     "start_time": "2025-04-13T04:04:39.878664Z"
    }
   },
   "cell_type": "code",
   "source": [
    "import sys\n",
    "import time\n",
    "import warnings\n",
    "import io\n",
    "import os\n",
    "\n",
    "import maup\n",
    "import pandas as pd\n",
    "from matplotlib import pyplot as plt\n",
    "\n",
    "import utilities as util\n",
    "\n",
    "import networkx as nx\n",
    "from gerrychain import Graph, GeographicPartition\n"
   ],
   "id": "da3f858d0336ccf",
   "outputs": [],
   "execution_count": 29
  },
  {
   "metadata": {
    "ExecuteTime": {
     "end_time": "2025-04-13T04:04:39.935329Z",
     "start_time": "2025-04-13T04:04:39.927824Z"
    }
   },
   "cell_type": "code",
   "source": [
    "maup.progress.enabled = False\n",
    "\n",
    "warnings.filterwarnings('ignore')\n",
    "\n",
    "start_time = time.time()\n",
    "\n",
    "### configuration to capture print output\n",
    "original_stdout = sys.stdout"
   ],
   "id": "9f0d5f9fa5914228",
   "outputs": [],
   "execution_count": 30
  },
  {
   "metadata": {},
   "cell_type": "markdown",
   "source": [
    "## Downloading the data\n",
    "\n",
    "All data retrieved in April 2025: <br>\n",
    "| **Dataset**                                                                                                        | **Description**                                                                           | **Metadata**                                                                                      |\n",
    "|--------------------------------------------------------------------------------------------------------------------|-------------------------------------------------------------------------------------------|---------------------------------------------------------------------------------------------------|\n",
    "| [2021 State Senate District plan](https://redistrictingdatahub.org/dataset/2021-oregon-state-senate-adopted-plan/) | 2021 Illinois State Senate Approved Plan                                                  | [Link](https://redistrictingdatahub.org/wp-content/uploads/2021/12/readme_il_sldu_2021.txt)       |\n",
    "| [2021 Congressional District plan](https://redistrictingdatahub.org/dataset/2021-illinois-congressional-districts-approved-plan/) | 2021 Illinois Congressional Districts                                                     | [Link](https://redistrictingdatahub.org/wp-content/uploads/2021/11/readme_il_cong_adopted_2021.txt)        |"
   ],
   "id": "fed4c4d4affb7033"
  },
  {
   "metadata": {},
   "cell_type": "markdown",
   "source": [
    "## Loading the needed data.\n",
    "This notebook requires running:\n",
    "* `0_IL_import_and_explore_data.ipynb`\n",
    "\n",
    "before this one."
   ],
   "id": "1f2dc45e68ffee87"
  },
  {
   "metadata": {
    "ExecuteTime": {
     "end_time": "2025-04-13T04:04:40.116651Z",
     "start_time": "2025-04-13T04:04:40.109631Z"
    }
   },
   "cell_type": "code",
   "source": [
    "# rename files to mitigate name issues\n",
    "\n",
    "old_base = \"il_data/il_cong_adopted_2021/HB 1291 FA #1\"\n",
    "new_base = \"il_data/il_cong_adopted_2021/HB_1291_FA_1\"\n",
    "\n",
    "if os.path.exists(old_base):\n",
    "    for ext in [\".shp\", \".dbf\", \".shx\", \".prj\"]:\n",
    "        old = old_base + ext\n",
    "        new = new_base + ext\n",
    "        if os.path.exists(old):\n",
    "            os.rename(old, new)"
   ],
   "id": "511bd8413f8509b1",
   "outputs": [],
   "execution_count": 31
  },
  {
   "metadata": {
    "ExecuteTime": {
     "end_time": "2025-04-13T04:04:40.211534Z",
     "start_time": "2025-04-13T04:04:40.206639Z"
    }
   },
   "cell_type": "code",
   "source": [
    "# Paths to the data\n",
    "sen_path = \"il_data/il_sldu_2021/il_sldu_2021.shp\"\n",
    "cong_path = \"il_data/il_cong_adopted_2021/HB_1291_FA_1.shp\""
   ],
   "id": "46db984ef911333",
   "outputs": [],
   "execution_count": 32
  },
  {
   "metadata": {
    "ExecuteTime": {
     "end_time": "2025-04-13T04:04:40.360879Z",
     "start_time": "2025-04-13T04:04:40.301660Z"
    }
   },
   "cell_type": "code",
   "source": [
    "sen_df = util.load_shapefile(sen_path)\n",
    "cong_df = util.load_shapefile(cong_path) # throws error"
   ],
   "id": "3e6c9d054a332e48",
   "outputs": [
    {
     "name": "stdout",
     "output_type": "stream",
     "text": [
      "Loading shapefile from il_data/il_sldu_2021/il_sldu_2021.shp...\n",
      "Shapefile data loaded from cache.\n",
      "Loading shapefile from il_data/il_cong_adopted_2021/HB_1291_FA_1.shp...\n",
      "Shapefile data loaded from cache.\n"
     ]
    }
   ],
   "execution_count": 33
  },
  {
   "metadata": {},
   "cell_type": "markdown",
   "source": "Run `maup.doctor` for both senate plan and congressional plan",
   "id": "51826a5f252beb08"
  },
  {
   "metadata": {
    "ExecuteTime": {
     "end_time": "2025-04-13T04:04:42.232884Z",
     "start_time": "2025-04-13T04:04:40.455468Z"
    }
   },
   "cell_type": "code",
   "source": [
    "try:\n",
    "    print(maup.doctor(sen_df))\n",
    "except Exception as e:\n",
    "    print(f\"Error in MAUP Doctor for sen_df: {e}\")"
   ],
   "id": "d1b20bf831842d5e",
   "outputs": [
    {
     "name": "stdout",
     "output_type": "stream",
     "text": [
      "True\n"
     ]
    }
   ],
   "execution_count": 34
  },
  {
   "metadata": {
    "ExecuteTime": {
     "end_time": "2025-04-13T04:04:43.608090Z",
     "start_time": "2025-04-13T04:04:42.322165Z"
    }
   },
   "cell_type": "code",
   "source": [
    "try:\n",
    "    print(maup.doctor(cong_df))\n",
    "except Exception as e:\n",
    "    print(f\"Error in MAUP Doctor for cong_df: {e}\")"
   ],
   "id": "87fe8b825212ab9d",
   "outputs": [
    {
     "name": "stdout",
     "output_type": "stream",
     "text": [
      "True\n"
     ]
    }
   ],
   "execution_count": 35
  },
  {
   "metadata": {},
   "cell_type": "markdown",
   "source": "So far so good, all clean",
   "id": "bd5171bfcd746858"
  },
  {
   "metadata": {},
   "cell_type": "markdown",
   "source": "### Run `maup.doctor` for each of the district in the approved senate plan",
   "id": "599ae155757b469e"
  },
  {
   "metadata": {
    "ExecuteTime": {
     "end_time": "2025-04-13T04:04:44.359494Z",
     "start_time": "2025-04-13T04:04:43.694443Z"
    }
   },
   "cell_type": "code",
   "source": [
    "# we know that Illinois has 59 districts\n",
    "nr_of_districts = len(set(sen_df[\"DISTRICTN\"]))\n",
    "assert (nr_of_districts == 59), f\"Number of state senate districts in Illinois: {nr_of_districts} != 59\"\n",
    "\n",
    "state_senate_districts_with_issues = {}\n",
    "\n",
    "# Create a StringIO object to capture the output\n",
    "captured_output = io.StringIO()\n",
    "\n",
    "for district in set(sen_df[\"DISTRICTN\"]):\n",
    "    district_df = sen_df[sen_df[\"DISTRICTN\"] == district]\n",
    "    print(\"Checking district: \", district)\n",
    "    success: bool = False\n",
    "    output: str = \"\"\n",
    "\n",
    "    try:\n",
    "        # Redirect stdout to the StringIO object\n",
    "        sys.stdout = captured_output\n",
    "\n",
    "        try:\n",
    "            # maup.doctor(district_df) will return True if there are no issues\n",
    "            success = maup.doctor(district_df)\n",
    "        except Exception as e:\n",
    "            print(f\"Error in MAUP Doctor for district {district}: {e}\")\n",
    "\n",
    "        # Get the captured output as a string without new lines\n",
    "        output = captured_output.getvalue().replace(\"\\n\", \"\")\n",
    "\n",
    "    finally:\n",
    "        # Restore the original stdout\n",
    "        sys.stdout = original_stdout\n",
    "        captured_output.truncate(0) # Clear the StringIO buffer\n",
    "        captured_output.seek(0) # Reset the cursor to the beginning\n",
    "        if not success:\n",
    "            print(f\"Problem in district {district}: {output}\")\n",
    "            state_senate_districts_with_issues[district] = output\n",
    "\n",
    "captured_output.close()"
   ],
   "id": "f98a0f4670066b18",
   "outputs": [
    {
     "name": "stdout",
     "output_type": "stream",
     "text": [
      "Checking district:  1\n",
      "Checking district:  2\n",
      "Checking district:  3\n",
      "Checking district:  4\n",
      "Checking district:  5\n",
      "Checking district:  6\n",
      "Checking district:  7\n",
      "Checking district:  8\n",
      "Checking district:  9\n",
      "Checking district:  10\n",
      "Checking district:  11\n",
      "Checking district:  12\n",
      "Checking district:  13\n",
      "Checking district:  14\n",
      "Checking district:  15\n",
      "Checking district:  16\n",
      "Checking district:  17\n",
      "Checking district:  18\n",
      "Checking district:  19\n",
      "Checking district:  20\n",
      "Checking district:  21\n",
      "Checking district:  22\n",
      "Checking district:  23\n",
      "Checking district:  24\n",
      "Checking district:  25\n",
      "Checking district:  26\n",
      "Checking district:  27\n",
      "Checking district:  28\n",
      "Checking district:  29\n",
      "Checking district:  30\n",
      "Checking district:  31\n",
      "Checking district:  32\n",
      "Checking district:  33\n",
      "Checking district:  34\n",
      "Checking district:  35\n",
      "Checking district:  36\n",
      "Checking district:  37\n",
      "Checking district:  38\n",
      "Checking district:  39\n",
      "Checking district:  40\n",
      "Checking district:  41\n",
      "Checking district:  42\n",
      "Checking district:  43\n",
      "Checking district:  44\n",
      "Checking district:  45\n",
      "Checking district:  46\n",
      "Checking district:  47\n",
      "Checking district:  48\n",
      "Checking district:  49\n",
      "Checking district:  50\n",
      "Checking district:  51\n",
      "Checking district:  52\n",
      "Checking district:  53\n",
      "Checking district:  54\n",
      "Checking district:  55\n",
      "Checking district:  56\n",
      "Checking district:  57\n",
      "Checking district:  58\n",
      "Checking district:  59\n"
     ]
    }
   ],
   "execution_count": 36
  },
  {
   "metadata": {
    "ExecuteTime": {
     "end_time": "2025-04-13T04:04:44.438863Z",
     "start_time": "2025-04-13T04:04:44.434075Z"
    }
   },
   "cell_type": "code",
   "source": "print(\"There are a total of\", len(state_senate_districts_with_issues), \"districts with issues.\")",
   "id": "952c724b699aab20",
   "outputs": [
    {
     "name": "stdout",
     "output_type": "stream",
     "text": [
      "There are a total of 0 districts with issues.\n"
     ]
    }
   ],
   "execution_count": 37
  },
  {
   "metadata": {},
   "cell_type": "markdown",
   "source": "### Run `maup.doctor` for each of the districts in the congressional plan",
   "id": "84b90f98171c7879"
  },
  {
   "metadata": {
    "ExecuteTime": {
     "end_time": "2025-04-13T04:04:44.736574Z",
     "start_time": "2025-04-13T04:04:44.511701Z"
    }
   },
   "cell_type": "code",
   "source": [
    "# we know that Illinois has 17 congressional districts\n",
    "nr_of_districts = len(set(cong_df[\"DISTRICTN\"]))\n",
    "assert (nr_of_districts == 17), f\"Number of congressional districts in Illinois: {nr_of_districts} != 59\"\n",
    "\n",
    "cong_districts_with_issues = {}\n",
    "\n",
    "# Create a StringIO object to capture the output\n",
    "captured_output = io.StringIO()\n",
    "\n",
    "for district in set(cong_df[\"DISTRICTN\"]):\n",
    "    district_df = cong_df[cong_df[\"DISTRICTN\"] == district]\n",
    "    print(\"Checking district: \", district)\n",
    "    success: bool = False\n",
    "    output: str = \"\"\n",
    "\n",
    "    try:\n",
    "        # Redirect stdout to the StringIO object\n",
    "        sys.stdout = captured_output\n",
    "\n",
    "        try:\n",
    "            # maup.doctor(district_df) will return True if there are no issues\n",
    "            success = maup.doctor(district_df)\n",
    "        except Exception as e:\n",
    "            print(f\"Error in MAUP Doctor for district {district}: {e}\")\n",
    "\n",
    "        # Get the captured output as a string without new lines\n",
    "        output = captured_output.getvalue().replace(\"\\n\", \"\")\n",
    "\n",
    "    finally:\n",
    "        # Restore the original stdout\n",
    "        sys.stdout = original_stdout\n",
    "        captured_output.truncate(0) # Clear the StringIO buffer\n",
    "        captured_output.seek(0) # Reset the cursor to the beginning\n",
    "        if not success:\n",
    "            print(f\"Problem in district {district}: {output}\")\n",
    "            cong_districts_with_issues[district] = output\n",
    "\n",
    "captured_output.close()"
   ],
   "id": "27138c077c38abba",
   "outputs": [
    {
     "name": "stdout",
     "output_type": "stream",
     "text": [
      "Checking district:  1\n",
      "Checking district:  2\n",
      "Checking district:  3\n",
      "Checking district:  4\n",
      "Checking district:  5\n",
      "Checking district:  6\n",
      "Checking district:  7\n",
      "Checking district:  8\n",
      "Checking district:  9\n",
      "Checking district:  10\n",
      "Checking district:  11\n",
      "Checking district:  12\n",
      "Checking district:  13\n",
      "Checking district:  14\n",
      "Checking district:  15\n",
      "Checking district:  16\n",
      "Checking district:  17\n"
     ]
    }
   ],
   "execution_count": 38
  },
  {
   "metadata": {
    "ExecuteTime": {
     "end_time": "2025-04-13T04:04:44.819506Z",
     "start_time": "2025-04-13T04:04:44.814481Z"
    }
   },
   "cell_type": "code",
   "source": "print(\"There are a total of\", len(cong_districts_with_issues), \"congressional districts with issues.\")",
   "id": "cfc2640ae080d371",
   "outputs": [
    {
     "name": "stdout",
     "output_type": "stream",
     "text": [
      "There are a total of 0 congressional districts with issues.\n"
     ]
    }
   ],
   "execution_count": 39
  }
 ],
 "metadata": {
  "kernelspec": {
   "display_name": "Python 3",
   "language": "python",
   "name": "python3"
  },
  "language_info": {
   "codemirror_mode": {
    "name": "ipython",
    "version": 2
   },
   "file_extension": ".py",
   "mimetype": "text/x-python",
   "name": "python",
   "nbconvert_exporter": "python",
   "pygments_lexer": "ipython2",
   "version": "2.7.6"
  }
 },
 "nbformat": 4,
 "nbformat_minor": 5
}
