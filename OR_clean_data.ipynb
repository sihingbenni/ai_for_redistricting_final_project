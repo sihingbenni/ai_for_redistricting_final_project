{
 "cells": [
  {
   "metadata": {},
   "cell_type": "markdown",
   "source": [
    "# AI for Redistricting Final Project\n",
    "\n",
    "## Oregon Data Cleaning\n",
    "\n",
    "@authors: vcle, bpuhani\n",
    "\n",
    "All data retrieved in March 2025: <br>\n",
    "[2020 Population data](https://redistrictingdatahub.org/dataset/oregon-block-pl-94171-2020-by-table/): based on the decennial census at the Census Block level on 2020 Census Redistricting Data\n",
    "\n",
    "[2020 County data](https://redistrictingdatahub.org/dataset/oregon-county-pl-94171-2020/): from 2020 Census Redistricting Data (P.L. 94-171) Shapefiles\n",
    "\n",
    "[2020 election data](https://redistrictingdatahub.org/dataset/vest-2020-oregon-precinct-and-election-results/):  VEST 2020 Oregon precinct and election results\n",
    "\n",
    "[2021 State Senate District plan](https://redistrictingdatahub.org/dataset/2021-oregon-state-senate-adopted-plan/): 2021 Oregon State Senate Approved Plan\n",
    "\n",
    "\n",
    "<!-- Commented out 2018 Election data for now\n",
    "\n",
    "[2018 election data](https://redistrictingdatahub.org/dataset/vest-2018-oregon-precinct-and-election-results/)**:**  VEST 2018 Oregon precinct and election results\n",
    "\n",
    "-->"
   ],
   "id": "3fbcbdfec4ce80d9"
  },
  {
   "metadata": {},
   "cell_type": "code",
   "outputs": [],
   "execution_count": null,
   "source": [
    "# imports\n",
    "import geopandas as gpd\n",
    "import maup\n",
    "from maup import smart_repair\n",
    "import time\n",
    "import warnings\n",
    "\n",
    "from ai_for_redistricting_final_project.utilities import load_shapefile"
   ],
   "id": "e2a0efc64bc9224d"
  },
  {
   "metadata": {},
   "cell_type": "code",
   "outputs": [],
   "execution_count": null,
   "source": [
    "maup.progress.enabled = True\n",
    "\n",
    "warnings.filterwarnings('ignore')\n",
    "\n",
    "start_time = time.time()"
   ],
   "id": "c6596b9f3ae5cb3d"
  },
  {
   "metadata": {},
   "cell_type": "markdown",
   "source": [
    "## Import and Explore the Data\n",
    "\n",
    "#### Description of the data or_pl2020_b:\n",
    "* P1. Race\n",
    "* P2. Hispanic or Latino, and Not Hispanic or Latino by Race\n",
    "* P3. Race for the Population 18 Years and Over\n",
    "* P4. Hispanic or Latino, and Not Hispanic or Latino by Race for the Population 18 Years and Over\n",
    "* P5. Group Quarters Population by Major Group Quarters Type\n",
    "* H1. Occupancy Status\n",
    "\n",
    "Taken from the [Documentation](https://www2.census.gov/programs-surveys/decennial/2020/technical-documentation/complete-tech-docs/summary-file/2020Census_PL94_171Redistricting_StatesTechDoc_English.pdf)\n",
    "\n",
    "We are using the following data:\n",
    "* P2\n",
    "* P4"
   ],
   "id": "bc7d08054367ed7c"
  },
  {
   "metadata": {},
   "cell_type": "code",
   "outputs": [],
   "execution_count": null,
   "source": [
    "# Paths to the data\n",
    "population_path = \"./or_data/or_pl2020_b/or_pl2020_p2_b.shp\"\n",
    "vap_path = \"./or_data/or_pl2020_b/or_pl2020_p4_b.shp\"\n",
    "vest20_path = \"./or_data/or_vest_20/or_vest_20.shp\"\n",
    "# vest18_path = \"./or_data/or_vest_18/or_vest_18.shp\" # currently not used\n",
    "county_path = \"./or_data/or_pl2020_cnty/or_pl2020_cnty.shp\"\n",
    "sen_path = \"./or_data/or_sldu_2021/Senate_LC_Draft_2_-_Revised_.shp\""
   ],
   "id": "fde3e633d257ef60"
  },
  {
   "metadata": {},
   "cell_type": "markdown",
   "source": [
    "### Loading data\n",
    "Loading the total population data"
   ],
   "id": "3c3e6f58b96f543c"
  },
  {
   "metadata": {},
   "cell_type": "code",
   "outputs": [],
   "execution_count": null,
   "source": "population_df = load_shapefile(population_path)",
   "id": "a33981530ee39027"
  },
  {
   "metadata": {},
   "cell_type": "markdown",
   "source": "Loading the voting age population data",
   "id": "8fb17fd2d1856402"
  },
  {
   "metadata": {},
   "cell_type": "code",
   "outputs": [],
   "execution_count": null,
   "source": "vap_df = load_shapefile(vap_path)",
   "id": "32c96f7961f45718"
  },
  {
   "metadata": {},
   "cell_type": "markdown",
   "source": "Loading the VEST 2020 election data",
   "id": "8fc305ffd07ad6bc"
  },
  {
   "metadata": {},
   "cell_type": "code",
   "outputs": [],
   "execution_count": null,
   "source": "vest20_df = load_shapefile(vest20_path)",
   "id": "5fdb0214076bf1d6"
  },
  {
   "metadata": {},
   "cell_type": "markdown",
   "source": "Loading the County data",
   "id": "63b8958558fcbb9f"
  },
  {
   "metadata": {},
   "cell_type": "code",
   "outputs": [],
   "execution_count": null,
   "source": "county_df = gpd.read_file(county_path)",
   "id": "40329f9b3bca78da"
  },
  {
   "metadata": {},
   "cell_type": "markdown",
   "source": "Loading the approved 2021 State Senate District plan",
   "id": "e0836bead4e62a9e"
  },
  {
   "metadata": {},
   "cell_type": "code",
   "outputs": [],
   "execution_count": null,
   "source": "sen_df = gpd.read_file(sen_path)",
   "id": "70a825c8c93633d"
  },
  {
   "metadata": {},
   "cell_type": "code",
   "outputs": [],
   "execution_count": null,
   "source": [
    "nr_of_districts = sen_df.shape[0]\n",
    "print(f\"Number of State Senate Seats in Oregon: {nr_of_districts}\")"
   ],
   "id": "cd2148cd36ff3c19"
  },
  {
   "metadata": {},
   "cell_type": "markdown",
   "source": [
    "## Exploring the data\n",
    "Column names of the data"
   ],
   "id": "5a53333d9c4df53c"
  },
  {
   "metadata": {},
   "cell_type": "code",
   "outputs": [],
   "execution_count": null,
   "source": [
    "print(population_df.columns)\n",
    "print(vap_df.columns)\n",
    "print(vest20_df.columns)\n",
    "print(county_df.columns)\n",
    "print(sen_df.columns)"
   ],
   "id": "ae4847a1b2589519"
  }
 ],
 "metadata": {},
 "nbformat": 5,
 "nbformat_minor": 9
}
