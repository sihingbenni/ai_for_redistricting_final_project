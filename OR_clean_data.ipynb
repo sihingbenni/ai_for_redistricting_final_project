{
 "cells": [
  {
   "metadata": {},
   "cell_type": "markdown",
   "source": [
    "# AI for Redistricting Final Project\n",
    "\n",
    "## Oregon Data Cleaning\n",
    "\n",
    "@authors: vcle, bpuhani\n",
    "\n",
    "All data retrieved in March 2025: <br>\n",
    "[2020 Population data](https://redistrictingdatahub.org/dataset/oregon-block-pl-94171-2020-by-table/): based on the decennial census at the Census Block level on 2020 Census Redistricting Data\n",
    "\n",
    "[2020 County data](https://redistrictingdatahub.org/dataset/oregon-county-pl-94171-2020/): from 2020 Census Redistricting Data (P.L. 94-171) Shapefiles\n",
    "\n",
    "[2020 election data](https://redistrictingdatahub.org/dataset/vest-2020-oregon-precinct-and-election-results/):  VEST 2020 Oregon precinct and election results\n",
    "\n",
    "[2021 State Senate District plan](https://redistrictingdatahub.org/dataset/2021-oregon-state-senate-adopted-plan/): 2021 Oregon State Senate Approved Plan\n",
    "\n",
    "\n",
    "<!-- Commented out 2018 Election data for now\n",
    "\n",
    "[2018 election data](https://redistrictingdatahub.org/dataset/vest-2018-oregon-precinct-and-election-results/)**:**  VEST 2018 Oregon precinct and election results\n",
    "\n",
    "-->"
   ],
   "id": "3fbcbdfec4ce80d9"
  },
  {
   "metadata": {
    "ExecuteTime": {
     "end_time": "2025-04-09T03:00:24.538902Z",
     "start_time": "2025-04-09T03:00:24.534838Z"
    }
   },
   "cell_type": "code",
   "source": [
    "# imports\n",
    "import geopandas as gpd\n",
    "import maup\n",
    "from maup import smart_repair\n",
    "import time\n",
    "import warnings\n",
    "import matplotlib.pyplot as plt\n",
    "\n",
    "import utilities"
   ],
   "id": "e2a0efc64bc9224d",
   "outputs": [],
   "execution_count": 44
  },
  {
   "metadata": {
    "ExecuteTime": {
     "end_time": "2025-04-09T00:56:35.440757Z",
     "start_time": "2025-04-09T00:56:35.436313Z"
    }
   },
   "cell_type": "code",
   "source": [
    "maup.progress.enabled = True\n",
    "\n",
    "warnings.filterwarnings('ignore')\n",
    "\n",
    "start_time = time.time()"
   ],
   "id": "c6596b9f3ae5cb3d",
   "outputs": [],
   "execution_count": 2
  },
  {
   "metadata": {},
   "cell_type": "code",
   "outputs": [],
   "execution_count": null,
   "source": [
    "vest20_df_repaired_0 = None\n",
    "vest20_df_repaired_1 = None\n",
    "vest20_df_repaired_2 = None\n",
    "vest20_df_repaired_3 = None"
   ],
   "id": "4df7d2e3b54f2d26"
  },
  {
   "metadata": {},
   "cell_type": "markdown",
   "source": [
    "## Import and Explore the Data\n",
    "\n",
    "#### Description of the data or_pl2020_b:\n",
    "* P1. Race\n",
    "* P2. Hispanic or Latino, and Not Hispanic or Latino by Race\n",
    "* P3. Race for the Population 18 Years and Over\n",
    "* P4. Hispanic or Latino, and Not Hispanic or Latino by Race for the Population 18 Years and Over\n",
    "* P5. Group Quarters Population by Major Group Quarters Type\n",
    "* H1. Occupancy Status\n",
    "\n",
    "Taken from the [Documentation](https://www2.census.gov/programs-surveys/decennial/2020/technical-documentation/complete-tech-docs/summary-file/2020Census_PL94_171Redistricting_StatesTechDoc_English.pdf)\n",
    "\n",
    "We are using the following data:\n",
    "* P2\n",
    "* P4"
   ],
   "id": "bc7d08054367ed7c"
  },
  {
   "metadata": {
    "ExecuteTime": {
     "end_time": "2025-04-09T00:56:35.453037Z",
     "start_time": "2025-04-09T00:56:35.448721Z"
    }
   },
   "cell_type": "code",
   "source": [
    "# Paths to the data\n",
    "population_path = \"./or_data/or_pl2020_b/or_pl2020_p2_b.shp\"\n",
    "vap_path = \"./or_data/or_pl2020_b/or_pl2020_p4_b.shp\"\n",
    "vest20_path = \"./or_data/or_vest_20/or_vest_20.shp\"\n",
    "# vest18_path = \"./or_data/or_vest_18/or_vest_18.shp\" # currently not used\n",
    "county_path = \"./or_data/or_pl2020_cnty/or_pl2020_cnty.shp\"\n",
    "sen_path = \"./or_data/or_sldu_2021/Senate_LC_Draft_2_-_Revised_.shp\""
   ],
   "id": "fde3e633d257ef60",
   "outputs": [],
   "execution_count": 3
  },
  {
   "metadata": {},
   "cell_type": "markdown",
   "source": [
    "### Loading data\n",
    "Loading the total population data"
   ],
   "id": "3c3e6f58b96f543c"
  },
  {
   "metadata": {
    "ExecuteTime": {
     "end_time": "2025-04-09T00:58:05.341230Z",
     "start_time": "2025-04-09T00:56:35.462156Z"
    }
   },
   "cell_type": "code",
   "source": "population_df = utilities.load_shapefile(population_path)",
   "id": "a33981530ee39027",
   "outputs": [
    {
     "name": "stdout",
     "output_type": "stream",
     "text": [
      "Loading shapefile from ./or_data/or_pl2020_b/or_pl2020_p2_b.shp...\n",
      "Loading shapefile...\n",
      "Shapefile data saved successfully to ./or_data/or_pl2020_b/or_pl2020_p2_b.shp.pkl.\n"
     ]
    }
   ],
   "execution_count": 4
  },
  {
   "metadata": {},
   "cell_type": "markdown",
   "source": "Loading the voting age population data",
   "id": "8fb17fd2d1856402"
  },
  {
   "metadata": {
    "ExecuteTime": {
     "end_time": "2025-04-09T00:59:36.021172Z",
     "start_time": "2025-04-09T00:58:05.578930Z"
    }
   },
   "cell_type": "code",
   "source": "vap_df = utilities.load_shapefile(vap_path)",
   "id": "32c96f7961f45718",
   "outputs": [
    {
     "name": "stdout",
     "output_type": "stream",
     "text": [
      "Loading shapefile from ./or_data/or_pl2020_b/or_pl2020_p4_b.shp...\n",
      "Loading shapefile...\n",
      "Shapefile data saved successfully to ./or_data/or_pl2020_b/or_pl2020_p4_b.shp.pkl.\n"
     ]
    }
   ],
   "execution_count": 5
  },
  {
   "metadata": {},
   "cell_type": "markdown",
   "source": "Loading the VEST 2020 election data",
   "id": "8fc305ffd07ad6bc"
  },
  {
   "metadata": {
    "ExecuteTime": {
     "end_time": "2025-04-09T00:59:38.952664Z",
     "start_time": "2025-04-09T00:59:36.069951Z"
    }
   },
   "cell_type": "code",
   "source": "vest20_df = utilities.load_shapefile(vest20_path)",
   "id": "5fdb0214076bf1d6",
   "outputs": [
    {
     "name": "stdout",
     "output_type": "stream",
     "text": [
      "Loading shapefile from ./or_data/or_vest_20/or_vest_20.shp...\n",
      "Loading shapefile...\n",
      "Shapefile data saved successfully to ./or_data/or_vest_20/or_vest_20.shp.pkl.\n"
     ]
    }
   ],
   "execution_count": 6
  },
  {
   "metadata": {},
   "cell_type": "markdown",
   "source": "Loading the County data",
   "id": "63b8958558fcbb9f"
  },
  {
   "metadata": {
    "ExecuteTime": {
     "end_time": "2025-04-09T00:59:39.229113Z",
     "start_time": "2025-04-09T00:59:38.957414Z"
    }
   },
   "cell_type": "code",
   "source": "county_df = gpd.read_file(county_path)",
   "id": "40329f9b3bca78da",
   "outputs": [],
   "execution_count": 7
  },
  {
   "metadata": {},
   "cell_type": "markdown",
   "source": "Loading the approved 2021 State Senate District plan",
   "id": "e0836bead4e62a9e"
  },
  {
   "metadata": {
    "ExecuteTime": {
     "end_time": "2025-04-09T00:59:39.745190Z",
     "start_time": "2025-04-09T00:59:39.264859Z"
    }
   },
   "cell_type": "code",
   "source": "sen_df = gpd.read_file(sen_path)",
   "id": "70a825c8c93633d",
   "outputs": [],
   "execution_count": 8
  },
  {
   "metadata": {},
   "cell_type": "markdown",
   "source": [
    "## Exploring the data\n",
    "Column names of the data"
   ],
   "id": "5a53333d9c4df53c"
  },
  {
   "metadata": {
    "ExecuteTime": {
     "end_time": "2025-04-09T00:59:39.827624Z",
     "start_time": "2025-04-09T00:59:39.821675Z"
    }
   },
   "cell_type": "code",
   "source": [
    "print(population_df.columns)\n",
    "print(vap_df.columns)\n",
    "print(vest20_df.columns)\n",
    "print(county_df.columns)\n",
    "print(sen_df.columns)"
   ],
   "id": "ae4847a1b2589519",
   "outputs": [
    {
     "name": "stdout",
     "output_type": "stream",
     "text": [
      "Index(['GEOID20', 'SUMLEV', 'LOGRECNO', 'GEOID', 'COUNTY', 'P0020001',\n",
      "       'P0020002', 'P0020003', 'P0020004', 'P0020005', 'P0020006', 'P0020007',\n",
      "       'P0020008', 'P0020009', 'P0020010', 'P0020011', 'P0020012', 'P0020013',\n",
      "       'P0020014', 'P0020015', 'P0020016', 'P0020017', 'P0020018', 'P0020019',\n",
      "       'P0020020', 'P0020021', 'P0020022', 'P0020023', 'P0020024', 'P0020025',\n",
      "       'P0020026', 'P0020027', 'P0020028', 'P0020029', 'P0020030', 'P0020031',\n",
      "       'P0020032', 'P0020033', 'P0020034', 'P0020035', 'P0020036', 'P0020037',\n",
      "       'P0020038', 'P0020039', 'P0020040', 'P0020041', 'P0020042', 'P0020043',\n",
      "       'P0020044', 'P0020045', 'P0020046', 'P0020047', 'P0020048', 'P0020049',\n",
      "       'P0020050', 'P0020051', 'P0020052', 'P0020053', 'P0020054', 'P0020055',\n",
      "       'P0020056', 'P0020057', 'P0020058', 'P0020059', 'P0020060', 'P0020061',\n",
      "       'P0020062', 'P0020063', 'P0020064', 'P0020065', 'P0020066', 'P0020067',\n",
      "       'P0020068', 'P0020069', 'P0020070', 'P0020071', 'P0020072', 'P0020073',\n",
      "       'geometry'],\n",
      "      dtype='object')\n",
      "Index(['GEOID20', 'SUMLEV', 'LOGRECNO', 'GEOID', 'COUNTY', 'P0040001',\n",
      "       'P0040002', 'P0040003', 'P0040004', 'P0040005', 'P0040006', 'P0040007',\n",
      "       'P0040008', 'P0040009', 'P0040010', 'P0040011', 'P0040012', 'P0040013',\n",
      "       'P0040014', 'P0040015', 'P0040016', 'P0040017', 'P0040018', 'P0040019',\n",
      "       'P0040020', 'P0040021', 'P0040022', 'P0040023', 'P0040024', 'P0040025',\n",
      "       'P0040026', 'P0040027', 'P0040028', 'P0040029', 'P0040030', 'P0040031',\n",
      "       'P0040032', 'P0040033', 'P0040034', 'P0040035', 'P0040036', 'P0040037',\n",
      "       'P0040038', 'P0040039', 'P0040040', 'P0040041', 'P0040042', 'P0040043',\n",
      "       'P0040044', 'P0040045', 'P0040046', 'P0040047', 'P0040048', 'P0040049',\n",
      "       'P0040050', 'P0040051', 'P0040052', 'P0040053', 'P0040054', 'P0040055',\n",
      "       'P0040056', 'P0040057', 'P0040058', 'P0040059', 'P0040060', 'P0040061',\n",
      "       'P0040062', 'P0040063', 'P0040064', 'P0040065', 'P0040066', 'P0040067',\n",
      "       'P0040068', 'P0040069', 'P0040070', 'P0040071', 'P0040072', 'P0040073',\n",
      "       'geometry'],\n",
      "      dtype='object')\n",
      "Index(['STATE', 'COUNTY', 'PRECINCT', 'NAME', 'G20PREDBID', 'G20PRERTRU',\n",
      "       'G20PRELJOR', 'G20PREGHAW', 'G20PREPHUN', 'G20PREOWRI', 'G20USSDMER',\n",
      "       'G20USSRPER', 'G20USSLDYE', 'G20USSGTAH', 'G20USSOWRI', 'G20ATGDROS',\n",
      "       'G20ATGRCRO', 'G20ATGLHED', 'G20ATGOWRI', 'G20SOSDFAG', 'G20SOSRTHA',\n",
      "       'G20SOSLMAR', 'G20SOSGPAR', 'G20SOSOWRI', 'G20TREDREA', 'G20TRERGUD',\n",
      "       'G20TREIHEN', 'G20TRECMAR', 'G20TREOWRI', 'geometry'],\n",
      "      dtype='object')\n",
      "Index(['STATEFP20', 'COUNTYFP20', 'COUNTYNS20', 'GEOID20', 'NAME20',\n",
      "       'NAMELSAD20', 'LSAD20', 'CLASSFP20', 'MTFCC20', 'CSAFP20',\n",
      "       ...\n",
      "       'P0050002', 'P0050003', 'P0050004', 'P0050005', 'P0050006', 'P0050007',\n",
      "       'P0050008', 'P0050009', 'P0050010', 'geometry'],\n",
      "      dtype='object', length=348)\n",
      "Index(['LONGNAME', 'SHORTNAME', 'DISTRICT', 'COLOR', 'TOTAL', 'TARGET_DEV',\n",
      "       'TOTALHISP', 'WHITENH', 'BLACKNH', 'AIANNH', 'ASIANNH', 'HPINH',\n",
      "       'OTHERNH', 'MLTMNNH', 'geometry'],\n",
      "      dtype='object')\n"
     ]
    }
   ],
   "execution_count": 9
  },
  {
   "metadata": {
    "ExecuteTime": {
     "end_time": "2025-04-09T00:59:39.913996Z",
     "start_time": "2025-04-09T00:59:39.908444Z"
    }
   },
   "cell_type": "code",
   "source": [
    "nr_of_districts = sen_df.shape[0]\n",
    "print(f\"Number of State Senate Seats in Oregon: {nr_of_districts}\")"
   ],
   "id": "31c8333049fdb6f9",
   "outputs": [
    {
     "name": "stdout",
     "output_type": "stream",
     "text": [
      "Number of State Senate Seats in Oregon: 30\n"
     ]
    }
   ],
   "execution_count": 10
  },
  {
   "metadata": {},
   "cell_type": "markdown",
   "source": "The list of columns in the population data we are interested in:\n",
   "id": "2d504994fdc108aa"
  },
  {
   "metadata": {
    "ExecuteTime": {
     "end_time": "2025-04-09T02:48:48.327757Z",
     "start_time": "2025-04-09T02:48:48.320097Z"
    }
   },
   "cell_type": "code",
   "source": [
    "pop_column_names = ['P0020001', 'P0020002', 'P0020005', 'P0020006', 'P0020007',\n",
    "                    'P0020008', 'P0020009', 'P0020010', 'P0020011']"
   ],
   "id": "b66574c2ae7ccdc2",
   "outputs": [],
   "execution_count": 28
  },
  {
   "metadata": {
    "ExecuteTime": {
     "end_time": "2025-04-09T02:48:49.374303Z",
     "start_time": "2025-04-09T02:48:49.369117Z"
    }
   },
   "cell_type": "code",
   "source": [
    "vap_column_names = ['P0040001', 'P0040002', 'P0040005', 'P0040006', 'P0040007',\n",
    "                    'P0040008', 'P0040009', 'P0040010', 'P0040011']"
   ],
   "id": "b0160e079ab47f97",
   "outputs": [],
   "execution_count": 29
  },
  {
   "metadata": {},
   "cell_type": "markdown",
   "source": [
    "## Cleaning the data\n",
    "1. Change all the coordinate reference systems to the same one"
   ],
   "id": "49320589a0043e7b"
  },
  {
   "metadata": {
    "ExecuteTime": {
     "end_time": "2025-04-09T00:59:51.236539Z",
     "start_time": "2025-04-09T00:59:40.067856Z"
    }
   },
   "cell_type": "code",
   "source": [
    "population_df = population_df.to_crs(population_df.estimate_utm_crs())\n",
    "vap_df = vap_df.to_crs(vap_df.estimate_utm_crs())\n",
    "county_df = county_df.to_crs(county_df.estimate_utm_crs())\n",
    "sen_df = sen_df.to_crs(sen_df.estimate_utm_crs())\n",
    "vest20_df = vest20_df.to_crs(vest20_df.estimate_utm_crs())\n",
    "# vest18_df = vest18_df.to_crs(vest18_df.estimate_utm_crs()) # currently not used"
   ],
   "id": "55d004700b63cb2d",
   "outputs": [],
   "execution_count": 11
  },
  {
   "metadata": {},
   "cell_type": "markdown",
   "source": "### Running MAUP Doctor",
   "id": "6c119c82423c61f9"
  },
  {
   "metadata": {
    "ExecuteTime": {
     "end_time": "2025-04-09T01:03:51.917517Z",
     "start_time": "2025-04-09T00:59:56.262165Z"
    }
   },
   "cell_type": "code",
   "source": [
    "try:\n",
    "    maup.doctor(population_df)\n",
    "except Exception as e:\n",
    "    print(f\"Error in MAUP Doctor for population_df: {e}\")"
   ],
   "id": "c8401239b02dcd1e",
   "outputs": [
    {
     "name": "stderr",
     "output_type": "stream",
     "text": [
      "100%|██████████| 130807/130807 [02:21<00:00, 927.48it/s] \n"
     ]
    },
    {
     "data": {
      "text/plain": [
       "True"
      ]
     },
     "execution_count": 12,
     "metadata": {},
     "output_type": "execute_result"
    }
   ],
   "execution_count": 12
  },
  {
   "metadata": {
    "ExecuteTime": {
     "end_time": "2025-04-09T01:07:45.608804Z",
     "start_time": "2025-04-09T01:03:52.026177Z"
    }
   },
   "cell_type": "code",
   "source": [
    "try:\n",
    "    maup.doctor(vap_df)\n",
    "except Exception as e:\n",
    "    print(f\"Error in MAUP Doctor for vap_df: {e}\")"
   ],
   "id": "94e82199ef96d6be",
   "outputs": [
    {
     "name": "stderr",
     "output_type": "stream",
     "text": [
      "100%|██████████| 130807/130807 [02:22<00:00, 921.03it/s] \n"
     ]
    },
    {
     "data": {
      "text/plain": [
       "True"
      ]
     },
     "execution_count": 13,
     "metadata": {},
     "output_type": "execute_result"
    }
   ],
   "execution_count": 13
  },
  {
   "metadata": {
    "ExecuteTime": {
     "end_time": "2025-04-09T01:10:42.186982Z",
     "start_time": "2025-04-09T01:10:40.922442Z"
    }
   },
   "cell_type": "code",
   "source": [
    "try:\n",
    "    maup.doctor(county_df)\n",
    "except Exception as e:\n",
    "    print(f\"Error in MAUP Doctor for county_df: {e}\")"
   ],
   "id": "9fc92046239e81fa",
   "outputs": [
    {
     "name": "stderr",
     "output_type": "stream",
     "text": [
      "100%|██████████| 36/36 [00:00<00:00, 74.35it/s]\n"
     ]
    }
   ],
   "execution_count": 14
  },
  {
   "metadata": {
    "ExecuteTime": {
     "end_time": "2025-04-09T01:10:43.977037Z",
     "start_time": "2025-04-09T01:10:42.607056Z"
    }
   },
   "cell_type": "code",
   "source": [
    "try:\n",
    "    maup.doctor(sen_df)\n",
    "except Exception as e:\n",
    "    print(f\"Error in MAUP Doctor for sen_df: {e}\")"
   ],
   "id": "6ab64d784ad28a38",
   "outputs": [
    {
     "name": "stderr",
     "output_type": "stream",
     "text": [
      "100%|██████████| 30/30 [00:00<00:00, 50.81it/s]\n"
     ]
    }
   ],
   "execution_count": 15
  },
  {
   "metadata": {
    "ExecuteTime": {
     "end_time": "2025-04-09T01:11:24.061622Z",
     "start_time": "2025-04-09T01:11:22.234939Z"
    }
   },
   "cell_type": "code",
   "source": [
    "try:\n",
    "    maup.doctor(vest20_df)\n",
    "except Exception as e:\n",
    "    print(f\"\\033[91mError in MAUP Doctor for vest20_df: {e}\\033[0m\")"
   ],
   "id": "baa867c812505a5e",
   "outputs": [
    {
     "name": "stdout",
     "output_type": "stream",
     "text": [
      "\u001B[91mError in MAUP Doctor for vest20_df: TopologyException: side location conflict at 490660.18003961764 4943064.1816223701. This can occur if the input geometry is invalid.\u001B[0m\n"
     ]
    }
   ],
   "execution_count": 17
  },
  {
   "metadata": {},
   "cell_type": "markdown",
   "source": [
    "The maup doctor failed for the 2020 election data with a TopologyException.\n",
    "It got recommended to use the `smart_repair` function with `snap_precision=8` to fix the TopologyException.\n",
    "\n",
    "### Running MAUP Smart Repair for 2020 election data\n",
    "\n",
    "first we run `smart_repair` with `snap_precision=8`, just to get rid of the TopologyException."
   ],
   "id": "e787f09935db165f"
  },
  {
   "metadata": {
    "ExecuteTime": {
     "end_time": "2025-04-09T02:38:30.327129Z",
     "start_time": "2025-04-09T01:12:04.299188Z"
    }
   },
   "cell_type": "code",
   "source": "vest20_df_repaired_0 = smart_repair(vest20_df, snap_precision=8)",
   "id": "5ddf5854c0125507",
   "outputs": [
    {
     "name": "stdout",
     "output_type": "stream",
     "text": [
      "Snapping all geometries to a grid with precision 10^( -3 ) to avoid GEOS errors.\n",
      "Identifying overlaps...\n"
     ]
    },
    {
     "name": "stderr",
     "output_type": "stream",
     "text": [
      "100%|██████████| 23006/23006 [00:13<00:00, 1757.40it/s]\n"
     ]
    },
    {
     "name": "stdout",
     "output_type": "stream",
     "text": [
      "Resolving overlaps...\n",
      "Assigning order 2 pieces...\n",
      "Assigning order 3 pieces...\n",
      "2 gaps will remain unfilled, because they either are not simply connected or exceed the area threshold.\n",
      "Filling gaps...\n"
     ]
    },
    {
     "name": "stderr",
     "output_type": "stream",
     "text": [
      "Gaps to simplify: 10491it [1:22:11,  2.13it/s]                             \n",
      "Gaps to fill: 100%|██████████| 379/379 [03:06<00:00,  2.03it/s]\n"
     ]
    }
   ],
   "execution_count": 18
  },
  {
   "metadata": {
    "ExecuteTime": {
     "end_time": "2025-04-09T02:45:42.826451Z",
     "start_time": "2025-04-09T02:45:26.816153Z"
    }
   },
   "cell_type": "code",
   "source": [
    "# check if the repaired data is valid\n",
    "try:\n",
    "    maup.doctor(vest20_df_repaired_0)\n",
    "except Exception as e:\n",
    "    print(f\"\\033[91mError in MAUP Doctor for repaired vest20_df: {e}\\033[0m\")"
   ],
   "id": "2c9e442e50d85846",
   "outputs": [
    {
     "name": "stderr",
     "output_type": "stream",
     "text": [
      "100%|██████████| 1331/1331 [00:05<00:00, 225.94it/s]\n"
     ]
    },
    {
     "name": "stdout",
     "output_type": "stream",
     "text": [
      "There are 2 holes.\n"
     ]
    }
   ],
   "execution_count": 20
  },
  {
   "metadata": {},
   "cell_type": "markdown",
   "source": "Assign the population data to the precincts using MAUP and geometry intersection.",
   "id": "4813b1cc6b3f5d4a"
  },
  {
   "metadata": {
    "ExecuteTime": {
     "end_time": "2025-04-09T02:49:54.812302Z",
     "start_time": "2025-04-09T02:48:56.374648Z"
    }
   },
   "cell_type": "code",
   "source": [
    "utilities.assign_population_data_to(\n",
    "    vest20_df_repaired_0,\n",
    "    population_df,\n",
    "    vap_df,\n",
    "    pop_column_names,\n",
    "    vap_column_names\n",
    ")"
   ],
   "id": "705802d9e46b6dd2",
   "outputs": [
    {
     "name": "stderr",
     "output_type": "stream",
     "text": [
      "100%|██████████| 1331/1331 [00:12<00:00, 105.08it/s]\n",
      "100%|██████████| 1331/1331 [00:16<00:00, 80.23it/s] \n",
      "100%|██████████| 1331/1331 [00:08<00:00, 154.99it/s]\n",
      "100%|██████████| 1331/1331 [00:15<00:00, 87.09it/s] \n"
     ]
    }
   ],
   "execution_count": 30
  },
  {
   "metadata": {},
   "cell_type": "markdown",
   "source": "Check if any people got missed by the assignment.",
   "id": "1f5512ac12f845c9"
  },
  {
   "metadata": {
    "ExecuteTime": {
     "end_time": "2025-04-09T02:54:39.147812Z",
     "start_time": "2025-04-09T02:54:39.140918Z"
    }
   },
   "cell_type": "code",
   "source": [
    "print(\"Total pop:\\t\", population_df['P0020001'].sum())\n",
    "print(\"Actual pop:\\t\", vest20_df_repaired_0['P0020001'].sum())\n",
    "print(\"Total vap:\\t\", vap_df['P0040001'].sum())\n",
    "print(\"Actual vap:\\t\", vest20_df_repaired_0['P0040001'].sum())"
   ],
   "id": "1900c63441c74a93",
   "outputs": [
    {
     "name": "stdout",
     "output_type": "stream",
     "text": [
      "Total pop:\t 4237256\n",
      "Actual pop:\t 4237224.0\n",
      "Total vap:\t 3370652\n",
      "Actual vap:\t 3370625.0\n"
     ]
    }
   ],
   "execution_count": 39
  },
  {
   "metadata": {},
   "cell_type": "markdown",
   "source": [
    "We can see that for the population `32 people` are missing<br>\n",
    "and for the voting age population `27 people` are missing."
   ],
   "id": "2edbcfcc87e19252"
  },
  {
   "metadata": {},
   "cell_type": "markdown",
   "source": [
    "## Checkpoint 0\n",
    "* 2 holes\n",
    "* rook adjacencies\n",
    "* not fitted into counties\n",
    "* missing 32 people in total population\n",
    "* missing 27 people in voting age population"
   ],
   "id": "ec2097d0570afacd"
  },
  {
   "metadata": {
    "ExecuteTime": {
     "end_time": "2025-04-09T03:01:54.821717Z",
     "start_time": "2025-04-09T03:01:54.598143Z"
    }
   },
   "cell_type": "code",
   "source": [
    "# create a checkpoint for the repaired data\n",
    "utilities.checkpoint(\"repaired_vest20_0\", vest20_df_repaired_0)"
   ],
   "id": "361ccb3cdcd315cf",
   "outputs": [
    {
     "name": "stdout",
     "output_type": "stream",
     "text": [
      "Checkpoint: repaired_vest20_0\n",
      "Saving data...\n",
      "Data saved successfully to checkpoints/repaired_vest20_0.pkl.\n"
     ]
    },
    {
     "data": {
      "text/plain": [
       "      STATE      COUNTY PRECINCT                  NAME  G20PREDBID  \\\n",
       "0        41   Multnomah     4506                  4506        2656   \n",
       "1        41   Multnomah     4409                  4409        1613   \n",
       "2        41   Multnomah     4404                  4404        8264   \n",
       "3        41   Multnomah     4502                  4502        3948   \n",
       "4        41   Multnomah     4501                  4501        9190   \n",
       "...     ...         ...      ...                   ...         ...   \n",
       "1326     41   Clackamas      201                   201        2656   \n",
       "1327     41  Washington      435                   435        2335   \n",
       "1328     41  Washington      425                   425         452   \n",
       "1329     41     Yamhill       13  Yamhill City & Rural        1091   \n",
       "1330     41     Yamhill       11           Gaston Area           0   \n",
       "\n",
       "      G20PRERTRU  G20PRELJOR  G20PREGHAW  G20PREPHUN  G20PREOWRI  ...  \\\n",
       "0            717          30          32           6          24  ...   \n",
       "1            473          24          22          11          15  ...   \n",
       "2            907         106          68          32          80  ...   \n",
       "3            482          49          32           9          27  ...   \n",
       "4            785          78          36          18          57  ...   \n",
       "...          ...         ...         ...         ...         ...  ...   \n",
       "1326        1465          84          13           2          35  ...   \n",
       "1327        1608          82          18           8          49  ...   \n",
       "1328         550          15           4           1           9  ...   \n",
       "1329        2040          58          17           5          18  ...   \n",
       "1330           1           0           0           0           0  ...   \n",
       "\n",
       "      P0020011  P0040001  P0040002  P0040005  P0040006  P0040007  P0040008  \\\n",
       "0        446.0    4734.0     403.0    2958.0     397.0      51.0     565.0   \n",
       "1        276.0    4189.0     890.0    2421.0     370.0      39.0     237.0   \n",
       "2       1511.0   15843.0    2276.0    9841.0    1317.0     123.0     993.0   \n",
       "3        427.0    5468.0     433.0    4094.0     195.0      33.0     378.0   \n",
       "4        990.0   10539.0     454.0    8825.0     207.0      28.0     444.0   \n",
       "...        ...       ...       ...       ...       ...       ...       ...   \n",
       "1326     450.0    5330.0     494.0    4105.0      65.0      21.0     372.0   \n",
       "1327     389.0    4966.0     372.0    4116.0      14.0      15.0     186.0   \n",
       "1328      96.0    1206.0      73.0    1023.0       0.0       9.0      33.0   \n",
       "1329     252.0    3599.0     187.0    3174.0       8.0      17.0      28.0   \n",
       "1330       2.0       5.0       1.0       3.0       0.0       0.0       0.0   \n",
       "\n",
       "      P0040009  P0040010  P0040011  \n",
       "0         38.0      36.0     286.0  \n",
       "1         32.0      13.0     187.0  \n",
       "2        173.0      76.0    1044.0  \n",
       "3         19.0      36.0     280.0  \n",
       "4         12.0      46.0     523.0  \n",
       "...        ...       ...       ...  \n",
       "1326      10.0      24.0     239.0  \n",
       "1327      13.0      18.0     232.0  \n",
       "1328       2.0       7.0      59.0  \n",
       "1329       1.0      15.0     169.0  \n",
       "1330       0.0       0.0       1.0  \n",
       "\n",
       "[1331 rows x 48 columns]"
      ],
      "text/html": [
       "<div>\n",
       "<style scoped>\n",
       "    .dataframe tbody tr th:only-of-type {\n",
       "        vertical-align: middle;\n",
       "    }\n",
       "\n",
       "    .dataframe tbody tr th {\n",
       "        vertical-align: top;\n",
       "    }\n",
       "\n",
       "    .dataframe thead th {\n",
       "        text-align: right;\n",
       "    }\n",
       "</style>\n",
       "<table border=\"1\" class=\"dataframe\">\n",
       "  <thead>\n",
       "    <tr style=\"text-align: right;\">\n",
       "      <th></th>\n",
       "      <th>STATE</th>\n",
       "      <th>COUNTY</th>\n",
       "      <th>PRECINCT</th>\n",
       "      <th>NAME</th>\n",
       "      <th>G20PREDBID</th>\n",
       "      <th>G20PRERTRU</th>\n",
       "      <th>G20PRELJOR</th>\n",
       "      <th>G20PREGHAW</th>\n",
       "      <th>G20PREPHUN</th>\n",
       "      <th>G20PREOWRI</th>\n",
       "      <th>...</th>\n",
       "      <th>P0020011</th>\n",
       "      <th>P0040001</th>\n",
       "      <th>P0040002</th>\n",
       "      <th>P0040005</th>\n",
       "      <th>P0040006</th>\n",
       "      <th>P0040007</th>\n",
       "      <th>P0040008</th>\n",
       "      <th>P0040009</th>\n",
       "      <th>P0040010</th>\n",
       "      <th>P0040011</th>\n",
       "    </tr>\n",
       "  </thead>\n",
       "  <tbody>\n",
       "    <tr>\n",
       "      <th>0</th>\n",
       "      <td>41</td>\n",
       "      <td>Multnomah</td>\n",
       "      <td>4506</td>\n",
       "      <td>4506</td>\n",
       "      <td>2656</td>\n",
       "      <td>717</td>\n",
       "      <td>30</td>\n",
       "      <td>32</td>\n",
       "      <td>6</td>\n",
       "      <td>24</td>\n",
       "      <td>...</td>\n",
       "      <td>446.0</td>\n",
       "      <td>4734.0</td>\n",
       "      <td>403.0</td>\n",
       "      <td>2958.0</td>\n",
       "      <td>397.0</td>\n",
       "      <td>51.0</td>\n",
       "      <td>565.0</td>\n",
       "      <td>38.0</td>\n",
       "      <td>36.0</td>\n",
       "      <td>286.0</td>\n",
       "    </tr>\n",
       "    <tr>\n",
       "      <th>1</th>\n",
       "      <td>41</td>\n",
       "      <td>Multnomah</td>\n",
       "      <td>4409</td>\n",
       "      <td>4409</td>\n",
       "      <td>1613</td>\n",
       "      <td>473</td>\n",
       "      <td>24</td>\n",
       "      <td>22</td>\n",
       "      <td>11</td>\n",
       "      <td>15</td>\n",
       "      <td>...</td>\n",
       "      <td>276.0</td>\n",
       "      <td>4189.0</td>\n",
       "      <td>890.0</td>\n",
       "      <td>2421.0</td>\n",
       "      <td>370.0</td>\n",
       "      <td>39.0</td>\n",
       "      <td>237.0</td>\n",
       "      <td>32.0</td>\n",
       "      <td>13.0</td>\n",
       "      <td>187.0</td>\n",
       "    </tr>\n",
       "    <tr>\n",
       "      <th>2</th>\n",
       "      <td>41</td>\n",
       "      <td>Multnomah</td>\n",
       "      <td>4404</td>\n",
       "      <td>4404</td>\n",
       "      <td>8264</td>\n",
       "      <td>907</td>\n",
       "      <td>106</td>\n",
       "      <td>68</td>\n",
       "      <td>32</td>\n",
       "      <td>80</td>\n",
       "      <td>...</td>\n",
       "      <td>1511.0</td>\n",
       "      <td>15843.0</td>\n",
       "      <td>2276.0</td>\n",
       "      <td>9841.0</td>\n",
       "      <td>1317.0</td>\n",
       "      <td>123.0</td>\n",
       "      <td>993.0</td>\n",
       "      <td>173.0</td>\n",
       "      <td>76.0</td>\n",
       "      <td>1044.0</td>\n",
       "    </tr>\n",
       "    <tr>\n",
       "      <th>3</th>\n",
       "      <td>41</td>\n",
       "      <td>Multnomah</td>\n",
       "      <td>4502</td>\n",
       "      <td>4502</td>\n",
       "      <td>3948</td>\n",
       "      <td>482</td>\n",
       "      <td>49</td>\n",
       "      <td>32</td>\n",
       "      <td>9</td>\n",
       "      <td>27</td>\n",
       "      <td>...</td>\n",
       "      <td>427.0</td>\n",
       "      <td>5468.0</td>\n",
       "      <td>433.0</td>\n",
       "      <td>4094.0</td>\n",
       "      <td>195.0</td>\n",
       "      <td>33.0</td>\n",
       "      <td>378.0</td>\n",
       "      <td>19.0</td>\n",
       "      <td>36.0</td>\n",
       "      <td>280.0</td>\n",
       "    </tr>\n",
       "    <tr>\n",
       "      <th>4</th>\n",
       "      <td>41</td>\n",
       "      <td>Multnomah</td>\n",
       "      <td>4501</td>\n",
       "      <td>4501</td>\n",
       "      <td>9190</td>\n",
       "      <td>785</td>\n",
       "      <td>78</td>\n",
       "      <td>36</td>\n",
       "      <td>18</td>\n",
       "      <td>57</td>\n",
       "      <td>...</td>\n",
       "      <td>990.0</td>\n",
       "      <td>10539.0</td>\n",
       "      <td>454.0</td>\n",
       "      <td>8825.0</td>\n",
       "      <td>207.0</td>\n",
       "      <td>28.0</td>\n",
       "      <td>444.0</td>\n",
       "      <td>12.0</td>\n",
       "      <td>46.0</td>\n",
       "      <td>523.0</td>\n",
       "    </tr>\n",
       "    <tr>\n",
       "      <th>...</th>\n",
       "      <td>...</td>\n",
       "      <td>...</td>\n",
       "      <td>...</td>\n",
       "      <td>...</td>\n",
       "      <td>...</td>\n",
       "      <td>...</td>\n",
       "      <td>...</td>\n",
       "      <td>...</td>\n",
       "      <td>...</td>\n",
       "      <td>...</td>\n",
       "      <td>...</td>\n",
       "      <td>...</td>\n",
       "      <td>...</td>\n",
       "      <td>...</td>\n",
       "      <td>...</td>\n",
       "      <td>...</td>\n",
       "      <td>...</td>\n",
       "      <td>...</td>\n",
       "      <td>...</td>\n",
       "      <td>...</td>\n",
       "      <td>...</td>\n",
       "    </tr>\n",
       "    <tr>\n",
       "      <th>1326</th>\n",
       "      <td>41</td>\n",
       "      <td>Clackamas</td>\n",
       "      <td>201</td>\n",
       "      <td>201</td>\n",
       "      <td>2656</td>\n",
       "      <td>1465</td>\n",
       "      <td>84</td>\n",
       "      <td>13</td>\n",
       "      <td>2</td>\n",
       "      <td>35</td>\n",
       "      <td>...</td>\n",
       "      <td>450.0</td>\n",
       "      <td>5330.0</td>\n",
       "      <td>494.0</td>\n",
       "      <td>4105.0</td>\n",
       "      <td>65.0</td>\n",
       "      <td>21.0</td>\n",
       "      <td>372.0</td>\n",
       "      <td>10.0</td>\n",
       "      <td>24.0</td>\n",
       "      <td>239.0</td>\n",
       "    </tr>\n",
       "    <tr>\n",
       "      <th>1327</th>\n",
       "      <td>41</td>\n",
       "      <td>Washington</td>\n",
       "      <td>435</td>\n",
       "      <td>435</td>\n",
       "      <td>2335</td>\n",
       "      <td>1608</td>\n",
       "      <td>82</td>\n",
       "      <td>18</td>\n",
       "      <td>8</td>\n",
       "      <td>49</td>\n",
       "      <td>...</td>\n",
       "      <td>389.0</td>\n",
       "      <td>4966.0</td>\n",
       "      <td>372.0</td>\n",
       "      <td>4116.0</td>\n",
       "      <td>14.0</td>\n",
       "      <td>15.0</td>\n",
       "      <td>186.0</td>\n",
       "      <td>13.0</td>\n",
       "      <td>18.0</td>\n",
       "      <td>232.0</td>\n",
       "    </tr>\n",
       "    <tr>\n",
       "      <th>1328</th>\n",
       "      <td>41</td>\n",
       "      <td>Washington</td>\n",
       "      <td>425</td>\n",
       "      <td>425</td>\n",
       "      <td>452</td>\n",
       "      <td>550</td>\n",
       "      <td>15</td>\n",
       "      <td>4</td>\n",
       "      <td>1</td>\n",
       "      <td>9</td>\n",
       "      <td>...</td>\n",
       "      <td>96.0</td>\n",
       "      <td>1206.0</td>\n",
       "      <td>73.0</td>\n",
       "      <td>1023.0</td>\n",
       "      <td>0.0</td>\n",
       "      <td>9.0</td>\n",
       "      <td>33.0</td>\n",
       "      <td>2.0</td>\n",
       "      <td>7.0</td>\n",
       "      <td>59.0</td>\n",
       "    </tr>\n",
       "    <tr>\n",
       "      <th>1329</th>\n",
       "      <td>41</td>\n",
       "      <td>Yamhill</td>\n",
       "      <td>13</td>\n",
       "      <td>Yamhill City &amp; Rural</td>\n",
       "      <td>1091</td>\n",
       "      <td>2040</td>\n",
       "      <td>58</td>\n",
       "      <td>17</td>\n",
       "      <td>5</td>\n",
       "      <td>18</td>\n",
       "      <td>...</td>\n",
       "      <td>252.0</td>\n",
       "      <td>3599.0</td>\n",
       "      <td>187.0</td>\n",
       "      <td>3174.0</td>\n",
       "      <td>8.0</td>\n",
       "      <td>17.0</td>\n",
       "      <td>28.0</td>\n",
       "      <td>1.0</td>\n",
       "      <td>15.0</td>\n",
       "      <td>169.0</td>\n",
       "    </tr>\n",
       "    <tr>\n",
       "      <th>1330</th>\n",
       "      <td>41</td>\n",
       "      <td>Yamhill</td>\n",
       "      <td>11</td>\n",
       "      <td>Gaston Area</td>\n",
       "      <td>0</td>\n",
       "      <td>1</td>\n",
       "      <td>0</td>\n",
       "      <td>0</td>\n",
       "      <td>0</td>\n",
       "      <td>0</td>\n",
       "      <td>...</td>\n",
       "      <td>2.0</td>\n",
       "      <td>5.0</td>\n",
       "      <td>1.0</td>\n",
       "      <td>3.0</td>\n",
       "      <td>0.0</td>\n",
       "      <td>0.0</td>\n",
       "      <td>0.0</td>\n",
       "      <td>0.0</td>\n",
       "      <td>0.0</td>\n",
       "      <td>1.0</td>\n",
       "    </tr>\n",
       "  </tbody>\n",
       "</table>\n",
       "<p>1331 rows × 48 columns</p>\n",
       "</div>"
      ]
     },
     "execution_count": 47,
     "metadata": {},
     "output_type": "execute_result"
    }
   ],
   "execution_count": 47
  },
  {
   "metadata": {},
   "cell_type": "markdown",
   "source": [
    "### Cleaning the data further\n",
    "We will use `smart_repair` with:\n",
    "* `snap_precision=10` to fix the holes and the adjacencies on a smaller grid.\n",
    "* `nest_within_regions=county_df` to fit the precincts into the counties.\n",
    "* `fill_gaps_threshold=None` to fill the gaps with the population data."
   ],
   "id": "e4b44a0b7bc950bf"
  },
  {
   "metadata": {
    "ExecuteTime": {
     "end_time": "2025-04-09T09:58:46.303424Z",
     "start_time": "2025-04-09T03:13:54.149261Z"
    }
   },
   "cell_type": "code",
   "source": [
    "vest20_df_repaired_1 = smart_repair(\n",
    "    vest20_df_repaired_0,\n",
    "    snap_precision=10,\n",
    "    nest_within_regions=county_df,\n",
    "    fill_gaps_threshold = None\n",
    ")"
   ],
   "id": "268f7a88386ac888",
   "outputs": [
    {
     "name": "stderr",
     "output_type": "stream",
     "text": [
      "100%|██████████| 36/36 [00:00<00:00, 48.22it/s]\n"
     ]
    },
    {
     "name": "stdout",
     "output_type": "stream",
     "text": [
      "Snapping all geometries to a grid with precision 10^( -5 ) to avoid GEOS errors.\n"
     ]
    },
    {
     "name": "stderr",
     "output_type": "stream",
     "text": [
      "100%|██████████| 36/36 [00:00<00:00, 332.79it/s]\n",
      "100%|██████████| 36/36 [00:00<00:00, 42.22it/s]\n"
     ]
    },
    {
     "name": "stdout",
     "output_type": "stream",
     "text": [
      "Identifying overlaps...\n"
     ]
    },
    {
     "name": "stderr",
     "output_type": "stream",
     "text": [
      "100%|██████████| 6949/6949 [00:03<00:00, 2090.94it/s]\n"
     ]
    },
    {
     "name": "stdout",
     "output_type": "stream",
     "text": [
      "Resolving overlaps and filling gaps...\n"
     ]
    },
    {
     "name": "stderr",
     "output_type": "stream",
     "text": [
      "100%|██████████| 36/36 [00:00<00:00, 264.09it/s]\n",
      "100%|██████████| 36/36 [00:00<00:00, 38.59it/s]\n",
      "Gaps to simplify in region 0: 21it [00:26,  1.28s/it]                        \n",
      "Gaps to fill in region 0: 100%|██████████| 44/44 [00:09<00:00,  4.83it/s]\n"
     ]
    },
    {
     "name": "stdout",
     "output_type": "stream",
     "text": [
      "1 gaps in region 1 will remain unfilled, because they either are not simply connected or exceed the area threshold.\n"
     ]
    },
    {
     "name": "stderr",
     "output_type": "stream",
     "text": [
      "Gaps to simplify in region 1: 100%|██████████| 96/96 [00:28<00:00,  3.41it/s]\n",
      "Gaps to fill in region 1: 100%|██████████| 26/26 [00:03<00:00,  7.80it/s]\n",
      "Gaps to simplify in region 2: 100%|██████████| 34/34 [00:06<00:00,  5.38it/s]\n",
      "Gaps to fill: 0it [00:00, ?it/s]\n",
      "Gaps to simplify in region 3: 100%|██████████| 12/12 [40:59<00:00, 205.00s/it]  \n",
      "Gaps to fill in region 3: 100%|██████████| 54/54 [01:13<00:00,  1.37s/it]\n",
      "Gaps to simplify in region 4: 100%|██████████| 123/123 [00:58<00:00,  2.11it/s]\n",
      "Gaps to fill in region 4: 100%|██████████| 56/56 [00:13<00:00,  4.17it/s]\n",
      "Gaps to simplify in region 5: 100%|██████████| 131/131 [00:42<00:00,  3.08it/s]\n",
      "Gaps to fill in region 5: 100%|██████████| 7/7 [00:03<00:00,  2.31it/s]\n",
      "Gaps to simplify in region 6: 100%|██████████| 99/99 [00:27<00:00,  3.56it/s]\n",
      "Gaps to fill in region 6: 100%|██████████| 34/34 [00:03<00:00, 10.47it/s]\n",
      "Gaps to simplify in region 7: 40it [00:40,  1.01s/it]                        \n",
      "Gaps to fill in region 7: 100%|██████████| 73/73 [00:14<00:00,  5.07it/s]\n",
      "Gaps to simplify in region 8: 100%|██████████| 189/189 [00:47<00:00,  3.98it/s]\n",
      "Gaps to fill in region 8: 100%|██████████| 23/23 [00:08<00:00,  2.84it/s]\n",
      "Gaps to simplify in region 9: 100%|██████████| 242/242 [01:08<00:00,  3.54it/s]\n",
      "Gaps to fill in region 9: 100%|██████████| 84/84 [00:22<00:00,  3.74it/s]\n",
      "Gaps to simplify in region 10: 100%|██████████| 41/41 [01:36<00:00,  2.35s/it]\n",
      "Gaps to fill in region 10: 100%|██████████| 50/50 [00:07<00:00,  6.39it/s]\n",
      "Gaps to simplify in region 11: 100%|██████████| 142/142 [1:53:38<00:00, 48.02s/it]    \n",
      "Gaps to fill in region 11: 100%|██████████| 52/52 [03:30<00:00,  4.05s/it]\n",
      "Gaps to simplify in region 12: 100%|██████████| 35/35 [00:16<00:00,  2.06it/s]\n",
      "Gaps to fill in region 12: 100%|██████████| 45/45 [00:05<00:00,  8.54it/s]\n",
      "Gaps to simplify in region 13: 100%|██████████| 73/73 [00:32<00:00,  2.24it/s]\n",
      "Gaps to fill in region 13: 100%|██████████| 22/22 [00:10<00:00,  2.06it/s]\n",
      "Gaps to simplify in region 14: 75it [00:22,  3.31it/s]                        \n",
      "Gaps to fill in region 14: 100%|██████████| 45/45 [00:20<00:00,  2.21it/s]\n",
      "Gaps to simplify in region 15: 100%|██████████| 65/65 [08:05<00:00,  7.47s/it]\n",
      "Gaps to fill in region 15: 100%|██████████| 239/239 [00:28<00:00,  8.40it/s]\n",
      "Gaps to simplify in region 16: 100%|██████████| 51/51 [00:07<00:00,  6.90it/s]\n",
      "Gaps to fill in region 16: 100%|██████████| 12/12 [00:02<00:00,  5.42it/s]\n",
      "Gaps to simplify in region 17: 100%|██████████| 405/405 [01:34<00:00,  4.27it/s]\n",
      "Gaps to fill in region 17: 100%|██████████| 60/60 [00:23<00:00,  2.60it/s]\n",
      "Gaps to simplify in region 18: 100%|██████████| 10/10 [06:16<00:00, 37.65s/it]\n",
      "Gaps to fill in region 18: 100%|██████████| 30/30 [01:06<00:00,  2.22s/it]\n",
      "Gaps to simplify in region 19: 73it [01:09,  1.05it/s]                        \n",
      "Gaps to fill in region 19: 100%|██████████| 75/75 [00:22<00:00,  3.28it/s]\n",
      "Gaps to simplify in region 20: 100%|██████████| 16/16 [00:02<00:00,  6.24it/s]\n",
      "Gaps to fill in region 20: 100%|██████████| 18/18 [00:00<00:00, 21.57it/s]\n",
      "Gaps to simplify in region 21: 100%|██████████| 39/39 [00:18<00:00,  2.11it/s]\n",
      "Gaps to fill in region 21: 100%|██████████| 33/33 [00:02<00:00, 13.97it/s]\n",
      "Gaps to simplify in region 22: 133it [00:18,  7.17it/s]                         \n",
      "Gaps to fill in region 22: 100%|██████████| 35/35 [00:07<00:00,  4.85it/s]\n",
      "Gaps to simplify in region 23: 100%|██████████| 279/279 [02:59<00:00,  1.55it/s]\n",
      "Gaps to fill in region 23: 100%|██████████| 160/160 [00:09<00:00, 17.22it/s]\n",
      "Gaps to simplify in region 24: 100%|██████████| 18/18 [00:11<00:00,  1.62it/s]\n",
      "Gaps to fill in region 24: 100%|██████████| 53/53 [00:05<00:00,  9.29it/s]\n",
      "Gaps to simplify in region 25: 377it [01:48,  3.49it/s]                         \n",
      "Gaps to fill in region 25: 100%|██████████| 167/167 [00:19<00:00,  8.67it/s]\n",
      "Gaps to simplify in region 26: 100%|██████████| 174/174 [00:42<00:00,  4.05it/s]\n",
      "Gaps to fill in region 26: 100%|██████████| 1/1 [00:00<00:00,  1.23it/s]\n",
      "Gaps to simplify in region 27: 100%|██████████| 35/35 [3:02:56<00:00, 313.62s/it]   \n",
      "Gaps to fill in region 27: 100%|██████████| 20/20 [00:05<00:00,  3.48it/s]\n",
      "Gaps to simplify in region 28: 100%|██████████| 192/192 [00:44<00:00,  4.34it/s]\n",
      "Gaps to fill in region 28: 100%|██████████| 96/96 [00:10<00:00,  8.84it/s]\n",
      "Gaps to simplify in region 29: 100%|██████████| 25/25 [02:38<00:00,  6.35s/it]\n",
      "Gaps to fill in region 29: 100%|██████████| 136/136 [00:07<00:00, 18.96it/s]\n",
      "Gaps to simplify in region 30: 100%|██████████| 53/53 [00:07<00:00,  7.27it/s]\n",
      "Gaps to fill in region 30: 100%|██████████| 19/19 [00:01<00:00, 15.33it/s]\n"
     ]
    },
    {
     "name": "stdout",
     "output_type": "stream",
     "text": [
      "1 gaps in region 31 will remain unfilled, because they either are not simply connected or exceed the area threshold.\n"
     ]
    },
    {
     "name": "stderr",
     "output_type": "stream",
     "text": [
      "Gaps to simplify in region 31: 75it [03:56,  3.16s/it]                        \n",
      "Gaps to fill in region 31: 100%|██████████| 187/187 [00:26<00:00,  6.93it/s]\n",
      "Gaps to simplify in region 32: 24it [12:56, 32.36s/it]                          \n",
      "Gaps to fill in region 32: 100%|██████████| 47/47 [00:20<00:00,  2.32it/s]\n",
      "Gaps to simplify in region 33: 100%|██████████| 150/150 [00:48<00:00,  3.07it/s]\n",
      "Gaps to fill in region 33: 100%|██████████| 120/120 [00:19<00:00,  6.06it/s]\n",
      "Gaps to simplify in region 34: 100%|██████████| 209/209 [00:40<00:00,  5.16it/s]\n",
      "Gaps to fill in region 34: 100%|██████████| 69/69 [00:07<00:00,  9.77it/s]\n",
      "Gaps to simplify in region 35: 100%|██████████| 108/108 [00:42<00:00,  2.53it/s]\n",
      "Gaps to fill in region 35: 100%|██████████| 26/26 [00:09<00:00,  2.75it/s]\n"
     ]
    }
   ],
   "execution_count": 48
  },
  {
   "metadata": {
    "ExecuteTime": {
     "end_time": "2025-04-09T09:58:58.989008Z",
     "start_time": "2025-04-09T09:58:46.487483Z"
    }
   },
   "cell_type": "code",
   "source": [
    "# check if the repaired data is valid\n",
    "try:\n",
    "    maup.doctor(vest20_df_repaired_1)\n",
    "except Exception as e:\n",
    "    print(f\"\\033[91mError in MAUP Doctor for repaired vest20_df: {e}\\033[0m\")"
   ],
   "id": "2c567d268a1cb174",
   "outputs": [
    {
     "name": "stderr",
     "output_type": "stream",
     "text": [
      "100%|██████████| 1331/1331 [00:05<00:00, 249.21it/s]\n"
     ]
    },
    {
     "name": "stdout",
     "output_type": "stream",
     "text": [
      "There are 2 holes.\n"
     ]
    }
   ],
   "execution_count": 49
  },
  {
   "metadata": {},
   "cell_type": "markdown",
   "source": "Assign the population data to the precincts (again) using MAUP and geometry intersection.",
   "id": "9b1f12d19ccf853"
  },
  {
   "metadata": {
    "ExecuteTime": {
     "end_time": "2025-04-09T09:59:52.683023Z",
     "start_time": "2025-04-09T09:58:59.007352Z"
    }
   },
   "cell_type": "code",
   "source": [
    "utilities.assign_population_data_to(\n",
    "    vest20_df_repaired_1,\n",
    "    population_df,\n",
    "    vap_df,\n",
    "    pop_column_names,\n",
    "    vap_column_names\n",
    ")"
   ],
   "id": "707c1e528790efa5",
   "outputs": [
    {
     "name": "stderr",
     "output_type": "stream",
     "text": [
      "100%|██████████| 1331/1331 [00:11<00:00, 113.61it/s]\n",
      "100%|██████████| 1331/1331 [00:15<00:00, 87.95it/s] \n",
      "100%|██████████| 1331/1331 [00:05<00:00, 226.82it/s]\n",
      "100%|██████████| 1331/1331 [00:14<00:00, 93.54it/s] \n"
     ]
    }
   ],
   "execution_count": 50
  },
  {
   "metadata": {},
   "cell_type": "markdown",
   "source": "Check if any people got missed by the assignment.",
   "id": "aac453e3d5ef38b6"
  },
  {
   "metadata": {
    "ExecuteTime": {
     "end_time": "2025-04-09T09:59:52.790954Z",
     "start_time": "2025-04-09T09:59:52.781269Z"
    }
   },
   "cell_type": "code",
   "source": [
    "print(\"Total pop:\\t\", population_df['P0020001'].sum())\n",
    "print(\"Actual pop:\\t\", vest20_df_repaired_1['P0020001'].sum())\n",
    "print(\"Total vap:\\t\", vap_df['P0040001'].sum())\n",
    "print(\"Actual vap:\\t\", vest20_df_repaired_1['P0040001'].sum())"
   ],
   "id": "fb6f1d1e320e7072",
   "outputs": [
    {
     "name": "stdout",
     "output_type": "stream",
     "text": [
      "Total pop:\t 4237256\n",
      "Actual pop:\t 4237256.0\n",
      "Total vap:\t 3370652\n",
      "Actual vap:\t 3370652.0\n"
     ]
    }
   ],
   "execution_count": 51
  },
  {
   "metadata": {},
   "cell_type": "markdown",
   "source": [
    "## Checkpoint 1\n",
    "* 2 holes\n",
    "* rook adjacencies\n",
    "* fitted into counties\n",
    "* missing 0 people in total population\n",
    "* missing 0 people in voting age population"
   ],
   "id": "a7cd4f386190d4a5"
  },
  {
   "metadata": {
    "ExecuteTime": {
     "end_time": "2025-04-09T09:59:53.059326Z",
     "start_time": "2025-04-09T09:59:52.886970Z"
    }
   },
   "cell_type": "code",
   "source": [
    "# create a checkpoint for the repaired data\n",
    "utilities.checkpoint(\"repaired_vest20_1\", vest20_df_repaired_1)"
   ],
   "id": "7ea941cd6ef3913b",
   "outputs": [
    {
     "name": "stdout",
     "output_type": "stream",
     "text": [
      "Checkpoint: repaired_vest20_1\n",
      "Saving data...\n",
      "Data saved successfully to checkpoints/repaired_vest20_1.pkl.\n"
     ]
    },
    {
     "data": {
      "text/plain": [
       "      STATE      COUNTY PRECINCT                  NAME  G20PREDBID  \\\n",
       "0        41   Multnomah     4506                  4506        2656   \n",
       "1        41   Multnomah     4409                  4409        1613   \n",
       "2        41   Multnomah     4404                  4404        8264   \n",
       "3        41   Multnomah     4502                  4502        3948   \n",
       "4        41   Multnomah     4501                  4501        9190   \n",
       "...     ...         ...      ...                   ...         ...   \n",
       "1326     41   Clackamas      201                   201        2656   \n",
       "1327     41  Washington      435                   435        2335   \n",
       "1328     41  Washington      425                   425         452   \n",
       "1329     41     Yamhill       13  Yamhill City & Rural        1091   \n",
       "1330     41     Yamhill       11           Gaston Area           0   \n",
       "\n",
       "      G20PRERTRU  G20PRELJOR  G20PREGHAW  G20PREPHUN  G20PREOWRI  ...  \\\n",
       "0            717          30          32           6          24  ...   \n",
       "1            473          24          22          11          15  ...   \n",
       "2            907         106          68          32          80  ...   \n",
       "3            482          49          32           9          27  ...   \n",
       "4            785          78          36          18          57  ...   \n",
       "...          ...         ...         ...         ...         ...  ...   \n",
       "1326        1465          84          13           2          35  ...   \n",
       "1327        1608          82          18           8          49  ...   \n",
       "1328         550          15           4           1           9  ...   \n",
       "1329        2040          58          17           5          18  ...   \n",
       "1330           1           0           0           0           0  ...   \n",
       "\n",
       "      P0020011  P0040001  P0040002  P0040005  P0040006  P0040007  P0040008  \\\n",
       "0        446.0    4734.0     403.0    2958.0     397.0      51.0     565.0   \n",
       "1        276.0    4189.0     890.0    2421.0     370.0      39.0     237.0   \n",
       "2       1511.0   15843.0    2276.0    9841.0    1317.0     123.0     993.0   \n",
       "3        427.0    5468.0     433.0    4094.0     195.0      33.0     378.0   \n",
       "4        990.0   10539.0     454.0    8825.0     207.0      28.0     444.0   \n",
       "...        ...       ...       ...       ...       ...       ...       ...   \n",
       "1326     450.0    5330.0     494.0    4105.0      65.0      21.0     372.0   \n",
       "1327     389.0    4966.0     372.0    4116.0      14.0      15.0     186.0   \n",
       "1328      96.0    1206.0      73.0    1023.0       0.0       9.0      33.0   \n",
       "1329     252.0    3599.0     187.0    3174.0       8.0      17.0      28.0   \n",
       "1330       2.0       5.0       1.0       3.0       0.0       0.0       0.0   \n",
       "\n",
       "      P0040009  P0040010  P0040011  \n",
       "0         38.0      36.0     286.0  \n",
       "1         32.0      13.0     187.0  \n",
       "2        173.0      76.0    1044.0  \n",
       "3         19.0      36.0     280.0  \n",
       "4         12.0      46.0     523.0  \n",
       "...        ...       ...       ...  \n",
       "1326      10.0      24.0     239.0  \n",
       "1327      13.0      18.0     232.0  \n",
       "1328       2.0       7.0      59.0  \n",
       "1329       1.0      15.0     169.0  \n",
       "1330       0.0       0.0       1.0  \n",
       "\n",
       "[1331 rows x 48 columns]"
      ],
      "text/html": [
       "<div>\n",
       "<style scoped>\n",
       "    .dataframe tbody tr th:only-of-type {\n",
       "        vertical-align: middle;\n",
       "    }\n",
       "\n",
       "    .dataframe tbody tr th {\n",
       "        vertical-align: top;\n",
       "    }\n",
       "\n",
       "    .dataframe thead th {\n",
       "        text-align: right;\n",
       "    }\n",
       "</style>\n",
       "<table border=\"1\" class=\"dataframe\">\n",
       "  <thead>\n",
       "    <tr style=\"text-align: right;\">\n",
       "      <th></th>\n",
       "      <th>STATE</th>\n",
       "      <th>COUNTY</th>\n",
       "      <th>PRECINCT</th>\n",
       "      <th>NAME</th>\n",
       "      <th>G20PREDBID</th>\n",
       "      <th>G20PRERTRU</th>\n",
       "      <th>G20PRELJOR</th>\n",
       "      <th>G20PREGHAW</th>\n",
       "      <th>G20PREPHUN</th>\n",
       "      <th>G20PREOWRI</th>\n",
       "      <th>...</th>\n",
       "      <th>P0020011</th>\n",
       "      <th>P0040001</th>\n",
       "      <th>P0040002</th>\n",
       "      <th>P0040005</th>\n",
       "      <th>P0040006</th>\n",
       "      <th>P0040007</th>\n",
       "      <th>P0040008</th>\n",
       "      <th>P0040009</th>\n",
       "      <th>P0040010</th>\n",
       "      <th>P0040011</th>\n",
       "    </tr>\n",
       "  </thead>\n",
       "  <tbody>\n",
       "    <tr>\n",
       "      <th>0</th>\n",
       "      <td>41</td>\n",
       "      <td>Multnomah</td>\n",
       "      <td>4506</td>\n",
       "      <td>4506</td>\n",
       "      <td>2656</td>\n",
       "      <td>717</td>\n",
       "      <td>30</td>\n",
       "      <td>32</td>\n",
       "      <td>6</td>\n",
       "      <td>24</td>\n",
       "      <td>...</td>\n",
       "      <td>446.0</td>\n",
       "      <td>4734.0</td>\n",
       "      <td>403.0</td>\n",
       "      <td>2958.0</td>\n",
       "      <td>397.0</td>\n",
       "      <td>51.0</td>\n",
       "      <td>565.0</td>\n",
       "      <td>38.0</td>\n",
       "      <td>36.0</td>\n",
       "      <td>286.0</td>\n",
       "    </tr>\n",
       "    <tr>\n",
       "      <th>1</th>\n",
       "      <td>41</td>\n",
       "      <td>Multnomah</td>\n",
       "      <td>4409</td>\n",
       "      <td>4409</td>\n",
       "      <td>1613</td>\n",
       "      <td>473</td>\n",
       "      <td>24</td>\n",
       "      <td>22</td>\n",
       "      <td>11</td>\n",
       "      <td>15</td>\n",
       "      <td>...</td>\n",
       "      <td>276.0</td>\n",
       "      <td>4189.0</td>\n",
       "      <td>890.0</td>\n",
       "      <td>2421.0</td>\n",
       "      <td>370.0</td>\n",
       "      <td>39.0</td>\n",
       "      <td>237.0</td>\n",
       "      <td>32.0</td>\n",
       "      <td>13.0</td>\n",
       "      <td>187.0</td>\n",
       "    </tr>\n",
       "    <tr>\n",
       "      <th>2</th>\n",
       "      <td>41</td>\n",
       "      <td>Multnomah</td>\n",
       "      <td>4404</td>\n",
       "      <td>4404</td>\n",
       "      <td>8264</td>\n",
       "      <td>907</td>\n",
       "      <td>106</td>\n",
       "      <td>68</td>\n",
       "      <td>32</td>\n",
       "      <td>80</td>\n",
       "      <td>...</td>\n",
       "      <td>1511.0</td>\n",
       "      <td>15843.0</td>\n",
       "      <td>2276.0</td>\n",
       "      <td>9841.0</td>\n",
       "      <td>1317.0</td>\n",
       "      <td>123.0</td>\n",
       "      <td>993.0</td>\n",
       "      <td>173.0</td>\n",
       "      <td>76.0</td>\n",
       "      <td>1044.0</td>\n",
       "    </tr>\n",
       "    <tr>\n",
       "      <th>3</th>\n",
       "      <td>41</td>\n",
       "      <td>Multnomah</td>\n",
       "      <td>4502</td>\n",
       "      <td>4502</td>\n",
       "      <td>3948</td>\n",
       "      <td>482</td>\n",
       "      <td>49</td>\n",
       "      <td>32</td>\n",
       "      <td>9</td>\n",
       "      <td>27</td>\n",
       "      <td>...</td>\n",
       "      <td>427.0</td>\n",
       "      <td>5468.0</td>\n",
       "      <td>433.0</td>\n",
       "      <td>4094.0</td>\n",
       "      <td>195.0</td>\n",
       "      <td>33.0</td>\n",
       "      <td>378.0</td>\n",
       "      <td>19.0</td>\n",
       "      <td>36.0</td>\n",
       "      <td>280.0</td>\n",
       "    </tr>\n",
       "    <tr>\n",
       "      <th>4</th>\n",
       "      <td>41</td>\n",
       "      <td>Multnomah</td>\n",
       "      <td>4501</td>\n",
       "      <td>4501</td>\n",
       "      <td>9190</td>\n",
       "      <td>785</td>\n",
       "      <td>78</td>\n",
       "      <td>36</td>\n",
       "      <td>18</td>\n",
       "      <td>57</td>\n",
       "      <td>...</td>\n",
       "      <td>990.0</td>\n",
       "      <td>10539.0</td>\n",
       "      <td>454.0</td>\n",
       "      <td>8825.0</td>\n",
       "      <td>207.0</td>\n",
       "      <td>28.0</td>\n",
       "      <td>444.0</td>\n",
       "      <td>12.0</td>\n",
       "      <td>46.0</td>\n",
       "      <td>523.0</td>\n",
       "    </tr>\n",
       "    <tr>\n",
       "      <th>...</th>\n",
       "      <td>...</td>\n",
       "      <td>...</td>\n",
       "      <td>...</td>\n",
       "      <td>...</td>\n",
       "      <td>...</td>\n",
       "      <td>...</td>\n",
       "      <td>...</td>\n",
       "      <td>...</td>\n",
       "      <td>...</td>\n",
       "      <td>...</td>\n",
       "      <td>...</td>\n",
       "      <td>...</td>\n",
       "      <td>...</td>\n",
       "      <td>...</td>\n",
       "      <td>...</td>\n",
       "      <td>...</td>\n",
       "      <td>...</td>\n",
       "      <td>...</td>\n",
       "      <td>...</td>\n",
       "      <td>...</td>\n",
       "      <td>...</td>\n",
       "    </tr>\n",
       "    <tr>\n",
       "      <th>1326</th>\n",
       "      <td>41</td>\n",
       "      <td>Clackamas</td>\n",
       "      <td>201</td>\n",
       "      <td>201</td>\n",
       "      <td>2656</td>\n",
       "      <td>1465</td>\n",
       "      <td>84</td>\n",
       "      <td>13</td>\n",
       "      <td>2</td>\n",
       "      <td>35</td>\n",
       "      <td>...</td>\n",
       "      <td>450.0</td>\n",
       "      <td>5330.0</td>\n",
       "      <td>494.0</td>\n",
       "      <td>4105.0</td>\n",
       "      <td>65.0</td>\n",
       "      <td>21.0</td>\n",
       "      <td>372.0</td>\n",
       "      <td>10.0</td>\n",
       "      <td>24.0</td>\n",
       "      <td>239.0</td>\n",
       "    </tr>\n",
       "    <tr>\n",
       "      <th>1327</th>\n",
       "      <td>41</td>\n",
       "      <td>Washington</td>\n",
       "      <td>435</td>\n",
       "      <td>435</td>\n",
       "      <td>2335</td>\n",
       "      <td>1608</td>\n",
       "      <td>82</td>\n",
       "      <td>18</td>\n",
       "      <td>8</td>\n",
       "      <td>49</td>\n",
       "      <td>...</td>\n",
       "      <td>389.0</td>\n",
       "      <td>4966.0</td>\n",
       "      <td>372.0</td>\n",
       "      <td>4116.0</td>\n",
       "      <td>14.0</td>\n",
       "      <td>15.0</td>\n",
       "      <td>186.0</td>\n",
       "      <td>13.0</td>\n",
       "      <td>18.0</td>\n",
       "      <td>232.0</td>\n",
       "    </tr>\n",
       "    <tr>\n",
       "      <th>1328</th>\n",
       "      <td>41</td>\n",
       "      <td>Washington</td>\n",
       "      <td>425</td>\n",
       "      <td>425</td>\n",
       "      <td>452</td>\n",
       "      <td>550</td>\n",
       "      <td>15</td>\n",
       "      <td>4</td>\n",
       "      <td>1</td>\n",
       "      <td>9</td>\n",
       "      <td>...</td>\n",
       "      <td>96.0</td>\n",
       "      <td>1206.0</td>\n",
       "      <td>73.0</td>\n",
       "      <td>1023.0</td>\n",
       "      <td>0.0</td>\n",
       "      <td>9.0</td>\n",
       "      <td>33.0</td>\n",
       "      <td>2.0</td>\n",
       "      <td>7.0</td>\n",
       "      <td>59.0</td>\n",
       "    </tr>\n",
       "    <tr>\n",
       "      <th>1329</th>\n",
       "      <td>41</td>\n",
       "      <td>Yamhill</td>\n",
       "      <td>13</td>\n",
       "      <td>Yamhill City &amp; Rural</td>\n",
       "      <td>1091</td>\n",
       "      <td>2040</td>\n",
       "      <td>58</td>\n",
       "      <td>17</td>\n",
       "      <td>5</td>\n",
       "      <td>18</td>\n",
       "      <td>...</td>\n",
       "      <td>252.0</td>\n",
       "      <td>3599.0</td>\n",
       "      <td>187.0</td>\n",
       "      <td>3174.0</td>\n",
       "      <td>8.0</td>\n",
       "      <td>17.0</td>\n",
       "      <td>28.0</td>\n",
       "      <td>1.0</td>\n",
       "      <td>15.0</td>\n",
       "      <td>169.0</td>\n",
       "    </tr>\n",
       "    <tr>\n",
       "      <th>1330</th>\n",
       "      <td>41</td>\n",
       "      <td>Yamhill</td>\n",
       "      <td>11</td>\n",
       "      <td>Gaston Area</td>\n",
       "      <td>0</td>\n",
       "      <td>1</td>\n",
       "      <td>0</td>\n",
       "      <td>0</td>\n",
       "      <td>0</td>\n",
       "      <td>0</td>\n",
       "      <td>...</td>\n",
       "      <td>2.0</td>\n",
       "      <td>5.0</td>\n",
       "      <td>1.0</td>\n",
       "      <td>3.0</td>\n",
       "      <td>0.0</td>\n",
       "      <td>0.0</td>\n",
       "      <td>0.0</td>\n",
       "      <td>0.0</td>\n",
       "      <td>0.0</td>\n",
       "      <td>1.0</td>\n",
       "    </tr>\n",
       "  </tbody>\n",
       "</table>\n",
       "<p>1331 rows × 48 columns</p>\n",
       "</div>"
      ]
     },
     "execution_count": 52,
     "metadata": {},
     "output_type": "execute_result"
    }
   ],
   "execution_count": 52
  },
  {
   "metadata": {},
   "cell_type": "markdown",
   "source": [
    "### Cleaning the data even further\n",
    "We will use `smart_repair` with:\n",
    "* `min_rook_length=30` to remove the rook adjacencies."
   ],
   "id": "beae43ffd7db15a5"
  },
  {
   "metadata": {
    "ExecuteTime": {
     "end_time": "2025-04-09T16:31:22.567562Z",
     "start_time": "2025-04-09T16:30:54.539107Z"
    }
   },
   "cell_type": "code",
   "source": [
    "vest20_df_repaired_2 = smart_repair(\n",
    "    vest20_df_repaired_1,\n",
    "    min_rook_length = 30\n",
    ")"
   ],
   "id": "5e1ca57aa4be3e99",
   "outputs": [
    {
     "name": "stdout",
     "output_type": "stream",
     "text": [
      "Snapping all geometries to a grid with precision 10^( -5 ) to avoid GEOS errors.\n",
      "Identifying overlaps...\n"
     ]
    },
    {
     "name": "stderr",
     "output_type": "stream",
     "text": [
      "100%|██████████| 2683/2683 [00:01<00:00, 2477.47it/s]\n"
     ]
    },
    {
     "name": "stdout",
     "output_type": "stream",
     "text": [
      "Resolving overlaps...\n",
      "2 gaps will remain unfilled, because they either are not simply connected or exceed the area threshold.\n",
      "Filling gaps...\n"
     ]
    },
    {
     "name": "stderr",
     "output_type": "stream",
     "text": [
      "Gaps to simplify: 0it [00:00, ?it/s]\n",
      "Gaps to fill: 0it [00:00, ?it/s]\n"
     ]
    },
    {
     "name": "stdout",
     "output_type": "stream",
     "text": [
      "Converting small rook adjacencies to queen...\n"
     ]
    },
    {
     "name": "stderr",
     "output_type": "stream",
     "text": [
      "100%|██████████| 1331/1331 [00:03<00:00, 362.15it/s]\n",
      "100%|██████████| 6/6 [00:00<00:00, 1054.02it/s]\n",
      "100%|██████████| 4/4 [00:00<00:00, 1002.70it/s]\n",
      "100%|██████████| 6/6 [00:00<00:00, 1156.52it/s]\n",
      "100%|██████████| 6/6 [00:00<00:00, 784.72it/s]\n",
      "100%|██████████| 5/5 [00:00<00:00, 726.39it/s]\n",
      "100%|██████████| 6/6 [00:00<00:00, 790.73it/s]\n",
      "100%|██████████| 5/5 [00:00<00:00, 1073.92it/s]\n",
      "100%|██████████| 4/4 [00:00<00:00, 1058.23it/s]\n",
      "100%|██████████| 5/5 [00:00<00:00, 1061.74it/s]\n",
      "100%|██████████| 4/4 [00:00<00:00, 1012.57it/s]\n",
      "100%|██████████| 5/5 [00:00<00:00, 819.65it/s]\n",
      "100%|██████████| 4/4 [00:00<00:00, 643.52it/s]\n",
      "100%|██████████| 5/5 [00:00<00:00, 759.56it/s]\n",
      "100%|██████████| 4/4 [00:00<00:00, 846.22it/s]\n",
      "100%|██████████| 5/5 [00:00<00:00, 1222.47it/s]\n",
      "100%|██████████| 4/4 [00:00<00:00, 1021.69it/s]\n",
      "100%|██████████| 4/4 [00:00<00:00, 1103.76it/s]\n",
      "100%|██████████| 5/5 [00:00<00:00, 768.50it/s]\n",
      "100%|██████████| 5/5 [00:00<00:00, 689.56it/s]\n",
      "100%|██████████| 4/4 [00:00<00:00, 895.88it/s]\n",
      "100%|██████████| 4/4 [00:00<00:00, 1100.07it/s]\n",
      "100%|██████████| 5/5 [00:00<00:00, 1056.61it/s]\n",
      "100%|██████████| 5/5 [00:00<00:00, 1140.44it/s]\n",
      "100%|██████████| 3/3 [00:00<00:00, 695.50it/s]\n",
      "100%|██████████| 4/4 [00:00<00:00, 1031.68it/s]\n",
      "100%|██████████| 5/5 [00:00<00:00, 1170.94it/s]\n",
      "100%|██████████| 3/3 [00:00<00:00, 765.76it/s]\n",
      "100%|██████████| 6/6 [00:00<00:00, 928.94it/s]\n",
      "100%|██████████| 6/6 [00:00<00:00, 1099.62it/s]\n",
      "100%|██████████| 5/5 [00:00<00:00, 1056.13it/s]\n",
      "100%|██████████| 5/5 [00:00<00:00, 1170.42it/s]\n",
      "100%|██████████| 4/4 [00:00<00:00, 954.72it/s]\n",
      "100%|██████████| 5/5 [00:00<00:00, 1120.21it/s]\n",
      "100%|██████████| 4/4 [00:00<00:00, 984.06it/s]\n",
      "100%|██████████| 6/6 [00:00<00:00, 1227.54it/s]\n",
      "100%|██████████| 3/3 [00:00<00:00, 585.85it/s]\n",
      "100%|██████████| 4/4 [00:00<00:00, 1104.64it/s]\n",
      "100%|██████████| 5/5 [00:00<00:00, 1212.86it/s]\n",
      "100%|██████████| 4/4 [00:00<00:00, 1118.41it/s]\n",
      "100%|██████████| 5/5 [00:00<00:00, 1161.86it/s]\n",
      "100%|██████████| 4/4 [00:00<00:00, 1221.76it/s]\n",
      "100%|██████████| 4/4 [00:00<00:00, 1000.55it/s]\n",
      "100%|██████████| 5/5 [00:00<00:00, 1144.36it/s]\n",
      "100%|██████████| 5/5 [00:00<00:00, 1322.62it/s]\n",
      "100%|██████████| 8/8 [00:00<00:00, 1295.89it/s]\n",
      "100%|██████████| 4/4 [00:00<00:00, 1034.10it/s]\n",
      "100%|██████████| 4/4 [00:00<00:00, 940.37it/s]\n",
      "100%|██████████| 4/4 [00:00<00:00, 1172.17it/s]\n",
      "100%|██████████| 5/5 [00:00<00:00, 1200.84it/s]\n",
      "100%|██████████| 8/8 [00:00<00:00, 1210.87it/s]\n",
      "100%|██████████| 5/5 [00:00<00:00, 1331.44it/s]\n",
      "100%|██████████| 4/4 [00:00<00:00, 1226.76it/s]\n",
      "100%|██████████| 5/5 [00:00<00:00, 1069.87it/s]\n",
      "100%|██████████| 5/5 [00:00<00:00, 917.27it/s]\n",
      "100%|██████████| 5/5 [00:00<00:00, 620.18it/s]\n",
      "100%|██████████| 8/8 [00:00<00:00, 1182.79it/s]\n",
      "100%|██████████| 6/6 [00:00<00:00, 1249.73it/s]\n",
      "100%|██████████| 7/7 [00:00<00:00, 1247.19it/s]\n",
      "100%|██████████| 4/4 [00:00<00:00, 994.03it/s]\n",
      "100%|██████████| 4/4 [00:00<00:00, 1024.25it/s]\n",
      "100%|██████████| 4/4 [00:00<00:00, 886.98it/s]\n",
      "100%|██████████| 4/4 [00:00<00:00, 1147.24it/s]\n",
      "100%|██████████| 4/4 [00:00<00:00, 887.17it/s]\n",
      "100%|██████████| 5/5 [00:00<00:00, 1199.81it/s]\n",
      "100%|██████████| 5/5 [00:00<00:00, 820.67it/s]\n"
     ]
    }
   ],
   "execution_count": 53
  },
  {
   "metadata": {},
   "cell_type": "markdown",
   "source": [
    "## Checkpoint 2\n",
    "* 2 holes\n",
    "* queen adjacencies\n",
    "* fitted into counties\n",
    "* missing 0 people in total population\n",
    "* missing 0 people in voting age population"
   ],
   "id": "dc27c239fe1e6dd"
  },
  {
   "metadata": {
    "ExecuteTime": {
     "end_time": "2025-04-09T16:44:23.009861Z",
     "start_time": "2025-04-09T16:44:22.809589Z"
    }
   },
   "cell_type": "code",
   "source": [
    "# create a checkpoint for the repaired data\n",
    "utilities.checkpoint(\"repaired_vest20_2\", vest20_df_repaired_2)"
   ],
   "id": "e61253bbe0dbe9d8",
   "outputs": [
    {
     "name": "stdout",
     "output_type": "stream",
     "text": [
      "Checkpoint: repaired_vest20_2\n",
      "Saving data...\n",
      "Data saved successfully to checkpoints/repaired_vest20_2.pkl.\n"
     ]
    },
    {
     "data": {
      "text/plain": [
       "      STATE      COUNTY PRECINCT                  NAME  G20PREDBID  \\\n",
       "0        41   Multnomah     4506                  4506        2656   \n",
       "1        41   Multnomah     4409                  4409        1613   \n",
       "2        41   Multnomah     4404                  4404        8264   \n",
       "3        41   Multnomah     4502                  4502        3948   \n",
       "4        41   Multnomah     4501                  4501        9190   \n",
       "...     ...         ...      ...                   ...         ...   \n",
       "1326     41   Clackamas      201                   201        2656   \n",
       "1327     41  Washington      435                   435        2335   \n",
       "1328     41  Washington      425                   425         452   \n",
       "1329     41     Yamhill       13  Yamhill City & Rural        1091   \n",
       "1330     41     Yamhill       11           Gaston Area           0   \n",
       "\n",
       "      G20PRERTRU  G20PRELJOR  G20PREGHAW  G20PREPHUN  G20PREOWRI  ...  \\\n",
       "0            717          30          32           6          24  ...   \n",
       "1            473          24          22          11          15  ...   \n",
       "2            907         106          68          32          80  ...   \n",
       "3            482          49          32           9          27  ...   \n",
       "4            785          78          36          18          57  ...   \n",
       "...          ...         ...         ...         ...         ...  ...   \n",
       "1326        1465          84          13           2          35  ...   \n",
       "1327        1608          82          18           8          49  ...   \n",
       "1328         550          15           4           1           9  ...   \n",
       "1329        2040          58          17           5          18  ...   \n",
       "1330           1           0           0           0           0  ...   \n",
       "\n",
       "      P0020011  P0040001  P0040002  P0040005  P0040006  P0040007  P0040008  \\\n",
       "0        446.0    4734.0     403.0    2958.0     397.0      51.0     565.0   \n",
       "1        276.0    4189.0     890.0    2421.0     370.0      39.0     237.0   \n",
       "2       1511.0   15843.0    2276.0    9841.0    1317.0     123.0     993.0   \n",
       "3        427.0    5468.0     433.0    4094.0     195.0      33.0     378.0   \n",
       "4        990.0   10539.0     454.0    8825.0     207.0      28.0     444.0   \n",
       "...        ...       ...       ...       ...       ...       ...       ...   \n",
       "1326     450.0    5330.0     494.0    4105.0      65.0      21.0     372.0   \n",
       "1327     389.0    4966.0     372.0    4116.0      14.0      15.0     186.0   \n",
       "1328      96.0    1206.0      73.0    1023.0       0.0       9.0      33.0   \n",
       "1329     252.0    3599.0     187.0    3174.0       8.0      17.0      28.0   \n",
       "1330       2.0       5.0       1.0       3.0       0.0       0.0       0.0   \n",
       "\n",
       "      P0040009  P0040010  P0040011  \n",
       "0         38.0      36.0     286.0  \n",
       "1         32.0      13.0     187.0  \n",
       "2        173.0      76.0    1044.0  \n",
       "3         19.0      36.0     280.0  \n",
       "4         12.0      46.0     523.0  \n",
       "...        ...       ...       ...  \n",
       "1326      10.0      24.0     239.0  \n",
       "1327      13.0      18.0     232.0  \n",
       "1328       2.0       7.0      59.0  \n",
       "1329       1.0      15.0     169.0  \n",
       "1330       0.0       0.0       1.0  \n",
       "\n",
       "[1331 rows x 48 columns]"
      ],
      "text/html": [
       "<div>\n",
       "<style scoped>\n",
       "    .dataframe tbody tr th:only-of-type {\n",
       "        vertical-align: middle;\n",
       "    }\n",
       "\n",
       "    .dataframe tbody tr th {\n",
       "        vertical-align: top;\n",
       "    }\n",
       "\n",
       "    .dataframe thead th {\n",
       "        text-align: right;\n",
       "    }\n",
       "</style>\n",
       "<table border=\"1\" class=\"dataframe\">\n",
       "  <thead>\n",
       "    <tr style=\"text-align: right;\">\n",
       "      <th></th>\n",
       "      <th>STATE</th>\n",
       "      <th>COUNTY</th>\n",
       "      <th>PRECINCT</th>\n",
       "      <th>NAME</th>\n",
       "      <th>G20PREDBID</th>\n",
       "      <th>G20PRERTRU</th>\n",
       "      <th>G20PRELJOR</th>\n",
       "      <th>G20PREGHAW</th>\n",
       "      <th>G20PREPHUN</th>\n",
       "      <th>G20PREOWRI</th>\n",
       "      <th>...</th>\n",
       "      <th>P0020011</th>\n",
       "      <th>P0040001</th>\n",
       "      <th>P0040002</th>\n",
       "      <th>P0040005</th>\n",
       "      <th>P0040006</th>\n",
       "      <th>P0040007</th>\n",
       "      <th>P0040008</th>\n",
       "      <th>P0040009</th>\n",
       "      <th>P0040010</th>\n",
       "      <th>P0040011</th>\n",
       "    </tr>\n",
       "  </thead>\n",
       "  <tbody>\n",
       "    <tr>\n",
       "      <th>0</th>\n",
       "      <td>41</td>\n",
       "      <td>Multnomah</td>\n",
       "      <td>4506</td>\n",
       "      <td>4506</td>\n",
       "      <td>2656</td>\n",
       "      <td>717</td>\n",
       "      <td>30</td>\n",
       "      <td>32</td>\n",
       "      <td>6</td>\n",
       "      <td>24</td>\n",
       "      <td>...</td>\n",
       "      <td>446.0</td>\n",
       "      <td>4734.0</td>\n",
       "      <td>403.0</td>\n",
       "      <td>2958.0</td>\n",
       "      <td>397.0</td>\n",
       "      <td>51.0</td>\n",
       "      <td>565.0</td>\n",
       "      <td>38.0</td>\n",
       "      <td>36.0</td>\n",
       "      <td>286.0</td>\n",
       "    </tr>\n",
       "    <tr>\n",
       "      <th>1</th>\n",
       "      <td>41</td>\n",
       "      <td>Multnomah</td>\n",
       "      <td>4409</td>\n",
       "      <td>4409</td>\n",
       "      <td>1613</td>\n",
       "      <td>473</td>\n",
       "      <td>24</td>\n",
       "      <td>22</td>\n",
       "      <td>11</td>\n",
       "      <td>15</td>\n",
       "      <td>...</td>\n",
       "      <td>276.0</td>\n",
       "      <td>4189.0</td>\n",
       "      <td>890.0</td>\n",
       "      <td>2421.0</td>\n",
       "      <td>370.0</td>\n",
       "      <td>39.0</td>\n",
       "      <td>237.0</td>\n",
       "      <td>32.0</td>\n",
       "      <td>13.0</td>\n",
       "      <td>187.0</td>\n",
       "    </tr>\n",
       "    <tr>\n",
       "      <th>2</th>\n",
       "      <td>41</td>\n",
       "      <td>Multnomah</td>\n",
       "      <td>4404</td>\n",
       "      <td>4404</td>\n",
       "      <td>8264</td>\n",
       "      <td>907</td>\n",
       "      <td>106</td>\n",
       "      <td>68</td>\n",
       "      <td>32</td>\n",
       "      <td>80</td>\n",
       "      <td>...</td>\n",
       "      <td>1511.0</td>\n",
       "      <td>15843.0</td>\n",
       "      <td>2276.0</td>\n",
       "      <td>9841.0</td>\n",
       "      <td>1317.0</td>\n",
       "      <td>123.0</td>\n",
       "      <td>993.0</td>\n",
       "      <td>173.0</td>\n",
       "      <td>76.0</td>\n",
       "      <td>1044.0</td>\n",
       "    </tr>\n",
       "    <tr>\n",
       "      <th>3</th>\n",
       "      <td>41</td>\n",
       "      <td>Multnomah</td>\n",
       "      <td>4502</td>\n",
       "      <td>4502</td>\n",
       "      <td>3948</td>\n",
       "      <td>482</td>\n",
       "      <td>49</td>\n",
       "      <td>32</td>\n",
       "      <td>9</td>\n",
       "      <td>27</td>\n",
       "      <td>...</td>\n",
       "      <td>427.0</td>\n",
       "      <td>5468.0</td>\n",
       "      <td>433.0</td>\n",
       "      <td>4094.0</td>\n",
       "      <td>195.0</td>\n",
       "      <td>33.0</td>\n",
       "      <td>378.0</td>\n",
       "      <td>19.0</td>\n",
       "      <td>36.0</td>\n",
       "      <td>280.0</td>\n",
       "    </tr>\n",
       "    <tr>\n",
       "      <th>4</th>\n",
       "      <td>41</td>\n",
       "      <td>Multnomah</td>\n",
       "      <td>4501</td>\n",
       "      <td>4501</td>\n",
       "      <td>9190</td>\n",
       "      <td>785</td>\n",
       "      <td>78</td>\n",
       "      <td>36</td>\n",
       "      <td>18</td>\n",
       "      <td>57</td>\n",
       "      <td>...</td>\n",
       "      <td>990.0</td>\n",
       "      <td>10539.0</td>\n",
       "      <td>454.0</td>\n",
       "      <td>8825.0</td>\n",
       "      <td>207.0</td>\n",
       "      <td>28.0</td>\n",
       "      <td>444.0</td>\n",
       "      <td>12.0</td>\n",
       "      <td>46.0</td>\n",
       "      <td>523.0</td>\n",
       "    </tr>\n",
       "    <tr>\n",
       "      <th>...</th>\n",
       "      <td>...</td>\n",
       "      <td>...</td>\n",
       "      <td>...</td>\n",
       "      <td>...</td>\n",
       "      <td>...</td>\n",
       "      <td>...</td>\n",
       "      <td>...</td>\n",
       "      <td>...</td>\n",
       "      <td>...</td>\n",
       "      <td>...</td>\n",
       "      <td>...</td>\n",
       "      <td>...</td>\n",
       "      <td>...</td>\n",
       "      <td>...</td>\n",
       "      <td>...</td>\n",
       "      <td>...</td>\n",
       "      <td>...</td>\n",
       "      <td>...</td>\n",
       "      <td>...</td>\n",
       "      <td>...</td>\n",
       "      <td>...</td>\n",
       "    </tr>\n",
       "    <tr>\n",
       "      <th>1326</th>\n",
       "      <td>41</td>\n",
       "      <td>Clackamas</td>\n",
       "      <td>201</td>\n",
       "      <td>201</td>\n",
       "      <td>2656</td>\n",
       "      <td>1465</td>\n",
       "      <td>84</td>\n",
       "      <td>13</td>\n",
       "      <td>2</td>\n",
       "      <td>35</td>\n",
       "      <td>...</td>\n",
       "      <td>450.0</td>\n",
       "      <td>5330.0</td>\n",
       "      <td>494.0</td>\n",
       "      <td>4105.0</td>\n",
       "      <td>65.0</td>\n",
       "      <td>21.0</td>\n",
       "      <td>372.0</td>\n",
       "      <td>10.0</td>\n",
       "      <td>24.0</td>\n",
       "      <td>239.0</td>\n",
       "    </tr>\n",
       "    <tr>\n",
       "      <th>1327</th>\n",
       "      <td>41</td>\n",
       "      <td>Washington</td>\n",
       "      <td>435</td>\n",
       "      <td>435</td>\n",
       "      <td>2335</td>\n",
       "      <td>1608</td>\n",
       "      <td>82</td>\n",
       "      <td>18</td>\n",
       "      <td>8</td>\n",
       "      <td>49</td>\n",
       "      <td>...</td>\n",
       "      <td>389.0</td>\n",
       "      <td>4966.0</td>\n",
       "      <td>372.0</td>\n",
       "      <td>4116.0</td>\n",
       "      <td>14.0</td>\n",
       "      <td>15.0</td>\n",
       "      <td>186.0</td>\n",
       "      <td>13.0</td>\n",
       "      <td>18.0</td>\n",
       "      <td>232.0</td>\n",
       "    </tr>\n",
       "    <tr>\n",
       "      <th>1328</th>\n",
       "      <td>41</td>\n",
       "      <td>Washington</td>\n",
       "      <td>425</td>\n",
       "      <td>425</td>\n",
       "      <td>452</td>\n",
       "      <td>550</td>\n",
       "      <td>15</td>\n",
       "      <td>4</td>\n",
       "      <td>1</td>\n",
       "      <td>9</td>\n",
       "      <td>...</td>\n",
       "      <td>96.0</td>\n",
       "      <td>1206.0</td>\n",
       "      <td>73.0</td>\n",
       "      <td>1023.0</td>\n",
       "      <td>0.0</td>\n",
       "      <td>9.0</td>\n",
       "      <td>33.0</td>\n",
       "      <td>2.0</td>\n",
       "      <td>7.0</td>\n",
       "      <td>59.0</td>\n",
       "    </tr>\n",
       "    <tr>\n",
       "      <th>1329</th>\n",
       "      <td>41</td>\n",
       "      <td>Yamhill</td>\n",
       "      <td>13</td>\n",
       "      <td>Yamhill City &amp; Rural</td>\n",
       "      <td>1091</td>\n",
       "      <td>2040</td>\n",
       "      <td>58</td>\n",
       "      <td>17</td>\n",
       "      <td>5</td>\n",
       "      <td>18</td>\n",
       "      <td>...</td>\n",
       "      <td>252.0</td>\n",
       "      <td>3599.0</td>\n",
       "      <td>187.0</td>\n",
       "      <td>3174.0</td>\n",
       "      <td>8.0</td>\n",
       "      <td>17.0</td>\n",
       "      <td>28.0</td>\n",
       "      <td>1.0</td>\n",
       "      <td>15.0</td>\n",
       "      <td>169.0</td>\n",
       "    </tr>\n",
       "    <tr>\n",
       "      <th>1330</th>\n",
       "      <td>41</td>\n",
       "      <td>Yamhill</td>\n",
       "      <td>11</td>\n",
       "      <td>Gaston Area</td>\n",
       "      <td>0</td>\n",
       "      <td>1</td>\n",
       "      <td>0</td>\n",
       "      <td>0</td>\n",
       "      <td>0</td>\n",
       "      <td>0</td>\n",
       "      <td>...</td>\n",
       "      <td>2.0</td>\n",
       "      <td>5.0</td>\n",
       "      <td>1.0</td>\n",
       "      <td>3.0</td>\n",
       "      <td>0.0</td>\n",
       "      <td>0.0</td>\n",
       "      <td>0.0</td>\n",
       "      <td>0.0</td>\n",
       "      <td>0.0</td>\n",
       "      <td>1.0</td>\n",
       "    </tr>\n",
       "  </tbody>\n",
       "</table>\n",
       "<p>1331 rows × 48 columns</p>\n",
       "</div>"
      ]
     },
     "execution_count": 57,
     "metadata": {},
     "output_type": "execute_result"
    }
   ],
   "execution_count": 57
  },
  {
   "metadata": {
    "ExecuteTime": {
     "end_time": "2025-04-09T16:34:06.209936Z",
     "start_time": "2025-04-09T16:33:55.378774Z"
    }
   },
   "cell_type": "code",
   "source": [
    "# check if the repaired data is valid\n",
    "try:\n",
    "    maup.doctor(vest20_df_repaired_2)\n",
    "except Exception as e:\n",
    "    print(f\"\\033[91mError in MAUP Doctor for repaired vest20_df: {e}\\033[0m\")"
   ],
   "id": "92dac5aac7ff60ae",
   "outputs": [
    {
     "name": "stderr",
     "output_type": "stream",
     "text": [
      "100%|██████████| 1331/1331 [00:04<00:00, 332.51it/s]\n"
     ]
    },
    {
     "name": "stdout",
     "output_type": "stream",
     "text": [
      "There are 2 holes.\n"
     ]
    }
   ],
   "execution_count": 54
  },
  {
   "metadata": {
    "ExecuteTime": {
     "end_time": "2025-04-09T16:34:44.388080Z",
     "start_time": "2025-04-09T16:34:06.224367Z"
    }
   },
   "cell_type": "code",
   "source": [
    "utilities.assign_population_data_to(\n",
    "    vest20_df_repaired_2,\n",
    "    population_df,\n",
    "    vap_df,\n",
    "    pop_column_names,\n",
    "    vap_column_names\n",
    ")"
   ],
   "id": "240ce74248e60ae6",
   "outputs": [
    {
     "name": "stderr",
     "output_type": "stream",
     "text": [
      "100%|██████████| 1331/1331 [00:04<00:00, 302.16it/s]\n",
      "100%|██████████| 1331/1331 [00:13<00:00, 96.60it/s] \n",
      "100%|██████████| 1331/1331 [00:04<00:00, 307.83it/s]\n",
      "100%|██████████| 1331/1331 [00:13<00:00, 97.53it/s] \n"
     ]
    }
   ],
   "execution_count": 55
  },
  {
   "metadata": {
    "ExecuteTime": {
     "end_time": "2025-04-09T16:45:43.493590Z",
     "start_time": "2025-04-09T16:45:43.486479Z"
    }
   },
   "cell_type": "code",
   "source": [
    "print(\"Total pop:\\t\", population_df['P0020001'].sum())\n",
    "print(\"Actual pop:\\t\", vest20_df_repaired_2['P0020001'].sum())\n",
    "print(\"Total vap:\\t\", vap_df['P0040001'].sum())\n",
    "print(\"Actual vap:\\t\", vest20_df_repaired_2['P0040001'].sum())"
   ],
   "id": "b262dcb2edd1f19c",
   "outputs": [
    {
     "name": "stdout",
     "output_type": "stream",
     "text": [
      "Total pop:\t 4237256\n",
      "Actual pop:\t 4237256.0\n",
      "Total vap:\t 3370652\n",
      "Actual vap:\t 3370652.0\n"
     ]
    }
   ],
   "execution_count": 59
  },
  {
   "metadata": {},
   "cell_type": "markdown",
   "source": "### Check for NaN values",
   "id": "4917a396f2e474a2"
  },
  {
   "metadata": {
    "ExecuteTime": {
     "end_time": "2025-04-09T16:46:24.803377Z",
     "start_time": "2025-04-09T16:46:24.779195Z"
    }
   },
   "cell_type": "code",
   "source": [
    "# print rows where there are NA values\n",
    "vest20_df_repaired_2[vest20_df_repaired_2.isna().any(axis=1)]"
   ],
   "id": "23b0aab747ea9745",
   "outputs": [
    {
     "data": {
      "text/plain": [
       "     STATE     COUNTY PRECINCT           NAME  G20PREDBID  G20PRERTRU  \\\n",
       "761     41  Josephine       29  West Colonial          38          92   \n",
       "\n",
       "     G20PRELJOR  G20PREGHAW  G20PREPHUN  G20PREOWRI  ...  P0020011  P0040001  \\\n",
       "761           0           2           0           1  ...       NaN       NaN   \n",
       "\n",
       "     P0040002  P0040005  P0040006  P0040007  P0040008  P0040009  P0040010  \\\n",
       "761       NaN       NaN       NaN       NaN       NaN       NaN       NaN   \n",
       "\n",
       "     P0040011  \n",
       "761       NaN  \n",
       "\n",
       "[1 rows x 48 columns]"
      ],
      "text/html": [
       "<div>\n",
       "<style scoped>\n",
       "    .dataframe tbody tr th:only-of-type {\n",
       "        vertical-align: middle;\n",
       "    }\n",
       "\n",
       "    .dataframe tbody tr th {\n",
       "        vertical-align: top;\n",
       "    }\n",
       "\n",
       "    .dataframe thead th {\n",
       "        text-align: right;\n",
       "    }\n",
       "</style>\n",
       "<table border=\"1\" class=\"dataframe\">\n",
       "  <thead>\n",
       "    <tr style=\"text-align: right;\">\n",
       "      <th></th>\n",
       "      <th>STATE</th>\n",
       "      <th>COUNTY</th>\n",
       "      <th>PRECINCT</th>\n",
       "      <th>NAME</th>\n",
       "      <th>G20PREDBID</th>\n",
       "      <th>G20PRERTRU</th>\n",
       "      <th>G20PRELJOR</th>\n",
       "      <th>G20PREGHAW</th>\n",
       "      <th>G20PREPHUN</th>\n",
       "      <th>G20PREOWRI</th>\n",
       "      <th>...</th>\n",
       "      <th>P0020011</th>\n",
       "      <th>P0040001</th>\n",
       "      <th>P0040002</th>\n",
       "      <th>P0040005</th>\n",
       "      <th>P0040006</th>\n",
       "      <th>P0040007</th>\n",
       "      <th>P0040008</th>\n",
       "      <th>P0040009</th>\n",
       "      <th>P0040010</th>\n",
       "      <th>P0040011</th>\n",
       "    </tr>\n",
       "  </thead>\n",
       "  <tbody>\n",
       "    <tr>\n",
       "      <th>761</th>\n",
       "      <td>41</td>\n",
       "      <td>Josephine</td>\n",
       "      <td>29</td>\n",
       "      <td>West Colonial</td>\n",
       "      <td>38</td>\n",
       "      <td>92</td>\n",
       "      <td>0</td>\n",
       "      <td>2</td>\n",
       "      <td>0</td>\n",
       "      <td>1</td>\n",
       "      <td>...</td>\n",
       "      <td>NaN</td>\n",
       "      <td>NaN</td>\n",
       "      <td>NaN</td>\n",
       "      <td>NaN</td>\n",
       "      <td>NaN</td>\n",
       "      <td>NaN</td>\n",
       "      <td>NaN</td>\n",
       "      <td>NaN</td>\n",
       "      <td>NaN</td>\n",
       "      <td>NaN</td>\n",
       "    </tr>\n",
       "  </tbody>\n",
       "</table>\n",
       "<p>1 rows × 48 columns</p>\n",
       "</div>"
      ]
     },
     "execution_count": 62,
     "metadata": {},
     "output_type": "execute_result"
    }
   ],
   "execution_count": 62
  },
  {
   "metadata": {},
   "cell_type": "markdown",
   "source": [
    "The Place `West Colonial` in the county `Josephine` has `NaN` values for the population and voting age population. Although there are a number of votes.\n",
    "\n",
    "We will replace the `NaN` values with `0`."
   ],
   "id": "7b7c2aaec5f9b881"
  },
  {
   "metadata": {
    "ExecuteTime": {
     "end_time": "2025-04-09T16:51:55.947413Z",
     "start_time": "2025-04-09T16:51:55.941371Z"
    }
   },
   "cell_type": "code",
   "source": [
    "# Replace the NA value with 0\n",
    "vest20_df_repaired_2.fillna(0, inplace=True)"
   ],
   "id": "329e14fe8586b894",
   "outputs": [],
   "execution_count": 63
  },
  {
   "metadata": {},
   "cell_type": "markdown",
   "source": [
    "## Adding the Approved State Senate Plan\n",
    "### Renaming the columns for better usage"
   ],
   "id": "3a44003f7f054b27"
  },
  {
   "metadata": {
    "ExecuteTime": {
     "end_time": "2025-04-09T16:58:02.823689Z",
     "start_time": "2025-04-09T16:58:02.817299Z"
    }
   },
   "cell_type": "code",
   "source": [
    "# copied from SC_MAUP.ipynb\n",
    "rename_dict = {'P0020001': 'TOTPOP', 'P0020002': 'HISP', 'P0020005': 'NH_WHITE', 'P0020006': 'NH_BLACK', 'P0020007': 'NH_AMIN',\n",
    "                    'P0020008': 'NH_ASIAN', 'P0020009': 'NH_NHPI', 'P0020010': 'NH_OTHER', 'P0020011': 'NH_2MORE',\n",
    "                    'P0040001': 'VAP', 'P0040002': 'HVAP', 'P0040005': 'WVAP', 'P0040006': 'BVAP', 'P0040007': 'AMINVAP',\n",
    "                                        'P0040008': 'ASIANVAP', 'P0040009': 'NHPIVAP', 'P0040010': 'OTHERVAP', 'P0040011': '2MOREVAP',\n",
    "                                        'G20PREDBID': 'G20PRED', 'G20PRERTRU': 'G20PRER', 'G20USSDHAR': 'G20USSD',\n",
    "                                        'G20USSRGRA': 'G20USSR'}"
   ],
   "id": "de9966b95203b1f",
   "outputs": [],
   "execution_count": 65
  },
  {
   "metadata": {
    "ExecuteTime": {
     "end_time": "2025-04-09T16:58:04.838285Z",
     "start_time": "2025-04-09T16:58:04.831572Z"
    }
   },
   "cell_type": "code",
   "source": "vest20_df_repaired_2.columns",
   "id": "30f43d09563d02d8",
   "outputs": [
    {
     "data": {
      "text/plain": [
       "Index(['STATE', 'COUNTY', 'PRECINCT', 'NAME', 'G20PREDBID', 'G20PRERTRU',\n",
       "       'G20PRELJOR', 'G20PREGHAW', 'G20PREPHUN', 'G20PREOWRI', 'G20USSDMER',\n",
       "       'G20USSRPER', 'G20USSLDYE', 'G20USSGTAH', 'G20USSOWRI', 'G20ATGDROS',\n",
       "       'G20ATGRCRO', 'G20ATGLHED', 'G20ATGOWRI', 'G20SOSDFAG', 'G20SOSRTHA',\n",
       "       'G20SOSLMAR', 'G20SOSGPAR', 'G20SOSOWRI', 'G20TREDREA', 'G20TRERGUD',\n",
       "       'G20TREIHEN', 'G20TRECMAR', 'G20TREOWRI', 'geometry', 'P0020001',\n",
       "       'P0020002', 'P0020005', 'P0020006', 'P0020007', 'P0020008', 'P0020009',\n",
       "       'P0020010', 'P0020011', 'P0040001', 'P0040002', 'P0040005', 'P0040006',\n",
       "       'P0040007', 'P0040008', 'P0040009', 'P0040010', 'P0040011'],\n",
       "      dtype='object')"
      ]
     },
     "execution_count": 66,
     "metadata": {},
     "output_type": "execute_result"
    }
   ],
   "execution_count": 66
  },
  {
   "metadata": {
    "ExecuteTime": {
     "end_time": "2025-04-09T16:58:07.401579Z",
     "start_time": "2025-04-09T16:58:07.396760Z"
    }
   },
   "cell_type": "code",
   "source": "vest20_df_repaired_2.rename(columns=rename_dict, inplace = True)",
   "id": "230dea49bd834813",
   "outputs": [],
   "execution_count": 67
  },
  {
   "metadata": {
    "ExecuteTime": {
     "end_time": "2025-04-09T16:58:08.950126Z",
     "start_time": "2025-04-09T16:58:08.943544Z"
    }
   },
   "cell_type": "code",
   "source": "vest20_df_repaired_2.columns",
   "id": "d1a995a98f018ee1",
   "outputs": [
    {
     "data": {
      "text/plain": [
       "Index(['STATE', 'COUNTY', 'PRECINCT', 'NAME', 'G20PRED', 'G20PRER',\n",
       "       'G20PRELJOR', 'G20PREGHAW', 'G20PREPHUN', 'G20PREOWRI', 'G20USSDMER',\n",
       "       'G20USSRPER', 'G20USSLDYE', 'G20USSGTAH', 'G20USSOWRI', 'G20ATGDROS',\n",
       "       'G20ATGRCRO', 'G20ATGLHED', 'G20ATGOWRI', 'G20SOSDFAG', 'G20SOSRTHA',\n",
       "       'G20SOSLMAR', 'G20SOSGPAR', 'G20SOSOWRI', 'G20TREDREA', 'G20TRERGUD',\n",
       "       'G20TREIHEN', 'G20TRECMAR', 'G20TREOWRI', 'geometry', 'TOTPOP', 'HISP',\n",
       "       'NH_WHITE', 'NH_BLACK', 'NH_AMIN', 'NH_ASIAN', 'NH_NHPI', 'NH_OTHER',\n",
       "       'NH_2MORE', 'VAP', 'HVAP', 'WVAP', 'BVAP', 'AMINVAP', 'ASIANVAP',\n",
       "       'NHPIVAP', 'OTHERVAP', '2MOREVAP'],\n",
       "      dtype='object')"
      ]
     },
     "execution_count": 68,
     "metadata": {},
     "output_type": "execute_result"
    }
   ],
   "execution_count": 68
  },
  {
   "metadata": {},
   "cell_type": "markdown",
   "source": "Drop all the other (Not Republican or Democrat) candidates for all the elections.",
   "id": "313f674695ce66ba"
  },
  {
   "metadata": {
    "ExecuteTime": {
     "end_time": "2025-04-09T16:58:12.809258Z",
     "start_time": "2025-04-09T16:58:12.798844Z"
    }
   },
   "cell_type": "code",
   "source": [
    "vest20_df_repaired_2.drop(columns=[ 'G20PRELJOR','G20PREGHAW','G20PREPHUN','G20PREOWRI',  'G20USSLDYE', 'G20USSGTAH', 'G20USSOWRI', 'G20ATGLHED', 'G20ATGOWRI', 'G20SOSLMAR', 'G20SOSGPAR', 'G20SOSOWRI', 'G20TREIHEN', 'G20TRECMAR', 'G20TREOWRI'], inplace=True)\n",
    "print(vest20_df_repaired_2.columns)"
   ],
   "id": "df4d582b0c00d211",
   "outputs": [
    {
     "name": "stdout",
     "output_type": "stream",
     "text": [
      "Index(['STATE', 'COUNTY', 'PRECINCT', 'NAME', 'G20PRED', 'G20PRER',\n",
      "       'G20USSDMER', 'G20USSRPER', 'G20ATGDROS', 'G20ATGRCRO', 'G20SOSDFAG',\n",
      "       'G20SOSRTHA', 'G20TREDREA', 'G20TRERGUD', 'geometry', 'TOTPOP', 'HISP',\n",
      "       'NH_WHITE', 'NH_BLACK', 'NH_AMIN', 'NH_ASIAN', 'NH_NHPI', 'NH_OTHER',\n",
      "       'NH_2MORE', 'VAP', 'HVAP', 'WVAP', 'BVAP', 'AMINVAP', 'ASIANVAP',\n",
      "       'NHPIVAP', 'OTHERVAP', '2MOREVAP'],\n",
      "      dtype='object')\n"
     ]
    }
   ],
   "execution_count": 69
  },
  {
   "metadata": {},
   "cell_type": "markdown",
   "source": "### Add the approved plan data",
   "id": "652807d7c355f140"
  },
  {
   "metadata": {
    "ExecuteTime": {
     "end_time": "2025-04-09T16:59:24.129744Z",
     "start_time": "2025-04-09T16:59:22.771433Z"
    }
   },
   "cell_type": "code",
   "source": [
    "precincts_to_districts_assignment = maup.assign(vest20_df_repaired_2.geometry, sen_df.geometry)\n",
    "vest20_df_repaired_2[\"SEND\"] = precincts_to_districts_assignment"
   ],
   "id": "56c6cdcef018cfdd",
   "outputs": [
    {
     "name": "stderr",
     "output_type": "stream",
     "text": [
      "100%|██████████| 30/30 [00:00<00:00, 201.69it/s]\n",
      "100%|██████████| 30/30 [00:01<00:00, 25.83it/s]\n"
     ]
    }
   ],
   "execution_count": 70
  },
  {
   "metadata": {
    "ExecuteTime": {
     "end_time": "2025-04-09T16:59:25.110661Z",
     "start_time": "2025-04-09T16:59:25.085674Z"
    }
   },
   "cell_type": "code",
   "source": "vest20_df_repaired_2.head()",
   "id": "3aa8ddb55ab8329b",
   "outputs": [
    {
     "data": {
      "text/plain": [
       "   STATE     COUNTY PRECINCT  NAME  G20PRED  G20PRER  G20USSDMER  G20USSRPER  \\\n",
       "0     41  Multnomah     4506  4506     2656      717        2548         648   \n",
       "1     41  Multnomah     4409  4409     1613      473        1605         403   \n",
       "2     41  Multnomah     4404  4404     8264      907        8048         882   \n",
       "3     41  Multnomah     4502  4502     3948      482        3850         472   \n",
       "4     41  Multnomah     4501  4501     9190      785        9001         830   \n",
       "\n",
       "   G20ATGDROS  G20ATGRCRO  ...      VAP    HVAP    WVAP    BVAP AMINVAP  \\\n",
       "0        2486         693  ...   4734.0   403.0  2958.0   397.0    51.0   \n",
       "1        1566         424  ...   4189.0   890.0  2421.0   370.0    39.0   \n",
       "2        7917         959  ...  15843.0  2276.0  9841.0  1317.0   123.0   \n",
       "3        3740         516  ...   5468.0   433.0  4094.0   195.0    33.0   \n",
       "4        8631         957  ...  10539.0   454.0  8825.0   207.0    28.0   \n",
       "\n",
       "   ASIANVAP  NHPIVAP  OTHERVAP  2MOREVAP  SEND  \n",
       "0     565.0     38.0      36.0     286.0    22  \n",
       "1     237.0     32.0      13.0     187.0    21  \n",
       "2     993.0    173.0      76.0    1044.0    21  \n",
       "3     378.0     19.0      36.0     280.0    22  \n",
       "4     444.0     12.0      46.0     523.0    22  \n",
       "\n",
       "[5 rows x 34 columns]"
      ],
      "text/html": [
       "<div>\n",
       "<style scoped>\n",
       "    .dataframe tbody tr th:only-of-type {\n",
       "        vertical-align: middle;\n",
       "    }\n",
       "\n",
       "    .dataframe tbody tr th {\n",
       "        vertical-align: top;\n",
       "    }\n",
       "\n",
       "    .dataframe thead th {\n",
       "        text-align: right;\n",
       "    }\n",
       "</style>\n",
       "<table border=\"1\" class=\"dataframe\">\n",
       "  <thead>\n",
       "    <tr style=\"text-align: right;\">\n",
       "      <th></th>\n",
       "      <th>STATE</th>\n",
       "      <th>COUNTY</th>\n",
       "      <th>PRECINCT</th>\n",
       "      <th>NAME</th>\n",
       "      <th>G20PRED</th>\n",
       "      <th>G20PRER</th>\n",
       "      <th>G20USSDMER</th>\n",
       "      <th>G20USSRPER</th>\n",
       "      <th>G20ATGDROS</th>\n",
       "      <th>G20ATGRCRO</th>\n",
       "      <th>...</th>\n",
       "      <th>VAP</th>\n",
       "      <th>HVAP</th>\n",
       "      <th>WVAP</th>\n",
       "      <th>BVAP</th>\n",
       "      <th>AMINVAP</th>\n",
       "      <th>ASIANVAP</th>\n",
       "      <th>NHPIVAP</th>\n",
       "      <th>OTHERVAP</th>\n",
       "      <th>2MOREVAP</th>\n",
       "      <th>SEND</th>\n",
       "    </tr>\n",
       "  </thead>\n",
       "  <tbody>\n",
       "    <tr>\n",
       "      <th>0</th>\n",
       "      <td>41</td>\n",
       "      <td>Multnomah</td>\n",
       "      <td>4506</td>\n",
       "      <td>4506</td>\n",
       "      <td>2656</td>\n",
       "      <td>717</td>\n",
       "      <td>2548</td>\n",
       "      <td>648</td>\n",
       "      <td>2486</td>\n",
       "      <td>693</td>\n",
       "      <td>...</td>\n",
       "      <td>4734.0</td>\n",
       "      <td>403.0</td>\n",
       "      <td>2958.0</td>\n",
       "      <td>397.0</td>\n",
       "      <td>51.0</td>\n",
       "      <td>565.0</td>\n",
       "      <td>38.0</td>\n",
       "      <td>36.0</td>\n",
       "      <td>286.0</td>\n",
       "      <td>22</td>\n",
       "    </tr>\n",
       "    <tr>\n",
       "      <th>1</th>\n",
       "      <td>41</td>\n",
       "      <td>Multnomah</td>\n",
       "      <td>4409</td>\n",
       "      <td>4409</td>\n",
       "      <td>1613</td>\n",
       "      <td>473</td>\n",
       "      <td>1605</td>\n",
       "      <td>403</td>\n",
       "      <td>1566</td>\n",
       "      <td>424</td>\n",
       "      <td>...</td>\n",
       "      <td>4189.0</td>\n",
       "      <td>890.0</td>\n",
       "      <td>2421.0</td>\n",
       "      <td>370.0</td>\n",
       "      <td>39.0</td>\n",
       "      <td>237.0</td>\n",
       "      <td>32.0</td>\n",
       "      <td>13.0</td>\n",
       "      <td>187.0</td>\n",
       "      <td>21</td>\n",
       "    </tr>\n",
       "    <tr>\n",
       "      <th>2</th>\n",
       "      <td>41</td>\n",
       "      <td>Multnomah</td>\n",
       "      <td>4404</td>\n",
       "      <td>4404</td>\n",
       "      <td>8264</td>\n",
       "      <td>907</td>\n",
       "      <td>8048</td>\n",
       "      <td>882</td>\n",
       "      <td>7917</td>\n",
       "      <td>959</td>\n",
       "      <td>...</td>\n",
       "      <td>15843.0</td>\n",
       "      <td>2276.0</td>\n",
       "      <td>9841.0</td>\n",
       "      <td>1317.0</td>\n",
       "      <td>123.0</td>\n",
       "      <td>993.0</td>\n",
       "      <td>173.0</td>\n",
       "      <td>76.0</td>\n",
       "      <td>1044.0</td>\n",
       "      <td>21</td>\n",
       "    </tr>\n",
       "    <tr>\n",
       "      <th>3</th>\n",
       "      <td>41</td>\n",
       "      <td>Multnomah</td>\n",
       "      <td>4502</td>\n",
       "      <td>4502</td>\n",
       "      <td>3948</td>\n",
       "      <td>482</td>\n",
       "      <td>3850</td>\n",
       "      <td>472</td>\n",
       "      <td>3740</td>\n",
       "      <td>516</td>\n",
       "      <td>...</td>\n",
       "      <td>5468.0</td>\n",
       "      <td>433.0</td>\n",
       "      <td>4094.0</td>\n",
       "      <td>195.0</td>\n",
       "      <td>33.0</td>\n",
       "      <td>378.0</td>\n",
       "      <td>19.0</td>\n",
       "      <td>36.0</td>\n",
       "      <td>280.0</td>\n",
       "      <td>22</td>\n",
       "    </tr>\n",
       "    <tr>\n",
       "      <th>4</th>\n",
       "      <td>41</td>\n",
       "      <td>Multnomah</td>\n",
       "      <td>4501</td>\n",
       "      <td>4501</td>\n",
       "      <td>9190</td>\n",
       "      <td>785</td>\n",
       "      <td>9001</td>\n",
       "      <td>830</td>\n",
       "      <td>8631</td>\n",
       "      <td>957</td>\n",
       "      <td>...</td>\n",
       "      <td>10539.0</td>\n",
       "      <td>454.0</td>\n",
       "      <td>8825.0</td>\n",
       "      <td>207.0</td>\n",
       "      <td>28.0</td>\n",
       "      <td>444.0</td>\n",
       "      <td>12.0</td>\n",
       "      <td>46.0</td>\n",
       "      <td>523.0</td>\n",
       "      <td>22</td>\n",
       "    </tr>\n",
       "  </tbody>\n",
       "</table>\n",
       "<p>5 rows × 34 columns</p>\n",
       "</div>"
      ]
     },
     "execution_count": 71,
     "metadata": {},
     "output_type": "execute_result"
    }
   ],
   "execution_count": 71
  },
  {
   "metadata": {},
   "cell_type": "markdown",
   "source": "get a unique set of all the districts in the `\"SEND\"` column",
   "id": "9086a0e2e4a33b27"
  },
  {
   "metadata": {
    "ExecuteTime": {
     "end_time": "2025-04-09T17:00:38.894595Z",
     "start_time": "2025-04-09T17:00:38.889355Z"
    }
   },
   "cell_type": "code",
   "source": "print(set(vest20_df_repaired_2[\"SEND\"]))",
   "id": "b27a6048e2544b94",
   "outputs": [
    {
     "name": "stdout",
     "output_type": "stream",
     "text": [
      "{0, 1, 2, 3, 4, 5, 6, 7, 8, 9, 10, 11, 12, 13, 14, 15, 16, 17, 18, 19, 20, 21, 22, 23, 24, 25, 26, 27, 28, 29}\n"
     ]
    }
   ],
   "execution_count": 72
  },
  {
   "metadata": {},
   "cell_type": "markdown",
   "source": "Explore the sen_df data",
   "id": "9e257153fa75323c"
  },
  {
   "metadata": {
    "ExecuteTime": {
     "end_time": "2025-04-09T17:00:55.160859Z",
     "start_time": "2025-04-09T17:00:55.013845Z"
    }
   },
   "cell_type": "code",
   "source": "sen_df.head()",
   "id": "4a661406e75c9065",
   "outputs": [
    {
     "data": {
      "text/plain": [
       "     LONGNAME SHORTNAME  DISTRICT       COLOR   TOTAL  TARGET_DEV  TOTALHISP  \\\n",
       "0  District 1        D1         1  2127829120  142212         970       8701   \n",
       "1  District 2        D2         2  1015926656  141786         544      11357   \n",
       "2  District 3        D3         3   101601152  142502        1260      20776   \n",
       "3  District 4        D4         4  1627761792  142435        1193      16000   \n",
       "4  District 5        D5         5  1675345024  140391        -851      10746   \n",
       "\n",
       "   WHITENH  BLACKNH  AIANNH  ASIANNH  HPINH  OTHERNH  MLTMNNH  \\\n",
       "0   119379      946    7136     2218    399     2851      582   \n",
       "1   117097     1280    5707     2537    498     2661      649   \n",
       "2   106432     2190    4351     3936    868     3142      807   \n",
       "3   107187     3331    4627     6958    680     2679      973   \n",
       "4   114408     1126    7399     2753    520     2726      713   \n",
       "\n",
       "                                            geometry  \n",
       "0  POLYGON ((373494.752 4726860.593, 372767.887 4...  \n",
       "1  POLYGON ((417445.343 4700401.288, 417451.062 4...  \n",
       "2  POLYGON ((504659.233 4685921.052, 504610.705 4...  \n",
       "3  POLYGON ((493964.413 4872248.265, 493955.959 4...  \n",
       "4  POLYGON ((409288.586 4958998.171, 409324.577 4...  "
      ],
      "text/html": [
       "<div>\n",
       "<style scoped>\n",
       "    .dataframe tbody tr th:only-of-type {\n",
       "        vertical-align: middle;\n",
       "    }\n",
       "\n",
       "    .dataframe tbody tr th {\n",
       "        vertical-align: top;\n",
       "    }\n",
       "\n",
       "    .dataframe thead th {\n",
       "        text-align: right;\n",
       "    }\n",
       "</style>\n",
       "<table border=\"1\" class=\"dataframe\">\n",
       "  <thead>\n",
       "    <tr style=\"text-align: right;\">\n",
       "      <th></th>\n",
       "      <th>LONGNAME</th>\n",
       "      <th>SHORTNAME</th>\n",
       "      <th>DISTRICT</th>\n",
       "      <th>COLOR</th>\n",
       "      <th>TOTAL</th>\n",
       "      <th>TARGET_DEV</th>\n",
       "      <th>TOTALHISP</th>\n",
       "      <th>WHITENH</th>\n",
       "      <th>BLACKNH</th>\n",
       "      <th>AIANNH</th>\n",
       "      <th>ASIANNH</th>\n",
       "      <th>HPINH</th>\n",
       "      <th>OTHERNH</th>\n",
       "      <th>MLTMNNH</th>\n",
       "      <th>geometry</th>\n",
       "    </tr>\n",
       "  </thead>\n",
       "  <tbody>\n",
       "    <tr>\n",
       "      <th>0</th>\n",
       "      <td>District 1</td>\n",
       "      <td>D1</td>\n",
       "      <td>1</td>\n",
       "      <td>2127829120</td>\n",
       "      <td>142212</td>\n",
       "      <td>970</td>\n",
       "      <td>8701</td>\n",
       "      <td>119379</td>\n",
       "      <td>946</td>\n",
       "      <td>7136</td>\n",
       "      <td>2218</td>\n",
       "      <td>399</td>\n",
       "      <td>2851</td>\n",
       "      <td>582</td>\n",
       "      <td>POLYGON ((373494.752 4726860.593, 372767.887 4...</td>\n",
       "    </tr>\n",
       "    <tr>\n",
       "      <th>1</th>\n",
       "      <td>District 2</td>\n",
       "      <td>D2</td>\n",
       "      <td>2</td>\n",
       "      <td>1015926656</td>\n",
       "      <td>141786</td>\n",
       "      <td>544</td>\n",
       "      <td>11357</td>\n",
       "      <td>117097</td>\n",
       "      <td>1280</td>\n",
       "      <td>5707</td>\n",
       "      <td>2537</td>\n",
       "      <td>498</td>\n",
       "      <td>2661</td>\n",
       "      <td>649</td>\n",
       "      <td>POLYGON ((417445.343 4700401.288, 417451.062 4...</td>\n",
       "    </tr>\n",
       "    <tr>\n",
       "      <th>2</th>\n",
       "      <td>District 3</td>\n",
       "      <td>D3</td>\n",
       "      <td>3</td>\n",
       "      <td>101601152</td>\n",
       "      <td>142502</td>\n",
       "      <td>1260</td>\n",
       "      <td>20776</td>\n",
       "      <td>106432</td>\n",
       "      <td>2190</td>\n",
       "      <td>4351</td>\n",
       "      <td>3936</td>\n",
       "      <td>868</td>\n",
       "      <td>3142</td>\n",
       "      <td>807</td>\n",
       "      <td>POLYGON ((504659.233 4685921.052, 504610.705 4...</td>\n",
       "    </tr>\n",
       "    <tr>\n",
       "      <th>3</th>\n",
       "      <td>District 4</td>\n",
       "      <td>D4</td>\n",
       "      <td>4</td>\n",
       "      <td>1627761792</td>\n",
       "      <td>142435</td>\n",
       "      <td>1193</td>\n",
       "      <td>16000</td>\n",
       "      <td>107187</td>\n",
       "      <td>3331</td>\n",
       "      <td>4627</td>\n",
       "      <td>6958</td>\n",
       "      <td>680</td>\n",
       "      <td>2679</td>\n",
       "      <td>973</td>\n",
       "      <td>POLYGON ((493964.413 4872248.265, 493955.959 4...</td>\n",
       "    </tr>\n",
       "    <tr>\n",
       "      <th>4</th>\n",
       "      <td>District 5</td>\n",
       "      <td>D5</td>\n",
       "      <td>5</td>\n",
       "      <td>1675345024</td>\n",
       "      <td>140391</td>\n",
       "      <td>-851</td>\n",
       "      <td>10746</td>\n",
       "      <td>114408</td>\n",
       "      <td>1126</td>\n",
       "      <td>7399</td>\n",
       "      <td>2753</td>\n",
       "      <td>520</td>\n",
       "      <td>2726</td>\n",
       "      <td>713</td>\n",
       "      <td>POLYGON ((409288.586 4958998.171, 409324.577 4...</td>\n",
       "    </tr>\n",
       "  </tbody>\n",
       "</table>\n",
       "</div>"
      ]
     },
     "execution_count": 73,
     "metadata": {},
     "output_type": "execute_result"
    }
   ],
   "execution_count": 73
  },
  {
   "metadata": {},
   "cell_type": "markdown",
   "source": "print the unique values of the `\"DISTRICT\"` column",
   "id": "5b8ebbc2e1f21345"
  },
  {
   "metadata": {
    "ExecuteTime": {
     "end_time": "2025-04-09T17:01:02.772550Z",
     "start_time": "2025-04-09T17:01:02.766406Z"
    }
   },
   "cell_type": "code",
   "source": "print(set(sen_df[\"DISTRICT\"]))",
   "id": "3387159f65be5c81",
   "outputs": [
    {
     "name": "stdout",
     "output_type": "stream",
     "text": [
      "{1, 2, 3, 4, 5, 6, 7, 8, 9, 10, 11, 12, 13, 14, 15, 16, 17, 18, 19, 20, 21, 22, 23, 24, 25, 26, 27, 28, 29, 30}\n"
     ]
    }
   ],
   "execution_count": 74
  },
  {
   "metadata": {},
   "cell_type": "markdown",
   "source": "In Oregon, the states are good numbered, only starting with 1 instead of 0 so lets fix that and use the shortname: D1 etc.",
   "id": "a829076cedcf23ca"
  },
  {
   "metadata": {
    "ExecuteTime": {
     "end_time": "2025-04-09T17:01:53.522401Z",
     "start_time": "2025-04-09T17:01:53.466513Z"
    }
   },
   "cell_type": "code",
   "source": [
    "# rename the districts with the matching shortname from the sen_df\n",
    "for i in range(len(vest20_df_repaired_2)):\n",
    "    vest20_df_repaired_2.at[i, \"SEND\"] = sen_df.at[int(vest20_df_repaired_2.at[i, \"SEND\"]), \"SHORTNAME\"]"
   ],
   "id": "512da791616cff8a",
   "outputs": [],
   "execution_count": 75
  },
  {
   "metadata": {
    "ExecuteTime": {
     "end_time": "2025-04-09T17:02:06.318716Z",
     "start_time": "2025-04-09T17:02:06.314289Z"
    }
   },
   "cell_type": "code",
   "source": [
    "print(set(sen_df[\"SHORTNAME\"]))\n",
    "print(set(vest20_df_repaired_2[\"SEND\"]))"
   ],
   "id": "4d9807a818706265",
   "outputs": [
    {
     "name": "stdout",
     "output_type": "stream",
     "text": [
      "{'D1', 'D25', 'D12', 'D30', 'D21', 'D6', 'D8', 'D23', 'D5', 'D18', 'D26', 'D24', 'D7', 'D17', 'D3', 'D20', 'D14', 'D4', 'D11', 'D13', 'D2', 'D27', 'D28', 'D9', 'D15', 'D19', 'D29', 'D16', 'D10', 'D22'}\n",
      "{'D1', 'D25', 'D12', 'D21', 'D6', 'D8', 'D23', 'D26', 'D5', 'D18', 'D24', 'D7', 'D17', 'D3', 'D20', 'D14', 'D4', 'D11', 'D13', 'D2', 'D27', 'D28', 'D10', 'D9', 'D15', 'D19', 'D29', 'D16', 'D30', 'D22'}\n"
     ]
    }
   ],
   "execution_count": 77
  },
  {
   "metadata": {},
   "cell_type": "markdown",
   "source": "It worked :)",
   "id": "97a5ff45dc79121d"
  },
  {
   "metadata": {
    "ExecuteTime": {
     "end_time": "2025-04-09T17:02:26.151167Z",
     "start_time": "2025-04-09T17:02:26.146221Z"
    }
   },
   "cell_type": "code",
   "source": "vest20_df_repaired_2.columns",
   "id": "b24351272da1352c",
   "outputs": [
    {
     "data": {
      "text/plain": [
       "Index(['STATE', 'COUNTY', 'PRECINCT', 'NAME', 'G20PRED', 'G20PRER',\n",
       "       'G20USSDMER', 'G20USSRPER', 'G20ATGDROS', 'G20ATGRCRO', 'G20SOSDFAG',\n",
       "       'G20SOSRTHA', 'G20TREDREA', 'G20TRERGUD', 'geometry', 'TOTPOP', 'HISP',\n",
       "       'NH_WHITE', 'NH_BLACK', 'NH_AMIN', 'NH_ASIAN', 'NH_NHPI', 'NH_OTHER',\n",
       "       'NH_2MORE', 'VAP', 'HVAP', 'WVAP', 'BVAP', 'AMINVAP', 'ASIANVAP',\n",
       "       'NHPIVAP', 'OTHERVAP', '2MOREVAP', 'SEND'],\n",
       "      dtype='object')"
      ]
     },
     "execution_count": 79,
     "metadata": {},
     "output_type": "execute_result"
    }
   ],
   "execution_count": 79
  },
  {
   "metadata": {},
   "cell_type": "markdown",
   "source": [
    "## Checkpoint 3\n",
    "* 2 holes\n",
    "* queen adjacencies\n",
    "* fitted into counties\n",
    "* missing 0 people in total population\n",
    "* missing 0 people in voting age population\n",
    "* added the approved plan data"
   ],
   "id": "f33b7a7148dfc9ac"
  },
  {
   "metadata": {
    "ExecuteTime": {
     "end_time": "2025-04-09T17:04:53.927662Z",
     "start_time": "2025-04-09T17:04:53.751473Z"
    }
   },
   "cell_type": "code",
   "source": [
    "# create a checkpoint for the repaired data\n",
    "vest20_df_repaired_3 = vest20_df_repaired_2.copy()\n",
    "utilities.checkpoint(\"repaired_vest20_3\", )"
   ],
   "id": "1ff8519d670f8564",
   "outputs": [
    {
     "name": "stdout",
     "output_type": "stream",
     "text": [
      "Checkpoint: repaired_vest20_3\n",
      "Saving data...\n",
      "Data saved successfully to checkpoints/repaired_vest20_3.pkl.\n"
     ]
    },
    {
     "data": {
      "text/plain": [
       "      STATE      COUNTY PRECINCT                  NAME  G20PRED  G20PRER  \\\n",
       "0        41   Multnomah     4506                  4506     2656      717   \n",
       "1        41   Multnomah     4409                  4409     1613      473   \n",
       "2        41   Multnomah     4404                  4404     8264      907   \n",
       "3        41   Multnomah     4502                  4502     3948      482   \n",
       "4        41   Multnomah     4501                  4501     9190      785   \n",
       "...     ...         ...      ...                   ...      ...      ...   \n",
       "1326     41   Clackamas      201                   201     2656     1465   \n",
       "1327     41  Washington      435                   435     2335     1608   \n",
       "1328     41  Washington      425                   425      452      550   \n",
       "1329     41     Yamhill       13  Yamhill City & Rural     1091     2040   \n",
       "1330     41     Yamhill       11           Gaston Area        0        1   \n",
       "\n",
       "      G20USSDMER  G20USSRPER  G20ATGDROS  G20ATGRCRO  ...      VAP    HVAP  \\\n",
       "0           2548         648        2486         693  ...   4734.0   403.0   \n",
       "1           1605         403        1566         424  ...   4189.0   890.0   \n",
       "2           8048         882        7917         959  ...  15843.0  2276.0   \n",
       "3           3850         472        3740         516  ...   5468.0   433.0   \n",
       "4           9001         830        8631         957  ...  10539.0   454.0   \n",
       "...          ...         ...         ...         ...  ...      ...     ...   \n",
       "1326        2511        1478        2377        1552  ...   5330.0   494.0   \n",
       "1327        2268        1596        2128        1695  ...   4966.0   372.0   \n",
       "1328         441         541         419         539  ...   1206.0    73.0   \n",
       "1329        1104        1960        1033        1985  ...   3599.0   187.0   \n",
       "1330           0           1           0           1  ...      5.0     1.0   \n",
       "\n",
       "        WVAP    BVAP AMINVAP  ASIANVAP  NHPIVAP  OTHERVAP  2MOREVAP  SEND  \n",
       "0     2958.0   397.0    51.0     565.0     38.0      36.0     286.0   D23  \n",
       "1     2421.0   370.0    39.0     237.0     32.0      13.0     187.0   D22  \n",
       "2     9841.0  1317.0   123.0     993.0    173.0      76.0    1044.0   D22  \n",
       "3     4094.0   195.0    33.0     378.0     19.0      36.0     280.0   D23  \n",
       "4     8825.0   207.0    28.0     444.0     12.0      46.0     523.0   D23  \n",
       "...      ...     ...     ...       ...      ...       ...       ...   ...  \n",
       "1326  4105.0    65.0    21.0     372.0     10.0      24.0     239.0   D13  \n",
       "1327  4116.0    14.0    15.0     186.0     13.0      18.0     232.0   D13  \n",
       "1328  1023.0     0.0     9.0      33.0      2.0       7.0      59.0   D13  \n",
       "1329  3174.0     8.0    17.0      28.0      1.0      15.0     169.0   D12  \n",
       "1330     3.0     0.0     0.0       0.0      0.0       0.0       1.0   D16  \n",
       "\n",
       "[1331 rows x 34 columns]"
      ],
      "text/html": [
       "<div>\n",
       "<style scoped>\n",
       "    .dataframe tbody tr th:only-of-type {\n",
       "        vertical-align: middle;\n",
       "    }\n",
       "\n",
       "    .dataframe tbody tr th {\n",
       "        vertical-align: top;\n",
       "    }\n",
       "\n",
       "    .dataframe thead th {\n",
       "        text-align: right;\n",
       "    }\n",
       "</style>\n",
       "<table border=\"1\" class=\"dataframe\">\n",
       "  <thead>\n",
       "    <tr style=\"text-align: right;\">\n",
       "      <th></th>\n",
       "      <th>STATE</th>\n",
       "      <th>COUNTY</th>\n",
       "      <th>PRECINCT</th>\n",
       "      <th>NAME</th>\n",
       "      <th>G20PRED</th>\n",
       "      <th>G20PRER</th>\n",
       "      <th>G20USSDMER</th>\n",
       "      <th>G20USSRPER</th>\n",
       "      <th>G20ATGDROS</th>\n",
       "      <th>G20ATGRCRO</th>\n",
       "      <th>...</th>\n",
       "      <th>VAP</th>\n",
       "      <th>HVAP</th>\n",
       "      <th>WVAP</th>\n",
       "      <th>BVAP</th>\n",
       "      <th>AMINVAP</th>\n",
       "      <th>ASIANVAP</th>\n",
       "      <th>NHPIVAP</th>\n",
       "      <th>OTHERVAP</th>\n",
       "      <th>2MOREVAP</th>\n",
       "      <th>SEND</th>\n",
       "    </tr>\n",
       "  </thead>\n",
       "  <tbody>\n",
       "    <tr>\n",
       "      <th>0</th>\n",
       "      <td>41</td>\n",
       "      <td>Multnomah</td>\n",
       "      <td>4506</td>\n",
       "      <td>4506</td>\n",
       "      <td>2656</td>\n",
       "      <td>717</td>\n",
       "      <td>2548</td>\n",
       "      <td>648</td>\n",
       "      <td>2486</td>\n",
       "      <td>693</td>\n",
       "      <td>...</td>\n",
       "      <td>4734.0</td>\n",
       "      <td>403.0</td>\n",
       "      <td>2958.0</td>\n",
       "      <td>397.0</td>\n",
       "      <td>51.0</td>\n",
       "      <td>565.0</td>\n",
       "      <td>38.0</td>\n",
       "      <td>36.0</td>\n",
       "      <td>286.0</td>\n",
       "      <td>D23</td>\n",
       "    </tr>\n",
       "    <tr>\n",
       "      <th>1</th>\n",
       "      <td>41</td>\n",
       "      <td>Multnomah</td>\n",
       "      <td>4409</td>\n",
       "      <td>4409</td>\n",
       "      <td>1613</td>\n",
       "      <td>473</td>\n",
       "      <td>1605</td>\n",
       "      <td>403</td>\n",
       "      <td>1566</td>\n",
       "      <td>424</td>\n",
       "      <td>...</td>\n",
       "      <td>4189.0</td>\n",
       "      <td>890.0</td>\n",
       "      <td>2421.0</td>\n",
       "      <td>370.0</td>\n",
       "      <td>39.0</td>\n",
       "      <td>237.0</td>\n",
       "      <td>32.0</td>\n",
       "      <td>13.0</td>\n",
       "      <td>187.0</td>\n",
       "      <td>D22</td>\n",
       "    </tr>\n",
       "    <tr>\n",
       "      <th>2</th>\n",
       "      <td>41</td>\n",
       "      <td>Multnomah</td>\n",
       "      <td>4404</td>\n",
       "      <td>4404</td>\n",
       "      <td>8264</td>\n",
       "      <td>907</td>\n",
       "      <td>8048</td>\n",
       "      <td>882</td>\n",
       "      <td>7917</td>\n",
       "      <td>959</td>\n",
       "      <td>...</td>\n",
       "      <td>15843.0</td>\n",
       "      <td>2276.0</td>\n",
       "      <td>9841.0</td>\n",
       "      <td>1317.0</td>\n",
       "      <td>123.0</td>\n",
       "      <td>993.0</td>\n",
       "      <td>173.0</td>\n",
       "      <td>76.0</td>\n",
       "      <td>1044.0</td>\n",
       "      <td>D22</td>\n",
       "    </tr>\n",
       "    <tr>\n",
       "      <th>3</th>\n",
       "      <td>41</td>\n",
       "      <td>Multnomah</td>\n",
       "      <td>4502</td>\n",
       "      <td>4502</td>\n",
       "      <td>3948</td>\n",
       "      <td>482</td>\n",
       "      <td>3850</td>\n",
       "      <td>472</td>\n",
       "      <td>3740</td>\n",
       "      <td>516</td>\n",
       "      <td>...</td>\n",
       "      <td>5468.0</td>\n",
       "      <td>433.0</td>\n",
       "      <td>4094.0</td>\n",
       "      <td>195.0</td>\n",
       "      <td>33.0</td>\n",
       "      <td>378.0</td>\n",
       "      <td>19.0</td>\n",
       "      <td>36.0</td>\n",
       "      <td>280.0</td>\n",
       "      <td>D23</td>\n",
       "    </tr>\n",
       "    <tr>\n",
       "      <th>4</th>\n",
       "      <td>41</td>\n",
       "      <td>Multnomah</td>\n",
       "      <td>4501</td>\n",
       "      <td>4501</td>\n",
       "      <td>9190</td>\n",
       "      <td>785</td>\n",
       "      <td>9001</td>\n",
       "      <td>830</td>\n",
       "      <td>8631</td>\n",
       "      <td>957</td>\n",
       "      <td>...</td>\n",
       "      <td>10539.0</td>\n",
       "      <td>454.0</td>\n",
       "      <td>8825.0</td>\n",
       "      <td>207.0</td>\n",
       "      <td>28.0</td>\n",
       "      <td>444.0</td>\n",
       "      <td>12.0</td>\n",
       "      <td>46.0</td>\n",
       "      <td>523.0</td>\n",
       "      <td>D23</td>\n",
       "    </tr>\n",
       "    <tr>\n",
       "      <th>...</th>\n",
       "      <td>...</td>\n",
       "      <td>...</td>\n",
       "      <td>...</td>\n",
       "      <td>...</td>\n",
       "      <td>...</td>\n",
       "      <td>...</td>\n",
       "      <td>...</td>\n",
       "      <td>...</td>\n",
       "      <td>...</td>\n",
       "      <td>...</td>\n",
       "      <td>...</td>\n",
       "      <td>...</td>\n",
       "      <td>...</td>\n",
       "      <td>...</td>\n",
       "      <td>...</td>\n",
       "      <td>...</td>\n",
       "      <td>...</td>\n",
       "      <td>...</td>\n",
       "      <td>...</td>\n",
       "      <td>...</td>\n",
       "      <td>...</td>\n",
       "    </tr>\n",
       "    <tr>\n",
       "      <th>1326</th>\n",
       "      <td>41</td>\n",
       "      <td>Clackamas</td>\n",
       "      <td>201</td>\n",
       "      <td>201</td>\n",
       "      <td>2656</td>\n",
       "      <td>1465</td>\n",
       "      <td>2511</td>\n",
       "      <td>1478</td>\n",
       "      <td>2377</td>\n",
       "      <td>1552</td>\n",
       "      <td>...</td>\n",
       "      <td>5330.0</td>\n",
       "      <td>494.0</td>\n",
       "      <td>4105.0</td>\n",
       "      <td>65.0</td>\n",
       "      <td>21.0</td>\n",
       "      <td>372.0</td>\n",
       "      <td>10.0</td>\n",
       "      <td>24.0</td>\n",
       "      <td>239.0</td>\n",
       "      <td>D13</td>\n",
       "    </tr>\n",
       "    <tr>\n",
       "      <th>1327</th>\n",
       "      <td>41</td>\n",
       "      <td>Washington</td>\n",
       "      <td>435</td>\n",
       "      <td>435</td>\n",
       "      <td>2335</td>\n",
       "      <td>1608</td>\n",
       "      <td>2268</td>\n",
       "      <td>1596</td>\n",
       "      <td>2128</td>\n",
       "      <td>1695</td>\n",
       "      <td>...</td>\n",
       "      <td>4966.0</td>\n",
       "      <td>372.0</td>\n",
       "      <td>4116.0</td>\n",
       "      <td>14.0</td>\n",
       "      <td>15.0</td>\n",
       "      <td>186.0</td>\n",
       "      <td>13.0</td>\n",
       "      <td>18.0</td>\n",
       "      <td>232.0</td>\n",
       "      <td>D13</td>\n",
       "    </tr>\n",
       "    <tr>\n",
       "      <th>1328</th>\n",
       "      <td>41</td>\n",
       "      <td>Washington</td>\n",
       "      <td>425</td>\n",
       "      <td>425</td>\n",
       "      <td>452</td>\n",
       "      <td>550</td>\n",
       "      <td>441</td>\n",
       "      <td>541</td>\n",
       "      <td>419</td>\n",
       "      <td>539</td>\n",
       "      <td>...</td>\n",
       "      <td>1206.0</td>\n",
       "      <td>73.0</td>\n",
       "      <td>1023.0</td>\n",
       "      <td>0.0</td>\n",
       "      <td>9.0</td>\n",
       "      <td>33.0</td>\n",
       "      <td>2.0</td>\n",
       "      <td>7.0</td>\n",
       "      <td>59.0</td>\n",
       "      <td>D13</td>\n",
       "    </tr>\n",
       "    <tr>\n",
       "      <th>1329</th>\n",
       "      <td>41</td>\n",
       "      <td>Yamhill</td>\n",
       "      <td>13</td>\n",
       "      <td>Yamhill City &amp; Rural</td>\n",
       "      <td>1091</td>\n",
       "      <td>2040</td>\n",
       "      <td>1104</td>\n",
       "      <td>1960</td>\n",
       "      <td>1033</td>\n",
       "      <td>1985</td>\n",
       "      <td>...</td>\n",
       "      <td>3599.0</td>\n",
       "      <td>187.0</td>\n",
       "      <td>3174.0</td>\n",
       "      <td>8.0</td>\n",
       "      <td>17.0</td>\n",
       "      <td>28.0</td>\n",
       "      <td>1.0</td>\n",
       "      <td>15.0</td>\n",
       "      <td>169.0</td>\n",
       "      <td>D12</td>\n",
       "    </tr>\n",
       "    <tr>\n",
       "      <th>1330</th>\n",
       "      <td>41</td>\n",
       "      <td>Yamhill</td>\n",
       "      <td>11</td>\n",
       "      <td>Gaston Area</td>\n",
       "      <td>0</td>\n",
       "      <td>1</td>\n",
       "      <td>0</td>\n",
       "      <td>1</td>\n",
       "      <td>0</td>\n",
       "      <td>1</td>\n",
       "      <td>...</td>\n",
       "      <td>5.0</td>\n",
       "      <td>1.0</td>\n",
       "      <td>3.0</td>\n",
       "      <td>0.0</td>\n",
       "      <td>0.0</td>\n",
       "      <td>0.0</td>\n",
       "      <td>0.0</td>\n",
       "      <td>0.0</td>\n",
       "      <td>1.0</td>\n",
       "      <td>D16</td>\n",
       "    </tr>\n",
       "  </tbody>\n",
       "</table>\n",
       "<p>1331 rows × 34 columns</p>\n",
       "</div>"
      ]
     },
     "execution_count": 80,
     "metadata": {},
     "output_type": "execute_result"
    }
   ],
   "execution_count": 80
  },
  {
   "metadata": {},
   "cell_type": "markdown",
   "source": "## Visualizations",
   "id": "eeb2c743f442c62b"
  },
  {
   "metadata": {
    "ExecuteTime": {
     "end_time": "2025-04-09T18:02:32.158951Z",
     "start_time": "2025-04-09T18:02:29.884364Z"
    }
   },
   "cell_type": "code",
   "source": [
    "# all of oregon\n",
    "palette = [\"#FF0000\" if x == \"D4\" else \"#000000\" for x in vest20_df_repaired_3[\"SEND\"]]\n",
    "vest20_df_repaired_3.plot(color=palette, figsize=(5, 5), legend=True)"
   ],
   "id": "fb2914dade52a404",
   "outputs": [
    {
     "data": {
      "text/plain": [
       "<Axes: >"
      ]
     },
     "execution_count": 140,
     "metadata": {},
     "output_type": "execute_result"
    },
    {
     "data": {
      "text/plain": [
       "<Figure size 500x500 with 1 Axes>"
      ],
      "image/png": "[encoded data removed]"
     },
     "metadata": {},
     "output_type": "display_data"
    }
   ],
   "execution_count": 140
  },
  {
   "metadata": {
    "ExecuteTime": {
     "end_time": "2025-04-09T18:25:37.496046Z",
     "start_time": "2025-04-09T18:25:37.463540Z"
    }
   },
   "cell_type": "code",
   "source": "utilities.render_oregon(vest20_df_repaired_3, \"Oregon 2020 VEST Election Data\")",
   "id": "204811dba3ea8471",
   "outputs": [
    {
     "ename": "AttributeError",
     "evalue": "module 'utilities' has no attribute 'render_oregon'",
     "output_type": "error",
     "traceback": [
      "\u001B[0;31m---------------------------------------------------------------------------\u001B[0m",
      "\u001B[0;31mAttributeError\u001B[0m                            Traceback (most recent call last)",
      "Cell \u001B[0;32mIn[147], line 2\u001B[0m\n\u001B[1;32m      1\u001B[0m \u001B[38;5;28;01mimport\u001B[39;00m\u001B[38;5;250m \u001B[39m\u001B[38;5;21;01mutilities\u001B[39;00m\n\u001B[0;32m----> 2\u001B[0m \u001B[43mutilities\u001B[49m\u001B[38;5;241;43m.\u001B[39;49m\u001B[43mrender_oregon\u001B[49m(vest20_df_repaired_3, \u001B[38;5;124m\"\u001B[39m\u001B[38;5;124mOregon 2020 VEST Election Data\u001B[39m\u001B[38;5;124m\"\u001B[39m)\n",
      "\u001B[0;31mAttributeError\u001B[0m: module 'utilities' has no attribute 'render_oregon'"
     ]
    }
   ],
   "execution_count": 147
  },
  {
   "metadata": {},
   "cell_type": "code",
   "outputs": [],
   "execution_count": null,
   "source": [
    "# all of oregon\n",
    "vest20_df_repaired_3.plot(column=\"SEND\", legend=True)"
   ],
   "id": "7589c2239c0c409a"
  },
  {
   "metadata": {},
   "cell_type": "markdown",
   "source": "Draw district #2 (D2) and show the `West Colonial` precinct in red (which had NaN values)",
   "id": "836b0758f213de59"
  },
  {
   "metadata": {
    "ExecuteTime": {
     "end_time": "2025-04-09T17:18:39.589894Z",
     "start_time": "2025-04-09T17:18:39.187778Z"
    }
   },
   "cell_type": "code",
   "source": [
    "palette = [\"#FF0000\" if x == \"West Colonial\" else \"#000000\" for x in vest20_df_repaired_3[vest20_df_repaired_3[\"SEND\"] == \"D2\"][\"NAME\"]]\n",
    "vest20_df_repaired_3[vest20_df_repaired_3[\"SEND\"] == \"D2\"].plot(color=palette, figsize=(10, 10))"
   ],
   "id": "a47b6a78121919d2",
   "outputs": [
    {
     "data": {
      "text/plain": [
       "<Axes: >"
      ]
     },
     "execution_count": 84,
     "metadata": {},
     "output_type": "execute_result"
    },
    {
     "data": {
      "text/plain": [
       "<Figure size 1000x1000 with 1 Axes>"
      ],
      "image/png": "[encoded data removed]"
     },
     "metadata": {},
     "output_type": "display_data"
    }
   ],
   "execution_count": 84
  },
  {
   "metadata": {
    "ExecuteTime": {
     "end_time": "2025-04-09T17:27:03.345126Z",
     "start_time": "2025-04-09T17:27:03.058593Z"
    }
   },
   "cell_type": "code",
   "source": "maup.doctor(vest20_df_repaired_3[vest20_df_repaired_3[\"SEND\"] == \"D4\"])",
   "id": "c84c2679e055f9ff",
   "outputs": [
    {
     "name": "stderr",
     "output_type": "stream",
     "text": [
      "100%|██████████| 25/25 [00:00<00:00, 222.52it/s]"
     ]
    },
    {
     "name": "stdout",
     "output_type": "stream",
     "text": [
      "There are 12 holes.\n"
     ]
    },
    {
     "name": "stderr",
     "output_type": "stream",
     "text": [
      "\n"
     ]
    },
    {
     "data": {
      "text/plain": [
       "False"
      ]
     },
     "execution_count": 91,
     "metadata": {},
     "output_type": "execute_result"
    }
   ],
   "execution_count": 91
  },
  {
   "metadata": {
    "ExecuteTime": {
     "end_time": "2025-04-09T17:38:56.173913Z",
     "start_time": "2025-04-09T17:38:53.693696Z"
    }
   },
   "cell_type": "code",
   "source": "vest20_df_repaired_3[vest20_df_repaired_3[\"SEND\"] == \"D4\"].plot(figsize=(50, 50))",
   "id": "b2b8120f15d701fd",
   "outputs": [
    {
     "data": {
      "text/plain": [
       "<Axes: >"
      ]
     },
     "execution_count": 97,
     "metadata": {},
     "output_type": "execute_result"
    },
    {
     "data": {
      "text/plain": [
       "<Figure size 5000x5000 with 1 Axes>"
      ],
      "image/png": "[encoded data removed]"
     },
     "metadata": {},
     "output_type": "display_data"
    }
   ],
   "execution_count": 97
  }
 ],
 "metadata": {
  "kernelspec": {
   "name": "python3",
   "language": "python",
   "display_name": "Python 3 (ipykernel)"
  }
 },
 "nbformat": 5,
 "nbformat_minor": 9
}
